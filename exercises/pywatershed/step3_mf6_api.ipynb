{
 "cells": [
  {
   "cell_type": "markdown",
   "id": "74dbbe8e-fb8a-4d69-86f3-0c41a3a10756",
   "metadata": {},
   "source": [
    "# U.S. Geological Survey Class GW3099\n",
    "Advanced Modeling of Groundwater Flow (GW3099)\\\n",
    "Boise, Idaho\\\n",
    "September 16 - 20, 2024\n",
    "\n",
    "![title](../../images/ClassLocation.jpg)\n",
    "\n",
    "# Pywatershed MF6 coupling\n",
    "\n",
    "## The challenge of interdisciplinary modeling\n",
    " \n",
    "A recurring challenge of water sciences is working across disciplines. Increasingly, this is where important scientific questions and advances are located. From a software perspective, the peril of interdisciplinary work is that it can become  stale over time. This problem requires intentional software design to codes interoperable.\n",
    "\n",
    "One example of this is the case of GSFLOW, the USGS coupled groundwater-surfacewater flow model (Markstrom et al., 2008). GSFLOW represents a significant advancement in modeling many aspects of combined groundwater and surface water flow. However, over time, the GSFLOW code has diverged from the current and improved versions of both the USGS's hydrologic (Precipitation Runoff Modeling System, PRMS; Regan et al., 2022) and groundwater (MODFLOW, Langevin et al., 2017) models which it initially bridged. \n",
    "\n",
    "The challenge of working across-disciplines in a sustainable way is one issue addressed by the development of the Basic Model Interface (BMI, Hutton et al., 2020). Hughes et al. (2021) implemented BMI for MODFLOW 6 (MF6) and extended it to handle numerical-level model couplings. Hughes et al. (2021) specifically demonstrated the ease of coupling the PRMS model to MF6's BMI interface. \n",
    "\n",
    "This notebook reproduces the results of Hughes et al. (2021) but substitutes `pywatershed` for [PRMS-BMI](https://github.com/nhm-usgs/bmi-prms-demo) in the Sagehen Creek Watershed Simulation. The pywatershed package contains the same core functionality as the PRMS model in an interactive language with a more modularized design. The goal of this notebook is to give a concrete example of how pywatershed can couple to MF6 or to other models via BMI.\n",
    "\n",
    "## Model coupling design\n",
    "\n",
    "The model coupling design of Hughes et al. (2021) is similar to GSFLOW, with the following differences:\n",
    "* Surface water is modeled on HRUs instead of a grid.\n",
    "* The surface water soilzone process is only solved once per timestep instead of being recalculated with MF6 outer solver iterations.\n",
    "\n",
    "The coupling in in this notebook is more like GSFLOW and different from Hughes et al. (2021) in that:\n",
    "* Surface runoff and interflow are routed from upslope to downslope HRUs using \"cascading flow\".\n",
    "\n",
    "Figure 1 below is a GSFLOW schematic from Markstrom et al. (2008). It shows two conceptual soil models interacting in this design, separated by the dashed line. Above the dashed line is the PRMS \"soilzone\" which takes infiltration terms (ssres_infil + pref_flow_infil) from PRMS internally. Vertical downward fluxes out of this PRMS soilzone (ssr_to_gw + soil_to_gw) which normally flow to the PRMS conceptual groundwater model are instead sent through the API to the unsaturated-zone flow (UZF) package of MF6 which show below the PRMS soilzone in the figure. (This flux is not explicit in the figure). Surface and subsurface \"cascading\" or lateral flow terms (hru_horton_cascflow + dunnianflow + pref_flow + slow_flow, represented by Hortonian runoff, Dunnian runoff, and interflow in the figure) from PRMS are mapped to the stream flow routing (SFR) package of MF6. Finally, evaporation from the saturated root zone is calculated by the UZF package in MF6 and we can pass unused potential evapotranspiration (`unused_potet`) from PRMS through the API to UZF.\n",
    "\n",
    "|![GSFlow schematic](gsflow_schematic.png)|\n",
    "|:--:|\n",
    "| <i><b>Figure 1.</b> GSFLOW conceptual schematic diagram from Markstrom et al. (2008) </i>|\n",
    "\n",
    "Figure 2 shows additional detail on how pywatershed and MF6 are one-way coupled in this notebook. Pywatershed runs the hydrologic simulation on an unstructured grid of hydrologic response units (HRUs) as shown on the top. Starting from atmospheric focing inputs, and proceeding through canopy, snow, runoff, and soil process representations the same as used by GSFLOW except these are on HRUs in this notebooks. At the end of each daily timestep, fluxes and states are sent from pywatershed to MF6 using the MODFLOW6 API. As shown by arrows in the figure, separate spatial weights map states and fluxes from the HRUs to the MODFLOW grid and streamflow network. The gridded MF6 Unsaturated Zone Flow (UZF) package is conceptualized below the soilzone of pywatershed model and receives its vertical outflows. Unstatisfied potentital evapotransipiration in the hydrologic model, remapped from HRUs to gridcells, can be met by available water in the UZF rootzone. The hydrologic Hortonian, Dunnian and interflow runoff fluxes are mapped from the HRUS into the MF6 streamflow routing (SFR) network.\n",
    "\n",
    "Also shown in the figure, the model design allows the MF6 Unstaurated Zone Flow (UZF) package to determine saturation and reject some or all of its infiltration term coming from the PRMS soilzone. Instead of sending these back in a 2- way coupling, the rejected water is sent as runoff to streamflow routing (SFR) using the \"mover\" (MVR) package.  Similarly, the MODFLOW drain (DRN) Package was used to simulate groundwater exfiltration to the land surface in areas where the groundwater levels exceed land surface. This exfiltration is mapped as runoff to SFR via MVR.\n",
    "\n",
    "| ![sagehen_schematic](sagehen_schematic_pws.png) |\n",
    "|:--:|\n",
    "| <i><b>Figure 2.</b> Overview of spatial discretizations, the pywatershed-MF6 coupling, and physical process representations used for modeling the Sagehen Creek Watershed. The execution loop first executes pywatershed (1), then its fluxes are disaggregated with the two mappings and sent to MF6 (2) for execution via its BMI API. </i>|"
   ]
  },
  {
   "cell_type": "code",
   "execution_count": null,
   "id": "65ab6d29-d622-4214-86ec-278565a494dc",
   "metadata": {},
   "outputs": [],
   "source": [
    "import os\n",
    "import pathlib as pl\n",
    "import platform\n",
    "import shutil\n",
    "\n",
    "import flopy\n",
    "import hvplot.xarray  # noqa\n",
    "import jupyter_black\n",
    "import numpy as np\n",
    "import pywatershed as pws\n",
    "import xarray as xr\n",
    "from modflowapi import ModflowApi\n",
    "\n",
    "jupyter_black.load()\n",
    "pws.utils.gis_files.download()\n",
    "pws.utils.addtl_domain_files.download()\n",
    "\n",
    "nb_output_dir = pl.Path(\"./step3_mf6_api\").resolve()\n",
    "if not nb_output_dir.exists():\n",
    "    nb_output_dir.mkdir()\n",
    "\n",
    "pws_root = pws.constants.__pywatershed_root__\n",
    "domain_dir = (pws_root.parent / \"test_data/sagehen_5yr/\").resolve()\n",
    "mf6_domain_dir = (pws_root.parent / \"test_data/sagehen_mf6\").resolve()"
   ]
  },
  {
   "cell_type": "markdown",
   "id": "d77c0a90-9d9b-464c-939c-a987b7a9114b",
   "metadata": {},
   "source": [
    "## Get the MF6 dylibs or dll from the nightly build\n",
    "Keep it fresh."
   ]
  },
  {
   "cell_type": "code",
   "execution_count": null,
   "id": "d5cd67cf-c132-4f38-b608-c5d98ff8cfbc",
   "metadata": {},
   "outputs": [],
   "source": [
    "nightly_build_dir = nb_output_dir / \"mf6_nightly_build\"\n",
    "nightly_build_dir.mkdir(exist_ok=True)\n",
    "flopy.utils.get_modflow(\n",
    "    bindir=str(nightly_build_dir), repo=\"modflow6-nightly-build\", quiet=True\n",
    ")\n",
    "\n",
    "if platform.system() == \"Windows\":\n",
    "    mf6_dll = nightly_build_dir / \"libmf6.dll\"\n",
    "elif platform.system() == \"Darwin\":\n",
    "    mf6_dll = nightly_build_dir / \"libmf6.dylib\"\n",
    "else:\n",
    "    mf6_dll = nightly_build_dir / \"libmf6.so\"\n",
    "\n",
    "assert mf6_dll.exists()"
   ]
  },
  {
   "cell_type": "markdown",
   "id": "057aabc7-0101-4804-8386-3f6b1efb9039",
   "metadata": {},
   "source": [
    "## MF6 setup\n",
    "The MF6 input files need copied to a run directory. One should look at `run_dir/mfsim.nam` (copied from the source `sagehenmodel` directory) to inspect the MF6 model setup up in more detail. Looking at `run_dir/ex-gwf-sagehen-gsf.tdis` we can see that the time units are days. The length units of meters are not explicitly stated, but we know that the grid in the `common/gwf_sagehen-gsf.dis` are in meters. We can also see that output will be sent to a directory `output` within the run directory. If we dont create this, the dylib/dll will die when it cant output to that location. "
   ]
  },
  {
   "cell_type": "code",
   "execution_count": null,
   "id": "db740d2a-8543-4f59-9b12-1d39270fb42f",
   "metadata": {},
   "outputs": [],
   "source": [
    "files_dirs_to_cp = [\n",
    "    \"common\",\n",
    "    \"sagehenmodel\",\n",
    "    \"hru_weights.npz\",\n",
    "    \"sagehen_postprocess_graphs.py\",\n",
    "    \"prms_grid_v3-Copy1.nc\",\n",
    "]\n",
    "rename = {\n",
    "    \"sagehenmodel\": \"run_dir\",\n",
    "    \"sagehen_postprocess_graphs.py\": \"run_dir/sagehen_postprocess_graphs.py\",\n",
    "}\n",
    "for name in files_dirs_to_cp:\n",
    "    src = mf6_domain_dir / name\n",
    "    if name in rename.keys():\n",
    "        dst = nb_output_dir / rename[name]\n",
    "    else:\n",
    "        dst = nb_output_dir / name\n",
    "    if not dst.exists():\n",
    "        if src.is_dir():\n",
    "            shutil.copytree(src, dst)\n",
    "        else:\n",
    "            shutil.copy(src, dst)"
   ]
  },
  {
   "cell_type": "code",
   "execution_count": null,
   "id": "d825ab14-0425-488e-8cd6-e4bcebfe25cd",
   "metadata": {},
   "outputs": [],
   "source": [
    "run_dir = nb_output_dir / \"run_dir\"\n",
    "assert run_dir.exists()\n",
    "\n",
    "mf6_output_dir = run_dir / \"output\"\n",
    "# This step is *critical* for MF6 initialization\n",
    "if not mf6_output_dir.exists():\n",
    "    mf6_output_dir.mkdir()"
   ]
  },
  {
   "cell_type": "markdown",
   "id": "72122c0c-e68e-4145-8812-fff8f1b63619",
   "metadata": {},
   "source": [
    "## Pywatershed setup\n",
    "The pyawatershed files dont need copied, they are just used in memory. "
   ]
  },
  {
   "cell_type": "code",
   "execution_count": null,
   "id": "5eacd8f9-7290-48e9-a9ba-9bf582ed8e4e",
   "metadata": {},
   "outputs": [],
   "source": [
    "control_file = domain_dir / \"sagehen_no_gw_cascades.control\"\n",
    "control = pws.Control.load_prms(control_file)\n",
    "\n",
    "parameter_file = domain_dir / control.options[\"parameter_file\"]\n",
    "params = pws.parameters.PrmsParameters.load(parameter_file)\n",
    "params = pws.utils.preprocess_cascades.preprocess_cascade_params(\n",
    "    control, params, verbosity=0\n",
    ")"
   ]
  },
  {
   "cell_type": "markdown",
   "id": "8655dd6b-e3de-4836-bb2f-bac3e4e240ca",
   "metadata": {},
   "source": [
    "We'll do some customization of the control"
   ]
  },
  {
   "cell_type": "code",
   "execution_count": null,
   "id": "dde017ba-ceea-4d19-8e04-d3831d775760",
   "metadata": {},
   "outputs": [],
   "source": [
    "# use the 16 year CBH files from supplementary pywatershed files\n",
    "control.options[\"input_dir\"] = (\n",
    "    pws.constants.__pywatershed_root__\n",
    "    / \"data/pywatershed_addtl_domains/sagehen_cbh_16yr\"\n",
    ")\n",
    "control.edit_n_time_steps(5844)  # the 16 years in the forcing files above\n",
    "control.options[\"calc_method\"] = \"numba\"\n",
    "# Runoff and Soil cascades fail mass balance at some low level though their\n",
    "# outputs match PRMS, so we'll turn off the budget for now.\n",
    "control.options[\"budget_type\"] = None\n",
    "control.options[\"netcdf_output_dir\"] = nb_output_dir / \"pws_model_output\""
   ]
  },
  {
   "cell_type": "markdown",
   "id": "b8d3e34d-eb4f-41d0-a70a-2d4f327eb9e9",
   "metadata": {},
   "source": [
    "We discussed the coupling strategy above, but now it's time to get specific with pywatershed. Fortunately, we can ask pywatershed for details about its fluxes and states. For fluxes leaving the model, we can look specifically at the \"output\" mass balance terms. "
   ]
  },
  {
   "cell_type": "code",
   "execution_count": null,
   "id": "47f28ecd-28e0-480d-8f32-eccb71ab146c",
   "metadata": {},
   "outputs": [],
   "source": [
    "pws.meta.get_vars(\n",
    "    pws.PRMSRunoffCascadesNoDprst.get_mass_budget_terms()[\"outputs\"]\n",
    ")"
   ]
  },
  {
   "cell_type": "markdown",
   "id": "d97ca6e9-700c-4e71-8c0c-c241763d5d02",
   "metadata": {},
   "source": [
    "From the `PRMSRunoffCascadesNoDprst` process, the `hru_horton_cascflow` variable is one component of flux we want to map to SFR in MF6. Looking at `PRMSSoilzoneCascadesNoDprst` next, "
   ]
  },
  {
   "cell_type": "code",
   "execution_count": null,
   "id": "0a508f36-884c-4519-a00d-cfe65ee117a9",
   "metadata": {},
   "outputs": [],
   "source": [
    "pws.meta.get_vars(\n",
    "    pws.PRMSSoilzoneCascadesNoDprst.get_mass_budget_terms()[\"outputs\"]\n",
    ")"
   ]
  },
  {
   "cell_type": "markdown",
   "id": "32f691fe-44b6-41e4-bd89-9709749e5994",
   "metadata": {},
   "source": [
    "To SFR, we'll also want to add `dunnian_flow`, `pref_flow`, and `slow_flow`. Note that all these fluxes to SFR are reported by PRMS in inches on an HRU per day. We'll need to convert these depths into volumes in cubic meters for SFR. This will require the area of the HRUs from which these fluxes come. \n",
    "\n",
    "Similarly, the vertical fluxes from `PRMSSoilzoneCascadesNoDprst` to UZF, `soil_to_gw` and `ssr_to_gw`, are in inches on an HRU per day and we'll have to make the same unit conversion to volume for MF6 inputs. Finally, let's look at `unused_potet`. We'll verify that it's a varible in `PRMSSoilzoneCascadesNoDprst`, which is the last process in pywatershed to take its toll on potential evapotranspiration."
   ]
  },
  {
   "cell_type": "code",
   "execution_count": null,
   "id": "79d41315-5fe9-450d-988d-9a330a47fb43",
   "metadata": {},
   "outputs": [],
   "source": [
    "assert \"unused_potet\" in pws.PRMSSoilzoneCascadesNoDprst.get_variables()\n",
    "pws.meta.get_vars(\"unused_potet\")"
   ]
  },
  {
   "cell_type": "markdown",
   "id": "b5f13526-50ef-4c7c-a1a6-3d53490116d3",
   "metadata": {},
   "source": [
    "Again, the state of this variable is in inches on an HRU and will need the same conversion as the other variables.\n",
    "\n",
    "We specify the variable names we'd like to be output by the pywatershed model run. We make this output optional with the `pws_write_output` variable. Below, we'll actually write our own custom output routine for pywatershed to see how easy that is."
   ]
  },
  {
   "cell_type": "code",
   "execution_count": null,
   "id": "28c6d9f5-066b-4380-9169-f470943abf1b",
   "metadata": {},
   "outputs": [],
   "source": [
    "pws_write_output = False\n",
    "output_var_names = [\n",
    "    \"hru_ppt\",\n",
    "    \"potet\",\n",
    "    \"hru_actet\",\n",
    "    \"ssres_in\",\n",
    "    \"pref_flow_infil\",\n",
    "    \"ssr_to_gw\",\n",
    "    \"soil_to_gw\",\n",
    "    \"sroff\",\n",
    "    \"ssres_flow\",\n",
    "    \"pref_flow\",\n",
    "    \"dunnian_flow\",\n",
    "    \"slow_flow\",\n",
    "    \"hru_horton_casscflow\",\n",
    "    \"dunnian_flow\",\n",
    "]\n",
    "control.options[\"netcdf_output_var_names\"] = output_var_names"
   ]
  },
  {
   "cell_type": "markdown",
   "id": "a6c1b085-e8bf-4cf4-a1f4-7fe905b2691e",
   "metadata": {},
   "source": [
    "We can specify and initialize the model here"
   ]
  },
  {
   "cell_type": "code",
   "execution_count": null,
   "id": "72f0d736-8435-4ce2-a97b-6ee3f2995c4e",
   "metadata": {},
   "outputs": [],
   "source": [
    "prms_processes = [\n",
    "    pws.PRMSSolarGeometry,\n",
    "    pws.PRMSAtmosphere,\n",
    "    pws.PRMSCanopy,\n",
    "    pws.PRMSSnow,\n",
    "    pws.PRMSRunoffCascadesNoDprst,\n",
    "    pws.PRMSSoilzoneCascadesNoDprst,\n",
    "]\n",
    "\n",
    "prms_model = pws.Model(\n",
    "    prms_processes,\n",
    "    control=control,\n",
    "    parameters=params,\n",
    ")"
   ]
  },
  {
   "cell_type": "markdown",
   "id": "aa73ab2a-1164-4b84-8b2c-e8a3c54debc3",
   "metadata": {},
   "source": [
    "## Spatial mappings\n",
    "These mappings from HRUs to the MF6 grid and to the SFR network are magically created. "
   ]
  },
  {
   "cell_type": "code",
   "execution_count": null,
   "id": "7dcd46a9-11af-414f-abbc-2362f5c696c0",
   "metadata": {},
   "outputs": [],
   "source": [
    "weights = np.load(nb_output_dir / \"hru_weights.npz\")"
   ]
  },
  {
   "cell_type": "markdown",
   "id": "0fb6f88b-c225-44da-9791-4dc3e9a6768c",
   "metadata": {},
   "source": [
    "_HRU to UZF weights_"
   ]
  },
  {
   "cell_type": "code",
   "execution_count": null,
   "id": "f101ff73-0434-4c51-aa84-5e7041423364",
   "metadata": {},
   "outputs": [],
   "source": [
    "uzfw = weights[\"uzfw\"]\n",
    "nuzf_infilt = uzfw.shape[0]\n",
    "uzfw.shape"
   ]
  },
  {
   "cell_type": "markdown",
   "id": "67485a18-371d-43aa-95fb-fb30fb36dd8d",
   "metadata": {},
   "source": [
    "_HRU to SFR weights_"
   ]
  },
  {
   "cell_type": "code",
   "execution_count": null,
   "id": "c9ea6588-9cbd-4e7c-b301-86c2f3c4446a",
   "metadata": {},
   "outputs": [],
   "source": [
    "sfrw = weights[\"sfrw\"]\n",
    "sfrw.shape"
   ]
  },
  {
   "cell_type": "markdown",
   "id": "065f4cef-321b-4ee9-920f-c1575975f3a5",
   "metadata": {},
   "source": [
    "This indicates that here are 128 HRUs, 3386 gridcells, and 201 stream reaches. "
   ]
  },
  {
   "cell_type": "markdown",
   "id": "2936b2ae-d939-4138-a1f8-e3081b9a80d7",
   "metadata": {},
   "source": [
    "Define a function to map HRU values to MODFLOW 6 values, which is just a dot product."
   ]
  },
  {
   "cell_type": "code",
   "execution_count": null,
   "id": "d0e98ae6-c950-4819-ae02-4afc4062c1de",
   "metadata": {},
   "outputs": [],
   "source": [
    "def hru2mf6(weights, values):\n",
    "    return weights.dot(values)"
   ]
  },
  {
   "cell_type": "markdown",
   "id": "121152b8-ef53-4743-8ca2-d57ed9ceb875",
   "metadata": {},
   "source": [
    "## Unit conversion factors\n",
    "As noted above, we'll need to comvert from inches on an hru to cubic meters. The HRU areas also happen to be in acres! This is FUN."
   ]
  },
  {
   "cell_type": "code",
   "execution_count": null,
   "id": "b78d9368-e2fa-4278-afa6-8d77746eb7bf",
   "metadata": {},
   "outputs": [],
   "source": [
    "m2ft = 3.28081\n",
    "in2m = 1.0 / (12.0 * m2ft)\n",
    "acre2m2 = 43560.0 / (m2ft * m2ft)\n",
    "hru_area_m2 = params.parameters[\"hru_area\"] * acre2m2"
   ]
  },
  {
   "cell_type": "markdown",
   "id": "d13a52d5-431a-4f3c-9ff7-81079e7f5279",
   "metadata": {},
   "source": [
    "## Run one-way coupled pywatershed and MODFLOW 6 models\n"
   ]
  },
  {
   "cell_type": "code",
   "execution_count": null,
   "id": "484c1628-6866-412b-83a8-5ec88b1b71b5",
   "metadata": {},
   "outputs": [],
   "source": [
    "os.chdir(run_dir)\n",
    "print(\"changing to run directory:\\n\", os.getcwd())\n",
    "ntimes = int(control.n_times)\n",
    "print(\"Number of days to simulate {}\".format(ntimes))"
   ]
  },
  {
   "cell_type": "markdown",
   "id": "70498d06-a3b2-4d3b-a878-739efb80eba5",
   "metadata": {},
   "source": [
    "### Custom pywatershed output for figures\n",
    "While pywatershed has NetCDF output available, the existing plots are setup to work with data collected during the run saved to NetCDF at the end of the run. We follow this path for ease of reproducing the plots and this illustrates how custom output can be quite easily achieved with pywatershed. Custom output which saves data to memory and only writes after the simulation, as done below, can signficantly decrease pywatershed run times as writing to netcdf incurs a wall time cost with output to disk during the model run loop. "
   ]
  },
  {
   "cell_type": "code",
   "execution_count": null,
   "id": "1815eb83-a793-43f6-b060-e4c6510ec869",
   "metadata": {},
   "outputs": [],
   "source": [
    "# We'll store a dictionary of numpy arrays and convert to netcdf via\n",
    "# xarray on output.\n",
    "prms_vars = [\n",
    "    \"hru_ppt_out\",\n",
    "    \"actet_out\",\n",
    "    \"unused_potet_out\",\n",
    "    \"prms_infil_out\",\n",
    "    \"runoff_out\",\n",
    "    \"interflow_out\",\n",
    "]\n",
    "prms_var_dict = {}\n",
    "prms_var_dict[\"time_out\"] = np.empty(ntimes, dtype=\"datetime64[s]\")\n",
    "for vv in prms_vars:\n",
    "    prms_var_dict[vv] = np.zeros(\n",
    "        (ntimes, hru_area_m2.shape[0]), dtype=np.float64\n",
    "    )"
   ]
  },
  {
   "cell_type": "markdown",
   "id": "b15e6204-70bf-432d-809f-b19796814153",
   "metadata": {},
   "source": [
    "### Initialize MODFLOW 6\n",
    "\n",
    "The dylib/DLL Initialization requires all inputs AND the output directory to exist."
   ]
  },
  {
   "cell_type": "code",
   "execution_count": null,
   "id": "6a87149e-0c94-4bf2-b2aa-cf03348fa8f1",
   "metadata": {},
   "outputs": [],
   "source": [
    "mf6_config_file = \"mfsim.nam\"\n",
    "mf6 = ModflowApi(mf6_dll, working_directory=os.getcwd())\n",
    "mf6.initialize(str(mf6_config_file))"
   ]
  },
  {
   "cell_type": "markdown",
   "id": "aad59364-b785-4b88-bc87-e74585e6ce5d",
   "metadata": {},
   "source": [
    "Get information about the modflow model start and end times"
   ]
  },
  {
   "cell_type": "code",
   "execution_count": null,
   "id": "f403a084-381c-4956-9f2d-ba6c070d1dbd",
   "metadata": {},
   "outputs": [],
   "source": [
    "current_time = mf6.get_current_time()\n",
    "end_time = mf6.get_end_time()\n",
    "print(\n",
    "    f\"MF current_time: {current_time}, prms control.start_time: {control.start_time}\"\n",
    ")\n",
    "print(f\"MF end_time: {end_time}, prms control.n_times: {control.n_times}\")"
   ]
  },
  {
   "cell_type": "markdown",
   "id": "5f78db76-2ccb-45cf-b636-f6fc3c2b33c3",
   "metadata": {},
   "source": [
    "### Get pointers to MODFLOW 6 variables\n",
    "\n",
    "As shown in Figures 1 and 2, pywatershed is sending the following fluxes to MF6\n",
    "\n",
    "* SINF is surface infiltration to MF6's UZF package, this is mapped from groundwater recharge in pywatershed\n",
    "* PET is unsatisfied potential evapotransipiration in MF6's UZF, this is also calculated in the soilzone in pytwatershed\n",
    "* RUNOFF to MF6's SFR comes from combined surface and subsurface runoff from pywatershed.\n",
    "\n",
    "To set these values on MF6, we need the to get the pointers into MF6 using its BMI interface."
   ]
  },
  {
   "cell_type": "code",
   "execution_count": null,
   "id": "8518c7f8-17eb-4856-a662-fbe2a7109c02",
   "metadata": {},
   "outputs": [],
   "source": [
    "sim_name = \"sagehenmodel\"\n",
    "mf6_var_model_dict = {\"SINF\": \"UZF-1\", \"PET\": \"UZF-1\", \"RUNOFF\": \"SFR-1\"}\n",
    "mf6_vars = {}\n",
    "for vv, mm in mf6_var_model_dict.items():\n",
    "    mf6_vars[vv] = mf6.get_value_ptr(\n",
    "        mf6.get_var_address(vv, sim_name.upper(), mm)\n",
    "    )\n",
    "\n",
    "for vv, dd in mf6_vars.items():\n",
    "    print(f\"shape of {vv}: {dd.shape}\")"
   ]
  },
  {
   "cell_type": "markdown",
   "id": "5276591a-df87-4d23-865d-7675a3bc92f4",
   "metadata": {},
   "source": [
    "The UZF model has 2 vertical layers, so the number of points in UZF is twice what was shown in the spatial weights mappings above. The first layer is first in the linear dimension."
   ]
  },
  {
   "cell_type": "markdown",
   "id": "468c8848-56f9-4996-affc-78c85265e156",
   "metadata": {},
   "source": [
    "### Run the models\n",
    "\n",
    "Now we run the model. We use pywatershed to control the simulation."
   ]
  },
  {
   "cell_type": "code",
   "execution_count": null,
   "id": "bad87670-58e0-45f9-8468-31a04b3bc659",
   "metadata": {},
   "outputs": [],
   "source": [
    "if pws_write_output:\n",
    "    prms_model.initialize_netcdf()\n",
    "\n",
    "n_time_steps = control.n_times  # redundant above?\n",
    "for istep in range(n_time_steps):\n",
    "    prms_model.advance()\n",
    "\n",
    "    if control.current_dowy == 1:\n",
    "        if istep > 0:\n",
    "            print(\"\\n\")\n",
    "        print(f\"Water year: {control.current_year + 1}\")\n",
    "\n",
    "    msg = f\"Day of water year: {str(control.current_dowy).zfill(3)}\"\n",
    "    print(msg, end=\"\\r\")\n",
    "\n",
    "    # run pywatershed\n",
    "    prms_model.calculate()\n",
    "    prms_model.output()  # if output is not initialized, does nothing\n",
    "\n",
    "    # calculate variables for output and coupling. Some variables output just for\n",
    "    # diagnostic purposes\n",
    "    hru_ppt = prms_model.processes[\"PRMSAtmosphere\"].hru_ppt.current\n",
    "    prms_infil = (\n",
    "        prms_model.processes[\"PRMSSoilzoneCascadesNoDprst\"].ssres_in\n",
    "        + prms_model.processes[\"PRMSSoilzoneCascadesNoDprst\"].pref_flow_infil\n",
    "    )\n",
    "    actet = prms_model.processes[\"PRMSSoilzoneCascadesNoDprst\"].hru_actet\n",
    "\n",
    "    # coupling variables\n",
    "    unused_potet = prms_model.processes[\n",
    "        \"PRMSSoilzoneCascadesNoDprst\"\n",
    "    ].unused_potet\n",
    "\n",
    "    uzf_recharge = (\n",
    "        prms_model.processes[\"PRMSSoilzoneCascadesNoDprst\"].ssr_to_gw\n",
    "        + prms_model.processes[\"PRMSSoilzoneCascadesNoDprst\"].soil_to_gw\n",
    "    )\n",
    "\n",
    "    hortonian = prms_model.processes[\n",
    "        \"PRMSRunoffCascadesNoDprst\"\n",
    "    ].hru_horton_cascflow\n",
    "    dunnian = prms_model.processes[\"PRMSSoilzoneCascadesNoDprst\"].dunnian_flow\n",
    "    pref_flow = prms_model.processes[\"PRMSSoilzoneCascadesNoDprst\"].pref_flow\n",
    "    slow_flow = prms_model.processes[\"PRMSSoilzoneCascadesNoDprst\"].slow_flow\n",
    "    prms_ro = (\n",
    "        (hortonian + dunnian + pref_flow + slow_flow) * in2m * hru_area_m2\n",
    "    )\n",
    "\n",
    "    # save PRMS results (converted to m3(/d))\n",
    "    prms_var_dict[\"time_out\"][istep] = control.current_time\n",
    "    prms_var_dict[\"hru_ppt_out\"][istep, :] = hru_ppt * in2m * hru_area_m2\n",
    "    prms_var_dict[\"unused_potet_out\"][istep, :] = (\n",
    "        unused_potet * in2m * hru_area_m2\n",
    "    )\n",
    "    prms_var_dict[\"actet_out\"][istep, :] = actet * in2m * hru_area_m2\n",
    "    prms_var_dict[\"prms_infil_out\"][istep, :] = prms_infil * in2m * hru_area_m2\n",
    "    prms_var_dict[\"runoff_out\"][istep, :] = (\n",
    "        (hortonian + dunnian) * in2m * hru_area_m2\n",
    "    )\n",
    "    prms_var_dict[\"interflow_out\"][istep, :] = (\n",
    "        (pref_flow + slow_flow) * in2m * hru_area_m2\n",
    "    )\n",
    "\n",
    "    # Set MF6 pointers\n",
    "    mf6_vars[\"RUNOFF\"][:] = hru2mf6(sfrw, prms_ro)  # sroff + ssres_flow\n",
    "    mf6_vars[\"SINF\"][:nuzf_infilt] = (\n",
    "        hru2mf6(uzfw, uzf_recharge) * in2m\n",
    "    )  # ssr_to_gw + soil_to_gw\n",
    "    mf6_vars[\"PET\"][:nuzf_infilt] = hru2mf6(uzfw, unused_potet) * in2m\n",
    "\n",
    "    # run MODFLOW 6\n",
    "    mf6.update()\n",
    "\n",
    "try:\n",
    "    mf6.finalize()\n",
    "    prms_model.finalize()\n",
    "    success = True\n",
    "except:\n",
    "    raise RuntimeError"
   ]
  },
  {
   "cell_type": "markdown",
   "id": "c9584e62-d72a-48f0-9286-e69b66d0257b",
   "metadata": {},
   "source": [
    "### Save custom pywatershed output to NetCDF\n",
    "Variables collected in memory from pywatershed are converted to NetCDF via xarray data sets. We choose to write one file per variable."
   ]
  },
  {
   "cell_type": "code",
   "execution_count": null,
   "id": "d4280eb0-fc4f-475c-a315-6808a4e622a0",
   "metadata": {},
   "outputs": [],
   "source": [
    "pws_output_dir = nb_output_dir / \"pws_output\"\n",
    "pws_output_dir.mkdir(exist_ok=True)\n",
    "for prms_var in prms_vars:\n",
    "    if prms_var == \"time_out\":\n",
    "        continue\n",
    "    var = prms_var[0:-4]\n",
    "    print(var)\n",
    "    ds = xr.Dataset(\n",
    "        data_vars={var: ([\"time\", \"nhru\"], prms_var_dict[prms_var])},\n",
    "        coords={\"time\": prms_var_dict[\"time_out\"].astype(\"datetime64[ns]\")},\n",
    "    )\n",
    "    ds.to_netcdf(pws_output_dir / f\"{var}.nc\")\n",
    "    del ds"
   ]
  },
  {
   "cell_type": "markdown",
   "id": "c5dddfe4-570c-40bd-ad7b-b5dc6c0ab983",
   "metadata": {},
   "source": [
    "## Plot\n",
    "\n",
    "We spare the user the details of the plotting. "
   ]
  },
  {
   "cell_type": "code",
   "execution_count": null,
   "id": "da285185-4535-4e04-a144-2f3bc362130e",
   "metadata": {},
   "outputs": [],
   "source": [
    "fig_out_dir = nb_output_dir / \"figures\"\n",
    "fig_out_dir.mkdir(exist_ok=True)\n",
    "\n",
    "run_dir = nb_output_dir / \"run_dir\"\n",
    "os.chdir(run_dir)  # make sure\n",
    "\n",
    "import sagehen_postprocess_graphs as graphs"
   ]
  },
  {
   "cell_type": "code",
   "execution_count": null,
   "id": "10adb506-c0f4-440d-9996-b2dd12b65ffc",
   "metadata": {},
   "outputs": [],
   "source": [
    "graphs.streamflow_fig()"
   ]
  },
  {
   "cell_type": "code",
   "execution_count": null,
   "id": "aefe7226-2a20-402a-beed-28fcb452e111",
   "metadata": {},
   "outputs": [],
   "source": [
    "graphs.et_recharge_ppt_fig()"
   ]
  },
  {
   "cell_type": "code",
   "execution_count": null,
   "id": "c67ee984-324e-4e48-ae8a-b83c4a58094e",
   "metadata": {},
   "outputs": [],
   "source": [
    "graphs.gwf_uzf_storage_changes_fig()"
   ]
  },
  {
   "cell_type": "code",
   "execution_count": null,
   "id": "bdcb23dd-d9e5-4a82-9a0f-80d10760e4a2",
   "metadata": {},
   "outputs": [],
   "source": [
    "graphs.cumulative_streamflow_fig()"
   ]
  },
  {
   "cell_type": "code",
   "execution_count": null,
   "id": "e6222f67-a8c6-4467-8f3b-a473c6de490d",
   "metadata": {},
   "outputs": [],
   "source": [
    "graphs.composite_fig()"
   ]
  },
  {
   "cell_type": "markdown",
   "id": "30bb07b5-4895-4c77-ad3a-1d878a4c245b",
   "metadata": {},
   "source": [
    "Compare our plots side-by-side, very scientific! Remember that we are not using the exact same model coupling design, we have introduced cascading flow to the model use by Hughes et al. (2022). So the results wont match, but they should be close. \n",
    "<div id=\"tablediv\">\n",
    "  <table width=\"100%\">\n",
    "    <tr>\n",
    "        <th>Our results</th>\n",
    "        <th>Hughes et al. (2022), Figure 12</th>\n",
    "      </tr>\n",
    "      <tr>\n",
    "      <td><img src=\"step3_mf6_api/figures/sagehen_pywatershed_graphs.png\" alt=\"Our results\"></td>\n",
    "      <td><img src=\"hughes_et_al_sagehen_3panel.jpg\" alt=\"Hughes et al.\"></td>        \n",
    "    </tr>\n",
    "  </table>\n",
    "</div>\n"
   ]
  },
  {
   "cell_type": "markdown",
   "id": "a18a1dbf-d942-4d68-9308-c5eef2fbde55",
   "metadata": {},
   "source": [
    "## Conclusions\n",
    "\n",
    "This one-way coupling of pywatershed and MODFLOW 6 demonstrates how software interoperatbility standards can bridge hydrologic models from \"different\" domains. \n",
    "\n",
    "\n",
    "Pywatershed is close to reproducing GSFLOW, with \"cascading flows\" and 2-way couling with MF6 to be available in version 3.0."
   ]
  },
  {
   "cell_type": "markdown",
   "id": "57f787ba-e317-4ef7-b9f8-94432ec5a161",
   "metadata": {},
   "source": [
    "## References\n",
    "* Hutton, E. W., Piper, M. D., & Tucker, G. E. (2020). The Basic Model Interface 2.0: A standard interface for coupling numerical models in the geosciences. Journal of Open Source Software, 5(51), 2317.\n",
    "* Hughes, J. D., Russcher, M. J., Langevin, C. D., Morway, E. D., & McDonald, R. R. (2022). The MODFLOW Application Programming Interface for simulation control and software interoperability. Environmental Modelling & Software, 148, 105257.\n",
    "* Langevin, C. D., Hughes, J. D., Banta, E. R., Niswonger, R. G., Panday, S., & Provost, A. M. (2017). Documentation for the MODFLOW 6 groundwater flow model (No. 6-A55). US Geological Survey.\n",
    "* Markstrom, S. L., Niswonger, R. G., Regan, R. S., Prudic, D. E., & Barlow, P. M. (2008). GSFLOW-Coupled Ground-water and Surface-water FLOW model based on the integration of the Precipitation-Runoff Modeling System (PRMS) and the Modular Ground-Water Flow Model (MODFLOW-2005). US Geological Survey techniques and methods, 6, 240.\n",
    "* Regan, R. S., Markstrom, S. L., Hay, L. E., Viger, R. J., Norton, P. A., Driscoll, J. M., & LaFontaine, J. H. (2018). Description of the national hydrologic model for use with the precipitation-runoff modeling system (prms) (No. 6-B9). US Geological Survey.\n",
    "* Regan, R.S., Markstrom, S.L., LaFontaine, J.H., 2022, PRMS version 5.2.1: Precipitation-Runoff Modeling System (PRMS): U.S. Geological Survey Software Release, 02/10/2022."
   ]
  }
 ],
 "metadata": {
  "jupytext": {
   "cell_metadata_filter": "-all",
   "main_language": "python",
   "notebook_metadata_filter": "-all"
  },
  "language_info": {
   "codemirror_mode": {
    "name": "ipython"
   },
   "file_extension": ".py",
   "mimetype": "text/x-python",
   "name": "python",
   "nbconvert_exporter": "python"
  }
 },
 "nbformat": 4,
 "nbformat_minor": 5
}
