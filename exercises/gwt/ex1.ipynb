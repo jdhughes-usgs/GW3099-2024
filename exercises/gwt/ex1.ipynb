{
 "cells": [
  {
   "cell_type": "markdown",
   "metadata": {},
   "source": [
    "# U.S. Geological Survey Class GW3099\n",
    "Advanced Modeling of Groundwater Flow (GW3099)\\\n",
    "Boise, Idaho\\\n",
    "September 16 - 20, 2024\n",
    "\n",
    "![title](../../images/ClassLocation.jpg)"
   ]
  },
  {
   "attachments": {
    "image.png": {
     "image/png": "[encoded data removed]"
    }
   },
   "cell_type": "markdown",
   "metadata": {},
   "source": [
    "# GWT Example 1 -- One dimensional transport in steady flow field\n",
    "\n",
    "![image.png](attachment:image.png)\n",
    "\n",
    "This example demonstrates the behavior of the GWT Model for several different advection schemes, cell sizes, and time steps.  The example is based on the figure shown above.  A 1000-m section is discretized into 1 layer, 1 row, and a variable number of columns.  Water is injected into the first cell using the Well Package.  The cell in the last column is assigned as a constant head using the Constant-Head (CHD) Package.  \n",
    "\n",
    "For the GWT Model, the concentration of the water injected into the first cell is specified at a value of 1.0 using auxiliary variables and the GWT Source and Sink Mixing (SSM) Package.  For the last cell in the model, solute leaves the model at the simulated concentration in the cell.  This outflow condition happens by default, and requires that the Source and Sink Mixing (SSM) Package is active for the GWT Model.\n",
    "\n",
    "The problem is designed so that the solute front reaches a distance of 500 m after 2000 days of injection.  There is no specified dispersion, so any observed mixing in the model is due to numerical dispersion.  The analytical solution for this problem is straightforward and can be calculated from the fluid velocity.  \n",
    "\n",
    "Combating the effects of numerical dispersion is one of the largest challenges with solute transport modeling.  This notebook is intended to highlight several of the factors that affect numerical dispersion.\n",
    "\n",
    "The goal of this example is to evaluate the behavior of the GWT Model for the following:\n",
    "* advection scheme (central, upstream, TVD)\n",
    "* temporal resolution\n",
    "* spatial resolution"
   ]
  },
  {
   "cell_type": "code",
   "execution_count": null,
   "metadata": {},
   "outputs": [],
   "source": [
    "# imports\n",
    "%matplotlib inline\n",
    "import ex1\n",
    "import flopy\n",
    "import matplotlib.pyplot as plt\n",
    "import numpy as np"
   ]
  },
  {
   "cell_type": "code",
   "execution_count": null,
   "metadata": {},
   "outputs": [],
   "source": [
    "# variables specified for the notebook\n",
    "figsize = (6, 4)\n",
    "\n",
    "# problem length and time variables\n",
    "length_x = 1000.0  # meters\n",
    "simulation_time = 2000.0  # days\n",
    "velocity = length_x / 2.0 / simulation_time\n",
    "print(f\"{velocity=} m/day\")\n",
    "\n",
    "# analytical solution\n",
    "xa = np.linspace(0, length_x, 1000)\n",
    "ta = np.linspace(0, simulation_time, 1000)\n",
    "analytical_x = ex1.block_wave_constant(xa, simulation_time, velocity)\n",
    "analytical_t = ex1.block_wave_constant(length_x / 4.0, ta, velocity)"
   ]
  },
  {
   "cell_type": "markdown",
   "metadata": {},
   "source": [
    "## Base Case\n",
    "\n",
    "In the corresponding python script `ex1.py` the `get_sim` function will return a flopy simulation object for this example.  We will use this function to the create the simulations in this notebook."
   ]
  },
  {
   "cell_type": "code",
   "execution_count": null,
   "metadata": {},
   "outputs": [],
   "source": [
    "# Run the base example\n",
    "sim = ex1.get_ex1_sim(\"ex1\", dx=10.0, dt=20.0, advscheme=\"tvd\")\n",
    "sim.write_simulation(silent=True)\n",
    "sim.run_simulation(silent=True)\n",
    "cobj = sim.gwt[0].output.concentration()\n",
    "concentrations = cobj.get_alldata()\n",
    "\n",
    "with flopy.plot.styles.USGSPlot() as fs:\n",
    "    fig, axes = plt.subplots(2, 1, figsize=figsize, tight_layout=True)\n",
    "    x = sim.gwt[0].modelgrid.xcellcenters.flatten()\n",
    "    t = np.array(cobj.times)\n",
    "\n",
    "    # Concentration versus distance\n",
    "    ax = axes[0]\n",
    "    ax.plot(\n",
    "        xa,\n",
    "        analytical_x,\n",
    "        \"k-\",\n",
    "        label=\"analytical\",\n",
    "    )\n",
    "    ax.plot(\n",
    "        x,\n",
    "        concentrations[-1, 0, 0, :],\n",
    "        label=\"MODFLOW\",\n",
    "    )\n",
    "    ax.set_xlabel(\"Distance, in meters\")\n",
    "    ax.set_ylabel(\"Concentration\")\n",
    "    ax.legend()\n",
    "\n",
    "    # Concentration versus time\n",
    "    ntimes, nlay, nrow, ncol = concentrations.shape\n",
    "    ax = axes[1]\n",
    "    ax.plot(\n",
    "        ta,\n",
    "        analytical_t,\n",
    "        \"k-\",\n",
    "        label=\"analytical\",\n",
    "    )\n",
    "    ax.plot(\n",
    "        t,\n",
    "        concentrations[:, 0, 0, int(ncol / 4)],\n",
    "        label=\"MODFLOW\",\n",
    "    )\n",
    "    ax.legend()\n",
    "    ax.set_xlabel(\"Time, in days\")\n",
    "    ax.set_ylabel(\"Concentration\")"
   ]
  },
  {
   "cell_type": "markdown",
   "metadata": {},
   "source": [
    "## Exercise A -- Advection Schemes\n",
    "\n",
    "Run the model for the three different advection schemes supported by the Advection (ADV) Package.  These schemes include central in space (\"central\"), upstream weighted (\"upstream\"), and total-variation diminishing (\"tvd\").  Make plots of concentration versus distance for the end of the time step (t = 2000 days) and concentration versus time for a cell located at x = 250 m.  It may be helpful to create a function like the following, which can also be used for the subsequent exercises.\n",
    "\n",
    "```\n",
    "def run_model(dx=10.0, dt=20.0, advscheme=\"tvd\"):\n",
    "    sim = ex1.get_ex1_sim(\"ex1\", dx=dx, dt=dt, advscheme=advscheme)\n",
    "    sim.write_simulation(silent=True)\n",
    "    sim.run_simulation(silent=True)\n",
    "    cobj = sim.gwt[0].output.concentration()\n",
    "    concentrations = cobj.get_alldata()\n",
    "    x = sim.gwt[0].modelgrid.xcellcenters.flatten()\n",
    "    t = np.array(cobj.times)\n",
    "    return x, t, concentrations\n",
    "```"
   ]
  },
  {
   "cell_type": "code",
   "execution_count": null,
   "metadata": {},
   "outputs": [],
   "source": [
    "# Create concentration/distance and concentration/time plots\n",
    "# for the three advection schemes (upstream, central, and tvd)\n",
    "\n"
   ]
  },
  {
   "cell_type": "markdown",
   "metadata": {},
   "source": [
    "## Exercise B -- Spatial discretization\n",
    "\n",
    "Evaluate the effect of cell size on transport behavior.  Use cell sizes of dx = 1, 10, and 20.  Make plots of concentration versus distance and concentration versus time as done for the previous example."
   ]
  },
  {
   "cell_type": "code",
   "execution_count": null,
   "metadata": {},
   "outputs": [],
   "source": [
    "# Evaluate the effect of cell size.  Run the model with dx = 1, 10, 20\n",
    "# and plot the results\n",
    "\n"
   ]
  },
  {
   "cell_type": "markdown",
   "metadata": {},
   "source": [
    "## Exercise C -- Temporal discretization\n",
    "\n",
    "Evaluate the effect of time-step size on transport behavior.  Use time-step sizes of dt = 1, 10, and 20.  Make plots of concentration versus distance and concentration versus time as done for the previous examples."
   ]
  },
  {
   "cell_type": "code",
   "execution_count": null,
   "metadata": {},
   "outputs": [],
   "source": [
    "# Evaluate the effect of time step size.  Run the model with dt = 1, 10, 20\n",
    "# and plot the results\n",
    "\n"
   ]
  },
  {
   "cell_type": "markdown",
   "metadata": {},
   "source": [
    "## Exercise D -- Best Case\n",
    "\n",
    "Run a simulation using the best values for advscheme, dx, and dt that you identified above.  Is there still numerical dispersion?  Would you be comfortable using a model for a project knowing there is numerical dispersion?"
   ]
  },
  {
   "cell_type": "code",
   "execution_count": null,
   "metadata": {},
   "outputs": [],
   "source": [
    "# Run the model with the best values for advscheme, dx, and dt\n"
   ]
  }
 ],
 "metadata": {
  "kernelspec": {
   "display_name": "Python 3 (ipykernel)",
   "language": "python",
   "name": "python3"
  }
 },
 "nbformat": 4,
 "nbformat_minor": 4
}
