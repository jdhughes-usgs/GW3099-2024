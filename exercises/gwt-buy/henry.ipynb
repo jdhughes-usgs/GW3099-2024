{
 "cells": [
  {
   "cell_type": "markdown",
   "metadata": {},
   "source": [
    "# U.S. Geological Survey Class GW3099\n",
    "Advanced Modeling of Groundwater Flow (GW3099)\\\n",
    "Boise, Idaho\\\n",
    "September 16 - 20, 2024\n",
    "\n",
    "![title](../../images/ClassLocation.jpg)"
   ]
  },
  {
   "cell_type": "markdown",
   "metadata": {},
   "source": [
    "# Simulation of the Henry Saltwater Intrusion Problem\n",
    "\n",
    "This problem simulates the classic Henry problem (Henry, 1964) for variable-density groundwater flow and solute transport. The MODFLOW 6 simulations are based on the hydraulic-head formulation for variable-density flow as presented by Langevin and others (2020).\n",
    "\n",
    "Henry, H., 1964, Effects of dispersion on salt encroachment in coastal aquifers: Sea Water in Coastal Aquifers, U.S. Geol. Surv. Supply Pap., 1613-C, C71-C84.\n",
    "\n",
    "Langevin, C.D., Panday, S., and Provost, A.M., 2020, Hydraulic-head formulation for density-dependent flow and transport: Groundwater, v. 58, no. 3, p. 349–362, https://doi.org/10.1111/gwat.12967."
   ]
  },
  {
   "cell_type": "markdown",
   "metadata": {},
   "source": [
    "## Imports"
   ]
  },
  {
   "cell_type": "code",
   "execution_count": null,
   "metadata": {},
   "outputs": [],
   "source": [
    "# imports\n",
    "%matplotlib inline\n",
    "import pathlib as pl\n",
    "\n",
    "import flopy\n",
    "import matplotlib.animation\n",
    "import matplotlib.pyplot as plt\n",
    "import numpy as np\n",
    "from flopy.plot.styles import styles\n",
    "from IPython.display import HTML"
   ]
  },
  {
   "cell_type": "markdown",
   "metadata": {},
   "source": [
    "## Specify Parameters"
   ]
  },
  {
   "cell_type": "code",
   "execution_count": null,
   "metadata": {},
   "outputs": [],
   "source": [
    "# Model units\n",
    "length_units = \"centimeters\"\n",
    "time_units = \"days\"\n",
    "\n",
    "# Model parameters\n",
    "nper = 1  # Number of periods\n",
    "nstp = 500  # Number of time steps\n",
    "perlen = 0.5  # Simulation time length ($d$)\n",
    "nlay = 40  # Number of layers\n",
    "nrow = 1  # Number of rows\n",
    "ncol = 80  # Number of columns\n",
    "system_length = 2.0  # Length of system ($m$)\n",
    "system_height = 1.0\n",
    "delr = system_length / ncol  # Column width ($m$)\n",
    "delc = 1.0  # Row width ($m$)\n",
    "delv = system_height / nlay  # Layer thickness\n",
    "top = 1.0  # Top of the model ($m$)\n",
    "hydraulic_conductivity = 864.0  # Hydraulic conductivity ($m d^{-1}$)\n",
    "initial_concentration = 35.0  # Initial concentration (unitless)\n",
    "porosity = 0.35  # porosity (unitless)\n",
    "diffusion_coefficient = 0.57024  # diffusion coefficient ($m^2/d$)\n",
    "inflow = 5.7024  # inflow rate m^3/d\n",
    "\n",
    "botm = [top - k * delv for k in range(1, nlay + 1)]\n",
    "\n",
    "nouter, ninner = 100, 300\n",
    "hclose, rclose, relax = 1e-10, 1e-6, 0.97"
   ]
  },
  {
   "cell_type": "markdown",
   "metadata": {},
   "source": [
    "## Construct the Simulation"
   ]
  },
  {
   "cell_type": "code",
   "execution_count": null,
   "metadata": {},
   "outputs": [],
   "source": [
    "sim_ws = pl.Path(\"./henry\")\n",
    "sim_name = \"henry\"\n",
    "sim = flopy.mf6.MFSimulation(sim_name=sim_name, sim_ws=sim_ws, exe_name=\"mf6\")\n",
    "tdis_ds = ((perlen, nstp, 1.0),)\n",
    "tdis = flopy.mf6.ModflowTdis(\n",
    "    sim, nper=nper, perioddata=tdis_ds, time_units=time_units\n",
    ")"
   ]
  },
  {
   "cell_type": "markdown",
   "metadata": {},
   "source": [
    "## Create the GWF Model"
   ]
  },
  {
   "cell_type": "code",
   "execution_count": null,
   "metadata": {},
   "outputs": [],
   "source": [
    "gwf = flopy.mf6.ModflowGwf(sim, modelname=\"flow\", save_flows=True)\n",
    "ims_gwf = flopy.mf6.ModflowIms(\n",
    "    sim,\n",
    "    print_option=\"ALL\",\n",
    "    outer_dvclose=hclose,\n",
    "    outer_maximum=nouter,\n",
    "    under_relaxation=\"NONE\",\n",
    "    inner_maximum=ninner,\n",
    "    inner_dvclose=hclose,\n",
    "    rcloserecord=rclose,\n",
    "    linear_acceleration=\"BICGSTAB\",\n",
    "    scaling_method=\"NONE\",\n",
    "    reordering_method=\"NONE\",\n",
    "    relaxation_factor=relax,\n",
    "    filename=f\"{gwf.name}.ims\",\n",
    ")\n",
    "sim.register_ims_package(ims_gwf, [gwf.name])\n",
    "dis = flopy.mf6.ModflowGwfdis(\n",
    "    gwf,\n",
    "    length_units=length_units,\n",
    "    nlay=nlay,\n",
    "    nrow=nrow,\n",
    "    ncol=ncol,\n",
    "    delr=delr,\n",
    "    delc=delc,\n",
    "    top=top,\n",
    "    botm=botm,\n",
    ")\n",
    "npf = flopy.mf6.ModflowGwfnpf(\n",
    "    gwf,\n",
    "    save_specific_discharge=True,\n",
    "    icelltype=0,\n",
    "    k=hydraulic_conductivity,\n",
    ")\n",
    "ic = flopy.mf6.ModflowGwfic(gwf, strt=initial_concentration)\n",
    "pd = [(0, 0.7, 0.0, \"trans\", \"concentration\")]\n",
    "buy = flopy.mf6.ModflowGwfbuy(gwf, packagedata=pd)\n",
    "ghbcond = hydraulic_conductivity * delv * delc / (0.5 * delr)\n",
    "ghbspd = [[(k, 0, ncol - 1), top, ghbcond, 35.0] for k in range(nlay)]\n",
    "ghb = flopy.mf6.ModflowGwfghb(\n",
    "    gwf,\n",
    "    stress_period_data=ghbspd,\n",
    "    pname=\"GHB-1\",\n",
    "    auxiliary=\"CONCENTRATION\",\n",
    ")\n",
    "\n",
    "welspd = [[(k, 0, 0), inflow / nlay, 0.0] for k in range(nlay)]\n",
    "wel = flopy.mf6.ModflowGwfwel(\n",
    "    gwf,\n",
    "    stress_period_data=welspd,\n",
    "    pname=\"WEL-1\",\n",
    "    auxiliary=\"CONCENTRATION\",\n",
    ")\n",
    "head_filerecord = f\"{gwf.name}.hds\"\n",
    "budget_filerecord = f\"{gwf.name}.bud\"\n",
    "oc = flopy.mf6.ModflowGwfoc(\n",
    "    gwf,\n",
    "    head_filerecord=head_filerecord,\n",
    "    budget_filerecord=budget_filerecord,\n",
    "    saverecord=[(\"HEAD\", \"ALL\"), (\"BUDGET\", \"ALL\")],\n",
    ")"
   ]
  },
  {
   "cell_type": "markdown",
   "metadata": {},
   "source": [
    "## Create the GWT Model"
   ]
  },
  {
   "cell_type": "code",
   "execution_count": null,
   "metadata": {},
   "outputs": [],
   "source": [
    "gwt = flopy.mf6.ModflowGwt(sim, modelname=\"trans\")\n",
    "imsgwt = flopy.mf6.ModflowIms(\n",
    "    sim,\n",
    "    print_option=\"ALL\",\n",
    "    outer_dvclose=hclose,\n",
    "    outer_maximum=nouter,\n",
    "    under_relaxation=\"NONE\",\n",
    "    inner_maximum=ninner,\n",
    "    inner_dvclose=hclose,\n",
    "    rcloserecord=rclose,\n",
    "    linear_acceleration=\"BICGSTAB\",\n",
    "    scaling_method=\"NONE\",\n",
    "    reordering_method=\"NONE\",\n",
    "    relaxation_factor=relax,\n",
    "    filename=f\"{gwt.name}.ims\",\n",
    ")\n",
    "sim.register_ims_package(imsgwt, [gwt.name])\n",
    "dis = flopy.mf6.ModflowGwtdis(\n",
    "    gwt,\n",
    "    length_units=length_units,\n",
    "    nlay=nlay,\n",
    "    nrow=nrow,\n",
    "    ncol=ncol,\n",
    "    delr=delr,\n",
    "    delc=delc,\n",
    "    top=top,\n",
    "    botm=botm,\n",
    ")\n",
    "mst = flopy.mf6.ModflowGwtmst(gwt, porosity=porosity)\n",
    "ic = flopy.mf6.ModflowGwtic(gwt, strt=initial_concentration)\n",
    "adv = flopy.mf6.ModflowGwtadv(gwt, scheme=\"UPSTREAM\")\n",
    "dsp = flopy.mf6.ModflowGwtdsp(gwt, xt3d_off=True, diffc=diffusion_coefficient)\n",
    "sourcerecarray = [\n",
    "    (\"GHB-1\", \"AUX\", \"CONCENTRATION\"),\n",
    "    (\"WEL-1\", \"AUX\", \"CONCENTRATION\"),\n",
    "]\n",
    "ssm = flopy.mf6.ModflowGwtssm(gwt, sources=sourcerecarray)\n",
    "oc = flopy.mf6.ModflowGwtoc(\n",
    "    gwt,\n",
    "    budget_filerecord=f\"{gwt.name}.cbc\",\n",
    "    concentration_filerecord=f\"{gwt.name}.ucn\",\n",
    "    concentrationprintrecord=[\n",
    "        (\"COLUMNS\", 10, \"WIDTH\", 15, \"DIGITS\", 6, \"GENERAL\")\n",
    "    ],\n",
    "    saverecord=[(\"CONCENTRATION\", \"ALL\")],\n",
    "    printrecord=[(\"CONCENTRATION\", \"LAST\"), (\"BUDGET\", \"LAST\")],\n",
    ")"
   ]
  },
  {
   "cell_type": "markdown",
   "metadata": {},
   "source": [
    "## Create the GWF-GWT Exchange"
   ]
  },
  {
   "cell_type": "code",
   "execution_count": null,
   "metadata": {},
   "outputs": [],
   "source": [
    "gwfgwt = flopy.mf6.ModflowGwfgwt(\n",
    "    sim, exgtype=\"GWF6-GWT6\", exgmnamea=gwf.name, exgmnameb=gwt.name\n",
    ")"
   ]
  },
  {
   "cell_type": "markdown",
   "metadata": {},
   "source": [
    "## Write the Model Datasets"
   ]
  },
  {
   "cell_type": "code",
   "execution_count": null,
   "metadata": {},
   "outputs": [],
   "source": [
    "sim.write_simulation()"
   ]
  },
  {
   "cell_type": "markdown",
   "metadata": {},
   "source": [
    "## Run the MODFLOW 6 Simulation"
   ]
  },
  {
   "cell_type": "code",
   "execution_count": null,
   "metadata": {},
   "outputs": [],
   "source": [
    "sim.run_simulation(silent=True)"
   ]
  },
  {
   "cell_type": "markdown",
   "metadata": {},
   "source": [
    "## Load and Plot the Results"
   ]
  },
  {
   "cell_type": "code",
   "execution_count": null,
   "metadata": {},
   "outputs": [],
   "source": [
    "# load output\n",
    "qx, qy, qz = None, None, None\n",
    "head_all = gwf.output.head().get_alldata()\n",
    "bud = gwf.output.budget()\n",
    "times = bud.times\n",
    "spdis = bud.get_data(text=\"DATA-SPDIS\")[0]\n",
    "qx, qy, qz = flopy.utils.postprocessing.get_specific_discharge(spdis, gwf)\n",
    "conc_all = gwt.output.concentration().get_alldata()"
   ]
  },
  {
   "cell_type": "code",
   "execution_count": null,
   "metadata": {},
   "outputs": [],
   "source": [
    "figure_size = (6, 4)\n",
    "with styles.USGSMap():\n",
    "    fig = plt.figure(figsize=figure_size)\n",
    "    fig.tight_layout()\n",
    "\n",
    "    conc = conc_all[-1]\n",
    "\n",
    "    ax = fig.add_subplot(1, 1, 1, aspect=\"equal\")\n",
    "    pxs = flopy.plot.PlotCrossSection(model=gwf, ax=ax, line={\"row\": 0})\n",
    "    pxs.plot_array(conc, cmap=\"jet\")\n",
    "    levels = [35 * f for f in [0.01, 0.1, 0.5, 0.9, 0.99]]\n",
    "    cs = pxs.contour_array(\n",
    "        conc, levels=levels, colors=\"w\", linewidths=1.0, linestyles=\"-\"\n",
    "    )\n",
    "    ax.set_xlabel(\"x position (m)\")\n",
    "    ax.set_ylabel(\"z position (m)\")\n",
    "    plt.clabel(cs, fmt=\"%4.2f\", fontsize=6)"
   ]
  },
  {
   "cell_type": "markdown",
   "metadata": {},
   "source": [
    "## Create Animation"
   ]
  },
  {
   "cell_type": "code",
   "execution_count": null,
   "metadata": {},
   "outputs": [],
   "source": [
    "def get_title(time_in_days):\n",
    "    time_in_minutes = time_in_days * 24.0 * 60.0\n",
    "    return f\"Time = {time_in_minutes:0.2f} mins\"\n",
    "\n",
    "\n",
    "times_to_show = times[::10]\n",
    "ntimes = len(times_to_show)\n",
    "bud = gwf.output.budget()\n",
    "\n",
    "nplotrows = 1\n",
    "nplotcols = 1\n",
    "fig, axes = plt.subplots(\n",
    "    nrows=nplotrows, ncols=nplotcols, figsize=figure_size, layout=\"constrained\"\n",
    ")\n",
    "ax = axes\n",
    "ax.set_ylabel(r\"z\")\n",
    "title = ax.set_title(get_title(times[0]))\n",
    "ax.set_xlabel(r\"x\")\n",
    "ax.set_xlim(0, 2.0)\n",
    "ax.set_ylim(0, 1.0)\n",
    "ax.set_aspect(1.0)\n",
    "\n",
    "# # plot persistent items\n",
    "plot_array_dict = {\n",
    "    \"cmap\": \"jet\",\n",
    "    \"masked_values\": [1.0e30],\n",
    "}\n",
    "colorbar_text_size = 10\n",
    "pmv = flopy.plot.PlotCrossSection(gwt, line={\"row\": 0}, ax=ax)\n",
    "pmv.plot_inactive()\n",
    "pa = pmv.plot_array(conc_all[0], vmin=0.0, vmax=35.0, **plot_array_dict)\n",
    "cb = plt.colorbar(pa, shrink=0.5)\n",
    "cb.ax.set_ylabel(\n",
    "    \"salinity (g/L)\", rotation=270, fontsize=colorbar_text_size, labelpad=15\n",
    ")\n",
    "cb.ax.tick_params(labelsize=colorbar_text_size)\n",
    "\n",
    "\n",
    "def animate(i):\n",
    "    itime = times.index(times_to_show[i])\n",
    "    title = ax.set_title(get_title(times[itime]))\n",
    "    pa = pmv.plot_array(\n",
    "        conc_all[itime], vmin=0.0, vmax=35.0, **plot_array_dict\n",
    "    )\n",
    "    spdis = bud.get_data(text=\"DATA-SPDIS\")[itime]\n",
    "    qx, qy, qz = flopy.utils.postprocessing.get_specific_discharge(spdis, gwf)\n",
    "    pmv.plot_vector(qx, qy, qz, normalize=False, color=\"white\")\n",
    "\n",
    "    return\n",
    "\n",
    "\n",
    "ani = matplotlib.animation.FuncAnimation(fig, animate, frames=ntimes)\n",
    "plt.close()\n",
    "\n",
    "# Create and show the animation in the notebook\n",
    "HTML(ani.to_jshtml())"
   ]
  },
  {
   "cell_type": "markdown",
   "metadata": {},
   "source": [
    "## Exercise -- Evaluate the effect of mixing on flow\n",
    "\n",
    "The Henry problem nicely demonstrates how the flow of freshwater drives saltwater flow.  The purpose of this example is to evaluate the rate of saltwater flow is affected by mixing.  Specifically, does the amount of mixing (in this case due to molecular diffusion) affect the saltwater flow rate?\n",
    "\n",
    "The simple function below can be used to run the model for different rates of molecular diffusion.  The function returns the total model outflow, including both the freshwater and saltwater components.  Note, we know what the freswhater component must be for this problem, because we specify it as input.\n",
    "\n",
    "Construct a loop over a range of diffusion coefficients from 0 to 1 $m^2/d$ with an increment of 0.1.  Make a plot of the saltwater flow as a function of the diffusion coefficient.  Do the results make sense?\n",
    "\n",
    "```\n",
    "def run_model(diffc):\n",
    "    gwt.dsp.diffc = diffc\n",
    "    gwt.dsp.write()\n",
    "    sim.run_simulation(silent=True)\n",
    "    df = gwf.output.list().get_dataframes()[0]\n",
    "    total_out = df.TOTAL_OUT.iloc[0]\n",
    "    return total_out\n",
    "```"
   ]
  },
  {
   "cell_type": "code",
   "execution_count": null,
   "metadata": {},
   "outputs": [],
   "source": []
  }
 ],
 "metadata": {
  "kernelspec": {
   "display_name": "Python 3 (ipykernel)",
   "language": "python",
   "name": "python3"
  }
 },
 "nbformat": 4,
 "nbformat_minor": 4
}
