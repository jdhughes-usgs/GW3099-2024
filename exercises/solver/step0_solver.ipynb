{
 "cells": [
  {
   "cell_type": "markdown",
   "id": "74c4071a-e428-47dd-b8ec-4733d09f80b8",
   "metadata": {},
   "source": [
    "# U.S. Geological Survey Class GW3099\n",
    "Advanced Modeling of Groundwater Flow (GW3099)\\\n",
    "Boise, Idaho\\\n",
    "September 16 - 20, 2024\n",
    "\n",
    "![title](../../images/ClassLocation.jpg)\n",
    "\n",
    "# A brief history of solver settings"
   ]
  },
  {
   "cell_type": "markdown",
   "id": "eda5391a-3b1d-4935-b5f7-487fb5144e4e",
   "metadata": {},
   "source": [
    "We will run an relatively large example model with a different solver setting to evalute their effect on model convergence. Before starting download and unzip [solver.zip](https://github.com/jdhughes-usgs/GW3099-2024/releases/download/solver_example_data/solver.zip) and unzip the data files to the `data` directory. The model input files in the zip file should be in the `../../data/solver/` directory."
   ]
  },
  {
   "cell_type": "code",
   "execution_count": null,
   "id": "37f3bbd3-9df3-4628-b97b-22ebf85dc7c1",
   "metadata": {},
   "outputs": [],
   "source": [
    "import pathlib as pl\n",
    "\n",
    "import flopy\n",
    "import matplotlib.colors as colors\n",
    "import matplotlib.pyplot as plt\n",
    "import numpy as np\n",
    "import pandas as pd"
   ]
  },
  {
   "cell_type": "code",
   "execution_count": null,
   "id": "124e3a7f-720c-46c2-9c33-ec070c7e8ce8",
   "metadata": {},
   "outputs": [],
   "source": [
    "def read_solver_csv():\n",
    "    \"\"\"\n",
    "    Function to create a pandas dataframs from the solver csv file.\n",
    "    \"\"\"\n",
    "    fpath = ws / \"ims.inner.csv\"\n",
    "    return pd.read_csv(fpath)"
   ]
  },
  {
   "cell_type": "markdown",
   "id": "21a459e7-f0e0-410d-b8a9-0286283f12c1",
   "metadata": {},
   "source": [
    "Set processors to None to run with the IMS solver 1 to run with the PETSc solver."
   ]
  },
  {
   "cell_type": "code",
   "execution_count": null,
   "id": "bca09e7f-695e-4bb1-914e-dc5c0f0ea53a",
   "metadata": {},
   "outputs": [],
   "source": [
    "processors = None"
   ]
  },
  {
   "cell_type": "markdown",
   "id": "f7a44217-fdc0-43c1-9ebd-b76c600de375",
   "metadata": {},
   "source": [
    "Set path to raw model data files and where to write the model files."
   ]
  },
  {
   "cell_type": "code",
   "execution_count": null,
   "id": "713f69e0-5557-41e3-a8b4-94242497ea91",
   "metadata": {},
   "outputs": [],
   "source": [
    "data_ws = pl.Path(\"../../data/solver/\")"
   ]
  },
  {
   "cell_type": "code",
   "execution_count": null,
   "id": "0e2a243c-6922-4815-a34f-419b02b5ca42",
   "metadata": {},
   "outputs": [],
   "source": [
    "name = \"solver\"\n",
    "ws = pl.Path(f\"temp/{name}\")"
   ]
  },
  {
   "cell_type": "markdown",
   "id": "72a8f9d0-4be2-4540-bc83-66642ff63074",
   "metadata": {
    "execution": {
     "iopub.execute_input": "2024-08-29T17:25:46.778581Z",
     "iopub.status.busy": "2024-08-29T17:25:46.778254Z",
     "iopub.status.idle": "2024-08-29T17:25:46.789059Z",
     "shell.execute_reply": "2024-08-29T17:25:46.788022Z",
     "shell.execute_reply.started": "2024-08-29T17:25:46.778555Z"
    }
   },
   "source": [
    "## Load the existing model files"
   ]
  },
  {
   "cell_type": "code",
   "execution_count": null,
   "id": "e13ac938-894c-44aa-8a02-1ba091554b0c",
   "metadata": {},
   "outputs": [],
   "source": [
    "sim = flopy.mf6.MFSimulation.load(sim_name=name, sim_ws=data_ws)"
   ]
  },
  {
   "cell_type": "code",
   "execution_count": null,
   "id": "630a44b1-8c3f-4711-bf9f-4a9d7ee5d7d0",
   "metadata": {},
   "outputs": [],
   "source": [
    "gwf = sim.get_model()"
   ]
  },
  {
   "cell_type": "markdown",
   "id": "485fc58e-9f6d-45e2-8571-ddf6ff2cf0d0",
   "metadata": {},
   "source": [
    "Plot the model files"
   ]
  },
  {
   "cell_type": "code",
   "execution_count": null,
   "id": "997fa1ac-5c27-4bb0-aaae-466de73e2075",
   "metadata": {},
   "outputs": [],
   "source": [
    "mm = flopy.plot.PlotMapView(model=gwf)\n",
    "v = mm.plot_array(gwf.dis.top.array, masked_values=[2.99999989e30])\n",
    "plt.colorbar(v, shrink=0.75);"
   ]
  },
  {
   "cell_type": "markdown",
   "id": "fc5d785a-3848-4a5c-bcf2-db056ee5af74",
   "metadata": {},
   "source": [
    "## Run the base simulation"
   ]
  },
  {
   "cell_type": "code",
   "execution_count": null,
   "id": "43c67388-f40e-418b-b813-0ab4dc431417",
   "metadata": {},
   "outputs": [],
   "source": [
    "sim.set_sim_path(ws)\n",
    "sim.write_simulation()"
   ]
  },
  {
   "cell_type": "code",
   "execution_count": null,
   "id": "eaedbe85-6301-49b4-b992-3ebd33c74ff4",
   "metadata": {},
   "outputs": [],
   "source": [
    "sim.run_simulation(processors=processors)"
   ]
  },
  {
   "cell_type": "markdown",
   "id": "3f91c303-9a21-4f7e-8d19-10863e7068ef",
   "metadata": {},
   "source": [
    "### Read the solver inner iteration csv file and plot the `inner_dvmax`"
   ]
  },
  {
   "cell_type": "code",
   "execution_count": null,
   "id": "329953a4-3a90-442b-bf2d-1fe9cf1fcbc3",
   "metadata": {},
   "outputs": [],
   "source": [
    "df_index = [\"base\"]\n",
    "df = read_solver_csv()\n",
    "df"
   ]
  },
  {
   "cell_type": "code",
   "execution_count": null,
   "id": "d0152a99-50e9-40aa-a6a4-6d44394c6e9e",
   "metadata": {},
   "outputs": [],
   "source": [
    "plt.plot(df.total_inner_iterations, df.solution_inner_dvmax)\n",
    "plt.gca().set_yscale(\"symlog\")"
   ]
  },
  {
   "cell_type": "markdown",
   "id": "101c924e-124a-46af-9c3e-a0416f532071",
   "metadata": {
    "execution": {
     "iopub.execute_input": "2024-09-18T04:15:44.225563Z",
     "iopub.status.busy": "2024-09-18T04:15:44.225148Z",
     "iopub.status.idle": "2024-09-18T04:15:44.230049Z",
     "shell.execute_reply": "2024-09-18T04:15:44.228673Z",
     "shell.execute_reply.started": "2024-09-18T04:15:44.225533Z"
    }
   },
   "source": [
    "## Increase number of outer iterations\n",
    "\n",
    "Modify `outer_maximum` from 100 to 300"
   ]
  },
  {
   "cell_type": "code",
   "execution_count": null,
   "id": "04cd9acf-637b-4b39-a6f4-5b839e6a9aee",
   "metadata": {},
   "outputs": [],
   "source": [
    "sim.ims.outer_maximum = 300\n",
    "sim.ims.write()"
   ]
  },
  {
   "cell_type": "code",
   "execution_count": null,
   "id": "a959ea15-3a24-4d83-b5d4-aa553d08249b",
   "metadata": {},
   "outputs": [],
   "source": [
    "sim.run_simulation(processors=processors)"
   ]
  },
  {
   "cell_type": "markdown",
   "id": "906fac8b-b969-4027-9b2d-692a76e6bc82",
   "metadata": {},
   "source": [
    "### Read and plot the new results"
   ]
  },
  {
   "cell_type": "code",
   "execution_count": null,
   "id": "7b740296-eaa1-4c34-8c90-6de26d849737",
   "metadata": {},
   "outputs": [],
   "source": [
    "df_index.append(\"max_iter=300\")\n",
    "df1 = read_solver_csv()\n",
    "df1"
   ]
  },
  {
   "cell_type": "code",
   "execution_count": null,
   "id": "c05c8193-37c9-4459-94cb-6fb110330860",
   "metadata": {},
   "outputs": [],
   "source": [
    "plt.plot(df.total_inner_iterations, df.solution_inner_dvmax)\n",
    "plt.plot(df1.total_inner_iterations, df1.solution_inner_dvmax)\n",
    "plt.gca().set_yscale(\"symlog\")"
   ]
  },
  {
   "cell_type": "markdown",
   "id": "76d74ae6-e650-4088-9322-be1ff4841631",
   "metadata": {
    "execution": {
     "iopub.execute_input": "2024-09-17T22:15:29.472549Z",
     "iopub.status.busy": "2024-09-17T22:15:29.472446Z",
     "iopub.status.idle": "2024-09-17T22:15:29.474722Z",
     "shell.execute_reply": "2024-09-17T22:15:29.474329Z",
     "shell.execute_reply.started": "2024-09-17T22:15:29.472534Z"
    }
   },
   "source": [
    "## Add simple under relaxation\n",
    "\n",
    "Change `outer_maximum` back to 100, set `under_relaxation` to `simple`, write the revised `IMS` file, and run the model "
   ]
  },
  {
   "cell_type": "code",
   "execution_count": null,
   "id": "3510c7b8-a5bd-41be-98d6-59775c170ecd",
   "metadata": {},
   "outputs": [],
   "source": [
    "sim.ims.outer_maximum = 100\n",
    "sim.ims.under_relaxation = \"simple\"\n",
    "sim.ims.write()"
   ]
  },
  {
   "cell_type": "code",
   "execution_count": null,
   "id": "58e174c8-3dc1-4e7a-8743-ede5c74e448d",
   "metadata": {},
   "outputs": [],
   "source": [
    "sim.run_simulation(processors=processors)"
   ]
  },
  {
   "cell_type": "markdown",
   "id": "7525ff5d-9e7c-42b0-b9a0-16fe85ff5370",
   "metadata": {},
   "source": [
    "### Read and plot the new results"
   ]
  },
  {
   "cell_type": "code",
   "execution_count": null,
   "id": "2fe8ecfa-f615-41aa-ac30-1b1caf37012b",
   "metadata": {},
   "outputs": [],
   "source": [
    "df_index.append(\"simple\")\n",
    "df2 = read_solver_csv()\n",
    "df2"
   ]
  },
  {
   "cell_type": "code",
   "execution_count": null,
   "id": "c896bb4d-b0ed-491c-859c-9e41bd58a343",
   "metadata": {},
   "outputs": [],
   "source": [
    "plt.plot(df2.total_inner_iterations, df2.solution_inner_dvmax)\n",
    "plt.gca().set_yscale(\"symlog\")"
   ]
  },
  {
   "cell_type": "markdown",
   "id": "f6630139-2016-4cab-8385-6970dbbc5cba",
   "metadata": {
    "execution": {
     "iopub.execute_input": "2024-09-17T22:15:49.502354Z",
     "iopub.status.busy": "2024-09-17T22:15:49.502265Z",
     "iopub.status.idle": "2024-09-17T22:15:49.504018Z",
     "shell.execute_reply": "2024-09-17T22:15:49.503672Z",
     "shell.execute_reply.started": "2024-09-17T22:15:49.502343Z"
    }
   },
   "source": [
    "## Add cooley under-relaxation\n",
    "\n",
    "Set `under_relaxation` to `cooler`, write the revised `IMS` file, and run the model "
   ]
  },
  {
   "cell_type": "code",
   "execution_count": null,
   "id": "3214cef0-9764-44fe-8861-a4456d4092c3",
   "metadata": {},
   "outputs": [],
   "source": [
    "sim.ims.under_relaxation = \"cooley\"\n",
    "sim.ims.write()"
   ]
  },
  {
   "cell_type": "code",
   "execution_count": null,
   "id": "70b61cb9-c4bd-4a69-97d9-8b8ae77867a6",
   "metadata": {},
   "outputs": [],
   "source": [
    "sim.run_simulation(processors=processors)"
   ]
  },
  {
   "cell_type": "markdown",
   "id": "271fbde7-2f97-49f3-81a8-dbb7567db299",
   "metadata": {},
   "source": [
    "### Read and plot the new results"
   ]
  },
  {
   "cell_type": "code",
   "execution_count": null,
   "id": "3728f501-a0ca-429a-8c88-46da576f79a0",
   "metadata": {},
   "outputs": [],
   "source": [
    "df_index.append(\"cooley\")\n",
    "df3 = read_solver_csv()\n",
    "df3"
   ]
  },
  {
   "cell_type": "code",
   "execution_count": null,
   "id": "6dc1b652-7441-4052-bbea-d855490d7d09",
   "metadata": {},
   "outputs": [],
   "source": [
    "plt.plot(df3.total_inner_iterations, df3.solution_inner_dvmax)\n",
    "plt.gca().set_yscale(\"symlog\")"
   ]
  },
  {
   "cell_type": "markdown",
   "id": "3bac2b6c-fb6d-46d6-bde9-13d641357869",
   "metadata": {},
   "source": [
    "## Add delta-bar-delta under-relaxation\n",
    "\n",
    "Set `under_relaxation` to `dbd`, write the revised `IMS` file, and run the model "
   ]
  },
  {
   "cell_type": "code",
   "execution_count": null,
   "id": "f71741e9-22ea-464a-8254-1a18427534ca",
   "metadata": {},
   "outputs": [],
   "source": [
    "sim.ims.under_relaxation = \"dbd\"\n",
    "sim.ims.write()"
   ]
  },
  {
   "cell_type": "code",
   "execution_count": null,
   "id": "ebfb9f8f-925a-4cfc-a590-29b1914c7cb8",
   "metadata": {},
   "outputs": [],
   "source": [
    "sim.run_simulation(processors=processors)"
   ]
  },
  {
   "cell_type": "markdown",
   "id": "1cf65cb6-4f34-4eef-acea-3452153f54b4",
   "metadata": {},
   "source": [
    "### Read and plot the new results"
   ]
  },
  {
   "cell_type": "code",
   "execution_count": null,
   "id": "b526237e-913b-4e90-adb3-c15226de0de8",
   "metadata": {},
   "outputs": [],
   "source": [
    "df_index.append(\"dbd\")\n",
    "df4 = read_solver_csv()\n",
    "df4"
   ]
  },
  {
   "cell_type": "code",
   "execution_count": null,
   "id": "c5688db1-d64e-434f-8232-c9d0b1a220a6",
   "metadata": {},
   "outputs": [],
   "source": [
    "plt.plot(df4.total_inner_iterations, df4.solution_inner_dvmax)\n",
    "plt.gca().set_yscale(\"symlog\")"
   ]
  },
  {
   "cell_type": "markdown",
   "id": "18b81891-4c17-414d-9c10-09bc4f82e82f",
   "metadata": {
    "execution": {
     "iopub.execute_input": "2024-09-17T22:17:29.915162Z",
     "iopub.status.busy": "2024-09-17T22:17:29.915048Z",
     "iopub.status.idle": "2024-09-17T22:17:29.917467Z",
     "shell.execute_reply": "2024-09-17T22:17:29.917013Z",
     "shell.execute_reply.started": "2024-09-17T22:17:29.915151Z"
    }
   },
   "source": [
    "## Add backtracking\n",
    "\n",
    "Set `under_relaxation` to `none`, set `backtracking_number` to 5, write the revised `IMS` file, and run the model "
   ]
  },
  {
   "cell_type": "code",
   "execution_count": null,
   "id": "8c46230e-07d1-40a3-81a3-a37c52923cdb",
   "metadata": {},
   "outputs": [],
   "source": [
    "sim.ims.under_relaxation = \"none\"\n",
    "sim.ims.backtracking_number = 5\n",
    "sim.ims.write()"
   ]
  },
  {
   "cell_type": "code",
   "execution_count": null,
   "id": "fbd902bf-e87b-402b-99a7-b1d7037a8520",
   "metadata": {},
   "outputs": [],
   "source": [
    "sim.run_simulation(processors=processors)"
   ]
  },
  {
   "cell_type": "markdown",
   "id": "80b14eb0-fde4-4caa-8ac4-9280742648d7",
   "metadata": {},
   "source": [
    "### Read and plot the new results"
   ]
  },
  {
   "cell_type": "code",
   "execution_count": null,
   "id": "6881a56f-197a-44cc-8414-ba13b704740c",
   "metadata": {},
   "outputs": [],
   "source": [
    "df_index.append(\"backtracking\")\n",
    "df5 = read_solver_csv()\n",
    "df5"
   ]
  },
  {
   "cell_type": "code",
   "execution_count": null,
   "id": "9e134fe6-8d18-4c00-bb43-0e80dac4dd81",
   "metadata": {},
   "outputs": [],
   "source": [
    "plt.plot(df5.total_inner_iterations, df5.solution_inner_dvmax)\n",
    "plt.gca().set_yscale(\"symlog\")"
   ]
  },
  {
   "cell_type": "markdown",
   "id": "d849c304-77a0-4f80-b7d7-e643334011d1",
   "metadata": {
    "execution": {
     "iopub.execute_input": "2024-09-17T22:17:48.118849Z",
     "iopub.status.busy": "2024-09-17T22:17:48.118753Z",
     "iopub.status.idle": "2024-09-17T22:17:48.120524Z",
     "shell.execute_reply": "2024-09-17T22:17:48.120282Z",
     "shell.execute_reply.started": "2024-09-17T22:17:48.118838Z"
    }
   },
   "source": [
    "## Add backtracking and under-relaxation\n",
    "\n",
    "Set `under_relaxation` to `simple`, set `backtracking_number` to 5, write the revised `IMS` file, and run the model "
   ]
  },
  {
   "cell_type": "code",
   "execution_count": null,
   "id": "0e91aad8-3a03-4c21-bb52-9e7bd43234a6",
   "metadata": {},
   "outputs": [],
   "source": [
    "sim.ims.under_relaxation = \"simple\"\n",
    "sim.ims.backtracking_number = 5\n",
    "sim.ims.write()"
   ]
  },
  {
   "cell_type": "code",
   "execution_count": null,
   "id": "952df11c-8315-4060-9479-e08539c42210",
   "metadata": {},
   "outputs": [],
   "source": [
    "sim.run_simulation(processors=processors)"
   ]
  },
  {
   "cell_type": "markdown",
   "id": "f543be82-3fa8-4b88-8c48-256ba8e0410a",
   "metadata": {},
   "source": [
    "### Read and plot the new results"
   ]
  },
  {
   "cell_type": "code",
   "execution_count": null,
   "id": "ae427bcf-65fe-4e3d-90d4-fdbc802767b3",
   "metadata": {},
   "outputs": [],
   "source": [
    "df_index.append(\"backtracking+simple\")\n",
    "df6 = read_solver_csv()\n",
    "df6"
   ]
  },
  {
   "cell_type": "code",
   "execution_count": null,
   "id": "4bb15275-4720-46a4-8b92-e2b4b8ee9865",
   "metadata": {},
   "outputs": [],
   "source": [
    "plt.plot(df6.total_inner_iterations, df6.solution_inner_dvmax)\n",
    "plt.gca().set_yscale(\"symlog\")"
   ]
  },
  {
   "cell_type": "markdown",
   "id": "c63b7bf7-4c5e-4da1-97b5-943e0ff35b37",
   "metadata": {},
   "source": [
    "## Create a summary table\n",
    "\n",
    "Evaluate the total number of iterations and maximum head change at the end of the simulation"
   ]
  },
  {
   "cell_type": "code",
   "execution_count": null,
   "id": "8053318b-67f5-43a7-b00a-2ceb762ecee3",
   "metadata": {},
   "outputs": [],
   "source": [
    "df_list = [df, df1, df2, df3, df4, df5, df6]\n",
    "df_all = pd.concat([d.iloc[-1:] for d in df_list], ignore_index=True)\n",
    "df_all.drop(\n",
    "    columns=[\n",
    "        \"totim\",\n",
    "        \"kstp\",\n",
    "        \"kper\",\n",
    "        \"ninner\",\n",
    "        \"solution_inner_dvmax_model\",\n",
    "        \"solution_inner_rmax_model\",\n",
    "        \"solution_inner_alpha\",\n",
    "        \"solution_inner_omega\",\n",
    "    ],\n",
    "    inplace=True,\n",
    ")\n",
    "df_all[\"simulation\"] = df_index\n",
    "df_all.insert(0, \"converged\", True)\n",
    "df_all.loc[\n",
    "    (df_all[\"nouter\"] == 100) | (df_all[\"nouter\"] == 300), \"converged\"\n",
    "] = False\n",
    "df_all.set_index(keys=[\"simulation\"], inplace=True)"
   ]
  },
  {
   "cell_type": "code",
   "execution_count": null,
   "id": "4aa9cfea-9a44-4e2f-b4ba-30b038d6791f",
   "metadata": {},
   "outputs": [],
   "source": [
    "df_all"
   ]
  },
  {
   "cell_type": "code",
   "execution_count": null,
   "id": "2f42f0b0-68bf-449c-8ea9-a9003abbd49a",
   "metadata": {},
   "outputs": [],
   "source": []
  }
 ],
 "metadata": {
  "kernelspec": {
   "display_name": "Python 3 (ipykernel)",
   "language": "python",
   "name": "python3"
  }
 },
 "nbformat": 4,
 "nbformat_minor": 5
}
