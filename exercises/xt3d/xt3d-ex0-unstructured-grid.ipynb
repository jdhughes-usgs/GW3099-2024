{
 "cells": [
  {
   "cell_type": "markdown",
   "id": "f81ad669-7d56-4d40-890f-145977164f55",
   "metadata": {
    "execution": {
     "iopub.execute_input": "2024-09-15T00:28:51.608214Z",
     "iopub.status.busy": "2024-09-15T00:28:51.608214Z",
     "iopub.status.idle": "2024-09-15T00:28:51.615406Z",
     "shell.execute_reply": "2024-09-15T00:28:51.614804Z",
     "shell.execute_reply.started": "2024-09-15T00:28:51.608214Z"
    }
   },
   "source": [
    "# U.S. Geological Survey Class GW3099\n",
    "Advanced Modeling of Groundwater Flow (GW3099)\\\n",
    "Boise, Idaho\\\n",
    "September 16 - 20, 2024\n",
    "\n",
    "![title](../../images/ClassLocation.jpg)"
   ]
  },
  {
   "cell_type": "markdown",
   "id": "fd2d384d",
   "metadata": {},
   "source": [
    "# XT3D Example 0 -- Using XT3D for More Accurate Flows on an Unstructured Grid and with Anisotropy\n",
    "\n",
    "This example is based on the MODFLOW 6 \"Nested Grid\" ([ex-gwf-u1disv](https://modflow6-examples.readthedocs.io/en/latest/_examples/ex-gwf-u1disv.html)) example problem, which corresponds to the first example described in the MODFLOW-USG documentation.\n",
    "\n",
    "The DISV grid in this example is a rectangular grid with an area of quadtree refinement in the middle. Some of the connections between cells in this grid violate the so-called \"CVFD requirements,\" rendering the standard, conductance-based flow formulation less accurate. In the first part of this example we'll demonstrate the improved accuracy the XT3D flow formulation can provide in flow simulations on unstructured grids such as this one.\n",
    "\n",
    "In the second part of this example, we'll add anisotropy and see how XT3D can also help when the principal directions (the directions of maximum and minimum hydraulic conductivity) are *not* aligned with the directions of the grid connections."
   ]
  },
  {
   "cell_type": "markdown",
   "id": "72856e54",
   "metadata": {},
   "source": [
    "### Preliminaries"
   ]
  },
  {
   "cell_type": "code",
   "execution_count": null,
   "id": "6d62ad03",
   "metadata": {},
   "outputs": [],
   "source": [
    "import math\n",
    "import pathlib as pl\n",
    "\n",
    "import flopy\n",
    "import flopy.utils.cvfdutil\n",
    "import matplotlib.pyplot as plt\n",
    "import numpy as np\n",
    "\n",
    "# Example name and workspace paths\n",
    "example_name = \"xt3d-ex0-unstructured-grid\"\n",
    "sim_ws = pl.Path(example_name)\n",
    "figs_path = sim_ws"
   ]
  },
  {
   "cell_type": "markdown",
   "id": "113243e8",
   "metadata": {},
   "source": [
    "### Set some parameters"
   ]
  },
  {
   "cell_type": "code",
   "execution_count": null,
   "id": "8346c987",
   "metadata": {},
   "outputs": [],
   "source": [
    "# Model units\n",
    "length_units = \"meters\"\n",
    "time_units = \"days\"\n",
    "\n",
    "strt = 0.0  # Starting head (m)\n",
    "icelltype = 0  # Cell conversion type\n",
    "k11 = 1.0  # Horizontal hydraulic conductivity (m / d)\n",
    "\n",
    "xt3doptions = None  # Base case is without xt3d"
   ]
  },
  {
   "cell_type": "markdown",
   "id": "6c8c2908",
   "metadata": {},
   "source": [
    "### TDIS data\n",
    "Simulation has 1 steady stress period (1 day)\n",
    "and 3 transient stress periods (10 days each).\n",
    "Each transient stress period has 120 2-hour time steps."
   ]
  },
  {
   "cell_type": "code",
   "execution_count": null,
   "id": "272ff9c6",
   "metadata": {},
   "outputs": [],
   "source": [
    "nper = 1  # Number of periods\n",
    "perlen = [1.0]  # period length\n",
    "nstp = [1]  # nr. of timesteps\n",
    "tsmult = [1.0, 1.0, 1.0]  # timestep multiplier\n",
    "tdis_ds = list(zip(perlen, nstp, tsmult))  # data set for TDIS"
   ]
  },
  {
   "cell_type": "markdown",
   "id": "d25380d2",
   "metadata": {},
   "source": [
    "### Outer grid\n",
    "Start with creating the outer grid as a FloPy structured grid object. Below we will create the inner grid and then merge the two in a single unstructured discretization-by-vertices (DISV) grid."
   ]
  },
  {
   "cell_type": "code",
   "execution_count": null,
   "id": "03c686c2",
   "metadata": {},
   "outputs": [],
   "source": [
    "nlay = 1\n",
    "nrow = ncol = 7\n",
    "top = 0.0\n",
    "botm = -100.0\n",
    "delr = 100.0 * np.ones(ncol)\n",
    "delc = 100.0 * np.ones(nrow)\n",
    "tp = np.zeros((nrow, ncol))\n",
    "bt = -100.0 * np.ones((nlay, nrow, ncol))"
   ]
  },
  {
   "cell_type": "markdown",
   "id": "01e3a836",
   "metadata": {},
   "source": [
    "Set idomain to zero (inactive) where the refined inset grid will be positioned."
   ]
  },
  {
   "cell_type": "code",
   "execution_count": null,
   "id": "22e9a5b6",
   "metadata": {},
   "outputs": [],
   "source": [
    "idomain = np.ones((nlay, nrow, ncol))\n",
    "idomain[:, 2:5, 2:5] = 0"
   ]
  },
  {
   "cell_type": "markdown",
   "id": "2865fe8b",
   "metadata": {},
   "source": [
    "Create the outer grid."
   ]
  },
  {
   "cell_type": "code",
   "execution_count": null,
   "id": "1cf61a7d",
   "metadata": {},
   "outputs": [],
   "source": [
    "sg1 = flopy.discretization.StructuredGrid(\n",
    "    delr=delr, delc=delc, top=tp, botm=bt, idomain=idomain\n",
    ")"
   ]
  },
  {
   "cell_type": "markdown",
   "id": "1e07fddb",
   "metadata": {},
   "source": [
    "### Inner grid\n",
    "\n",
    "Set geometry data."
   ]
  },
  {
   "cell_type": "code",
   "execution_count": null,
   "id": "285ef360",
   "metadata": {},
   "outputs": [],
   "source": [
    "nlay = 1\n",
    "nrow = ncol = 9\n",
    "delr = 100.0 / 3.0 * np.ones(ncol)\n",
    "delc = 100.0 / 3.0 * np.ones(nrow)\n",
    "tp = np.zeros((nrow, ncol))\n",
    "bt = -100 * np.ones((nlay, nrow, ncol))"
   ]
  },
  {
   "cell_type": "markdown",
   "id": "94112a6a",
   "metadata": {},
   "source": [
    "All cells are active so set idomain to 1 everywhere."
   ]
  },
  {
   "cell_type": "code",
   "execution_count": null,
   "id": "757f2e58",
   "metadata": {},
   "outputs": [],
   "source": [
    "idomain = np.ones((nlay, nrow, ncol))"
   ]
  },
  {
   "cell_type": "markdown",
   "id": "45728124",
   "metadata": {},
   "source": [
    "Create the grid inner, refined structured grid object."
   ]
  },
  {
   "cell_type": "code",
   "execution_count": null,
   "id": "da3aa40b",
   "metadata": {},
   "outputs": [],
   "source": [
    "sg2 = flopy.discretization.StructuredGrid(\n",
    "    delr=delr,\n",
    "    delc=delc,\n",
    "    top=tp,\n",
    "    botm=bt,\n",
    "    xoff=200.0,\n",
    "    yoff=200,\n",
    "    idomain=idomain,\n",
    ")"
   ]
  },
  {
   "cell_type": "markdown",
   "id": "de411805",
   "metadata": {},
   "source": [
    "The following utility function will convert the two FloPy structured grid object into a data structure that can be passed directly into the DISV package to create the full unstructured grid."
   ]
  },
  {
   "cell_type": "code",
   "execution_count": null,
   "id": "3ccafcf4-d70e-4010-958d-d648ca50ef2a",
   "metadata": {},
   "outputs": [],
   "source": [
    "gridprops = flopy.utils.cvfdutil.gridlist_to_disv_gridprops([sg1, sg2])\n",
    "print(\"Ignore this warning for now\")"
   ]
  },
  {
   "cell_type": "markdown",
   "id": "a0ecf726",
   "metadata": {},
   "source": [
    "### Solver parameters"
   ]
  },
  {
   "cell_type": "code",
   "execution_count": null,
   "id": "9e00b826",
   "metadata": {},
   "outputs": [],
   "source": [
    "nouter = 50\n",
    "ninner = 100\n",
    "hclose = 1e-9\n",
    "rclose = 1e-6"
   ]
  },
  {
   "cell_type": "markdown",
   "id": "bdf05eb2",
   "metadata": {
    "lines_to_next_cell": 2
   },
   "source": [
    "### Model setup\n",
    "\n",
    "Now we are ready to set up the FloPy simulation model."
   ]
  },
  {
   "cell_type": "code",
   "execution_count": null,
   "id": "999dba54",
   "metadata": {},
   "outputs": [],
   "source": [
    "sim_name = example_name\n",
    "model_name = \"gwf\""
   ]
  },
  {
   "cell_type": "code",
   "execution_count": null,
   "id": "f1e67662-bc41-4cf7-8fba-26ede49a602a",
   "metadata": {},
   "outputs": [],
   "source": [
    "def hgrad(k, k22, angle1, qx, qy):\n",
    "    angle = angle1 * math.pi / 180\n",
    "\n",
    "    kxx = k * math.cos(angle) ** 2 + k22 * math.sin(angle) ** 2\n",
    "    kyy = k * math.sin(angle) ** 2 + k22 * math.cos(angle) ** 2\n",
    "    kxy = (k - k22) * math.sin(angle) * math.cos(angle)\n",
    "    kyx = kxy\n",
    "    det = kxx * kyy - kxy * kyx\n",
    "    kinvxx = kyy / det\n",
    "    kinvxy = -kxy / det\n",
    "    kinvyx = -kyx / det\n",
    "    kinvyy = kxx / det\n",
    "    hgradx = -kinvxx * qx - kinvxy * qy\n",
    "    hgrady = -kinvyx * qx - kinvyy * qy\n",
    "\n",
    "    return hgradx, hgrady"
   ]
  },
  {
   "cell_type": "code",
   "execution_count": null,
   "id": "67602d41-146f-4ec1-90b9-0d6eb415d0d5",
   "metadata": {},
   "outputs": [],
   "source": [
    "def add_chds(gwf, hgradx=None, hgrady=None):\n",
    "    if hgradx is None:\n",
    "        chd_spd = []\n",
    "        chd_spd += [[0, i, 1.0] for i in [0, 7, 14, 18, 22, 26, 33]]\n",
    "        chd_spd = {0: chd_spd}\n",
    "        flopy.mf6.ModflowGwfchd(\n",
    "            gwf,\n",
    "            stress_period_data=chd_spd,\n",
    "            pname=\"CHD-LEFT\",\n",
    "            filename=f\"{model_name}.left.chd\",\n",
    "        )\n",
    "\n",
    "        chd_spd = []\n",
    "        chd_spd += [[0, i, 0.0] for i in [6, 13, 17, 21, 25, 32, 39]]\n",
    "        chd_spd = {0: chd_spd}\n",
    "        flopy.mf6.ModflowGwfchd(\n",
    "            gwf,\n",
    "            stress_period_data=chd_spd,\n",
    "            pname=\"CHD-RIGHT\",\n",
    "            filename=f\"{model_name}.right.chd\",\n",
    "        )\n",
    "\n",
    "    else:\n",
    "        chd_spd = []\n",
    "        hconst = hgradx * 50 + hgrady * 50 - 1\n",
    "        for irow, i in enumerate([0, 7, 14, 18, 22, 26, 33]):\n",
    "            x = 50\n",
    "            y = (6 - irow) * 100 + 50  # hardwired dimensions\n",
    "            head = hgradx * x + hgrady * y - hconst\n",
    "            chd_spd += [[0, i, head]]\n",
    "        chd_spd = {0: chd_spd}\n",
    "        flopy.mf6.ModflowGwfchd(\n",
    "            gwf,\n",
    "            stress_period_data=chd_spd,\n",
    "            pname=\"CHD-LEFT\",\n",
    "            filename=f\"{model_name}.left.chd\",\n",
    "        )\n",
    "        chd_spd = []\n",
    "        for irow, i in enumerate([6, 13, 17, 21, 25, 32, 39]):\n",
    "            x = 650\n",
    "            y = (6 - irow) * 100 + 50  # hardwired dimensions\n",
    "            head = hgradx * x + hgrady * y - hconst\n",
    "            chd_spd += [[0, i, head]]\n",
    "        chd_spd = {0: chd_spd}\n",
    "        flopy.mf6.ModflowGwfchd(\n",
    "            gwf,\n",
    "            stress_period_data=chd_spd,\n",
    "            pname=\"CHD-RIGHT\",\n",
    "            filename=f\"{model_name}.right.chd\",\n",
    "        )\n",
    "        chd_spd = []\n",
    "        for jcol, i in enumerate([1, 2, 3, 4, 5]):\n",
    "            x = jcol * 100 + 150  # hardwired dimensions\n",
    "            y = 650\n",
    "            head = hgradx * x + hgrady * y - hconst\n",
    "            chd_spd += [[0, i, head]]\n",
    "        chd_spd = {0: chd_spd}\n",
    "        flopy.mf6.ModflowGwfchd(\n",
    "            gwf,\n",
    "            stress_period_data=chd_spd,\n",
    "            pname=\"CHD-TOP\",\n",
    "            filename=f\"{model_name}.top.chd\",\n",
    "        )\n",
    "        chd_spd = []\n",
    "        for jcol, i in enumerate([34, 35, 36, 37, 38]):\n",
    "            x = jcol * 100 + 150  # hardwired dimensions\n",
    "            y = 50\n",
    "            head = hgradx * x + hgrady * y - hconst\n",
    "            chd_spd += [[0, i, head]]\n",
    "        chd_spd = {0: chd_spd}\n",
    "        flopy.mf6.ModflowGwfchd(\n",
    "            gwf,\n",
    "            stress_period_data=chd_spd,\n",
    "            pname=\"CHD-BOTTOM\",\n",
    "            filename=f\"{model_name}.bottom.chd\",\n",
    "        )"
   ]
  },
  {
   "cell_type": "code",
   "execution_count": null,
   "id": "e05f8770",
   "metadata": {},
   "outputs": [],
   "source": [
    "def build_sim(hgradx=None, hgrady=None):\n",
    "    sim = flopy.mf6.MFSimulation(\n",
    "        sim_name=sim_name, sim_ws=sim_ws, exe_name=\"mf6\"\n",
    "    )\n",
    "    flopy.mf6.ModflowTdis(\n",
    "        sim, nper=nper, perioddata=tdis_ds, time_units=time_units\n",
    "    )\n",
    "    flopy.mf6.ModflowIms(\n",
    "        sim,\n",
    "        linear_acceleration=\"bicgstab\",\n",
    "        outer_maximum=nouter,\n",
    "        outer_dvclose=hclose,\n",
    "        inner_maximum=ninner,\n",
    "        inner_dvclose=hclose,\n",
    "        rcloserecord=f\"{rclose} strict\",\n",
    "    )\n",
    "    gwf = flopy.mf6.ModflowGwf(sim, modelname=model_name, save_flows=True)\n",
    "    flopy.mf6.ModflowGwfdisv(\n",
    "        gwf,\n",
    "        length_units=length_units,\n",
    "        nlay=nlay,\n",
    "        top=top,\n",
    "        botm=botm,\n",
    "        **gridprops,\n",
    "    )\n",
    "    flopy.mf6.ModflowGwfnpf(\n",
    "        gwf,\n",
    "        icelltype=icelltype,\n",
    "        k=k11,\n",
    "        save_specific_discharge=True,\n",
    "        xt3doptions=xt3doptions,\n",
    "    )\n",
    "    flopy.mf6.ModflowGwfic(gwf, strt=strt)\n",
    "\n",
    "    add_chds(gwf, hgradx=hgradx, hgrady=hgrady)\n",
    "\n",
    "    head_filerecord = f\"{model_name}.hds\"\n",
    "    budget_filerecord = f\"{model_name}.cbc\"\n",
    "    flopy.mf6.ModflowGwfoc(\n",
    "        gwf,\n",
    "        head_filerecord=head_filerecord,\n",
    "        budget_filerecord=budget_filerecord,\n",
    "        saverecord=[(\"HEAD\", \"ALL\"), (\"BUDGET\", \"ALL\")],\n",
    "    )\n",
    "\n",
    "    return sim"
   ]
  },
  {
   "cell_type": "markdown",
   "id": "7f0bd32f-c04a-4ab8-b135-2ff5480d88c2",
   "metadata": {
    "execution": {
     "iopub.execute_input": "2024-09-15T21:15:40.215918Z",
     "iopub.status.busy": "2024-09-15T21:15:40.215918Z",
     "iopub.status.idle": "2024-09-15T21:15:40.234741Z",
     "shell.execute_reply": "2024-09-15T21:15:40.233729Z",
     "shell.execute_reply.started": "2024-09-15T21:15:40.215918Z"
    }
   },
   "source": [
    "### Function to plot head and specific discharge results"
   ]
  },
  {
   "cell_type": "code",
   "execution_count": null,
   "id": "29581a5f-b830-4d77-aa16-65d96bf73f58",
   "metadata": {},
   "outputs": [],
   "source": [
    "def plot_results(hgradx=None, hgrady=None):\n",
    "    # Get the head data from the model\n",
    "    gwf = sim.get_model(model_name)\n",
    "    head = gwf.output.head().get_data()[:, 0, :]\n",
    "\n",
    "    # Get the specific discharge vector from the budget data object\n",
    "    qx, qy, qz = flopy.utils.postprocessing.get_specific_discharge(\n",
    "        gwf.output.budget().get_data(text=\"DATA-SPDIS\", totim=1.0)[0],\n",
    "        gwf,\n",
    "    )\n",
    "\n",
    "    # Create the figure\n",
    "    fig = plt.figure(figsize=(14, 8))\n",
    "    fig.tight_layout()\n",
    "\n",
    "    ax = fig.add_subplot(1, 2, 1, aspect=\"equal\")\n",
    "    pmv = flopy.plot.PlotMapView(model=gwf, ax=ax, layer=0)\n",
    "    pmv.plot_grid()\n",
    "    cb = pmv.plot_array(head, cmap=\"jet\")\n",
    "    pmv.plot_vector(\n",
    "        qx,\n",
    "        qy,\n",
    "        normalize=False,\n",
    "        color=\"0.25\",\n",
    "    )\n",
    "    plt.colorbar(cb, shrink=0.6)\n",
    "    ax.set_xlabel(\"x position (m)\")\n",
    "    ax.set_ylabel(\"y position (m)\")\n",
    "    ax.set_title(\"Simulated Head\")\n",
    "\n",
    "    ax = fig.add_subplot(1, 2, 2, aspect=\"equal\")\n",
    "    pmv = flopy.plot.PlotMapView(model=gwf, ax=ax, layer=0)\n",
    "    pmv.plot_grid()\n",
    "    if hgradx is None:\n",
    "        x = np.array(gwf.modelgrid.xcellcenters) - 50.0\n",
    "        slp = (1.0 - 0.0) / (50.0 - 650.0)\n",
    "        heada = slp * x + 1.0\n",
    "    else:\n",
    "        hconst = hgradx * 50 + hgrady * 50 - 1\n",
    "        x = np.array(gwf.modelgrid.xcellcenters)\n",
    "        y = np.array(gwf.modelgrid.ycellcenters)\n",
    "        heada = hgradx * x + hgrady * y - hconst\n",
    "    cb = pmv.plot_array(head - heada, cmap=\"jet\")\n",
    "    plt.colorbar(cb, shrink=0.6)\n",
    "    ax.set_xlabel(\"x position (m)\")\n",
    "    ax.set_ylabel(\"y position (m)\")\n",
    "    max_error = np.amax(head - heada)\n",
    "    ax.set_title(f\"Error (maximum = {max_error:.2g})\")"
   ]
  },
  {
   "cell_type": "markdown",
   "id": "9a1515d9-e4df-4c84-a738-30e8909fd5ba",
   "metadata": {
    "execution": {
     "iopub.execute_input": "2024-09-15T21:15:40.215918Z",
     "iopub.status.busy": "2024-09-15T21:15:40.215918Z",
     "iopub.status.idle": "2024-09-15T21:15:40.234741Z",
     "shell.execute_reply": "2024-09-15T21:15:40.233729Z",
     "shell.execute_reply.started": "2024-09-15T21:15:40.215918Z"
    }
   },
   "source": [
    "### Build simulation"
   ]
  },
  {
   "cell_type": "code",
   "execution_count": null,
   "id": "f4b18360-0960-4511-8a9d-3181bbe4ff6e",
   "metadata": {},
   "outputs": [],
   "source": [
    "sim = build_sim()"
   ]
  },
  {
   "cell_type": "markdown",
   "id": "d25da6cd",
   "metadata": {},
   "source": [
    "## Exercise A -- CVFD requirement violations in our quadtree grid\n",
    "\n",
    "The \"CVFD requirements\" state that for the standard, conductance-based formulation for flow between two cells to be accurate, the connection between the cell centers (nodes) must bisect the shared face between the two cells at a right angle.\n",
    "\n",
    "__A1.__ Using the notebook cell below, plot the model grid.\n",
    "\n",
    "__A2.__ Geometrically, the grid connections can be represented by line segments that connect the centers of adjacent cells. (The connections aren't drawn here, but they're easy enough to imagine.) Visually identify which cell connections violate the CVFD requirements."
   ]
  },
  {
   "cell_type": "code",
   "execution_count": null,
   "id": "3f2f0818",
   "metadata": {},
   "outputs": [],
   "source": [
    "# Figure properties\n",
    "figure_size = (6, 6)\n",
    "\n",
    "fig = plt.figure(figsize=figure_size)\n",
    "fig.tight_layout()\n",
    "\n",
    "gwf = sim.get_model(model_name)\n",
    "\n",
    "ax = fig.add_subplot(1, 1, 1, aspect=\"equal\")\n",
    "pmv = flopy.plot.PlotMapView(model=gwf, ax=ax, layer=0)\n",
    "\n",
    "# plot the grid\n",
    "pmv.plot_grid()\n",
    "\n",
    "# add the boundary conditions (CHD)\n",
    "pmv.plot_bc(name=\"CHD-LEFT\", alpha=0.75)\n",
    "pmv.plot_bc(name=\"CHD-RIGHT\", alpha=0.75)\n",
    "\n",
    "ax.set_xlabel(\"x position (m)\")\n",
    "ax.set_ylabel(\"y position (m)\")\n",
    "\n",
    "# this plots the cell ids\n",
    "for i, (x, y) in enumerate(\n",
    "    zip(gwf.modelgrid.xcellcenters, gwf.modelgrid.ycellcenters)\n",
    "):\n",
    "    ax.text(\n",
    "        x,\n",
    "        y,\n",
    "        f\"{i + 1}\",\n",
    "        fontsize=6,\n",
    "        horizontalalignment=\"center\",\n",
    "        verticalalignment=\"center\",\n",
    "    )"
   ]
  },
  {
   "cell_type": "markdown",
   "id": "57fa0706-a6ea-42fe-aa66-ce00d7d9ee65",
   "metadata": {},
   "source": [
    "## Exercise B -- Standard, conductance-based formulation (without XT3D)\n",
    "\n",
    "The idea of the problem setup is to create a uniform, left-to-right steady-state groundwater flow through this square domain of homogeneous, isotropic hydraulic conductivity. The flow is induced by specifying constant heads along the left and right sides (blue cells in the grid plot), with higher head on the left than on the right.\n",
    "\n",
    "__B1.__ Use the notebook cell below to write and run the simulation __without__ XT3D, plot the results, and print the water-volume budget for the model.\n",
    "\n",
    "__B2.__ How does the error in head and the direction of the specific discharge (groundwater flux) vectors generally correlate with the locations of connections that violate the CVFD requirements? How does the maximum error in the heads compare with the closure criterion (convergence tolerance) for the head solution (hclose)?\n",
    "\n",
    "__B3__. The confined aquifer is 700 m by 700 m in plan view, with a thickness of 10 m and a hydraulic conductivity 1 m/d. A constant-head (CHD) value of 1 m is assigned to the cell centers (nodes) of the leftmost column of cells (at x=50 m), and a constant-head value of 0 m is assigned to the cell centers of the rightmost column (at x=650 m). Using Darcy’s Law, calculate the expected total rate of groundwater flow through the model, i.e., the rate at which water enters through the left side, which equals the rate rate at which it exits through the right side. How does the total simulated rate of groundwater flow through the model reported in the budget compare with the expected rate?"
   ]
  },
  {
   "cell_type": "code",
   "execution_count": null,
   "id": "602de724",
   "metadata": {},
   "outputs": [],
   "source": [
    "gwf.npf.xt3doptions = \"\"\n",
    "gwf.npf.write()\n",
    "sim.write_simulation(silent=True)\n",
    "sim.run_simulation(silent=True)\n",
    "plot_results()\n",
    "\n",
    "lstpath = sim_ws / \"gwf.lst\"\n",
    "mf_list = flopy.utils.Mf6ListBudget(sim_ws / \"gwf.lst\")\n",
    "budget_data = mf_list.get_data(kstpkper=(0, 0))\n",
    "for item in budget_data:\n",
    "    print(item[\"name\"], item[\"value\"])"
   ]
  },
  {
   "cell_type": "markdown",
   "id": "6fd999ac-b36e-4d1b-86fd-7a8c40bcb8c5",
   "metadata": {},
   "source": [
    "## Exercise C -- With XT3D\n",
    "\n",
    "__C1.__ Use the notebook cell below to write and rerun the simulation __with XT3D__ and report the new results.\n",
    "\n",
    "__C2.__ How do the specific discharge vectors look now? How does the maximum error in the heads compare with hclose? (Note that the scale of the head error plot is very different than before.)\n",
    "\n",
    "__C3__. How does the total simulated rate of groundwater flow through the model reported in the budget compare with the expected rate?"
   ]
  },
  {
   "cell_type": "code",
   "execution_count": null,
   "id": "855f5c4a",
   "metadata": {},
   "outputs": [],
   "source": [
    "gwf.npf.xt3doptions = \"xt3d\"\n",
    "gwf.npf.write()\n",
    "sim.write_simulation(silent=True)\n",
    "sim.run_simulation(silent=True)\n",
    "plot_results()\n",
    "\n",
    "lstpath = sim_ws / \"gwf.lst\"\n",
    "mf_list = flopy.utils.Mf6ListBudget(sim_ws / \"gwf.lst\")\n",
    "budget_data = mf_list.get_data(kstpkper=(0, 0))\n",
    "for item in budget_data:\n",
    "    print(item[\"name\"], item[\"value\"])"
   ]
  },
  {
   "attachments": {},
   "cell_type": "markdown",
   "id": "f186a11d-9f70-4f70-9b6e-9cfa39c7729a",
   "metadata": {},
   "source": [
    "## Exercise D -- Anisotropy\n",
    "\n",
    "When the hydraulic conductivity is __isotropic__, the groundwater flux is in the same direction as the head gradient. When the hydraulic conductivity is __anisotropic__, the groundwater flux is generally not in the same direction as the head gradient (except when the head gradient aligns with one of the principal directions of anisotropy). In the case of general anisotropy, the groundwater flux and the head gradient vector are related by the following form of Darcy's Law:\n",
    "\n",
    "$\\mathbf{q} = - \\mathbf{K} \\nabla h$\n",
    "\n",
    "where $\\mathbf{K}$ is the hydraulic conductivity tensor. Written out in 2D, Cartesian (x, y) coordinates, this has the form\n",
    "\n",
    "$q_x = - K_{xx} \\partial h / \\partial x - K_{xy} \\partial h / \\partial y$\n",
    "\n",
    "$q_y = - K_{yx} \\partial h / \\partial x - K_{yy} \\partial h / \\partial y$\n",
    "\n",
    "where $K_{yx} = K_{xy}$. Note that each component of the groundwater flux depends on both components of the head gradient.\n",
    "\n",
    "In the NPF Package's input, $K$ is the maximum conductivity, K22 is the minimum conductivity, and ANGLE1 is the angle by the the anisotropy direction are rotated counterclockwise relative to the (x, y) corrdinate axes.  In terms of these parameters, the elements of the conductivity tensor in (x, y) coordinates are\n",
    "\n",
    "$K_{xx} = K cos^2 \\{ANGLE1\\} + K22 sin^2 \\{ANGLE1\\}$\n",
    "\n",
    "$K_{yy} = K sin^2 \\{ANGLE1\\} + K22 cos^2 \\{ANGLE1\\}$\n",
    "\n",
    "$K_{xy} = K_{yx} = \\left ( K - K22 \\right ) sin \\{ANGLE1\\} cos \\{ANGLE1\\}$\n",
    "\n",
    "The bottom line is that for a given anisotropy angle ANGLE1, one can calculate the elements of $\\mathbf{K}$, then invert Darcy's Law to calculate the head gradient vector that corresponds to our desired unit groundwater flux in the positive $x$ direction. In the previous exercise, which featured isotropic hydraulic conductivity, the head gradient pointed in the positive $x$ direction. __In the anisotropic case with $ANGLE1$ not equal to 0, the required head gradient will point in a different direction.__\n",
    "\n",
    "__D1.__ Use the notebook cell below to calculate the $x$ and $y$ components of the head gradient that produces the same horizontal groundwater flux as before for an anisotropy angle of 45 degrees and an anisotropy ratio of 10:1, then set up corresponding constant heads around the perimeter of the model domain, and rerun the problem.\n",
    "\n",
    "__D2.__ Set xt3doptions=None and rerun without XT3D. Play with different anisotropy angle with and without XT3D."
   ]
  },
  {
   "cell_type": "code",
   "execution_count": null,
   "id": "40577934-2189-46b7-bd70-7efa6dca1c3a",
   "metadata": {},
   "outputs": [],
   "source": [
    "k = k11\n",
    "k22 = 0.1 * k\n",
    "angle1 = 45\n",
    "qx = 1 / 600\n",
    "qy = 0\n",
    "xt3doptions = \"xt3d\"\n",
    "\n",
    "hgradx, hgrady = hgrad(k, k22, angle1, qx, qy)\n",
    "print(\"dh/dx = \", hgradx)\n",
    "print(\"dh/dy = \", hgrady)\n",
    "\n",
    "sim = build_sim(hgradx=hgradx, hgrady=hgrady)\n",
    "sim.write_simulation(silent=True)\n",
    "gwf = sim.get_model(model_name)\n",
    "gwf.npf.xt3doptions = xt3doptions\n",
    "gwf.npf.k = k\n",
    "gwf.npf.k22 = k22\n",
    "gwf.npf.angle1 = angle1\n",
    "gwf.npf.write()\n",
    "sim.run_simulation(silent=True)\n",
    "plot_results(hgradx=hgradx, hgrady=hgrady)"
   ]
  }
 ],
 "metadata": {
  "kernelspec": {
   "display_name": "Python 3 (ipykernel)",
   "language": "python",
   "name": "python3"
  }
 },
 "nbformat": 4,
 "nbformat_minor": 5
}
