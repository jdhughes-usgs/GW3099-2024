{
 "cells": [
  {
   "cell_type": "markdown",
   "id": "db1331c3",
   "metadata": {},
   "source": [
    "# U.S. Geological Survey Class GW3099\n",
    "Advanced Modeling of Groundwater Flow (GW3099)\\\n",
    "Boise, Idaho\\\n",
    "September 16 - 20, 2024\n",
    "\n",
    "![title](../../../images/ClassLocation.jpg)\n",
    "\n",
    "## Prototyping Observations for PEST++ with the MV Model"
   ]
  },
  {
   "cell_type": "markdown",
   "id": "9a90c0b0",
   "metadata": {},
   "source": [
    "In this notebook, we prototype how to assemble the observations into a single vector and write an instruction file to convey model results to PEST++. The logic of this notebook must get incorporated into the forward run script which we do in the next notebook."
   ]
  },
  {
   "cell_type": "code",
   "execution_count": null,
   "id": "c963d01a",
   "metadata": {},
   "outputs": [],
   "source": [
    "from pathlib import Path\n",
    "\n",
    "import pandas as pd"
   ]
  },
  {
   "cell_type": "code",
   "execution_count": null,
   "id": "3d63aac8",
   "metadata": {},
   "outputs": [],
   "source": [
    "# select the folder containing example model observation output\n",
    "rundir = Path(\"../pest_obs_prototype/\")"
   ]
  },
  {
   "cell_type": "code",
   "execution_count": null,
   "id": "59cb2fd7",
   "metadata": {},
   "outputs": [],
   "source": [
    "# now list the output files\n",
    "outfiles = list(rundir.glob(\"*.csv\"))\n",
    "outfiles"
   ]
  },
  {
   "cell_type": "code",
   "execution_count": null,
   "id": "51c7f8be",
   "metadata": {},
   "outputs": [],
   "source": [
    "# let's be explicit about order here, because glob may differ by os (IMPORTANT!)\n",
    "outfiles = [\n",
    "    Path(\"../pest_obs_prototype/riv.csv\"),\n",
    "    Path(\"../pest_obs_prototype/at.wt.csv\"),\n",
    "    Path(\"../pest_obs_prototype/chd.csv\"),\n",
    "    Path(\"../pest_obs_prototype/at.csv\"),\n",
    "]"
   ]
  },
  {
   "cell_type": "code",
   "execution_count": null,
   "id": "f96af688",
   "metadata": {},
   "outputs": [],
   "source": [
    "# read all the output files into a single dataframe\n",
    "obs = pd.concat([pd.read_csv(i).T.iloc[1:] for i in outfiles])\n",
    "obs.columns = [\"obsval\"]\n",
    "obs"
   ]
  },
  {
   "cell_type": "code",
   "execution_count": null,
   "id": "69f9137c-6570-43d7-b80e-7d2bb62b50f1",
   "metadata": {},
   "outputs": [],
   "source": [
    "# make the DS observation cumulative, including Pollack Ford\n",
    "obs.loc[\"DS\"] = obs.loc[\"DS\"] + obs.loc[\"PF\"]\n",
    "# also calculate a few (3) vertical head difference targets\n",
    "obs.loc[\"UW02\", \"obsval\"] = obs.loc[\"U02\", \"obsval\"] - obs.loc[\"W02\", \"obsval\"]\n",
    "obs.loc[\"UW08\", \"obsval\"] = obs.loc[\"U08\", \"obsval\"] - obs.loc[\"W08\", \"obsval\"]\n",
    "obs.loc[\"UW15\", \"obsval\"] = obs.loc[\"U15\", \"obsval\"] - obs.loc[\"W15\", \"obsval\"]"
   ]
  },
  {
   "cell_type": "code",
   "execution_count": null,
   "id": "96c9b0cc",
   "metadata": {},
   "outputs": [],
   "source": [
    "# write out all these data to an example file\n",
    "obs.to_csv(\"../pest_background_files/allobs.dat\", sep=\" \")"
   ]
  },
  {
   "cell_type": "code",
   "execution_count": null,
   "id": "e6fccf74",
   "metadata": {},
   "outputs": [],
   "source": [
    "# make the observation names into lower case\n",
    "obsnames = [i.lower() for i in obs.index.tolist()]\n",
    "obsnames"
   ]
  },
  {
   "cell_type": "markdown",
   "id": "162a7549",
   "metadata": {},
   "source": [
    "### making the assumption that model output will be concatenated exactly as done above, we can make a simple instruction file that will be used by PEST++ to read model output"
   ]
  },
  {
   "cell_type": "code",
   "execution_count": null,
   "id": "91e3e34a",
   "metadata": {},
   "outputs": [],
   "source": [
    "with open(\"../pest_background_files/allobs.dat.ins\", \"w\") as ofp:\n",
    "    ofp.write(\"pif ~\\n\")\n",
    "    obs0 = obsnames.pop(0)\n",
    "    ofp.write(f\"l2 w !{obs0}!\\n\")\n",
    "    [ofp.write(f\"l1 w !{i}!\\n\") for i in obsnames]"
   ]
  }
 ],
 "metadata": {
  "kernelspec": {
   "display_name": "Python 3 (ipykernel)",
   "language": "python",
   "name": "python3"
  }
 },
 "nbformat": 4,
 "nbformat_minor": 5
}
