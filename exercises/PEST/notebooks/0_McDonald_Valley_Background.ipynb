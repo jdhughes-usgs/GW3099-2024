{
 "cells": [
  {
   "cell_type": "markdown",
   "id": "d6f1bef1",
   "metadata": {},
   "source": [
    "# U.S. Geological Survey Class GW3099\n",
    "Advanced Modeling of Groundwater Flow (GW3099)\\\n",
    "Boise, Idaho\\\n",
    "September 16 - 20, 2024\n",
    "\n",
    "![title](../../../images/ClassLocation.jpg)\n",
    "\n",
    "## Background on the PEST++ Exercise Model"
   ]
  },
  {
   "cell_type": "code",
   "execution_count": null,
   "id": "06518042",
   "metadata": {},
   "outputs": [],
   "source": [
    "import os\n",
    "import shutil\n",
    "from pathlib import Path\n",
    "\n",
    "import flopy as fp\n",
    "import matplotlib.pyplot as plt\n",
    "import numpy as np\n",
    "import pandas as pd\n",
    "import pyemu"
   ]
  },
  {
   "cell_type": "markdown",
   "id": "a064e278-36c8-429a-aed2-543647eaa41e",
   "metadata": {},
   "source": [
    "### This exercise is based on the Basic MODFLOW class calibration exercise (except we will make use of PEST++). We will focus here on Prior Monte Carlo and the Iterative Ensemble Smoother. More complete tutorials on PEST++ are available at https://github.com/gmdsi/GMDSI_notebooks"
   ]
  },
  {
   "cell_type": "markdown",
   "id": "dafa6f73",
   "metadata": {},
   "source": [
    "### First let's load up the existing model and have a look"
   ]
  },
  {
   "cell_type": "code",
   "execution_count": null,
   "id": "60e40df9",
   "metadata": {},
   "outputs": [],
   "source": [
    "org_d = Path(\"../pest_background_files/\")"
   ]
  },
  {
   "cell_type": "code",
   "execution_count": null,
   "id": "8f82424d",
   "metadata": {},
   "outputs": [],
   "source": [
    "sim = fp.mf6.MFSimulation.load(sim_ws=str(org_d))\n",
    "m = sim.get_model()"
   ]
  },
  {
   "cell_type": "code",
   "execution_count": null,
   "id": "69785802",
   "metadata": {},
   "outputs": [],
   "source": [
    "fig, ax = plt.subplots(figsize=(6, 6))\n",
    "pmv = fp.plot.PlotMapView(m, ax=ax)\n",
    "lc = pmv.plot_grid(lw=0.5)\n",
    "pmv.plot_bc(\"WEL\", plotAll=True, label=\"WEL\")\n",
    "pmv.plot_bc(\"RIV\", plotAll=True, label=\"RIV\")\n",
    "pmv.plot_bc(\"CHD\", plotAll=True, label=\"CHD\")\n",
    "ax.set_xlabel(f\"{m.modelgrid.units.capitalize()} easting\")\n",
    "ax.set_ylabel(f\"{m.modelgrid.units.capitalize()} northing\")\n",
    "ax.set_aspect(1)"
   ]
  },
  {
   "cell_type": "code",
   "execution_count": null,
   "id": "435103eb",
   "metadata": {},
   "outputs": [],
   "source": [
    "fig, allax = plt.subplots(1, 3, figsize=(13, 8))\n",
    "for i, ax in zip([0, 2, 4], allax):\n",
    "    pmv = fp.plot.PlotMapView(m, ax=ax)\n",
    "    lc = pmv.plot_grid(lw=0.5)\n",
    "    kp = pmv.plot_array(\n",
    "        np.log10(m.npf.k.array[i]), zorder=0, vmin=0.001, vmax=3\n",
    "    )\n",
    "    fig.colorbar(kp, shrink=0.62)\n",
    "    ax.set_aspect(1)\n",
    "    ax.set_title(f\"Log10 Hydraulic Conductivity, Layer {i+1}\")"
   ]
  },
  {
   "cell_type": "code",
   "execution_count": null,
   "id": "82b2c76b",
   "metadata": {},
   "outputs": [],
   "source": [
    "fig, allax = plt.subplots(3, 1, figsize=(13, 8))\n",
    "for ax, row in zip(allax, [5, 20, 25]):\n",
    "    xs = fp.plot.PlotCrossSection(model=m, line={\"row\": row}, ax=ax)\n",
    "    lc = xs.plot_grid()\n",
    "    xs.plot_bc(\"WEL\")\n",
    "    xs.plot_bc(\"RIV\")\n",
    "    xs.plot_bc(\"CHD\")\n",
    "    xs.plot_grid(lw=0.5, zorder=1e6)\n",
    "    pc = xs.plot_array(m.npf.k.array, vmin=0, vmax=600)\n",
    "    fig.colorbar(pc, label=\"Hydraulic Conductivity, in m/day\")\n",
    "    ax.set_xlabel(f\"Distance, in {m.modelgrid.units.capitalize()}\")\n",
    "    ax.set_ylabel(f\"Elevation, in {m.modelgrid.units.capitalize()}\")\n",
    "    ax.set_title(f\"Cross Section along Row: {row}\")\n",
    "plt.tight_layout()"
   ]
  },
  {
   "cell_type": "code",
   "execution_count": null,
   "id": "a3ba990a",
   "metadata": {},
   "outputs": [],
   "source": [
    "# Run the model to make sure there are outputs to look at\n",
    "sim.run_simulation()"
   ]
  },
  {
   "cell_type": "code",
   "execution_count": null,
   "id": "ea192f12",
   "metadata": {},
   "outputs": [],
   "source": [
    "from flopy.utils.postprocessing import get_water_table\n",
    "\n",
    "hds = m.output.head().get_data(kstpkper=(0, 0))\n",
    "wt = get_water_table(hds)\n",
    "\n",
    "cbc = m.output.budget()\n",
    "riv = cbc.get_data(text=\"riv\", full3D=True)[0]"
   ]
  },
  {
   "cell_type": "code",
   "execution_count": null,
   "id": "7e0a7e4a",
   "metadata": {},
   "outputs": [],
   "source": [
    "levels = np.arange(1, 20, 1)\n",
    "\n",
    "fig, ax = plt.subplots(figsize=(6, 6))\n",
    "pmv = fp.plot.PlotMapView(m, ax=ax)\n",
    "ctr = pmv.contour_array(wt, levels=levels, linewidths=1, colors=\"b\")\n",
    "labels = pmv.ax.clabel(ctr, inline=True, fontsize=8, inline_spacing=1)\n",
    "vmin, vmax = -1e6, 1e6\n",
    "lc = pmv.plot_grid(lw=0.5)\n",
    "pmv.plot_bc(\"WEL\", plotAll=True)\n",
    "pmv.plot_bc(\"RIV\", plotAll=True)\n",
    "pmv.plot_bc(\"CHD\", plotAll=True)\n",
    "im = pmv.plot_array(riv.sum(axis=0), cmap=\"coolwarm\", vmin=vmin, vmax=vmax)\n",
    "cb = fig.colorbar(im, shrink=0.7, label=\"Leakage, in m$^3$/day\")\n",
    "ax.set_ylabel(\"Northing, meters\")\n",
    "ax.set_xlabel(\"Easting, meters\")\n",
    "ax.set_aspect(1)"
   ]
  },
  {
   "cell_type": "markdown",
   "id": "96d69c80",
   "metadata": {},
   "source": [
    "## So this is the model - what kind of observations do we have?"
   ]
  },
  {
   "cell_type": "code",
   "execution_count": null,
   "id": "7c1d1a1e",
   "metadata": {},
   "outputs": [],
   "source": [
    "# gotta get the cell locations\n",
    "X, Y = m.modelgrid.xcellcenters, m.modelgrid.ycellcenters"
   ]
  },
  {
   "cell_type": "code",
   "execution_count": null,
   "id": "64cb945f",
   "metadata": {},
   "outputs": [],
   "source": [
    "# now let's find the observation locations\n",
    "obslox = pd.DataFrame.from_records(m.obs[2].continuous.data[\"at.csv\"])\n",
    "obslox[\"r\"] = [i[1] for i in obslox.id]\n",
    "obslox[\"c\"] = [i[2] for i in obslox.id]\n",
    "obslox[\"x\"] = X[obslox.r, obslox.c]\n",
    "obslox[\"y\"] = Y[obslox.r, obslox.c]\n",
    "obslox.sample(4)\n",
    "\n",
    "# and make a subset dataframe for the 3 head difference targets\n",
    "hdiff = obslox.loc[obslox.obsname.isin([\"w02\", \"w08\", \"w15\"])]"
   ]
  },
  {
   "cell_type": "code",
   "execution_count": null,
   "id": "d76d7764",
   "metadata": {},
   "outputs": [],
   "source": [
    "levels = np.arange(1, 20, 1)\n",
    "\n",
    "fig, ax = plt.subplots(figsize=(6, 6))\n",
    "pmv = fp.plot.PlotMapView(m, ax=ax)\n",
    "ctr = pmv.contour_array(wt, levels=levels, linewidths=1, colors=\"b\", alpha=0.4)\n",
    "labels = pmv.ax.clabel(ctr, inline=True, fontsize=8, inline_spacing=1)\n",
    "vmin, vmax = -1e6, 1e6\n",
    "lc = pmv.plot_grid(lw=0.5)\n",
    "pmv.plot_bc(\"WEL\", plotAll=True)\n",
    "pmv.plot_bc(\"RIV\", plotAll=True)\n",
    "pmv.plot_bc(\"CHD\", plotAll=True)\n",
    "im = pmv.plot_array(riv.sum(axis=0), cmap=\"coolwarm\", vmin=vmin, vmax=vmax)\n",
    "cb = fig.colorbar(im, shrink=0.7, label=\"Leakage, in m$^3$/day\")\n",
    "ax.plot(obslox.x, obslox.y, \"x\")\n",
    "[\n",
    "    ax.text(x, y, obsname)\n",
    "    for x, y, obsname in zip(obslox.x, obslox.y, obslox.obsname)\n",
    "]\n",
    "ax.plot(hdiff.x, hdiff.y, \"o\", zorder=-1)\n",
    "ax.set_ylabel(\"Northing, meters\")\n",
    "ax.set_xlabel(\"Easting, meters\")\n",
    "ax.set_aspect(1)"
   ]
  },
  {
   "cell_type": "markdown",
   "id": "1b638aae",
   "metadata": {},
   "source": [
    "### Observations are:\n",
    "- head observations at the X locations in both shallow and deep systems\n",
    "- head differences at the orange filled locations\n",
    "- two river flux observations\n",
    "- lake flux"
   ]
  },
  {
   "cell_type": "markdown",
   "id": "231bfc1c",
   "metadata": {},
   "source": [
    "### So we need to decide which parameters to estimate. Let's go with:\n",
    "- Hydraulic conductivity in the aquifer (pilot points)\n",
    "- Hydraulic conductivity in the clay intermediate unit (pilot points)\n",
    "- K anisotropy\n",
    "- riverbed conductance\n",
    "- a uniform recharge value"
   ]
  },
  {
   "cell_type": "markdown",
   "id": "2e99440f",
   "metadata": {},
   "source": []
  }
 ],
 "metadata": {
  "kernelspec": {
   "display_name": "Python 3 (ipykernel)",
   "language": "python",
   "name": "python3"
  }
 },
 "nbformat": 4,
 "nbformat_minor": 5
}
