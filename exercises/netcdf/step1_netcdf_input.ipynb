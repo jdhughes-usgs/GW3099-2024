{
 "cells": [
  {
   "cell_type": "markdown",
   "id": "d3af9aed-fe7b-44d5-b088-1971a637ecd7",
   "metadata": {},
   "source": [
    "# U.S. Geological Survey Class GW3099\n",
    "Advanced Modeling of Groundwater Flow (GW3099)\\\n",
    "Boise, Idaho\\\n",
    "September 16 - 20, 2024\n",
    "\n",
    "![title](../../images/ClassLocation.jpg)\n",
    "\n",
    "## NetCDF input\n",
    "  - Running `MODFLOW 6` in validate mode offers a convenient way to export existing gridded package input arrays to `NetCDF`\n",
    "  - These exports can then be used as simulation inputs"
   ]
  },
  {
   "cell_type": "code",
   "execution_count": null,
   "id": "58228621-4630-479b-8f40-97622eb034b6",
   "metadata": {},
   "outputs": [],
   "source": [
    "import pathlib as pl\n",
    "\n",
    "import flopy\n",
    "import matplotlib.pyplot as plt\n",
    "import xarray as xa\n",
    "import xugrid as xu"
   ]
  },
  {
   "cell_type": "markdown",
   "id": "b25cd71a-1f9f-43e5-b543-cedd4b05ad93",
   "metadata": {},
   "source": [
    "### Load the base watershed model\n",
    "  - Use the base watershed model to demonstrate `MODFLOW 6 NetCDF` export and input functionality"
   ]
  },
  {
   "cell_type": "code",
   "execution_count": null,
   "id": "15502acc-a7b8-4c4d-bc5b-826d117dbee1",
   "metadata": {},
   "outputs": [],
   "source": [
    "name = \"watershed\"\n",
    "sim = flopy.mf6.MFSimulation.load(\n",
    "    sim_name=name, sim_ws=pl.Path(\"../../data/watershed/\")\n",
    ")"
   ]
  },
  {
   "cell_type": "markdown",
   "id": "03c612d1-76e8-46d0-b690-298a168a8f94",
   "metadata": {},
   "source": [
    "### Modify the model to export ascii input arrays to NetCDF output\n",
    "  - Define `export_netcdf` in the groundwater flow model `name_file`, specifying `structured` as the output type\n",
    "  - Activate `DIS` package array export with the `EXPORT_ARRAY_NETCDF` keyword in the package `OPTION` block"
   ]
  },
  {
   "cell_type": "code",
   "execution_count": null,
   "id": "554f587f-acfd-466c-bd2f-cc65cf6908ca",
   "metadata": {},
   "outputs": [],
   "source": [
    "gwf = sim.get_model()"
   ]
  },
  {
   "cell_type": "code",
   "execution_count": null,
   "id": "d5c5a67e-466b-4281-8593-f894f72025b3",
   "metadata": {},
   "outputs": [],
   "source": [
    "gwf.export_netcdf = \"structured\"\n",
    "gwf.dis.export_array_netcdf = True"
   ]
  },
  {
   "cell_type": "markdown",
   "id": "74baed48-5c2c-46a4-a8e0-d7724391dfa8",
   "metadata": {},
   "source": [
    "### Run the model in validate mode\n",
    "  - Change simulation workspace to structured subdirectory\n",
    "  - Write model files\n",
    "  - Run the model with `--mode` option set to `validate`"
   ]
  },
  {
   "cell_type": "code",
   "execution_count": null,
   "id": "e3554eed-a92f-477d-b71a-7d977c40faaa",
   "metadata": {},
   "outputs": [],
   "source": [
    "ws = pl.Path(\"temp/step1/structured\")\n",
    "sim.set_sim_path(ws)"
   ]
  },
  {
   "cell_type": "code",
   "execution_count": null,
   "id": "bafa50f3-359c-4361-8b0b-49ad9e5251ce",
   "metadata": {},
   "outputs": [],
   "source": [
    "sim.write_simulation()"
   ]
  },
  {
   "cell_type": "code",
   "execution_count": null,
   "id": "2543b005-308e-4781-8f64-87f9fd119eb0",
   "metadata": {},
   "outputs": [],
   "source": [
    "cargs = [\"--mode\", \"validate\"]\n",
    "sim.run_simulation(cargs=cargs)"
   ]
  },
  {
   "cell_type": "markdown",
   "id": "bf6d8654-0056-4151-8cc9-2485839d9a0b",
   "metadata": {},
   "source": [
    "### Visualize export data\n",
    "  - Load the structured NetCDF file with `xarray`\n",
    "  - Visualize `botm` layers 1 and 5"
   ]
  },
  {
   "cell_type": "code",
   "execution_count": null,
   "id": "4f9adde2-b492-46f4-8a42-9703a929be7c",
   "metadata": {},
   "outputs": [],
   "source": [
    "nc_ds = xa.open_dataset(ws / \"model.nc\")"
   ]
  },
  {
   "cell_type": "code",
   "execution_count": null,
   "id": "6205381b-5643-4a20-b59b-625d30e2aa00",
   "metadata": {},
   "outputs": [],
   "source": [
    "nc_ds"
   ]
  },
  {
   "cell_type": "code",
   "execution_count": null,
   "id": "1a11c06d-8a22-4176-8b92-52bb2c925ad5",
   "metadata": {},
   "outputs": [],
   "source": [
    "nc_ds[\"dis_botm\"].isel(z=0).plot()\n",
    "plt.gca().set_aspect(1.0)\n",
    "plt.show(block=False)"
   ]
  },
  {
   "cell_type": "code",
   "execution_count": null,
   "id": "2cdc8e58-352c-4da8-b9be-77f5fee8ef0b",
   "metadata": {},
   "outputs": [],
   "source": [
    "nc_ds[\"dis_botm\"].isel(z=4).plot()\n",
    "plt.gca().set_aspect(1.0)\n",
    "plt.show(block=False)"
   ]
  },
  {
   "cell_type": "markdown",
   "id": "22e6f03f-9645-483d-a1b5-137b261800e4",
   "metadata": {},
   "source": [
    "### Update model to run with NetCDF array inputs\n",
    "  - Set `start_date_time` in the TDIS file\n",
    "  - Deactivate `NetCDF` exports for model\n",
    "  - Activate 'NetCDF` import for model"
   ]
  },
  {
   "cell_type": "code",
   "execution_count": null,
   "id": "054d4dc8-2819-46ad-b62a-61f4498c6555",
   "metadata": {},
   "outputs": [],
   "source": [
    "# set simulation start_date_time\n",
    "sim.tdis.start_date_time = \"1980-01-01\"\n",
    "gwf.export_netcdf = None\n",
    "gwf.nc_filerecord = \"model.nc\""
   ]
  },
  {
   "cell_type": "markdown",
   "id": "007d4296-607a-4ed9-b2b6-92bc7f192f92",
   "metadata": {},
   "source": [
    "### Write the simulation\n",
    "  - Overwrite `DIS` package to specify gridded arrays should be read from `NetCDF`"
   ]
  },
  {
   "cell_type": "code",
   "execution_count": null,
   "id": "62a37fe4-b45e-44fd-bf4b-39c69d102cc0",
   "metadata": {},
   "outputs": [],
   "source": [
    "sim.write_simulation()"
   ]
  },
  {
   "cell_type": "code",
   "execution_count": null,
   "id": "b3ab7a19-4da9-4f93-9755-014783cbb389",
   "metadata": {},
   "outputs": [],
   "source": [
    "with open(ws / \"model.dis\", \"w\") as f:\n",
    "    f.write(\"BEGIN options\\n\")\n",
    "    f.write(\"  XORIGIN       0.00000000\\n\")\n",
    "    f.write(\"  YORIGIN       0.00000000\\n\")\n",
    "    f.write(\"END options\\n\\n\")\n",
    "    f.write(\"BEGIN dimensions\\n\")\n",
    "    f.write(\"  NLAY  5\\n\")\n",
    "    f.write(\"  NROW  41\\n\")\n",
    "    f.write(\"  NCOL  73\\n\")\n",
    "    f.write(\"END dimensions\\n\\n\")\n",
    "    f.write(\"BEGIN griddata\\n\")\n",
    "    f.write(\"  delr NETCDF\\n\")\n",
    "    f.write(\"  delc NETCDF\\n\")\n",
    "    f.write(\"  top NETCDF\\n\")\n",
    "    f.write(\"  botm NETCDF\\n\")\n",
    "    f.write(\"  idomain NETCDF\\n\")\n",
    "    f.write(\"END griddata\\n\\n\")\n",
    "\n",
    "with open(ws / \"model.dis\", \"r\") as f:\n",
    "    print(f.read())"
   ]
  },
  {
   "cell_type": "markdown",
   "id": "58e2a425-32a2-44a0-8bb2-1dff2471e165",
   "metadata": {},
   "source": [
    "### Run the simulation"
   ]
  },
  {
   "cell_type": "code",
   "execution_count": null,
   "id": "0193ee4b-a265-4619-b540-e2d778631ace",
   "metadata": {},
   "outputs": [],
   "source": [
    "sim.run_simulation()"
   ]
  },
  {
   "cell_type": "markdown",
   "id": "5eb55817-479b-472f-98f8-7471856650e6",
   "metadata": {},
   "source": [
    "### Update model to export input arrays to `ugrid` `NetCDF`\n",
    "  - Set the `export_netcdf` variable in the model name file to `ugrid` to export input arrays as mesh NetCDF output\n",
    "  - Deactive NetCDF as input\n",
    "  - Turn off DIS array export and turn on IC array export"
   ]
  },
  {
   "cell_type": "code",
   "execution_count": null,
   "id": "b6b36739-1dc6-4cd9-99fe-0bd60781a843",
   "metadata": {},
   "outputs": [],
   "source": [
    "gwf.name_file.export_netcdf = \"ugrid\"\n",
    "gwf.nc_filerecord = None\n",
    "gwf.dis.export_array_netcdf = False\n",
    "gwf.ic.export_array_netcdf = True"
   ]
  },
  {
   "cell_type": "markdown",
   "id": "059e8d3f-7fac-4ae4-adb0-f30780c9d977",
   "metadata": {},
   "source": [
    "### Run the model in validate mode\n",
    "  - Change simulation workspace to structured subdirectory\n",
    "  - Write model files\n",
    "  - Run the model with `--mode` option set to `validate`"
   ]
  },
  {
   "cell_type": "code",
   "execution_count": null,
   "id": "38399e16-13a8-46b0-bb66-c0be11768aa9",
   "metadata": {},
   "outputs": [],
   "source": [
    "ws = pl.Path(\"temp/step1/mesh\")\n",
    "sim.set_sim_path(ws)"
   ]
  },
  {
   "cell_type": "code",
   "execution_count": null,
   "id": "98752f0f-542e-4369-b722-a2f57c39c617",
   "metadata": {},
   "outputs": [],
   "source": [
    "sim.write_simulation()"
   ]
  },
  {
   "cell_type": "code",
   "execution_count": null,
   "id": "9d203db3-3014-4fb9-a7ac-7ac3c48aca70",
   "metadata": {},
   "outputs": [],
   "source": [
    "cargs = [\"--mode\", \"validate\"]\n",
    "sim.run_simulation(cargs=cargs)"
   ]
  },
  {
   "cell_type": "markdown",
   "id": "77def4e9-3316-4021-b2a9-65d4cd9543a7",
   "metadata": {},
   "source": [
    "### Visualize export data\n",
    "  - Load the structured NetCDF file with `xugrid`\n",
    "  - Visualize `strt` layer 1"
   ]
  },
  {
   "cell_type": "code",
   "execution_count": null,
   "id": "90111303-aa15-4efb-86ed-64f2b3b3b4f9",
   "metadata": {},
   "outputs": [],
   "source": [
    "nc_ds = xu.open_dataset(ws / \"model.nc\")"
   ]
  },
  {
   "cell_type": "code",
   "execution_count": null,
   "id": "deff8a2c-2252-4762-a2f7-2542bb9dce5e",
   "metadata": {},
   "outputs": [],
   "source": [
    "nc_ds"
   ]
  },
  {
   "cell_type": "code",
   "execution_count": null,
   "id": "3b9a827b-dd32-4b3a-9d7b-fbee42b6489f",
   "metadata": {},
   "outputs": [],
   "source": [
    "nc_ds[\"ic_strt_l1\"].isel().ugrid.plot()\n",
    "plt.gca().set_aspect(1.0)\n",
    "plt.show(block=False)"
   ]
  },
  {
   "cell_type": "markdown",
   "id": "5a3f4591-cd5e-4d87-b476-22a3e6798141",
   "metadata": {},
   "source": [
    "### Update model to run with NetCDF array inputs\n",
    "  - Deactivate `NetCDF` exports for model\n",
    "  - Activate 'NetCDF` import for model"
   ]
  },
  {
   "cell_type": "code",
   "execution_count": null,
   "id": "e4a640e4-5076-4e14-bb5c-0e8b3c651773",
   "metadata": {},
   "outputs": [],
   "source": [
    "# update model for netcdf input\n",
    "gwf.export_netcdf = None\n",
    "gwf.nc_filerecord = \"model.nc\""
   ]
  },
  {
   "cell_type": "markdown",
   "id": "6407f088-0e75-4ac4-a7c9-db3f889c80d7",
   "metadata": {},
   "source": [
    "### Write the simulation\n",
    "  - Overwrite `IC` package to specify gridded arrays should be read from `NetCDF`"
   ]
  },
  {
   "cell_type": "code",
   "execution_count": null,
   "id": "eb87db95-f52b-4aa4-a422-cb53449e5445",
   "metadata": {},
   "outputs": [],
   "source": [
    "sim.write_simulation()"
   ]
  },
  {
   "cell_type": "code",
   "execution_count": null,
   "id": "c7735576-6018-4c0b-b49b-c595175e8c85",
   "metadata": {},
   "outputs": [],
   "source": [
    "with open(ws / \"model.ic\", \"w\") as f:\n",
    "    f.write(\"BEGIN options\\n\")\n",
    "    f.write(\"END options\\n\\n\")\n",
    "    f.write(\"BEGIN griddata\\n\")\n",
    "    f.write(\"  strt NETCDF\\n\")\n",
    "    f.write(\"END griddata\\n\\n\")\n",
    "\n",
    "with open(ws / \"model.ic\", \"r\") as f:\n",
    "    print(f.read())"
   ]
  },
  {
   "cell_type": "markdown",
   "id": "35c1b107-b0fb-43b5-a736-5bdbf7e5afc1",
   "metadata": {},
   "source": [
    "### Run the simulation"
   ]
  },
  {
   "cell_type": "code",
   "execution_count": null,
   "id": "48760a6e-2736-474d-85b2-88fd06b9db2b",
   "metadata": {},
   "outputs": [],
   "source": [
    "sim.run_simulation()"
   ]
  },
  {
   "cell_type": "code",
   "execution_count": null,
   "id": "7d48fceb-20ce-42aa-b674-a16bab698e7a",
   "metadata": {},
   "outputs": [],
   "source": []
  }
 ],
 "metadata": {
  "kernelspec": {
   "display_name": "Python 3 (ipykernel)",
   "language": "python",
   "name": "python3"
  }
 },
 "nbformat": 4,
 "nbformat_minor": 5
}
