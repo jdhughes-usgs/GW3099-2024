{
 "cells": [
  {
   "cell_type": "markdown",
   "id": "0e23ae3b-89ec-4924-b800-9428e81a002c",
   "metadata": {},
   "source": [
    "# U.S. Geological Survey Class GW3099\n",
    "Advanced Modeling of Groundwater Flow (GW3099)\\\n",
    "Boise, Idaho\\\n",
    "September 16 - 20, 2024\n",
    "\n",
    "![title](../../images/ClassLocation.jpg)\n",
    "\n",
    "## NetCDF configuration package and visualization\n",
    "  - The `NCF6` package is a subpackage of the model discretization (`DIS` or `DISV`) package\n",
    "  - Additional configuration options are available in the `NCF6` package related to NetCDF compression and visualization\n",
    "  - These include a `WKT` (well-known text) string that can aid visualization in applications like QGIS or Panoply"
   ]
  },
  {
   "cell_type": "code",
   "execution_count": null,
   "id": "58228621-4630-479b-8f40-97622eb034b6",
   "metadata": {},
   "outputs": [],
   "source": [
    "import pathlib as pl\n",
    "\n",
    "import flopy\n",
    "import numpy as np\n",
    "import xarray as xa\n",
    "import xugrid as xu"
   ]
  },
  {
   "cell_type": "markdown",
   "id": "60f1c17a-8769-4408-9eae-0542bd252629",
   "metadata": {},
   "source": [
    "### Load the modflow6-examples base advtidal model"
   ]
  },
  {
   "cell_type": "code",
   "execution_count": null,
   "id": "15502acc-a7b8-4c4d-bc5b-826d117dbee1",
   "metadata": {},
   "outputs": [],
   "source": [
    "name = \"advtidal\"\n",
    "sim = flopy.mf6.MFSimulation.load(\n",
    "    sim_name=name, sim_ws=pl.Path(\"data/ex-gwf-advtidal/\")\n",
    ")"
   ]
  },
  {
   "cell_type": "markdown",
   "id": "88b280a6-7090-4bf6-a4a3-efabec94d2bc",
   "metadata": {},
   "source": [
    "### Modify the model to save NetCDF output\n",
    "  - Set `start_date_time` in the TDIS file"
   ]
  },
  {
   "cell_type": "code",
   "execution_count": null,
   "id": "16bfacd4-3ea1-4cec-a44c-27cef22d9c11",
   "metadata": {},
   "outputs": [],
   "source": [
    "sim.tdis.start_date_time = \"1980-01-01\""
   ]
  },
  {
   "cell_type": "markdown",
   "id": "b92c8f0f-bd40-43c1-aa73-b20f935dde05",
   "metadata": {},
   "source": [
    "  - Define `export_netcdf` in the groundwater flow model `name_file`, specifying `structured` as the output type"
   ]
  },
  {
   "cell_type": "code",
   "execution_count": null,
   "id": "554f587f-acfd-466c-bd2f-cc65cf6908ca",
   "metadata": {},
   "outputs": [],
   "source": [
    "gwf = sim.get_model()\n",
    "gwf.export_netcdf = \"structured\""
   ]
  },
  {
   "cell_type": "markdown",
   "id": "b85219f3-fee3-4034-89b6-c8e815668c09",
   "metadata": {},
   "source": [
    "### Define `WKT` string and create `NCF` package\n",
    "  - This is a synthetic model- no actual georeference data exists.\n",
    "  - For demonstration, assign wkt string for EPSG 5070 (NAD83 / Conus Albers)"
   ]
  },
  {
   "cell_type": "code",
   "execution_count": null,
   "id": "f016b279-5673-412b-8e18-f842bcb526ab",
   "metadata": {},
   "outputs": [],
   "source": [
    "wkt = \"\"\"PROJCRS[\"NAD83 / Conus Albers\",BASEGEOGCRS[\"NAD83\",DATUM[\"North American Datum 1983\",ELLIPSOID[\"GRS 1980\",6378137,298.257222101,LENGTHUNIT[\"metre\",1]]],PRIMEM[\"Greenwich\",0,ANGLEUNIT[\"degree\",0.0174532925199433]],ID[\"EPSG\",4269]],CONVERSION[\"Conus Albers\",METHOD[\"Albers Equal Area\",ID[\"EPSG\",9822]],PARAMETER[\"Latitude of false origin\",23,ANGLEUNIT[\"degree\",0.0174532925199433],ID[\"EPSG\",8821]],PARAMETER[\"Longitude of false origin\",-96,ANGLEUNIT[\"degree\",0.0174532925199433],ID[\"EPSG\",8822]],PARAMETER[\"Latitude of 1st standard parallel\",29.5,ANGLEUNIT[\"degree\",0.0174532925199433],ID[\"EPSG\",8823]],PARAMETER[\"Latitude of 2nd standard parallel\",45.5,ANGLEUNIT[\"degree\",0.0174532925199433],ID[\"EPSG\",8824]],PARAMETER[\"Easting at false origin\",0,LENGTHUNIT[\"metre\",1],ID[\"EPSG\",8826]],PARAMETER[\"Northing at false origin\",0,LENGTHUNIT[\"metre\",1],ID[\"EPSG\",8827]]],CS[Cartesian,2],AXIS[\"easting (X)\",east,ORDER[1],LENGTHUNIT[\"metre\",1]],AXIS[\"northing (Y)\",north,ORDER[2],LENGTHUNIT[\"metre\",1]],USAGE[SCOPE[\"Data analysis and small scale data presentation for contiguous lower 48 states.\"],AREA[\"United States (USA) - CONUS onshore - Alabama; Arizona; Arkansas; California; Colorado; Connecticut; Delaware; Florida; Georgia; Idaho; Illinois; Indiana; Iowa; Kansas; Kentucky; Louisiana; Maine; Maryland; Massachusetts; Michigan; Minnesota; Mississippi; Missouri; Montana; Nebraska; Nevada; New Hampshire; New Jersey; New Mexico; New York; North Carolina; North Dakota; Ohio; Oklahoma; Oregon; Pennsylvania; Rhode Island; South Carolina; South Dakota; Tennessee; Texas; Utah; Vermont; Virginia; Washington; West Virginia; Wisconsin; Wyoming.\"],BBOX[24.41,-124.79,49.38,-66.91]],ID[\"EPSG\",5070]]\"\"\""
   ]
  },
  {
   "cell_type": "markdown",
   "id": "faf63a24-f04a-4aa0-a859-380897eada82",
   "metadata": {},
   "source": [
    "  - Assign `XORIGIN` and `YORIGIN` to locate grid in contiguous US"
   ]
  },
  {
   "cell_type": "code",
   "execution_count": null,
   "id": "2fbbd802-e4b7-46e1-a577-573ea6626e17",
   "metadata": {},
   "outputs": [],
   "source": [
    "gwf.dis.xorigin = -1660000.0\n",
    "gwf.dis.yorigin = 2440000.0"
   ]
  },
  {
   "cell_type": "raw",
   "id": "2f3f2339-6d8d-43cd-a756-b10625e87615",
   "metadata": {},
   "source": [
    "  - Create the NCF6 package"
   ]
  },
  {
   "cell_type": "code",
   "execution_count": null,
   "id": "9b4beba7-aaaf-4370-92ea-7f7689829cbe",
   "metadata": {},
   "outputs": [],
   "source": [
    "ncf = flopy.mf6.ModflowUtlncf(\n",
    "    gwf.dis,\n",
    "    ogc_wkt=wkt,\n",
    "    filename=\"ex-gwf-advtidal.dis.ncf\",\n",
    ")"
   ]
  },
  {
   "cell_type": "markdown",
   "id": "ee7f67fd-bdfc-4c87-9eb2-8db077081090",
   "metadata": {},
   "source": [
    "### Run the model\n",
    "  - Change simulation workspace to structured subdirectory"
   ]
  },
  {
   "cell_type": "code",
   "execution_count": null,
   "id": "38399e16-13a8-46b0-bb66-c0be11768aa9",
   "metadata": {},
   "outputs": [],
   "source": [
    "ws = pl.Path(\"temp/step2/advtidal/structured\")\n",
    "sim.set_sim_path(ws)"
   ]
  },
  {
   "cell_type": "markdown",
   "id": "b7f47648-3ddb-4b81-a943-7a980de372de",
   "metadata": {},
   "source": [
    "  - Write model files and run the model"
   ]
  },
  {
   "cell_type": "code",
   "execution_count": null,
   "id": "98752f0f-542e-4369-b722-a2f57c39c617",
   "metadata": {},
   "outputs": [],
   "source": [
    "sim.write_simulation()\n",
    "sim.run_simulation()"
   ]
  },
  {
   "cell_type": "markdown",
   "id": "e1d602d6-08f3-45b4-8f65-3daf5ee6c55f",
   "metadata": {},
   "source": [
    "### Rename NetCDF export\n",
    "  - For clarity in post-processing step, rename export"
   ]
  },
  {
   "cell_type": "code",
   "execution_count": null,
   "id": "ff65a356-e273-47de-9bcb-56c2f84e12b0",
   "metadata": {},
   "outputs": [],
   "source": [
    "nc_fpth = pl.Path(\"temp/step2/advtidal/structured/ex-gwf-advtidal.nc\")\n",
    "nc_fpth.rename(\"temp/step2/advtidal/structured/ex-gwf-advtidal.structured.nc\")"
   ]
  },
  {
   "cell_type": "markdown",
   "id": "47b79c22-707b-4a54-8565-a4e8e9ad98d7",
   "metadata": {},
   "source": [
    "### Modify the model to export mesh NetCDF file"
   ]
  },
  {
   "cell_type": "code",
   "execution_count": null,
   "id": "3f716faf",
   "metadata": {},
   "outputs": [],
   "source": [
    "gwf = sim.get_model()\n",
    "gwf.export_netcdf = \"ugrid\""
   ]
  },
  {
   "cell_type": "markdown",
   "id": "16523ad2-a3f0-42b7-9260-4610ef7416b2",
   "metadata": {},
   "source": [
    "### Run the model\n",
    "  - Change simulation workspace to mesh subdirectory"
   ]
  },
  {
   "cell_type": "code",
   "execution_count": null,
   "id": "f294373a",
   "metadata": {},
   "outputs": [],
   "source": [
    "ws = pl.Path(\"temp/step2/advtidal/mesh\")\n",
    "sim.set_sim_path(ws)"
   ]
  },
  {
   "cell_type": "markdown",
   "id": "e3bfe378-2959-49ce-b55b-907cc84cff59",
   "metadata": {},
   "source": [
    "  - Write model files and run the model"
   ]
  },
  {
   "cell_type": "code",
   "execution_count": null,
   "id": "72bda599",
   "metadata": {},
   "outputs": [],
   "source": [
    "sim.write_simulation()\n",
    "sim.run_simulation()"
   ]
  },
  {
   "cell_type": "markdown",
   "id": "4118ab54-9e81-4d6e-9741-86380fad6fc7",
   "metadata": {},
   "source": [
    "### Rename NetCDF export\n",
    "  - For clarity in post-processing step, rename export"
   ]
  },
  {
   "cell_type": "code",
   "execution_count": null,
   "id": "939e1320-6dd9-489f-b04c-1582b89f18b5",
   "metadata": {},
   "outputs": [],
   "source": [
    "nc_fpth = pl.Path(\"temp/step2/advtidal/mesh/ex-gwf-advtidal.nc\")\n",
    "nc_fpth.rename(\"temp/step2/advtidal/mesh/ex-gwf-advtidal.mesh.nc\")"
   ]
  },
  {
   "cell_type": "markdown",
   "id": "2236a2a9-e49e-4e49-849a-33a517357e88",
   "metadata": {},
   "source": [
    "### Load the modflow6-examples base GWF synthetic valley model"
   ]
  },
  {
   "cell_type": "code",
   "execution_count": null,
   "id": "643c9d9b",
   "metadata": {},
   "outputs": [],
   "source": [
    "name = \"synthetic-valley\"\n",
    "gwf_sim = flopy.mf6.MFSimulation.load(\n",
    "    sim_name=name, sim_ws=pl.Path(\"data/ex-gwt-synthetic-valley/mf6gwf\")\n",
    ")"
   ]
  },
  {
   "cell_type": "markdown",
   "id": "5fa3cb3d-7119-4d3e-860c-dd2328fbd5f5",
   "metadata": {},
   "source": [
    "### Load the modflow6-examples base GWT synthetic valley model"
   ]
  },
  {
   "cell_type": "code",
   "execution_count": null,
   "id": "a723a3cd-ef40-4b6c-8c13-9929b7d8b27b",
   "metadata": {},
   "outputs": [],
   "source": [
    "gwt_sim = flopy.mf6.MFSimulation.load(\n",
    "    sim_name=name, sim_ws=pl.Path(\"data/ex-gwt-synthetic-valley/mf6gwt\")\n",
    ")"
   ]
  },
  {
   "cell_type": "markdown",
   "id": "8dddada8-d614-4a48-a59a-a4da5fec082d",
   "metadata": {},
   "source": [
    "### Modify the GWT model to save UGRID NetCDF output\n",
    "  - Set `start_date_time` in the TDIS file "
   ]
  },
  {
   "cell_type": "code",
   "execution_count": null,
   "id": "cf4dde60",
   "metadata": {},
   "outputs": [],
   "source": [
    "gwt_sim.tdis.start_date_time = \"1980-01-01\""
   ]
  },
  {
   "cell_type": "markdown",
   "id": "a9306c98-81f1-46af-85bd-96e2dd225f55",
   "metadata": {},
   "source": [
    "  - Define `export_netcdf` in the groundwater transport model `name_file`, specifying `ugrid` as the output type"
   ]
  },
  {
   "cell_type": "code",
   "execution_count": null,
   "id": "21163241",
   "metadata": {},
   "outputs": [],
   "source": [
    "gwt = gwt_sim.get_model(\"trans\")\n",
    "gwt.export_netcdf = \"ugrid\""
   ]
  },
  {
   "cell_type": "markdown",
   "id": "f483f18e-403e-4e6a-9a43-b3f8e70ecd4d",
   "metadata": {},
   "source": [
    "### Define `WKT` string and create `NCF` package\n",
    "  - This is a synthetic model- no actual georeference data exists.\n",
    "  - For demonstration, assign wkt string for EPSG 5070 (NAD83 / Conus Albers)"
   ]
  },
  {
   "cell_type": "code",
   "execution_count": null,
   "id": "36e3bc69",
   "metadata": {},
   "outputs": [],
   "source": [
    "wkt = \"\"\"PROJCRS[\"NAD83 / Conus Albers\",BASEGEOGCRS[\"NAD83\",DATUM[\"North American Datum 1983\",ELLIPSOID[\"GRS 1980\",6378137,298.257222101,LENGTHUNIT[\"metre\",1]]],PRIMEM[\"Greenwich\",0,ANGLEUNIT[\"degree\",0.0174532925199433]],ID[\"EPSG\",4269]],CONVERSION[\"Conus Albers\",METHOD[\"Albers Equal Area\",ID[\"EPSG\",9822]],PARAMETER[\"Latitude of false origin\",23,ANGLEUNIT[\"degree\",0.0174532925199433],ID[\"EPSG\",8821]],PARAMETER[\"Longitude of false origin\",-96,ANGLEUNIT[\"degree\",0.0174532925199433],ID[\"EPSG\",8822]],PARAMETER[\"Latitude of 1st standard parallel\",29.5,ANGLEUNIT[\"degree\",0.0174532925199433],ID[\"EPSG\",8823]],PARAMETER[\"Latitude of 2nd standard parallel\",45.5,ANGLEUNIT[\"degree\",0.0174532925199433],ID[\"EPSG\",8824]],PARAMETER[\"Easting at false origin\",0,LENGTHUNIT[\"metre\",1],ID[\"EPSG\",8826]],PARAMETER[\"Northing at false origin\",0,LENGTHUNIT[\"metre\",1],ID[\"EPSG\",8827]]],CS[Cartesian,2],AXIS[\"easting (X)\",east,ORDER[1],LENGTHUNIT[\"metre\",1]],AXIS[\"northing (Y)\",north,ORDER[2],LENGTHUNIT[\"metre\",1]],USAGE[SCOPE[\"Data analysis and small scale data presentation for contiguous lower 48 states.\"],AREA[\"United States (USA) - CONUS onshore - Alabama; Arizona; Arkansas; California; Colorado; Connecticut; Delaware; Florida; Georgia; Idaho; Illinois; Indiana; Iowa; Kansas; Kentucky; Louisiana; Maine; Maryland; Massachusetts; Michigan; Minnesota; Mississippi; Missouri; Montana; Nebraska; Nevada; New Hampshire; New Jersey; New Mexico; New York; North Carolina; North Dakota; Ohio; Oklahoma; Oregon; Pennsylvania; Rhode Island; South Carolina; South Dakota; Tennessee; Texas; Utah; Vermont; Virginia; Washington; West Virginia; Wisconsin; Wyoming.\"],BBOX[24.41,-124.79,49.38,-66.91]],ID[\"EPSG\",5070]]\"\"\""
   ]
  },
  {
   "cell_type": "markdown",
   "id": "892c701e-c8b6-43c1-b462-00a22692cb94",
   "metadata": {},
   "source": [
    "  - Assign `XORIGIN` and `YORIGIN` to locate grid in contiguous US"
   ]
  },
  {
   "cell_type": "code",
   "execution_count": null,
   "id": "ba946f2d-2609-47d1-9585-aa1e63241305",
   "metadata": {},
   "outputs": [],
   "source": [
    "gwt.disv.xorigin = -1620000.0\n",
    "gwt.disv.yorigin = 2520000.0"
   ]
  },
  {
   "cell_type": "markdown",
   "id": "359e1f86-9bb9-4792-83e1-8e4510b9f37f",
   "metadata": {},
   "source": [
    "  - Create the NCF6 package"
   ]
  },
  {
   "cell_type": "code",
   "execution_count": null,
   "id": "71d910eb-b26b-457f-bc8c-3b91c1528901",
   "metadata": {},
   "outputs": [],
   "source": [
    "ncf = flopy.mf6.ModflowUtlncf(\n",
    "    gwt.disv,\n",
    "    ogc_wkt=wkt,\n",
    "    filename=\"trans.disv.ncf\",\n",
    ")"
   ]
  },
  {
   "cell_type": "markdown",
   "id": "93dcd815",
   "metadata": {},
   "source": [
    "### Run the model\n",
    "  - Change simulation workspace to structured subdirectory\n",
    "  - Write model files and run the model"
   ]
  },
  {
   "cell_type": "markdown",
   "id": "fd38bfa3-3106-4e67-a202-951a3e93f501",
   "metadata": {},
   "source": [
    "### Modfiy the model to export mesh NetCDF file\n",
    "  - Specify `UGRID` as output type"
   ]
  },
  {
   "cell_type": "code",
   "execution_count": null,
   "id": "f87e0b31",
   "metadata": {},
   "outputs": [],
   "source": [
    "gwt = gwt_sim.get_model(\"trans\")\n",
    "gwt.export_netcdf = \"ugrid\""
   ]
  },
  {
   "cell_type": "markdown",
   "id": "bc9ee92b-2fcd-4f64-8459-100e942e5f61",
   "metadata": {},
   "source": [
    "  - Export `DISV` griddata input arrays (for visualization)"
   ]
  },
  {
   "cell_type": "code",
   "execution_count": null,
   "id": "9edf3a0e-3e2b-4031-8fa6-b6f2ed165bd9",
   "metadata": {},
   "outputs": [],
   "source": [
    "gwt.disv.export_array_netcdf = True"
   ]
  },
  {
   "cell_type": "markdown",
   "id": "342f827f-3027-45e2-b6c7-85b0d85363c6",
   "metadata": {},
   "source": [
    "### Run the GWF model\n",
    "  - Change simulation workspace to mesh subdirectory"
   ]
  },
  {
   "cell_type": "code",
   "execution_count": null,
   "id": "549367e7",
   "metadata": {},
   "outputs": [],
   "source": [
    "gwf_ws = pl.Path(\"temp/step2/synthetic-valley/mf6gwf\")\n",
    "gwf_sim.set_sim_path(gwf_ws)"
   ]
  },
  {
   "cell_type": "markdown",
   "id": "fde6083f-fb9a-4ee1-9405-18f0b0b2fe84",
   "metadata": {},
   "source": [
    "  - Write model files and run the GWF model"
   ]
  },
  {
   "cell_type": "code",
   "execution_count": null,
   "id": "63d36387",
   "metadata": {},
   "outputs": [],
   "source": [
    "gwf_sim.write_simulation()\n",
    "gwf_sim.run_simulation()"
   ]
  },
  {
   "cell_type": "markdown",
   "id": "aa081a71-fee3-4600-bbf6-b91e330103d7",
   "metadata": {},
   "source": [
    "### Run the GWT model\n",
    "  - Change simulation workspace to mesh subdirectory"
   ]
  },
  {
   "cell_type": "code",
   "execution_count": null,
   "id": "45e40bed-79f5-4c3c-b3b6-7641a472acc5",
   "metadata": {},
   "outputs": [],
   "source": [
    "gwt_ws = pl.Path(\"temp/step2/synthetic-valley/mf6gwt\")\n",
    "gwt_sim.set_sim_path(gwt_ws)"
   ]
  },
  {
   "cell_type": "markdown",
   "id": "80290649-e1a7-4206-99e9-990d23cdf78e",
   "metadata": {},
   "source": [
    "  - Write model files and run the GWT model"
   ]
  },
  {
   "cell_type": "code",
   "execution_count": null,
   "id": "4734e1a7-12eb-40e6-bc6c-94d438d5cde0",
   "metadata": {},
   "outputs": [],
   "source": [
    "gwt_sim.write_simulation()\n",
    "gwt_sim.run_simulation()"
   ]
  },
  {
   "cell_type": "markdown",
   "id": "c55dbf15",
   "metadata": {},
   "source": [
    "### Rename NetCDF export\n",
    "  - For clarity in post-processing step, rename export"
   ]
  },
  {
   "cell_type": "code",
   "execution_count": null,
   "id": "d4ee6368",
   "metadata": {},
   "outputs": [],
   "source": [
    "nc_fpth = pl.Path(\"temp/step2/synthetic-valley/mf6gwt/trans.nc\")\n",
    "nc_fpth.rename(\"temp/step2/synthetic-valley/mf6gwt/trans.mesh.nc\")"
   ]
  },
  {
   "cell_type": "code",
   "execution_count": null,
   "id": "20157b24",
   "metadata": {},
   "outputs": [],
   "source": []
  }
 ],
 "metadata": {
  "kernelspec": {
   "display_name": "Python 3 (ipykernel)",
   "language": "python",
   "name": "python3"
  },
  "language_info": {
   "codemirror_mode": {
    "name": "ipython",
    "version": 3
   },
   "file_extension": ".py",
   "mimetype": "text/x-python",
   "name": "python",
   "nbconvert_exporter": "python",
   "pygments_lexer": "ipython3",
   "version": "3.12.5"
  }
 },
 "nbformat": 4,
 "nbformat_minor": 5
}
