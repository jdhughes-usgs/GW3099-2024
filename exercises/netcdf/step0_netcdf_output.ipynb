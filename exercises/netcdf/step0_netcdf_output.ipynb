{
 "cells": [
  {
   "cell_type": "markdown",
   "id": "2305c4c9-c668-414e-a0e2-862739270eeb",
   "metadata": {},
   "source": [
    "# U.S. Geological Survey Class GW3099\n",
    "Advanced Modeling of Groundwater Flow (GW3099)\\\n",
    "Boise, Idaho\\\n",
    "September 16 - 20, 2024\n",
    "\n",
    "![title](../../images/ClassLocation.jpg)\n",
    "\n",
    "# NetCDF Exports"
   ]
  },
  {
   "cell_type": "code",
   "execution_count": null,
   "id": "58228621-4630-479b-8f40-97622eb034b6",
   "metadata": {},
   "outputs": [],
   "source": [
    "import pathlib as pl\n",
    "\n",
    "import flopy\n",
    "import matplotlib.pyplot as plt\n",
    "import xarray as xa\n",
    "import xugrid as xu"
   ]
  },
  {
   "cell_type": "markdown",
   "id": "fcd92615-19a4-4c01-80c3-4f6ee57aeb3a",
   "metadata": {},
   "source": [
    "### Load the base watershed model\n",
    "  - We will use the base watershed model to demonstrate `MODFLOW 6` `NetCDF` export functionality  "
   ]
  },
  {
   "cell_type": "code",
   "execution_count": null,
   "id": "15502acc-a7b8-4c4d-bc5b-826d117dbee1",
   "metadata": {},
   "outputs": [],
   "source": [
    "name = \"watershed\"\n",
    "sim = flopy.mf6.MFSimulation.load(\n",
    "    sim_name=name, sim_ws=pl.Path(\"../../data/watershed/\")\n",
    ")"
   ]
  },
  {
   "cell_type": "markdown",
   "id": "8ee100c7-fa5d-4e0b-ae53-e457b82b6681",
   "metadata": {},
   "source": [
    "### Update model to save structured `NetCDF` output\n",
    "  - Set `start_date_time` in the TDIS file\n",
    "  - Define `EXPORT_NETCDF` variable in model name file and set to `structured` output type"
   ]
  },
  {
   "cell_type": "code",
   "execution_count": null,
   "id": "16bfacd4-3ea1-4cec-a44c-27cef22d9c11",
   "metadata": {},
   "outputs": [],
   "source": [
    "sim.tdis.start_date_time = \"1980-01-01\""
   ]
  },
  {
   "cell_type": "code",
   "execution_count": null,
   "id": "554f587f-acfd-466c-bd2f-cc65cf6908ca",
   "metadata": {},
   "outputs": [],
   "source": [
    "gwf = sim.get_model()\n",
    "gwf.name_file.export_netcdf = \"structured\""
   ]
  },
  {
   "cell_type": "markdown",
   "id": "94436ca5-1408-4d5f-b7bf-d9cd6ce27882",
   "metadata": {},
   "source": [
    "### Run the model\n",
    "  - Change simulation workspace\n",
    "  - Write model files and run the model"
   ]
  },
  {
   "cell_type": "code",
   "execution_count": null,
   "id": "e3554eed-a92f-477d-b71a-7d977c40faaa",
   "metadata": {},
   "outputs": [],
   "source": [
    "ws = pl.Path(\"temp/step0/structured\")\n",
    "sim.set_sim_path(ws)"
   ]
  },
  {
   "cell_type": "code",
   "execution_count": null,
   "id": "bafa50f3-359c-4361-8b0b-49ad9e5251ce",
   "metadata": {},
   "outputs": [],
   "source": [
    "sim.write_simulation()"
   ]
  },
  {
   "cell_type": "code",
   "execution_count": null,
   "id": "2543b005-308e-4781-8f64-87f9fd119eb0",
   "metadata": {},
   "outputs": [],
   "source": [
    "sim.run_simulation()"
   ]
  },
  {
   "cell_type": "markdown",
   "id": "f8d9fedc-7077-44aa-bdd8-6683955b4be4",
   "metadata": {},
   "source": [
    "### Visualize export data\n",
    "  - Load the structured NetCDF file with `xarray`\n",
    "  - Visualize `head` layer 1, timestep 1"
   ]
  },
  {
   "cell_type": "code",
   "execution_count": null,
   "id": "1af0812a-e36b-497d-a8bd-a66f67f45ec8",
   "metadata": {},
   "outputs": [],
   "source": [
    "pl.Path(ws / \"model.nc\").is_file()"
   ]
  },
  {
   "cell_type": "code",
   "execution_count": null,
   "id": "4f9adde2-b492-46f4-8a42-9703a929be7c",
   "metadata": {},
   "outputs": [],
   "source": [
    "nc_ds = xa.open_dataset(ws / \"model.nc\")"
   ]
  },
  {
   "cell_type": "code",
   "execution_count": null,
   "id": "6205381b-5643-4a20-b59b-625d30e2aa00",
   "metadata": {},
   "outputs": [],
   "source": [
    "nc_ds"
   ]
  },
  {
   "cell_type": "code",
   "execution_count": null,
   "id": "4cfdb663-6a5a-450d-b5d9-5c71f527f73c",
   "metadata": {},
   "outputs": [],
   "source": [
    "nc_ds[\"head\"].isel(time=0, z=0).plot()\n",
    "plt.gca().set_aspect(1.0)\n",
    "plt.show(block=False)"
   ]
  },
  {
   "cell_type": "markdown",
   "id": "4d5fc7a5-d3e3-4484-b71b-03106cd1b7c5",
   "metadata": {},
   "source": [
    "### Modify the model to save mesh NetCDF output\n",
    "  - Update the `export_netcdf` variable in the model name file to `ugrid` to create mesh NetCDF output"
   ]
  },
  {
   "cell_type": "code",
   "execution_count": null,
   "id": "b6b36739-1dc6-4cd9-99fe-0bd60781a843",
   "metadata": {},
   "outputs": [],
   "source": [
    "gwf.name_file.export_netcdf = \"ugrid\""
   ]
  },
  {
   "cell_type": "markdown",
   "id": "345f7458-1ce6-480f-a635-eac9605dad8d",
   "metadata": {},
   "source": [
    "### Run the model\n",
    "  - Change simulation workspace\n",
    "  - Write model files and run the model"
   ]
  },
  {
   "cell_type": "code",
   "execution_count": null,
   "id": "38399e16-13a8-46b0-bb66-c0be11768aa9",
   "metadata": {},
   "outputs": [],
   "source": [
    "ws = pl.Path(\"temp/step0/mesh\")\n",
    "sim.set_sim_path(ws)"
   ]
  },
  {
   "cell_type": "code",
   "execution_count": null,
   "id": "98752f0f-542e-4369-b722-a2f57c39c617",
   "metadata": {},
   "outputs": [],
   "source": [
    "sim.write_simulation()"
   ]
  },
  {
   "cell_type": "code",
   "execution_count": null,
   "id": "9d203db3-3014-4fb9-a7ac-7ac3c48aca70",
   "metadata": {},
   "outputs": [],
   "source": [
    "sim.run_simulation()"
   ]
  },
  {
   "cell_type": "markdown",
   "id": "c0e0ca5f-6960-43a0-bf55-c45c4477dd51",
   "metadata": {},
   "source": [
    "### Visualize export data\n",
    "  - Load the mesh NetCDF file with `xugrid`\n",
    "  - Visualize `head` layer 1, timestep 1"
   ]
  },
  {
   "cell_type": "code",
   "execution_count": null,
   "id": "90111303-aa15-4efb-86ed-64f2b3b3b4f9",
   "metadata": {},
   "outputs": [],
   "source": [
    "nc_ds = xu.open_dataset(ws / \"model.nc\")"
   ]
  },
  {
   "cell_type": "code",
   "execution_count": null,
   "id": "deff8a2c-2252-4762-a2f7-2542bb9dce5e",
   "metadata": {},
   "outputs": [],
   "source": [
    "nc_ds"
   ]
  },
  {
   "cell_type": "code",
   "execution_count": null,
   "id": "0954f7e4-5bb8-4044-8652-d1cc378d725f",
   "metadata": {},
   "outputs": [],
   "source": [
    "nc_ds[\"head_l1\"].isel(time=0).ugrid.plot()\n",
    "plt.gca().set_aspect(1.0)\n",
    "plt.show(block=False)"
   ]
  },
  {
   "cell_type": "markdown",
   "id": "89a7ac29-ee50-46f2-bc45-271f5afd4ebb",
   "metadata": {},
   "source": [
    "### Create cross-sections using `xugrid`\n",
    "  - Create a cross-section along a column (y-direction)"
   ]
  },
  {
   "cell_type": "code",
   "execution_count": null,
   "id": "419671c2-ef9d-4381-86ec-5029312da0f2",
   "metadata": {},
   "outputs": [],
   "source": [
    "section = nc_ds.ugrid.sel(x=101250)"
   ]
  },
  {
   "cell_type": "code",
   "execution_count": null,
   "id": "8d16bd84-a602-4426-bd9c-588bc480ca69",
   "metadata": {},
   "outputs": [],
   "source": [
    "section"
   ]
  },
  {
   "cell_type": "code",
   "execution_count": null,
   "id": "5fbfefc0-b068-4c4d-9c19-58ec4c1d7590",
   "metadata": {},
   "outputs": [],
   "source": [
    "section[\"head_l1\"].isel(time=0).plot.line(x=\"mesh_y\")  # , where=\"mid\")\n",
    "plt.show(block=False)"
   ]
  },
  {
   "cell_type": "markdown",
   "id": "5fd0db38-4588-496f-a254-19f67acc19e3",
   "metadata": {},
   "source": [
    "  - Create a cross-section along a row (x-direction)"
   ]
  },
  {
   "cell_type": "code",
   "execution_count": null,
   "id": "16437ca3-d134-489f-bdb6-98da60fb6cbf",
   "metadata": {},
   "outputs": [],
   "source": [
    "section = nc_ds.ugrid.sel(y=41250)\n",
    "section[\"head_l1\"].isel(time=0).plot.step(x=\"mesh_x\", where=\"mid\")\n",
    "plt.show(block=False)"
   ]
  },
  {
   "cell_type": "code",
   "execution_count": null,
   "id": "51e0abed-6dd3-4967-9df6-8389a36740ac",
   "metadata": {},
   "outputs": [],
   "source": []
  }
 ],
 "metadata": {
  "kernelspec": {
   "display_name": "Python 3 (ipykernel)",
   "language": "python",
   "name": "python3"
  }
 },
 "nbformat": 4,
 "nbformat_minor": 5
}
