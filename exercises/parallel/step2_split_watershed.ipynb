{
 "cells": [
  {
   "cell_type": "markdown",
   "metadata": {},
   "source": [
    "# U.S. Geological Survey Class GW3099\n",
    "Advanced Modeling of Groundwater Flow (GW3099)\\\n",
    "Boise, Idaho\\\n",
    "September 16 - 20, 2024\n",
    "\n",
    "![title](../../images/ClassLocation.jpg)\n",
    "\n",
    "# Split the watershed model into multiple domains"
   ]
  },
  {
   "cell_type": "code",
   "execution_count": null,
   "metadata": {},
   "outputs": [],
   "source": [
    "import sys\n",
    "\n",
    "import flopy\n",
    "import matplotlib.pyplot as plt\n",
    "import numpy as np\n",
    "from flopy.mf6.utils import Mf6Splitter"
   ]
  },
  {
   "cell_type": "code",
   "execution_count": null,
   "metadata": {},
   "outputs": [],
   "source": [
    "import warnings\n",
    "\n",
    "warnings.filterwarnings(\"ignore\", category=DeprecationWarning)"
   ]
  },
  {
   "cell_type": "code",
   "execution_count": null,
   "metadata": {},
   "outputs": [],
   "source": [
    "sys.path.append(\"../../base/watershed/\")\n",
    "from defaults import figheight, figwidth, get_base_dir, get_parallel_dir"
   ]
  },
  {
   "cell_type": "markdown",
   "metadata": {},
   "source": [
    "### Get the model directories for the base and the parallel simulations"
   ]
  },
  {
   "cell_type": "code",
   "execution_count": null,
   "metadata": {},
   "outputs": [],
   "source": [
    "base_dir = get_base_dir()\n",
    "parallel_dir = get_parallel_dir()"
   ]
  },
  {
   "cell_type": "markdown",
   "metadata": {},
   "source": [
    "## Load the base watershed model"
   ]
  },
  {
   "cell_type": "code",
   "execution_count": null,
   "metadata": {},
   "outputs": [],
   "source": [
    "base_sim = flopy.mf6.MFSimulation.load(\n",
    "    sim_ws=base_dir,\n",
    ")"
   ]
  },
  {
   "cell_type": "markdown",
   "metadata": {},
   "source": [
    "**NOTE**: there is only one model so can get the model directly with `.get_model()`"
   ]
  },
  {
   "cell_type": "code",
   "execution_count": null,
   "metadata": {},
   "outputs": [],
   "source": [
    "gwf = base_sim.get_model()\n",
    "nrow = gwf.modelgrid.nrow\n",
    "ncol = gwf.modelgrid.ncol"
   ]
  },
  {
   "cell_type": "markdown",
   "metadata": {},
   "source": [
    "## Split the watershed model"
   ]
  },
  {
   "cell_type": "markdown",
   "metadata": {},
   "source": [
    "Decide in how many domains you want to split. You might want to check how many cores you have. On Windows this will show in the Task manager:\n",
    "\n",
    "\n",
    "<img src=\"./cpus.png\" alt=\"drawing\" width=\"700\"/>\n",
    "\n",
    "On Linux you can run the `lscpu` command and look for `Core(s) per socket:`."
   ]
  },
  {
   "cell_type": "code",
   "execution_count": null,
   "metadata": {},
   "outputs": [],
   "source": [
    "nr_domains = 2"
   ]
  },
  {
   "cell_type": "markdown",
   "metadata": {},
   "source": [
    "Create the FloPy Model Splitter object"
   ]
  },
  {
   "cell_type": "code",
   "execution_count": null,
   "metadata": {},
   "outputs": [],
   "source": [
    "mfsplit = Mf6Splitter(base_sim)"
   ]
  },
  {
   "cell_type": "markdown",
   "metadata": {},
   "source": [
    "Create the splitting array to assign groups of cells to a domain number. We either use Metis for partitioning or, apply a straightforward division into rectangular slices"
   ]
  },
  {
   "cell_type": "code",
   "execution_count": null,
   "metadata": {},
   "outputs": [],
   "source": [
    "use_metis = False\n",
    "if use_metis:\n",
    "    split_array = mfsplit.optimize_splitting_mask(nparts=nr_domains)\n",
    "else:\n",
    "    split_array = np.zeros((nrow, ncol), dtype=int)\n",
    "    for irow in range(nrow):\n",
    "        for icol in range(ncol):\n",
    "            isub = np.floor(icol / (ncol / nr_domains))\n",
    "            split_array[irow, icol] = isub"
   ]
  },
  {
   "cell_type": "markdown",
   "metadata": {},
   "source": [
    "Plot the splitting array as a plan view and cut the inactive cells out"
   ]
  },
  {
   "cell_type": "code",
   "execution_count": null,
   "metadata": {},
   "outputs": [],
   "source": [
    "pmv = flopy.plot.PlotMapView(model=gwf, layer=0)\n",
    "pa = pmv.plot_array(split_array)\n",
    "pmv.plot_inactive(color_noflow=\"white\")\n",
    "plt.ylabel(\"row\")\n",
    "plt.xlabel(\"column\")\n",
    "plt.colorbar(pa, shrink=0.6)"
   ]
  },
  {
   "cell_type": "markdown",
   "metadata": {},
   "source": [
    "### Split the simulation into multiple domains"
   ]
  },
  {
   "cell_type": "code",
   "execution_count": null,
   "metadata": {},
   "outputs": [],
   "source": [
    "parallel_sim = mfsplit.split_model(split_array)"
   ]
  },
  {
   "cell_type": "markdown",
   "metadata": {},
   "source": [
    "## Create a HPC file\n",
    "Get the models from the splitted simulation"
   ]
  },
  {
   "cell_type": "code",
   "execution_count": null,
   "metadata": {},
   "outputs": [],
   "source": [
    "models = [parallel_sim.get_model(mname) for mname in parallel_sim.model_names]"
   ]
  },
  {
   "cell_type": "markdown",
   "metadata": {},
   "source": [
    "Create the partition data for the HPC file"
   ]
  },
  {
   "cell_type": "code",
   "execution_count": null,
   "metadata": {},
   "outputs": [],
   "source": [
    "partition_data = [[m.name, i] for i, m in enumerate(models)]\n",
    "print(partition_data)"
   ]
  },
  {
   "cell_type": "markdown",
   "metadata": {},
   "source": [
    "Add the package to the FloPy simulation "
   ]
  },
  {
   "cell_type": "code",
   "execution_count": null,
   "metadata": {},
   "outputs": [],
   "source": [
    "hpc = flopy.mf6.ModflowUtlhpc(parallel_sim, partitions=partition_data)"
   ]
  },
  {
   "cell_type": "markdown",
   "metadata": {},
   "source": [
    "Now write the simulation to disk. Also write the lookup table from the splitter so we can recombine the data to represent a single domain further below"
   ]
  },
  {
   "cell_type": "code",
   "execution_count": null,
   "metadata": {},
   "outputs": [],
   "source": [
    "parallel_sim.set_sim_path(parallel_dir)\n",
    "parallel_sim.write_simulation()\n",
    "mfsplit.save_node_mapping(parallel_dir / \"mfsplit_node_mapping.json\")"
   ]
  },
  {
   "cell_type": "markdown",
   "metadata": {},
   "source": [
    "Plot the contours of the subdomains"
   ]
  },
  {
   "cell_type": "code",
   "execution_count": null,
   "metadata": {},
   "outputs": [],
   "source": [
    "fig = plt.figure(figsize=(figwidth, 0.55 * figheight))\n",
    "\n",
    "for i, m in enumerate(parallel_sim.model_names):\n",
    "    ax = fig.add_subplot(1, nr_domains, i + 1)\n",
    "    pmv = flopy.plot.PlotMapView(models[i])\n",
    "    idomain = models[i].modelgrid.idomain\n",
    "    pmv.plot_array(idomain[0], vmax=2)\n",
    "\n",
    "    ax.set_xticklabels([])\n",
    "    ax.set_yticklabels([])"
   ]
  },
  {
   "cell_type": "markdown",
   "metadata": {},
   "source": [
    "Check if the model partitions are evenly split"
   ]
  },
  {
   "cell_type": "code",
   "execution_count": null,
   "metadata": {},
   "outputs": [],
   "source": [
    "for m in models:\n",
    "    idomain = m.modelgrid.idomain\n",
    "    print(f\"Nr. of active cells in {m.name}:\", np.count_nonzero(idomain))"
   ]
  },
  {
   "cell_type": "code",
   "execution_count": null,
   "metadata": {},
   "outputs": [],
   "source": []
  }
 ],
 "metadata": {
  "kernelspec": {
   "display_name": "Python 3 (ipykernel)",
   "language": "python",
   "name": "python3"
  }
 },
 "nbformat": 4,
 "nbformat_minor": 4
}
