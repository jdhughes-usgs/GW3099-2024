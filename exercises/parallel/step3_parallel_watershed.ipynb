{
 "cells": [
  {
   "cell_type": "markdown",
   "metadata": {},
   "source": [
    "# U.S. Geological Survey Class GW3099\n",
    "Advanced Modeling of Groundwater Flow (GW3099)\\\n",
    "Boise, Idaho\\\n",
    "September 16 - 20, 2024\n",
    "\n",
    "![title](../../images/ClassLocation.jpg)\n",
    "\n",
    "# Run the split watershed model on multiple processors"
   ]
  },
  {
   "cell_type": "code",
   "execution_count": null,
   "metadata": {},
   "outputs": [],
   "source": [
    "import sys\n",
    "\n",
    "import flopy\n",
    "import matplotlib.pyplot as plt\n",
    "import numpy as np\n",
    "from flopy.mf6.utils import Mf6Splitter"
   ]
  },
  {
   "cell_type": "code",
   "execution_count": null,
   "metadata": {},
   "outputs": [],
   "source": [
    "sys.path.append(\"../../base/watershed/\")\n",
    "from defaults import figheight, figwidth, get_base_dir, get_parallel_dir"
   ]
  },
  {
   "cell_type": "markdown",
   "metadata": {},
   "source": [
    "Set the number of CPU cores that you want the simulation to run on. This should not exceed the number of domains that the model was split in. For efficiency reasons, it should also not exceed the number of processor cores that you have on your machine."
   ]
  },
  {
   "cell_type": "code",
   "execution_count": null,
   "metadata": {},
   "outputs": [],
   "source": [
    "nr_cores = 2"
   ]
  },
  {
   "cell_type": "markdown",
   "metadata": {},
   "source": [
    "Get the working directories"
   ]
  },
  {
   "cell_type": "code",
   "execution_count": null,
   "metadata": {},
   "outputs": [],
   "source": [
    "parallel_dir = get_parallel_dir()\n",
    "base_dir = get_base_dir()"
   ]
  },
  {
   "cell_type": "markdown",
   "metadata": {},
   "source": [
    "## Load the simulation data for both runs"
   ]
  },
  {
   "cell_type": "code",
   "execution_count": null,
   "metadata": {},
   "outputs": [],
   "source": [
    "parallel_sim = flopy.mf6.MFSimulation.load(sim_ws=parallel_dir)\n",
    "serial_sim = flopy.mf6.MFSimulation.load(sim_ws=base_dir)"
   ]
  },
  {
   "cell_type": "markdown",
   "metadata": {},
   "source": [
    "## Run the split simulation in parallel with PETSc"
   ]
  },
  {
   "cell_type": "code",
   "execution_count": null,
   "metadata": {},
   "outputs": [],
   "source": [
    "parallel_sim.run_simulation(processors=nr_cores, silent=True)"
   ]
  },
  {
   "cell_type": "markdown",
   "metadata": {},
   "source": [
    "Collect models, simulation times, head arrays, ..."
   ]
  },
  {
   "cell_type": "code",
   "execution_count": null,
   "metadata": {},
   "outputs": [],
   "source": [
    "models = [parallel_sim.get_model(mname) for mname in parallel_sim.model_names]\n",
    "times = models[0].output.head().get_times()\n",
    "heads = [m.output.head().get_data(totim=times[-1]) for m in models]\n",
    "hmin = min([np.amin(h) for h in heads])\n",
    "hmax = max([np.amax(h[h < 1e30]) for h in heads])"
   ]
  },
  {
   "cell_type": "markdown",
   "metadata": {},
   "source": [
    "## Reconstruct the data\n",
    "\n",
    "The Model Splitter reconstruction functionality takes the following dictonary to merge the result back into one"
   ]
  },
  {
   "cell_type": "code",
   "execution_count": null,
   "metadata": {},
   "outputs": [],
   "source": [
    "head_dict = dict(zip(range(0, len(heads)), heads))"
   ]
  },
  {
   "cell_type": "markdown",
   "metadata": {},
   "source": [
    "Reconstruct the head data for the parallel run into a single array"
   ]
  },
  {
   "cell_type": "code",
   "execution_count": null,
   "metadata": {},
   "outputs": [],
   "source": [
    "json_path = parallel_dir / \"mfsplit_node_mapping.json\"\n",
    "mfsplit = Mf6Splitter(serial_sim)\n",
    "mfsplit.load_node_mapping(parallel_sim, json_path)\n",
    "reconstructed_head = mfsplit.reconstruct_array(head_dict)"
   ]
  },
  {
   "cell_type": "markdown",
   "metadata": {},
   "source": [
    "Get the base reference results"
   ]
  },
  {
   "cell_type": "code",
   "execution_count": null,
   "metadata": {},
   "outputs": [],
   "source": [
    "base_gwf = serial_sim.get_model()\n",
    "base_head = base_gwf.output.head().get_data(totim=times[-1])"
   ]
  },
  {
   "cell_type": "markdown",
   "metadata": {},
   "source": [
    "## Plot parallel versus serial simulated output"
   ]
  },
  {
   "cell_type": "code",
   "execution_count": null,
   "metadata": {},
   "outputs": [],
   "source": [
    "fig = plt.figure(figsize=(figwidth, figheight * 1.3333))\n",
    "dh = reconstructed_head - base_head\n",
    "hv = [reconstructed_head, base_head, dh]\n",
    "titles = [\"Parallel\", \"Serial\", \"difference Parallel and Serial\"]\n",
    "for idx in range(3):\n",
    "    ax = fig.add_subplot(3, 1, idx + 1)\n",
    "    ax.set_aspect(\"equal\")\n",
    "    ax.set_title(titles[idx])\n",
    "\n",
    "    if idx < 2:\n",
    "        levels = np.arange(0, 100, 10)\n",
    "        vmin = hmin\n",
    "        vmax = hmax\n",
    "    else:\n",
    "        levels = None\n",
    "        vmin = None\n",
    "        vmax = None\n",
    "\n",
    "    pmv = flopy.plot.PlotMapView(model=base_gwf, ax=ax, layer=0)\n",
    "    h = pmv.plot_array(hv[idx], vmin=vmin, vmax=vmax)\n",
    "    if levels is not None:\n",
    "        c = pmv.contour_array(\n",
    "            hv[idx],\n",
    "            levels=np.arange(0, 100, 10),\n",
    "            colors=\"white\",\n",
    "            linewidths=0.75,\n",
    "            linestyles=\":\",\n",
    "        )\n",
    "        plt.clabel(c, fontsize=8)\n",
    "    if base_gwf.modelgrid.idomain is not None:\n",
    "        pmv.plot_inactive(color_noflow=\"white\")\n",
    "    plt.colorbar(h, ax=ax)\n",
    "    if idx < 2:\n",
    "        ax.set_xticklabels([])\n",
    "\n",
    "plt.show(block=False)"
   ]
  }
 ],
 "metadata": {
  "kernelspec": {
   "display_name": "Python 3 (ipykernel)",
   "language": "python",
   "name": "python3"
  }
 },
 "nbformat": 4,
 "nbformat_minor": 4
}
