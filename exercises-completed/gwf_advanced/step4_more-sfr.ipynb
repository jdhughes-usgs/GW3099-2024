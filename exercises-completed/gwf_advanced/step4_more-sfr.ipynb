{
 "cells": [
  {
   "cell_type": "markdown",
   "id": "09cd4c0d-ed77-4b8d-9d65-fccdf103d008",
   "metadata": {},
   "source": [
    "# U.S. Geological Survey Class GW3099\n",
    "Advanced Modeling of Groundwater Flow (GW3099)\\\n",
    "Boise, Idaho\\\n",
    "September 16 - 20, 2024\n",
    "\n",
    "![title](../../images/ClassLocation.jpg)\n",
    "\n",
    "# Create a model with Advanced Packages - Part 2\n",
    "\n",
    "Load model from Part 1 and amend with UZF & MVR, rerun and look at the MVR budget"
   ]
  },
  {
   "cell_type": "code",
   "execution_count": null,
   "id": "ccf2fce9-eced-4882-a807-6b4719522412",
   "metadata": {},
   "outputs": [],
   "source": [
    "import warnings\n",
    "from pathlib import Path\n",
    "\n",
    "import flopy\n",
    "import matplotlib.pyplot as plt\n",
    "import numpy as np\n",
    "\n",
    "warnings.simplefilter(\"ignore\", UserWarning)\n",
    "warnings.simplefilter(\"ignore\", DeprecationWarning)"
   ]
  },
  {
   "cell_type": "markdown",
   "id": "3ee4cbe9-8b6e-4eb8-a807-ade0eae794a4",
   "metadata": {},
   "source": [
    "## Load the model amended with UZF and MVR"
   ]
  },
  {
   "cell_type": "code",
   "execution_count": null,
   "id": "50d232a7-3398-45e0-ad59-3ee225a120cd",
   "metadata": {},
   "outputs": [],
   "source": [
    "name = \"ad-p1\"\n",
    "ws = Path(f\"./temp/{name}\")\n",
    "\n",
    "sim = flopy.mf6.MFSimulation.load(\n",
    "    sim_name=name,\n",
    "    exe_name=\"mf6\",\n",
    "    sim_ws=ws,\n",
    ")"
   ]
  },
  {
   "cell_type": "markdown",
   "id": "39bb1ef2-26c4-4c9e-8855-c2058f15e671",
   "metadata": {},
   "source": [
    "### Get the GWF model"
   ]
  },
  {
   "cell_type": "code",
   "execution_count": null,
   "id": "f2e5cf5e-6aaa-49fc-9730-f3e836f5f813",
   "metadata": {},
   "outputs": [],
   "source": [
    "gwf = sim.get_model(\"ad-p1\")\n",
    "\n",
    "# get some needed parameter values\n",
    "nlay = gwf.dis.nlay.array"
   ]
  },
  {
   "cell_type": "markdown",
   "id": "ff341bd6-9c91-4462-8b83-d7c8f016d0c8",
   "metadata": {},
   "source": [
    "### Add a diversion within the SFR package\n",
    "For simplicity, diversion will run due north away from the existing stream that drains the lake.  The diversion will traverse 4 cells all in column 14 (0-based)"
   ]
  },
  {
   "cell_type": "code",
   "execution_count": null,
   "id": "d9b291bc-03f3-4055-a326-dab359e8c46a",
   "metadata": {},
   "outputs": [],
   "source": [
    "# Original data\n",
    "bed_elev = [142.0, 141.5, 141.0, 140.5, 140.0] + [140.4, 140.3, 140.2, 140.1]\n",
    "upstfr = [0.0, 1.0, 1.0, 1.0, 1.0] + [0.0, 1.0, 1.0, 1.0]\n",
    "nconn = [1, 2, 2, 3, 1] + [2, 2, 2, 1]\n",
    "ndiv = [0, 0, 0, 1, 0] + [0, 0, 0, 0]\n",
    "nreaches = len(bed_elev)"
   ]
  },
  {
   "cell_type": "code",
   "execution_count": null,
   "id": "adeea311-e615-49ea-9acd-94e898348b60",
   "metadata": {},
   "outputs": [],
   "source": [
    "# <ifno> <cellid(ncelldim)> <rlen> <rwid> <rgrd> <rtp> <rbth> <rhk> <man> <ncon> <ustrf> <ndv>\n",
    "sfr_pakdata = []\n",
    "ct = 0\n",
    "divCol = 14  # 0-based\n",
    "for idx in range(nreaches):\n",
    "    rchlen = 1000.0\n",
    "    if idx <= 4:\n",
    "        cellid = (0, 8, 11 + idx)\n",
    "    else:\n",
    "        ct += 1\n",
    "        cellid = (0, 8 - ct, divCol)\n",
    "        if idx <= 6:\n",
    "            rchlen = 500.0\n",
    "\n",
    "    sfr_pakdata.append(\n",
    "        (\n",
    "            idx,\n",
    "            cellid,\n",
    "            rchlen,\n",
    "            1.0,\n",
    "            1e-3,\n",
    "            bed_elev[idx],\n",
    "            0.1,\n",
    "            1.0,\n",
    "            0.035,\n",
    "            nconn[idx],\n",
    "            upstfr[idx],\n",
    "            ndiv[idx],\n",
    "            \"sfr\",\n",
    "        )\n",
    "    )\n",
    "\n",
    "sfr_pakdata"
   ]
  },
  {
   "cell_type": "code",
   "execution_count": null,
   "id": "bfc38ce6-c83f-4358-b76a-a7cb121abf30",
   "metadata": {},
   "outputs": [],
   "source": [
    "sfr_conn = [\n",
    "    [0, -1],\n",
    "    [1, 0, -2],\n",
    "    [2, 1, -3],\n",
    "    [3, 2, -4, -5],\n",
    "    [4, 3],\n",
    "    [5, 3, -6],\n",
    "    [6, 5, -7],\n",
    "    [7, 6, -8],\n",
    "    [8, 7],\n",
    "]\n",
    "sfr_conn"
   ]
  },
  {
   "cell_type": "code",
   "execution_count": null,
   "id": "efd53ce0-d11d-4f09-b2b0-2ff3272104a6",
   "metadata": {},
   "outputs": [],
   "source": [
    "obs_file = f\"{name}.sfr.obs\"\n",
    "csv_file = obs_file + \".csv\"\n",
    "obs_dict = {\n",
    "    obs_file + \".csv\": [\n",
    "        (\"inflow_rch4\", \"inflow\", (3,)),\n",
    "        (\"outflow_rch4\", \"outflow\", (3,)),\n",
    "        (\"inflow_rch5\", \"inflow\", (4,)),\n",
    "        (\"divertedAmt\", \"inflow\", (5,)),\n",
    "    ]\n",
    "}"
   ]
  },
  {
   "cell_type": "markdown",
   "id": "02164c8f-a009-468d-81f3-02f14d76e0bb",
   "metadata": {},
   "source": [
    "#### Define the `DIVERSIONS` block\n",
    "Use the `CPRIOR` option `EXCESS`: <br>\n",
    "<br>\n",
    "`EXCESS`: a diversion is made only if $Q_{DS}$ for reach `IFNO` exceeds the value of `DIVFLOW`. If this occurs, then the quantity of water diverted is\n",
    "the excess flow ($Q_{DS}$ − DIVFLOW) and $Q_{DS}$ from reach IFNO is set equal to DIVFLOW. This represents a flood-control type of diversion"
   ]
  },
  {
   "cell_type": "code",
   "execution_count": null,
   "id": "ba451d66-ec0c-482c-a756-e8fec35c5b8c",
   "metadata": {},
   "outputs": [],
   "source": [
    "#      <ifno> <idv> <iconr> <cprior>\n",
    "divs = [3, 0, 5, \"EXCESS\"]"
   ]
  },
  {
   "cell_type": "markdown",
   "id": "9008e022-6428-4aae-82f7-a5c6efd16b19",
   "metadata": {},
   "source": [
    "#### Define the stress period data\n",
    "Because we added a diversion, need to set the transient data"
   ]
  },
  {
   "cell_type": "code",
   "execution_count": null,
   "id": "c2e23628-681a-4e05-b6b1-a132210d87c9",
   "metadata": {},
   "outputs": [],
   "source": [
    "excess_amt = 10000.0\n",
    "sfr_spd = {0: [3, \"DIVERSION\", 0, excess_amt]}"
   ]
  },
  {
   "cell_type": "markdown",
   "id": "1b66ef3d-2ef4-42df-91ec-674c36a91fdc",
   "metadata": {},
   "source": [
    "#### Redefine the SFR package\n",
    "There is one gotcha here.  In the script that follows, if we don't specify the argument `pname`, FloPy will append the package to the existing `MODFLOW 6` simulation rather than replace the existing SFR package with the new one that includes the diversion."
   ]
  },
  {
   "cell_type": "code",
   "execution_count": null,
   "id": "44504805-1d9c-41e2-91f3-004972c08b51",
   "metadata": {},
   "outputs": [],
   "source": [
    "sfr = flopy.mf6.ModflowGwfsfr(\n",
    "    gwf,\n",
    "    mover=True,\n",
    "    boundnames=True,\n",
    "    print_input=True,\n",
    "    print_flows=True,\n",
    "    print_stage=True,\n",
    "    length_conversion=3.28081,\n",
    "    time_conversion=86400.0,\n",
    "    nreaches=nreaches,\n",
    "    packagedata=sfr_pakdata,\n",
    "    connectiondata=sfr_conn,\n",
    "    diversions=divs,\n",
    "    observations=obs_dict,\n",
    "    perioddata=sfr_spd,\n",
    "    pname=\"sfr_0\",\n",
    ")"
   ]
  },
  {
   "cell_type": "markdown",
   "id": "3a871bef-ab79-4caf-b7af-5c33a7736419",
   "metadata": {},
   "source": [
    "## Write the simulation"
   ]
  },
  {
   "cell_type": "code",
   "execution_count": null,
   "id": "fd2eb7f0-ff14-44e7-b706-8d12a083a485",
   "metadata": {},
   "outputs": [],
   "source": [
    "sim.write_simulation()"
   ]
  },
  {
   "cell_type": "markdown",
   "id": "e8dc3726-3a38-4a7a-995a-750df45d7d7b",
   "metadata": {},
   "source": [
    "## Run the simulation"
   ]
  },
  {
   "cell_type": "code",
   "execution_count": null,
   "id": "fc541f49-76c5-4c89-98cf-ed4a7e43c51c",
   "metadata": {},
   "outputs": [],
   "source": [
    "sim.run_simulation()"
   ]
  },
  {
   "cell_type": "markdown",
   "id": "954585bd-c65d-4336-87ec-42ffbeffad39",
   "metadata": {},
   "source": [
    "## Have another look at the output"
   ]
  },
  {
   "cell_type": "code",
   "execution_count": null,
   "id": "20c402f3-6606-416f-bc18-6c55bc78dece",
   "metadata": {},
   "outputs": [],
   "source": [
    "extents = (0.0, gwf.dis.delr.array.sum(), 0.0, gwf.dis.delc.array.sum())\n",
    "\n",
    "# load the observations\n",
    "lak_results = gwf.lak.output.obs().data\n",
    "sfr_results = gwf.sfr.output.obs().data\n",
    "gwf_results = gwf.obs[0].output.obs().data\n",
    "\n",
    "# Figure properties\n",
    "figure_size = (6.3, 5.6)\n",
    "masked_values = (0, 1e30, -1e30)\n",
    "\n",
    "# create MODFLOW 6 head object\n",
    "hobj = gwf.output.head()\n",
    "\n",
    "# create MODFLOW 6 cell-by-cell budget object\n",
    "cobj = gwf.output.budget()\n",
    "\n",
    "kstpkper = hobj.get_kstpkper()\n",
    "\n",
    "head = hobj.get_data(kstpkper=kstpkper[0])\n",
    "qx, qy, qz = flopy.utils.postprocessing.get_specific_discharge(\n",
    "    cobj.get_data(text=\"DATA-SPDIS\", kstpkper=kstpkper[0])[0],\n",
    "    gwf,\n",
    ")\n",
    "\n",
    "# add lake stage to heads\n",
    "head[head == 1e30] = lak_results[\"STAGE\"][-1]\n",
    "\n",
    "# observation locations\n",
    "xcenters, ycenters = gwf.modelgrid.xycenters[0], gwf.modelgrid.xycenters[1]\n",
    "p1 = (xcenters[3], ycenters[3])\n",
    "p2 = (xcenters[13], ycenters[13])\n",
    "\n",
    "shape3d = (gwf.dis.nlay.array, gwf.dis.nrow.array, gwf.dis.ncol.array)"
   ]
  },
  {
   "cell_type": "code",
   "execution_count": null,
   "id": "2a46f3fb-9cc9-456c-8d60-61bfbb3b83da",
   "metadata": {},
   "outputs": [],
   "source": [
    "fig, axd = plt.subplot_mosaic(\n",
    "    [\n",
    "        [\"a\"],\n",
    "        [\"a\"],\n",
    "        [\"b\"],\n",
    "    ],\n",
    "    layout=\"constrained\",\n",
    "    figsize=(4, 6.9),\n",
    ")\n",
    "\n",
    "ax = axd[\"a\"]\n",
    "mm = flopy.plot.PlotMapView(gwf, ax=ax, extent=extents)\n",
    "mm.plot_bc(\"CHD\", color=\"cyan\")\n",
    "mm.plot_bc(\"SFR\", color=\"blue\", alpha=0.1)\n",
    "mm.plot_bc(\"UZF\", color=\"lightgreen\", alpha=0.7)\n",
    "mm.plot_inactive(color_noflow=\"#5DBB63\")\n",
    "mm.plot_grid(lw=0.5, color=\"black\")\n",
    "cv = mm.contour_array(\n",
    "    head,\n",
    "    levels=np.arange(140, 160, 2),\n",
    "    linewidths=0.75,\n",
    "    linestyles=\"-\",\n",
    "    colors=\"blue\",\n",
    ")\n",
    "plt.clabel(cv, fmt=\"%1.0f\")\n",
    "mm.plot_vector(qx, qy, normalize=True, color=\"0.75\")\n",
    "ax.plot(p1[0], p1[1], marker=\"o\", mfc=\"red\", mec=\"black\", ms=4)\n",
    "ax.annotate(\"Point A\", (p1[0] + 150, p1[1]))\n",
    "ax.plot(p2[0], p2[1], marker=\"o\", mfc=\"red\", mec=\"black\", ms=4)\n",
    "ax.annotate(\"Point B\", (p2[0] + 150, p2[1]))\n",
    "ax.plot(p2[0], p1[1], marker=\"o\", mfc=\"yellow\", mec=\"purple\", ms=4)\n",
    "ax.annotate(\"MAW\", (p2[0] - 1500, p1[1] + 150))\n",
    "ax.annotate(\"UZF\", (10.75e3, 11e3))\n",
    "ax.set_xlabel(\"x-coordinate, in feet\")\n",
    "ax.set_ylabel(\"y-coordinate, in feet\")\n",
    "\n",
    "ax = axd[\"b\"]\n",
    "xs = flopy.plot.PlotCrossSection(gwf, ax=ax, line={\"row\": 8})\n",
    "xs.plot_array(np.ones(shape3d), head=head, cmap=\"jet\")\n",
    "xs.plot_bc(\"CHD\", color=\"cyan\", head=head)\n",
    "xs.plot_ibound(color_noflow=\"#5DBB63\", head=head)\n",
    "xs.plot_grid(lw=0.5, color=\"black\")\n",
    "ax.set_xlabel(\"x-coordinate, in feet\")\n",
    "ax.set_ylim(67, 160)\n",
    "ax.set_ylabel(\"Elevation, in feet\")\n",
    "\n",
    "plt.show(block=False)"
   ]
  },
  {
   "cell_type": "code",
   "execution_count": null,
   "id": "f0b3c713-31bd-4c59-80ce-672d8685a981",
   "metadata": {},
   "outputs": [],
   "source": [
    "sfr_results = gwf.sfr.output.obs().data\n",
    "sfr_results"
   ]
  },
  {
   "cell_type": "code",
   "execution_count": null,
   "id": "886d7a91-9331-4dd4-8f08-7ff447e63575",
   "metadata": {},
   "outputs": [],
   "source": [
    "dtype = [\n",
    "    (\"time\", float),\n",
    "    (\"INFLOW_RCH4\", float),\n",
    "    (\"OUTFLOW_RCH4\", float),\n",
    "    (\"INFLOW_RCH5\", float),\n",
    "    (\"DIVERTEDAMT\", float),\n",
    "]\n",
    "\n",
    "results = np.zeros((sfr_results.shape[0] + 1), dtype=dtype)\n",
    "results[\"time\"][1:] = sfr_results[\"totim\"]\n",
    "results[\"INFLOW_RCH4\"][1:] = sfr_results[\"INFLOW_RCH4\"]\n",
    "results[\"OUTFLOW_RCH4\"][1:] = sfr_results[\"OUTFLOW_RCH4\"]\n",
    "results[\"INFLOW_RCH5\"][1:] = sfr_results[\"INFLOW_RCH5\"]\n",
    "results[\"DIVERTEDAMT\"][1:] = sfr_results[\"DIVERTEDAMT\"]\n",
    "results"
   ]
  },
  {
   "cell_type": "code",
   "execution_count": null,
   "id": "a40e5356-51bc-4c9c-acf3-78aa152e87b1",
   "metadata": {},
   "outputs": [],
   "source": [
    "# create the figure\n",
    "fig, ax = plt.subplots(\n",
    "    ncols=1,\n",
    "    nrows=1,\n",
    "    sharex=True,\n",
    "    figsize=(6.3, 3.15),\n",
    "    constrained_layout=True,\n",
    ")\n",
    "\n",
    "ax.set_xlim(0, 3000)\n",
    "# ax.set_ylim(110, 160)\n",
    "ax.plot(\n",
    "    results[\"time\"],\n",
    "    results[\"INFLOW_RCH4\"],\n",
    "    lw=0.75,\n",
    "    ls=\"--\",\n",
    "    color=\"black\",\n",
    "    label=\"Reach 4 inflow\",\n",
    ")\n",
    "ax.plot(\n",
    "    results[\"time\"],\n",
    "    results[\"OUTFLOW_RCH4\"],\n",
    "    lw=0.75,\n",
    "    ls=\":\",\n",
    "    color=\"red\",\n",
    "    label=\"Reach 4 outflow\",\n",
    ")\n",
    "ax.plot(\n",
    "    results[\"time\"],\n",
    "    results[\"INFLOW_RCH5\"],\n",
    "    lw=1.0,\n",
    "    ls=\"-\",\n",
    "    color=\"green\",\n",
    "    label=\"Reach 5 inflow\",\n",
    ")\n",
    "ax.plot(\n",
    "    results[\"time\"],\n",
    "    results[\"DIVERTEDAMT\"],\n",
    "    lw=1.0,\n",
    "    ls=\"-\",\n",
    "    color=\"blue\",\n",
    "    label=\"Diversion\",\n",
    ")\n",
    "ax.axhline(y=0, color=\"black\")\n",
    "ax.set_xlabel(\"Simulation time, in days\")\n",
    "ax.set_ylabel(\"Flow, in $ft^3$ per day\")\n",
    "plt.legend(loc=\"lower left\")\n",
    "\n",
    "plt.show(block=False)"
   ]
  },
  {
   "cell_type": "markdown",
   "id": "33a92159-c882-42e2-936c-958fb75962b6",
   "metadata": {},
   "source": [
    "### Update MVR package"
   ]
  },
  {
   "cell_type": "code",
   "execution_count": null,
   "id": "b8a853a6-161c-4838-adda-d7fddec88e38",
   "metadata": {},
   "outputs": [],
   "source": []
  }
 ],
 "metadata": {
  "kernelspec": {
   "display_name": "Python 3 (ipykernel)",
   "language": "python",
   "name": "python3"
  },
  "language_info": {
   "codemirror_mode": {
    "name": "ipython",
    "version": 3
   },
   "file_extension": ".py",
   "mimetype": "text/x-python",
   "name": "python",
   "nbconvert_exporter": "python",
   "pygments_lexer": "ipython3",
   "version": "3.12.3"
  }
 },
 "nbformat": 4,
 "nbformat_minor": 5
}
