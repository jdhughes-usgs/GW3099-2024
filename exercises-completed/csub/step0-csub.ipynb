{
 "cells": [
  {
   "cell_type": "markdown",
   "id": "c8f92467-be34-49b1-98a6-84cf73dff96e",
   "metadata": {},
   "source": [
    "# U.S. Geological Survey Class GW3099\n",
    "Advanced Modeling of Groundwater Flow (GW3099)\\\n",
    "Boise, Idaho\\\n",
    "September 16 - 20, 2024\n",
    "\n",
    "![title](../../images/ClassLocation.jpg)\n",
    "\n",
    "# Use the Skeletal Storage, Compaction, and Subsidence (CSUB) Package to simulate land subsidence"
   ]
  },
  {
   "cell_type": "code",
   "execution_count": null,
   "id": "4f4dd349-6dd9-49c5-be6c-ded02823c8d2",
   "metadata": {},
   "outputs": [],
   "source": [
    "%matplotlib inline\n",
    "import datetime\n",
    "import pathlib as pl\n",
    "\n",
    "import flopy\n",
    "import flopy.plot.styles as styles\n",
    "import matplotlib as mpl\n",
    "import matplotlib.colors as colors\n",
    "import matplotlib.dates as dates\n",
    "import matplotlib.pyplot as plt\n",
    "import matplotlib.ticker as ticker\n",
    "import numpy as np\n",
    "import pandas as pd\n",
    "from matplotlib.dates import DateFormatter, MonthLocator"
   ]
  },
  {
   "cell_type": "markdown",
   "id": "4888d1e2-4ce3-4b59-a06b-adf79b9baabf",
   "metadata": {},
   "source": [
    "## Load the existing model"
   ]
  },
  {
   "cell_type": "code",
   "execution_count": null,
   "id": "019e8c62-e70f-455c-8d9e-a8972e353f92",
   "metadata": {},
   "outputs": [],
   "source": [
    "name = \"greenport\"\n",
    "ws = pl.Path(\"../../data/csub/greenport/\")"
   ]
  },
  {
   "cell_type": "code",
   "execution_count": null,
   "id": "7d1ab2d4-6187-48ef-af0f-46d4acd08f86",
   "metadata": {},
   "outputs": [],
   "source": [
    "sim = flopy.mf6.MFSimulation.load(sim_name=name, sim_ws=ws)"
   ]
  },
  {
   "cell_type": "code",
   "execution_count": null,
   "id": "b3bac0aa-1f60-4e73-97a8-aa934bdc865a",
   "metadata": {},
   "outputs": [],
   "source": [
    "gwf = sim.get_model()"
   ]
  },
  {
   "cell_type": "markdown",
   "id": "75936881-4431-4454-a46e-713c5eae81f6",
   "metadata": {},
   "source": [
    "## Write and run the model in a new directory"
   ]
  },
  {
   "cell_type": "code",
   "execution_count": null,
   "id": "67f521d8-eb1a-4449-a414-0882bf27da4e",
   "metadata": {},
   "outputs": [],
   "source": [
    "sim.set_sim_path(pl.Path(\"temp/csub-ex1\"))"
   ]
  },
  {
   "cell_type": "code",
   "execution_count": null,
   "id": "92a86e4e-f424-4ad0-9dfb-f2100c9fc2fd",
   "metadata": {},
   "outputs": [],
   "source": [
    "sim.write_simulation()"
   ]
  },
  {
   "cell_type": "code",
   "execution_count": null,
   "id": "c772698d-9386-4247-aae1-0c416f44ebc2",
   "metadata": {},
   "outputs": [],
   "source": [
    "sim.run_simulation(silent=True)"
   ]
  },
  {
   "cell_type": "markdown",
   "id": "785b2bfd-6281-41c2-805f-e6be21c475c9",
   "metadata": {},
   "source": [
    "### Calculate the mean recharge"
   ]
  },
  {
   "cell_type": "code",
   "execution_count": null,
   "id": "f88bde5f-2506-4d4c-8634-e83ba027fb34",
   "metadata": {},
   "outputs": [],
   "source": [
    "mean_recharge = []\n",
    "times = gwf.output.budget().get_times()\n",
    "for totim in times:\n",
    "    rQ = gwf.output.budget().get_data(text=\"RCH\", totim=totim)[0]\n",
    "    q = rQ[\"q\"]\n",
    "    idx = q > 0.0\n",
    "    mean_recharge.append(q[idx].mean())\n",
    "\n",
    "mean_recharge = np.array(mean_recharge) * (12.0 / (500.0 * 500.0))"
   ]
  },
  {
   "cell_type": "code",
   "execution_count": null,
   "id": "93a9fec2-5d0d-4698-9e88-91e772710516",
   "metadata": {},
   "outputs": [],
   "source": [
    "initial_date = datetime.datetime(2010, 1, 1, 0, 0, 0)\n",
    "time_index = []\n",
    "for time in times:\n",
    "    time_index.append(initial_date + datetime.timedelta(days=time))"
   ]
  },
  {
   "cell_type": "code",
   "execution_count": null,
   "id": "38007e71-891b-4441-9968-f825dbf8f63e",
   "metadata": {},
   "outputs": [],
   "source": [
    "df = pd.DataFrame(data=mean_recharge, index=time_index)\n",
    "df"
   ]
  },
  {
   "cell_type": "markdown",
   "id": "fbb5cfef-3c8d-4e87-aa40-9bc177954a11",
   "metadata": {},
   "source": [
    "### Observation locations"
   ]
  },
  {
   "cell_type": "code",
   "execution_count": null,
   "id": "17d3c996-4eaf-4b6e-a751-448424586d40",
   "metadata": {},
   "outputs": [],
   "source": [
    "obs_idx = [(0, 24, 28), (0, 20, 24)]\n",
    "names = [f\"({i + 1},{j + 1})\" for k, i, j in obs_idx]\n",
    "names"
   ]
  },
  {
   "cell_type": "code",
   "execution_count": null,
   "id": "2fe9fe21-8188-49d3-8be7-e5af0f30fde8",
   "metadata": {},
   "outputs": [],
   "source": [
    "top = gwf.dis.top.array\n",
    "top_obs = [float(top[i, j]) for k, i, j in obs_idx]\n",
    "top_obs"
   ]
  },
  {
   "cell_type": "markdown",
   "id": "d04d48ec-6ff9-470d-83ef-f1cf91c4f8f7",
   "metadata": {
    "execution": {
     "iopub.execute_input": "2024-09-13T18:10:17.491920Z",
     "iopub.status.busy": "2024-09-13T18:10:17.490891Z",
     "iopub.status.idle": "2024-09-13T18:10:17.510440Z",
     "shell.execute_reply": "2024-09-13T18:10:17.504518Z",
     "shell.execute_reply.started": "2024-09-13T18:10:17.491854Z"
    }
   },
   "source": [
    "### Load the head data"
   ]
  },
  {
   "cell_type": "code",
   "execution_count": null,
   "id": "33cd506f-533c-43cb-bc10-95d05c14afd8",
   "metadata": {},
   "outputs": [],
   "source": [
    "hobj = gwf.output.head()\n",
    "dtw_obs = hobj.get_ts(obs_idx)[:, 1:]\n",
    "for idx, t in enumerate(top_obs):\n",
    "    dtw_obs[:, idx] = t - dtw_obs[:, idx]\n",
    "\n",
    "dtw_obs_df = pd.DataFrame(data=dtw_obs, index=time_index, columns=names)"
   ]
  },
  {
   "cell_type": "code",
   "execution_count": null,
   "id": "6d9834ba-8125-4135-872f-c92d43689496",
   "metadata": {},
   "outputs": [],
   "source": [
    "dtw_obs_df"
   ]
  },
  {
   "cell_type": "markdown",
   "id": "7da0f01f-74d2-4446-a386-8e7a2183ef51",
   "metadata": {},
   "source": [
    "### Load the subsidence data"
   ]
  },
  {
   "cell_type": "code",
   "execution_count": null,
   "id": "eca54bb5-0ab7-4452-80ed-a358d184ec1c",
   "metadata": {},
   "outputs": [],
   "source": [
    "zobj = gwf.csub.output.zdisplacement(text=\"CSUB-ZDISPLACE\")"
   ]
  },
  {
   "cell_type": "code",
   "execution_count": null,
   "id": "59565226-c822-4011-bffd-4f704ec53af5",
   "metadata": {},
   "outputs": [],
   "source": [
    "zobj.headers"
   ]
  },
  {
   "cell_type": "code",
   "execution_count": null,
   "id": "9196d648-c12c-49d3-80c7-969fedb38eca",
   "metadata": {},
   "outputs": [],
   "source": [
    "sub_obs = zobj.get_ts(obs_idx)[:, 1:]\n",
    "obs_df = pd.DataFrame(data=sub_obs, index=time_index, columns=names)\n",
    "obs_df"
   ]
  },
  {
   "cell_type": "markdown",
   "id": "da4ac479-4678-4610-94be-4345a015c39b",
   "metadata": {},
   "source": [
    "### Plot the land subsidence"
   ]
  },
  {
   "cell_type": "code",
   "execution_count": null,
   "id": "fa24a9fa-41eb-4f93-84d0-e3c7eb2f0fb0",
   "metadata": {},
   "outputs": [],
   "source": [
    "mosaic_list = [\n",
    "    [\"c\"],\n",
    "    [\"a\"],\n",
    "    [\"b\"],\n",
    "]"
   ]
  },
  {
   "cell_type": "code",
   "execution_count": null,
   "id": "9c91f79a-4038-4fe7-8d31-b815e9317b54",
   "metadata": {},
   "outputs": [],
   "source": [
    "def set_time_axis(ax):\n",
    "    ax.xaxis.set_major_locator(MonthLocator(bymonth=range(1, 12, 1)))\n",
    "    ax.xaxis.set_minor_locator(dates.MonthLocator(bymonthday=16))\n",
    "\n",
    "    ax.xaxis.set_major_formatter(ticker.NullFormatter())\n",
    "    ax.xaxis.set_minor_formatter(dates.DateFormatter(\"%B\"))\n",
    "\n",
    "    # Remove the tick lines\n",
    "    ax.tick_params(axis=\"x\", which=\"minor\", tick1On=False, tick2On=False)\n",
    "\n",
    "    # Align the minor tick label\n",
    "    for label in ax.get_xticklabels(minor=True):\n",
    "        label.set_horizontalalignment(\"center\")"
   ]
  },
  {
   "cell_type": "code",
   "execution_count": null,
   "id": "e97a9121-fddc-441d-b54a-00265dcf2bf0",
   "metadata": {},
   "outputs": [],
   "source": [
    "def plot_results():\n",
    "    # load the head data\n",
    "    hobj = gwf.output.head()\n",
    "    dtw_obs = hobj.get_ts(obs_idx)[:, 1:]\n",
    "    for idx, t in enumerate(top_obs):\n",
    "        dtw_obs[:, idx] = t - dtw_obs[:, idx]\n",
    "    dtw_obs_df = pd.DataFrame(data=dtw_obs, index=time_index, columns=names)\n",
    "\n",
    "    # load the z-displacement data\n",
    "    zobj = gwf.csub.output.zdisplacement(text=\"CSUB-ZDISPLACE\")\n",
    "\n",
    "    sub_obs = zobj.get_ts(obs_idx)[:, 1:]\n",
    "    ls_obs_df = pd.DataFrame(data=sub_obs, index=time_index, columns=names)\n",
    "\n",
    "    with styles.USGSPlot():\n",
    "        fig, axd = plt.subplot_mosaic(\n",
    "            mosaic=[[\"c\"], [\"a\"], [\"b\"]],\n",
    "            layout=\"constrained\",\n",
    "            figsize=(9, 9),\n",
    "        )\n",
    "\n",
    "        ax = axd[\"c\"]\n",
    "        ax.set_xlim(-0.5, mean_recharge.shape[0] - 0.5)\n",
    "        ax.set_ylim(0, 3)\n",
    "\n",
    "        df.plot(kind=\"bar\", ax=ax, legend=False, color=\"blue\")\n",
    "        ax.set_ylabel(\"Recharge\")\n",
    "        styles.add_text(\n",
    "            ax,\n",
    "            text=\"inches / day\",\n",
    "            x=0.99,\n",
    "            y=0.95,\n",
    "            bold=False,\n",
    "            va=\"top\",\n",
    "            ha=\"right\",\n",
    "        )\n",
    "        set_time_axis(ax)\n",
    "\n",
    "        ax = axd[\"a\"]\n",
    "        ls_obs_df.plot(ax=ax, legend=False)\n",
    "        ax.set_ylabel(\"Land subsidence, in\")\n",
    "        set_time_axis(ax)\n",
    "\n",
    "        ax = axd[\"b\"]\n",
    "        dtw_obs_df.plot(ax=ax, legend=False)\n",
    "        styles.graph_legend(ax)\n",
    "        ax.set_ylabel(\"Depth to water, ft\")\n",
    "        set_time_axis(ax)\n",
    "\n",
    "    return ls_obs_df"
   ]
  },
  {
   "cell_type": "code",
   "execution_count": null,
   "id": "e0224984-d2f2-4d77-942a-6fc8f9df305f",
   "metadata": {},
   "outputs": [],
   "source": [
    "ds = plot_results()"
   ]
  },
  {
   "cell_type": "markdown",
   "id": "293de8be-f211-4da3-9766-7f17abf572ff",
   "metadata": {},
   "source": [
    "### Calculate the minimum and maximum land subsidence"
   ]
  },
  {
   "cell_type": "code",
   "execution_count": null,
   "id": "e968171a-579e-4bce-b13e-953c22ca91fb",
   "metadata": {},
   "outputs": [],
   "source": [
    "ds.min(), ds.max()"
   ]
  },
  {
   "cell_type": "markdown",
   "id": "e555089d-f553-44a8-a396-bdaaa1c60dac",
   "metadata": {},
   "source": [
    "## Modify the specific storage\n",
    "\n",
    "The original specific storage for each layer is:\n",
    "\n",
    "```\n",
    "1e-5\n",
    "1e-4\n",
    "1e-5\n",
    "1e-5\n",
    "1e-5\n",
    "```\n",
    "\n",
    "Increase and decrease the specific storage values by an order of magnitude to see what effer it has on land subsidence.\n",
    "\n",
    "### Increase the specific storage\n",
    "\n",
    "Use `gwf.csub.cg_ske_cr.set_data()` to reset the specific storage data. Write the modified `CSUB` package using `gwf.csub.write()` and then reun the rerevised simulation."
   ]
  },
  {
   "cell_type": "code",
   "execution_count": null,
   "id": "414d9006-ffa8-4502-b79a-cb2786e81eba",
   "metadata": {},
   "outputs": [],
   "source": [
    "gwf.csub.cg_ske_cr.set_data([1e-4, 1e-3, 1e-4, 1e-4, 1e-4])"
   ]
  },
  {
   "cell_type": "code",
   "execution_count": null,
   "id": "1eac2a89-68ba-421c-9ef8-e76ae1c7179d",
   "metadata": {},
   "outputs": [],
   "source": [
    "gwf.csub.write()\n",
    "sim.run_simulation(silent=True)"
   ]
  },
  {
   "cell_type": "code",
   "execution_count": null,
   "id": "e9b7915a-43d9-41f2-9620-6a35ac140f8d",
   "metadata": {},
   "outputs": [],
   "source": [
    "ds = plot_results()"
   ]
  },
  {
   "cell_type": "code",
   "execution_count": null,
   "id": "27ac7db6-964d-4f3c-9871-536b93db5743",
   "metadata": {},
   "outputs": [],
   "source": [
    "ds.min(), ds.max()"
   ]
  },
  {
   "cell_type": "markdown",
   "id": "66118cc9-90d3-4e47-a138-5c4707887a30",
   "metadata": {},
   "source": [
    "## Decrease the specific storage"
   ]
  },
  {
   "cell_type": "code",
   "execution_count": null,
   "id": "d4ef8b37-87cf-4f56-a03e-3b95c36b0f05",
   "metadata": {},
   "outputs": [],
   "source": [
    "gwf.csub.cg_ske_cr.set_data([1e-6, 1e-5, 1e-6, 1e-6, 1e-6])"
   ]
  },
  {
   "cell_type": "code",
   "execution_count": null,
   "id": "16699949-81f9-4432-a028-1585b3518683",
   "metadata": {},
   "outputs": [],
   "source": [
    "gwf.csub.write()\n",
    "sim.run_simulation(silent=True)"
   ]
  },
  {
   "cell_type": "code",
   "execution_count": null,
   "id": "016689d3-7d9c-478d-99c4-737b66c09dd1",
   "metadata": {},
   "outputs": [],
   "source": [
    "ds = plot_results()"
   ]
  },
  {
   "cell_type": "code",
   "execution_count": null,
   "id": "ea8a0f53-e649-477a-97ca-ee1fc81f45e7",
   "metadata": {},
   "outputs": [],
   "source": [
    "ds.min(), ds.max()"
   ]
  },
  {
   "cell_type": "markdown",
   "id": "43a78ce9-4e35-4abb-9cef-3872b8056d00",
   "metadata": {},
   "source": [
    "## What are the differences in the maximum and minimum subsidence values at each observation locations"
   ]
  },
  {
   "cell_type": "markdown",
   "id": "c672fd8e-0a6c-4334-a76a-1115afaf6863",
   "metadata": {},
   "source": [
    "**(25,29)**\n",
    "| simulation | maximum | minimum |\n",
    "| ---------- | ------- | ------- |\n",
    "| increase | 0.112390 | -0.020491 |\n",
    "| base | -0.004800 | 0.011778 |\n",
    "| decrease | -0.000564 | 0.001183 |\n",
    "\n",
    "\n",
    "**(21,25)**\n",
    "| simulation | maximum | minimum |\n",
    "| ---------- | ------- | ------- |\n",
    "| increase | -0.041786 | 0.189644 |\n",
    "| base | -0.010953 | 0.020202 |\n",
    "| decrease | -0.001299 | 0.002032 |"
   ]
  },
  {
   "cell_type": "code",
   "execution_count": null,
   "id": "247367b2-f2d5-418d-82ae-3519a6b672fb",
   "metadata": {},
   "outputs": [],
   "source": []
  }
 ],
 "metadata": {
  "kernelspec": {
   "display_name": "Python 3 (ipykernel)",
   "language": "python",
   "name": "python3"
  }
 },
 "nbformat": 4,
 "nbformat_minor": 5
}
