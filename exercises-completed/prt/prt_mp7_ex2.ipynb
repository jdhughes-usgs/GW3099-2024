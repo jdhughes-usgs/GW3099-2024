{
 "cells": [
  {
   "cell_type": "markdown",
   "id": "39fe9667",
   "metadata": {},
   "source": [
    "# U.S. Geological Survey Class GW3099\n",
    "\n",
    "Advanced Modeling of Groundwater Flow (GW3099) <br>\n",
    "Boise, Idaho <br>\n",
    "September 16 - 20, 2024 <br>"
   ]
  },
  {
   "cell_type": "markdown",
   "id": "9fd5ab69",
   "metadata": {},
   "source": [
    "# ![title](../../images/ClassLocation.jpg)"
   ]
  },
  {
   "cell_type": "markdown",
   "id": "b1702181",
   "metadata": {},
   "source": [
    "# PRT example 1: backwards tracking in steady flow field"
   ]
  },
  {
   "cell_type": "markdown",
   "id": "0551c195",
   "metadata": {},
   "source": [
    "![title](../../images/ex-prt-mp7-p01-config.png)"
   ]
  },
  {
   "cell_type": "markdown",
   "id": "a85831d8",
   "metadata": {},
   "source": [
    "This notebook demonstrates backwards tracking in a steady-state flow field. First a MODFLOW 6 PRT model and an equivalent MODPATH 7 model are run side-by-side, and their results compared. We then refine the grid around the release location and rerun the model to demonstrate the effects of a modified discretization."
   ]
  },
  {
   "cell_type": "markdown",
   "id": "92296bd7",
   "metadata": {},
   "source": [
    "Import dependencies."
   ]
  },
  {
   "cell_type": "code",
   "execution_count": 6,
   "id": "689cdab4",
   "metadata": {},
   "outputs": [],
   "source": [
    "import pathlib as pl\n",
    "import flopy\n",
    "import matplotlib as mpl\n",
    "import matplotlib.pyplot as plt\n",
    "import numpy as np\n",
    "import pandas as pd\n",
    "import pyvista as pv\n",
    "import warnings\n",
    "from flopy.export.vtk import Vtk\n",
    "from flopy.utils.gridgen import Gridgen\n",
    "from flopy.utils.gridintersect import GridIntersect\n",
    "from flopy.discretization import VertexGrid\n",
    "from flopy.utils.triangle import Triangle as Triangle\n",
    "from flopy.utils.voronoi import VoronoiGrid\n",
    "from shapely.geometry import LineString, Point, MultiPoint, Polygon\n",
    "from matplotlib import colormaps as cm"
   ]
  },
  {
   "cell_type": "markdown",
   "id": "275d8e66",
   "metadata": {},
   "source": [
    "Ignore some warnings."
   ]
  },
  {
   "cell_type": "code",
   "execution_count": 7,
   "id": "8336c32c",
   "metadata": {},
   "outputs": [],
   "source": [
    "warnings.simplefilter(\"ignore\", UserWarning)\n",
    "warnings.simplefilter(\"ignore\", DeprecationWarning)"
   ]
  },
  {
   "cell_type": "markdown",
   "id": "09d692a6",
   "metadata": {},
   "source": [
    "Make sure executables are installed."
   ]
  },
  {
   "cell_type": "code",
   "execution_count": 8,
   "id": "fba4c6b7",
   "metadata": {},
   "outputs": [
    {
     "name": "stdout",
     "output_type": "stream",
     "text": [
      "auto-selecting option ':python' for 'bindir'\n",
      "fetched release '19.0' info from MODFLOW-USGS/executables\n",
      "using previous download '/Users/wbonelli/Downloads/modflow_executables-19.0-macarm.zip' (use 'force=True' to re-download)\n",
      "extracting 4 files to '/Users/wbonelli/micromamba/envs/gw3099/bin'\n",
      "gridgen (1.0.02) mf6 (6.5.0)      mp7 (7.2.001)    triangle (1.6)\n",
      "updated flopy metadata file: '/Users/wbonelli/.local/share/flopy/get_modflow.json'\n"
     ]
    }
   ],
   "source": [
    "flopy.utils.get_modflow(\":python\", subset=\"mf6,mp7,gridgen,triangle\")"
   ]
  },
  {
   "cell_type": "markdown",
   "id": "311ed1b5",
   "metadata": {},
   "source": [
    "Create a base workspace."
   ]
  },
  {
   "cell_type": "code",
   "execution_count": 9,
   "id": "19eb4628",
   "metadata": {},
   "outputs": [],
   "source": [
    "example_name = \"prt_mp7_ex2\"\n",
    "base_ws = pl.Path(\"temp\") / example_name\n",
    "base_ws.mkdir(exist_ok=True, parents=True)"
   ]
  },
  {
   "cell_type": "markdown",
   "id": "2b6f3f8a",
   "metadata": {},
   "source": [
    "## Flow model\n",
    "\n",
    "First we define a flow model which will be used by PRT and MP7.\n",
    "\n",
    "Define the flow model name and workspace."
   ]
  },
  {
   "cell_type": "code",
   "execution_count": 10,
   "id": "94258332",
   "metadata": {},
   "outputs": [],
   "source": [
    "gwf_name = f\"{example_name}-gwf\"\n",
    "gwf_ws = base_ws / \"gwf\"\n",
    "gwf_ws.mkdir(exist_ok=True, parents=True)"
   ]
  },
  {
   "cell_type": "markdown",
   "id": "53fa4dd5",
   "metadata": {},
   "source": [
    "Define flow model units."
   ]
  },
  {
   "cell_type": "code",
   "execution_count": 11,
   "id": "8e43909a",
   "metadata": {},
   "outputs": [],
   "source": [
    "length_units = \"feet\"\n",
    "time_units = \"days\""
   ]
  },
  {
   "cell_type": "markdown",
   "id": "89295c2f",
   "metadata": {},
   "source": [
    "Define flow model parameters."
   ]
  },
  {
   "cell_type": "code",
   "execution_count": 12,
   "id": "59d504c9",
   "metadata": {},
   "outputs": [],
   "source": [
    "nper = 1  # Number of periods\n",
    "nlay = 3  # Number of layers (base grid)\n",
    "nrow = 21  # Number of rows (base grid)\n",
    "ncol = 20  # Number of columns (base grid)\n",
    "delr = 500.0  # Column width ($ft$)\n",
    "delc = 500.0  # Row width ($ft$)\n",
    "top = 400.0  # Top of the model ($ft$)\n",
    "botm = [220.0, 200.0, 0.0]  # Layer bottom elevations ($ft$)\n",
    "porosity = 0.1  # Soil porosity (unitless)\n",
    "rch = 0.005  # Recharge rate ($ft/d$)\n",
    "kh = [50.0, 0.01, 200.0]  # Horizontal hydraulic conductivity ($ft/d$)\n",
    "kv = [10.0, 0.01, 20.0]  # Vertical hydraulic conductivity ($ft/d$)\n",
    "wel_q = -150000.0  # Well pumping rate ($ft^3/d$)\n",
    "riv_h = 320.0  # River stage ($ft$)\n",
    "riv_z = 317.0  # River bottom ($ft$)\n",
    "riv_c = 1.0e5  # River conductance ($ft^2/d$)"
   ]
  },
  {
   "cell_type": "markdown",
   "id": "9e68569d",
   "metadata": {},
   "source": [
    "Define the initial structured grid discretization."
   ]
  },
  {
   "cell_type": "code",
   "execution_count": 13,
   "id": "d8cd4fa2",
   "metadata": {},
   "outputs": [],
   "source": [
    "Lx = 10000.0\n",
    "Ly = 10500.0\n",
    "nlay = 3\n",
    "nrow = 21\n",
    "ncol = 20\n",
    "delr = Lx / ncol\n",
    "delc = Ly / nrow\n",
    "top = 400\n",
    "botm = [220, 200, 0]"
   ]
  },
  {
   "cell_type": "markdown",
   "id": "bd9c64de",
   "metadata": {},
   "source": [
    "Define the time discretization."
   ]
  },
  {
   "cell_type": "code",
   "execution_count": 14,
   "id": "fc77b889",
   "metadata": {},
   "outputs": [],
   "source": [
    "nstp = 1\n",
    "perlen = 1000.0\n",
    "tsmult = 1.0\n",
    "tdis_rc = [(perlen, nstp, tsmult)]"
   ]
  },
  {
   "cell_type": "markdown",
   "id": "db3d8c41",
   "metadata": {},
   "source": [
    "Construct a simulation for the flow model."
   ]
  },
  {
   "cell_type": "code",
   "execution_count": 15,
   "id": "c44ff5ae",
   "metadata": {},
   "outputs": [],
   "source": [
    "gwf_sim = flopy.mf6.MFSimulation(\n",
    "    sim_name=gwf_name, exe_name=\"mf6\", version=\"mf6\", sim_ws=gwf_ws\n",
    ")"
   ]
  },
  {
   "cell_type": "markdown",
   "id": "4aafe639",
   "metadata": {},
   "source": [
    "Create the time discretization."
   ]
  },
  {
   "cell_type": "code",
   "execution_count": 16,
   "id": "96579356",
   "metadata": {},
   "outputs": [],
   "source": [
    "tdis = flopy.mf6.ModflowTdis(\n",
    "    gwf_sim, pname=\"tdis\", time_units=\"DAYS\", perioddata=tdis_rc, nper=len(tdis_rc)\n",
    ")"
   ]
  },
  {
   "cell_type": "markdown",
   "id": "32bc9512",
   "metadata": {},
   "source": [
    "Create the flow model."
   ]
  },
  {
   "cell_type": "code",
   "execution_count": 17,
   "id": "1b4a44c8",
   "metadata": {},
   "outputs": [],
   "source": [
    "gwf = flopy.mf6.ModflowGwf(\n",
    "    gwf_sim, modelname=gwf_name, model_nam_file=\"{}.nam\".format(gwf_name)\n",
    ")\n",
    "gwf.name_file.save_flows = True"
   ]
  },
  {
   "cell_type": "markdown",
   "id": "85cd2a51",
   "metadata": {},
   "source": [
    "Create the discretization package."
   ]
  },
  {
   "cell_type": "code",
   "execution_count": 18,
   "id": "1fee1200",
   "metadata": {},
   "outputs": [],
   "source": [
    "dis = flopy.mf6.ModflowGwfdis(\n",
    "    gwf,\n",
    "    length_units=length_units,\n",
    "    nlay=nlay,\n",
    "    nrow=nrow,\n",
    "    ncol=ncol,\n",
    "    delr=delr,\n",
    "    delc=delc,\n",
    "    top=top,\n",
    "    botm=botm\n",
    ")"
   ]
  },
  {
   "cell_type": "markdown",
   "id": "ba4226b9",
   "metadata": {},
   "source": [
    "Create the initial conditions package."
   ]
  },
  {
   "cell_type": "code",
   "execution_count": 19,
   "id": "e449069e",
   "metadata": {},
   "outputs": [],
   "source": [
    "ic = flopy.mf6.ModflowGwfic(gwf, pname=\"ic\", strt=riv_h)  # initial heads at river stage"
   ]
  },
  {
   "cell_type": "markdown",
   "id": "fc553944",
   "metadata": {},
   "source": [
    "Create the node property flow package."
   ]
  },
  {
   "cell_type": "code",
   "execution_count": 20,
   "id": "4a566987",
   "metadata": {},
   "outputs": [],
   "source": [
    "npf = flopy.mf6.ModflowGwfnpf(\n",
    "    gwf,\n",
    "    xt3doptions=[(\"xt3d\")],\n",
    "    icelltype=[1, 0, 0],\n",
    "    k=kh,\n",
    "    k33=kv,\n",
    "    save_saturation=True,\n",
    "    save_specific_discharge=True,\n",
    ")"
   ]
  },
  {
   "cell_type": "markdown",
   "id": "c9c661ee",
   "metadata": {},
   "source": [
    "Define the model's boundary conditions. These include a well, a river, and recharge."
   ]
  },
  {
   "cell_type": "code",
   "execution_count": null,
   "id": "26d4fa26",
   "metadata": {},
   "outputs": [],
   "source": [
    "# Well package\n",
    "wel_loc = (2, 10, 9)\n",
    "wd = [(wel_loc, wel_q)]\n",
    "\n",
    "# River package\n",
    "riv_iface = 6\n",
    "riv_iflowface = -1\n",
    "rd = []\n",
    "for i in range(nrow):\n",
    "    rd.append([(0, i, ncol - 1), riv_h, riv_c, riv_z, riv_iface, riv_iflowface])\n",
    "\n",
    "# Recharge package\n",
    "rch_iface = 6\n",
    "rch_iflowface = -1"
   ]
  },
  {
   "cell_type": "markdown",
   "id": "43ad9abd",
   "metadata": {},
   "source": [
    "Define well and river cell numbers, used to extract and plot model results later."
   ]
  },
  {
   "cell_type": "code",
   "execution_count": null,
   "id": "65e1a923",
   "metadata": {},
   "outputs": [],
   "source": [
    "nodes = {}\n",
    "k, i, j = wel_loc\n",
    "nodes[\"well\"] = [ncol * (nrow * k + i) + j]\n",
    "nodes[\"river\"] = []\n",
    "for rivspec in rd:\n",
    "    k, i, j = rivspec[0]\n",
    "    node = ncol * (nrow * k + i) + j\n",
    "    nodes[\"river\"].append(node)"
   ]
  },
  {
   "cell_type": "markdown",
   "id": "0f80c41b",
   "metadata": {},
   "source": [
    "Create the recharge, well, and river packages."
   ]
  },
  {
   "cell_type": "code",
   "execution_count": null,
   "id": "2e0a2c98",
   "metadata": {},
   "outputs": [],
   "source": [
    "# Instantiate the MODFLOW 6 gwf recharge package\n",
    "flopy.mf6.modflow.mfgwfrcha.ModflowGwfrcha(\n",
    "    gwf,\n",
    "    recharge=rch,\n",
    "    auxiliary=[\"iface\", \"iflowface\"],\n",
    "    aux=[rch_iface, rch_iflowface],\n",
    ")\n",
    "\n",
    "# Instantiate the MODFLOW 6 gwf well package\n",
    "flopy.mf6.modflow.mfgwfwel.ModflowGwfwel(\n",
    "    gwf, maxbound=1, stress_period_data={0: wd}\n",
    ")\n",
    "\n",
    "# Instantiate the MODFLOW 6 gwf river package\n",
    "flopy.mf6.modflow.mfgwfriv.ModflowGwfriv(\n",
    "    gwf, auxiliary=[\"iface\", \"iflowface\"], stress_period_data={0: rd}\n",
    ")"
   ]
  },
  {
   "cell_type": "markdown",
   "id": "ba50c7b3",
   "metadata": {},
   "source": [
    "Create the output control package."
   ]
  },
  {
   "cell_type": "code",
   "execution_count": null,
   "id": "48bc2ba1",
   "metadata": {},
   "outputs": [],
   "source": [
    "# Define output file names\n",
    "headfile = f\"{gwf_name}.hds\"\n",
    "budgetfile = f\"{gwf_name}.cbb\"\n",
    "\n",
    "# Create package\n",
    "head_record = [headfile]\n",
    "budget_record = [budgetfile]\n",
    "saverecord = [(\"HEAD\", \"ALL\"), (\"BUDGET\", \"ALL\")]\n",
    "flopy.mf6.modflow.mfgwfoc.ModflowGwfoc(\n",
    "    gwf,\n",
    "    pname=\"oc\",\n",
    "    saverecord=saverecord,\n",
    "    head_filerecord=head_record,\n",
    "    budget_filerecord=budget_record,\n",
    ")"
   ]
  },
  {
   "cell_type": "markdown",
   "id": "fe056441",
   "metadata": {},
   "source": [
    "Create the solver package."
   ]
  },
  {
   "cell_type": "code",
   "execution_count": null,
   "id": "be9e0d86",
   "metadata": {},
   "outputs": [],
   "source": [
    "ims = flopy.mf6.ModflowIms(\n",
    "    gwf_sim,\n",
    "    pname=\"ims\",\n",
    "    complexity=\"SIMPLE\",\n",
    "    outer_dvclose=1e-6,\n",
    "    inner_dvclose=1e-6,\n",
    "    rcloserecord=1e-6,\n",
    ")"
   ]
  },
  {
   "cell_type": "markdown",
   "id": "498cd107",
   "metadata": {},
   "source": [
    "# ## Tracking models\n",
    "# \n",
    "# We now define a MODPATH 7 particle tracking simulation, then an equivalent PRT simulation.\n",
    "\n",
    "# ### PRT model\n",
    "\n",
    "# Define the PRT model name and workspace."
   ]
  },
  {
   "cell_type": "code",
   "execution_count": null,
   "id": "63918c4c",
   "metadata": {},
   "outputs": [],
   "source": [
    "prt_name = f\"{example_name}-prt\"\n",
    "prt_ws = base_ws / \"prt\"\n",
    "prt_ws.mkdir(exist_ok=True, parents=True)"
   ]
  },
  {
   "cell_type": "markdown",
   "id": "69917168",
   "metadata": {},
   "source": [
    "# Create a PRT simulation."
   ]
  },
  {
   "cell_type": "code",
   "execution_count": null,
   "id": "402001f6",
   "metadata": {},
   "outputs": [],
   "source": [
    "prt_sim = flopy.mf6.MFSimulation(\n",
    "    sim_name=prt_name, exe_name=\"mf6\", version=\"mf6\", sim_ws=prt_ws\n",
    ")"
   ]
  },
  {
   "cell_type": "markdown",
   "id": "571dde97",
   "metadata": {},
   "source": [
    "# Create the temporal discretization."
   ]
  },
  {
   "cell_type": "code",
   "execution_count": null,
   "id": "cd2c3eff",
   "metadata": {},
   "outputs": [],
   "source": [
    "flopy.mf6.modflow.mftdis.ModflowTdis(\n",
    "    prt_sim,\n",
    "    pname=\"tdis\",\n",
    "    time_units=\"DAYS\",\n",
    "    nper=nper,\n",
    "    perioddata=[(perlen, nstp, tsmult)],\n",
    ")"
   ]
  },
  {
   "cell_type": "markdown",
   "id": "2faebdc3",
   "metadata": {},
   "source": [
    "# Create the PRT model."
   ]
  },
  {
   "cell_type": "code",
   "execution_count": null,
   "id": "70f687cc",
   "metadata": {},
   "outputs": [],
   "source": [
    "prt = flopy.mf6.ModflowPrt(\n",
    "    prt_sim, modelname=prt_name, model_nam_file=f\"{prt_name}.nam\"\n",
    ")"
   ]
  },
  {
   "cell_type": "markdown",
   "id": "9a28b8eb",
   "metadata": {},
   "source": [
    "# Create the discretization package."
   ]
  },
  {
   "cell_type": "code",
   "execution_count": null,
   "id": "cfb60621",
   "metadata": {},
   "outputs": [],
   "source": [
    "flopy.mf6.modflow.mfgwfdis.ModflowGwfdis(\n",
    "    prt,\n",
    "    pname=\"dis\",\n",
    "    nlay=nlay,\n",
    "    nrow=nrow,\n",
    "    ncol=ncol,\n",
    "    length_units=\"FEET\",\n",
    "    delr=delr,\n",
    "    delc=delc,\n",
    "    top=top,\n",
    "    botm=botm,\n",
    ")"
   ]
  },
  {
   "cell_type": "markdown",
   "id": "75a0c027",
   "metadata": {},
   "source": [
    "Create the PRT model input package."
   ]
  },
  {
   "cell_type": "code",
   "execution_count": null,
   "id": "ab010a0a",
   "metadata": {},
   "outputs": [],
   "source": [
    "# Instantiate the MODFLOW 6 prt model input package.\n",
    "# Assign a different zone number to active cells, well cells, and river cells.\n",
    "# This makes it easier to determine where particles terminate.\n",
    "izone = np.zeros((nlay, nrow, ncol), dtype=int)\n",
    "for l, r, c in gwf.modelgrid.get_lrc(nodes[\"well\"]):\n",
    "    izone[l, r, c] = 1\n",
    "for l, r, c in gwf.modelgrid.get_lrc(nodes[\"river\"]):\n",
    "    izone[l, r, c] = 2\n",
    "flopy.mf6.ModflowPrtmip(prt, pname=\"mip\", porosity=porosity, izone=izone)\n"
   ]
  },
  {
   "cell_type": "markdown",
   "id": "97f96617",
   "metadata": {},
   "source": [
    "Create the particle release package."
   ]
  },
  {
   "cell_type": "code",
   "execution_count": null,
   "id": "5a71322d",
   "metadata": {},
   "outputs": [],
   "source": [
    "# TODO: PRP"
   ]
  },
  {
   "cell_type": "markdown",
   "id": "c7178619",
   "metadata": {},
   "source": [
    "Create the output control package."
   ]
  },
  {
   "cell_type": "code",
   "execution_count": null,
   "id": "2810bb36",
   "metadata": {},
   "outputs": [],
   "source": [
    "# Define output files.\n",
    "budgetfile_prt = f\"{prt_name}.cbb\"\n",
    "trackfile_prt = f\"{prt_name}.trk\"\n",
    "trackhdrfile_prt = f\"{prt_name}.trk.hdr\"\n",
    "trackcsvfile_prt = f\"{prt_name}.trk.csv\"\n",
    "\n",
    "# Define the output control package.\n",
    "budget_record = [budgetfile_prt]\n",
    "track_record = [trackfile_prt]\n",
    "trackcsv_record = [trackcsvfile_prt]\n",
    "tracktimes = list(range(0, 72000, 1000))\n",
    "flopy.mf6.ModflowPrtoc(\n",
    "    prt,\n",
    "    pname=\"oc\",\n",
    "    budget_filerecord=budget_record,\n",
    "    track_filerecord=track_record,\n",
    "    trackcsv_filerecord=trackcsv_record,\n",
    "    ntracktimes=len(tracktimes),\n",
    "    tracktimes=[(t,) for t in tracktimes],\n",
    "    saverecord=[(\"BUDGET\", \"ALL\")],\n",
    ")"
   ]
  },
  {
   "cell_type": "markdown",
   "id": "ae9fa491",
   "metadata": {},
   "source": [
    "Create the flow model interface."
   ]
  },
  {
   "cell_type": "code",
   "execution_count": null,
   "id": "eb38fbfa",
   "metadata": {},
   "outputs": [],
   "source": [
    "pd = [\n",
    "    (\"GWFHEAD\", pl.Path(f\"../{gwf_ws.name}/{headfile}\")),\n",
    "    (\"GWFBUDGET\", pl.Path(f\"../{gwf_ws.name}/{budgetfile}\")),\n",
    "]\n",
    "flopy.mf6.ModflowPrtfmi(prt, packagedata=pd)"
   ]
  },
  {
   "cell_type": "markdown",
   "id": "4889ae0d",
   "metadata": {},
   "source": [
    "Create an explicit model solution for the PRT model."
   ]
  },
  {
   "cell_type": "code",
   "execution_count": null,
   "id": "df360570",
   "metadata": {},
   "outputs": [],
   "source": [
    "ems = flopy.mf6.ModflowEms(\n",
    "    prt_sim,\n",
    "    pname=\"ems\",\n",
    "    filename=f\"{prt_name}.ems\",\n",
    ")\n",
    "prt_sim.register_solution_package(ems, [prt.name])"
   ]
  },
  {
   "cell_type": "code",
   "execution_count": null,
   "id": "839d9b45",
   "metadata": {},
   "outputs": [],
   "source": [
    "# ### MP7 model\n",
    "#\n",
    "# Create a MODPATH 7 model."
   ]
  },
  {
   "cell_type": "code",
   "execution_count": null,
   "id": "e4ebbde7",
   "metadata": {},
   "outputs": [],
   "source": []
  },
  {
   "cell_type": "markdown",
   "id": "ecdfcc53",
   "metadata": {},
   "source": [
    "## Grid refinement\n",
    "\n",
    "We can now refine the grid around the particle release location.\n",
    "\n",
    "First create a GRIDGEN object wrapping the flow model's grid, to which we'll add refinements."
   ]
  },
  {
   "cell_type": "code",
   "execution_count": null,
   "id": "bcf5a2dc",
   "metadata": {},
   "outputs": [],
   "source": [
    "gridgen_ws = base_ws / \"gridgen\"\n",
    "gridgen_ws.mkdir(parents=True, exist_ok=True)\n",
    "gridgen = Gridgen(gwf.modelgrid, model_ws=gridgen_ws)"
   ]
  },
  {
   "cell_type": "markdown",
   "id": "6999b323",
   "metadata": {},
   "source": [
    "# Define refinement polygons."
   ]
  },
  {
   "cell_type": "code",
   "execution_count": null,
   "id": "692ba597",
   "metadata": {},
   "outputs": [],
   "source": [
    "ref_polys = [\n",
    "    [[(3500, 4000), (3500, 6500), (6000, 6500), (6000, 4000), (3500, 4000)]],  # outer\n",
    "    [[(4000, 4500), (4000, 6000), (5500, 6000), (5500, 4500), (4000, 4500)]],  # middle\n",
    "    [[(4500, 5000), (4500, 5500), (5000, 5500), (5000, 5000), (4500, 5000)]],  # inner\n",
    "]\n",
    "ref_paths = []\n",
    "for i, poly in enumerate(ref_polys):\n",
    "    gridgen.add_refinement_features([poly], \"polygon\", i + 1, range(nlay))\n",
    "    ref_paths.append(gridgen_ws / f\"rf{i}\")"
   ]
  },
  {
   "cell_type": "markdown",
   "id": "cb4eecd6",
   "metadata": {},
   "source": [
    "Build the refined grid."
   ]
  },
  {
   "cell_type": "code",
   "execution_count": null,
   "id": "36b7078d",
   "metadata": {},
   "outputs": [],
   "source": [
    "gridgen.build(verbose=False)\n",
    "grid_props = gridgen.get_gridprops_vertexgrid()\n",
    "disv_props = gridgen.get_gridprops_disv()\n",
    "grid = flopy.discretization.VertexGrid(**grid_props)"
   ]
  },
  {
   "cell_type": "markdown",
   "id": "cf899ec7",
   "metadata": {},
   "source": [
    "Extract refined grid properties."
   ]
  },
  {
   "cell_type": "code",
   "execution_count": null,
   "id": "a7a7c8ea",
   "metadata": {},
   "outputs": [],
   "source": [
    "ncpl = disv_props[\"ncpl\"]\n",
    "top = disv_props[\"top\"]\n",
    "botm = disv_props[\"botm\"]\n",
    "nvert = disv_props[\"nvert\"]\n",
    "vertices = disv_props[\"vertices\"]\n",
    "cell2d = disv_props[\"cell2d\"]"
   ]
  },
  {
   "cell_type": "markdown",
   "id": "67f37e3e",
   "metadata": {},
   "source": [
    "Plot the grid with refinement levels superimposed."
   ]
  },
  {
   "cell_type": "code",
   "execution_count": null,
   "id": "78650b94",
   "metadata": {},
   "outputs": [],
   "source": [
    "grid.plot()\n",
    "for i, path in enumerate(ref_paths):\n",
    "    flopy.plot.plot_shapefile(path, ax=plt.gca(), facecolor=\"green\", edgecolor=\"none\", alpha=(i + 1) / 3)\n",
    "plt.show()"
   ]
  },
  {
   "cell_type": "markdown",
   "id": "f96c056e",
   "metadata": {},
   "source": [
    "We can now modify the flow model simulation above:\n",
    "\n",
    "1. Detach the structured grid discretization\n",
    "2. Attach the refined grid discretization\n",
    "3. Add the particle tracking model\n",
    "4. Add a GWF-PRT model exchange"
   ]
  },
  {
   "cell_type": "code",
   "execution_count": null,
   "id": "d1d5e4d1",
   "metadata": {},
   "outputs": [],
   "source": [
    "sim = gwf_sim\n",
    "sim.remove_package(\"dis\")\n",
    "disv = flopy.mf6.ModflowGwfdisv(\n",
    "    gwf,\n",
    "    length_units=length_units,\n",
    "    **disv_props,  # from grid refinement above\n",
    ")"
   ]
  },
  {
   "cell_type": "markdown",
   "id": "a048f15c",
   "metadata": {},
   "source": [
    "Define the model's boundary conditions. These include a well, a river, and recharge. Instead of manually setting cell IDs for the well and river, we will determine cell IDs by defining boundary coordinates and intersecting them with the grid."
   ]
  },
  {
   "cell_type": "code",
   "execution_count": 21,
   "id": "389fa742",
   "metadata": {},
   "outputs": [],
   "source": [
    "ix = GridIntersect(gwf.modelgrid, method=\"vertex\", rtree=True)"
   ]
  },
  {
   "cell_type": "markdown",
   "id": "d1f366f7",
   "metadata": {},
   "source": [
    "Create the well package."
   ]
  },
  {
   "cell_type": "code",
   "execution_count": 23,
   "id": "98572bc7",
   "metadata": {},
   "outputs": [],
   "source": [
    "wel_coords = [(4718.45, 5281.25)]\n",
    "welcells = ix.intersects(MultiPoint(wel_coords))\n",
    "welcells = [icpl for (icpl,) in welcells]\n",
    "welspd = [[(2, icpl), -150000.0] for icpl in welcells]\n",
    "wel = flopy.mf6.ModflowGwfwel(gwf, print_input=True, stress_period_data=welspd)"
   ]
  },
  {
   "cell_type": "markdown",
   "id": "4f2e9af3",
   "metadata": {},
   "source": [
    "Create the river package."
   ]
  },
  {
   "cell_type": "code",
   "execution_count": 24,
   "id": "cc8d37bd",
   "metadata": {},
   "outputs": [
    {
     "ename": "IndexError",
     "evalue": "tuple index out of range",
     "output_type": "error",
     "traceback": [
      "\u001b[0;31m---------------------------------------------------------------------------\u001b[0m",
      "\u001b[0;31mIndexError\u001b[0m                                Traceback (most recent call last)",
      "Cell \u001b[0;32mIn[24], line 9\u001b[0m\n\u001b[1;32m      5\u001b[0m rivcells \u001b[38;5;241m=\u001b[39m [icpl \u001b[38;5;28;01mfor\u001b[39;00m (icpl,) \u001b[38;5;129;01min\u001b[39;00m rivcells]\n\u001b[1;32m      6\u001b[0m rivspd \u001b[38;5;241m=\u001b[39m [\n\u001b[1;32m      7\u001b[0m     [(\u001b[38;5;241m0\u001b[39m, icpl), riv_h, riv_c, riv_z, riv_iface, riv_iflowface] \u001b[38;5;28;01mfor\u001b[39;00m icpl \u001b[38;5;129;01min\u001b[39;00m rivcells\n\u001b[1;32m      8\u001b[0m ]\n\u001b[0;32m----> 9\u001b[0m riv \u001b[38;5;241m=\u001b[39m \u001b[43mflopy\u001b[49m\u001b[38;5;241;43m.\u001b[39;49m\u001b[43mmf6\u001b[49m\u001b[38;5;241;43m.\u001b[39;49m\u001b[43mModflowGwfriv\u001b[49m\u001b[43m(\u001b[49m\n\u001b[1;32m     10\u001b[0m \u001b[43m    \u001b[49m\u001b[43mgwf\u001b[49m\u001b[43m,\u001b[49m\u001b[43m \u001b[49m\u001b[43mstress_period_data\u001b[49m\u001b[38;5;241;43m=\u001b[39;49m\u001b[43mrivspd\u001b[49m\u001b[43m,\u001b[49m\u001b[43m \u001b[49m\u001b[43mauxiliary\u001b[49m\u001b[38;5;241;43m=\u001b[39;49m\u001b[43m[\u001b[49m\u001b[43m(\u001b[49m\u001b[38;5;124;43m\"\u001b[39;49m\u001b[38;5;124;43miface\u001b[39;49m\u001b[38;5;124;43m\"\u001b[39;49m\u001b[43m,\u001b[49m\u001b[43m \u001b[49m\u001b[38;5;124;43m\"\u001b[39;49m\u001b[38;5;124;43miflowface\u001b[39;49m\u001b[38;5;124;43m\"\u001b[39;49m\u001b[43m)\u001b[49m\u001b[43m]\u001b[49m\n\u001b[1;32m     11\u001b[0m \u001b[43m)\u001b[49m\n",
      "File \u001b[0;32m~/micromamba/envs/gw3099/lib/python3.11/site-packages/flopy/mf6/modflow/mfgwfriv.py:223\u001b[0m, in \u001b[0;36mModflowGwfriv.__init__\u001b[0;34m(self, model, loading_package, auxiliary, auxmultname, boundnames, print_input, print_flows, save_flows, timeseries, observations, mover, maxbound, stress_period_data, filename, pname, **kwargs)\u001b[0m\n\u001b[1;32m    221\u001b[0m \u001b[38;5;28mself\u001b[39m\u001b[38;5;241m.\u001b[39mmover \u001b[38;5;241m=\u001b[39m \u001b[38;5;28mself\u001b[39m\u001b[38;5;241m.\u001b[39mbuild_mfdata(\u001b[38;5;124m\"\u001b[39m\u001b[38;5;124mmover\u001b[39m\u001b[38;5;124m\"\u001b[39m, mover)\n\u001b[1;32m    222\u001b[0m \u001b[38;5;28mself\u001b[39m\u001b[38;5;241m.\u001b[39mmaxbound \u001b[38;5;241m=\u001b[39m \u001b[38;5;28mself\u001b[39m\u001b[38;5;241m.\u001b[39mbuild_mfdata(\u001b[38;5;124m\"\u001b[39m\u001b[38;5;124mmaxbound\u001b[39m\u001b[38;5;124m\"\u001b[39m, maxbound)\n\u001b[0;32m--> 223\u001b[0m \u001b[38;5;28mself\u001b[39m\u001b[38;5;241m.\u001b[39mstress_period_data \u001b[38;5;241m=\u001b[39m \u001b[38;5;28;43mself\u001b[39;49m\u001b[38;5;241;43m.\u001b[39;49m\u001b[43mbuild_mfdata\u001b[49m\u001b[43m(\u001b[49m\u001b[38;5;124;43m\"\u001b[39;49m\u001b[38;5;124;43mstress_period_data\u001b[39;49m\u001b[38;5;124;43m\"\u001b[39;49m\u001b[43m,\u001b[49m\n\u001b[1;32m    224\u001b[0m \u001b[43m                                            \u001b[49m\u001b[43mstress_period_data\u001b[49m\u001b[43m)\u001b[49m\n\u001b[1;32m    225\u001b[0m \u001b[38;5;28mself\u001b[39m\u001b[38;5;241m.\u001b[39m_init_complete \u001b[38;5;241m=\u001b[39m \u001b[38;5;28;01mTrue\u001b[39;00m\n",
      "File \u001b[0;32m~/micromamba/envs/gw3099/lib/python3.11/site-packages/flopy/mf6/mfpackage.py:2668\u001b[0m, in \u001b[0;36mMFPackage.build_mfdata\u001b[0;34m(self, var_name, data)\u001b[0m\n\u001b[1;32m   2666\u001b[0m dataset_struct \u001b[38;5;241m=\u001b[39m block\u001b[38;5;241m.\u001b[39mdata_structures[var_name]\n\u001b[1;32m   2667\u001b[0m var_path \u001b[38;5;241m=\u001b[39m \u001b[38;5;28mself\u001b[39m\u001b[38;5;241m.\u001b[39mpath \u001b[38;5;241m+\u001b[39m (key, var_name)\n\u001b[0;32m-> 2668\u001b[0m ds \u001b[38;5;241m=\u001b[39m \u001b[38;5;28;43mself\u001b[39;49m\u001b[38;5;241;43m.\u001b[39;49m\u001b[43mblocks\u001b[49m\u001b[43m[\u001b[49m\u001b[43mblock\u001b[49m\u001b[38;5;241;43m.\u001b[39;49m\u001b[43mname\u001b[49m\u001b[43m]\u001b[49m\u001b[38;5;241;43m.\u001b[39;49m\u001b[43madd_dataset\u001b[49m\u001b[43m(\u001b[49m\n\u001b[1;32m   2669\u001b[0m \u001b[43m    \u001b[49m\u001b[43mdataset_struct\u001b[49m\u001b[43m,\u001b[49m\u001b[43m \u001b[49m\u001b[43mdata\u001b[49m\u001b[43m,\u001b[49m\u001b[43m \u001b[49m\u001b[43mvar_path\u001b[49m\n\u001b[1;32m   2670\u001b[0m \u001b[43m\u001b[49m\u001b[43m)\u001b[49m\n\u001b[1;32m   2671\u001b[0m \u001b[38;5;28mself\u001b[39m\u001b[38;5;241m.\u001b[39m_data_list\u001b[38;5;241m.\u001b[39mappend(ds)\n\u001b[1;32m   2672\u001b[0m \u001b[38;5;28;01mreturn\u001b[39;00m ds\n",
      "File \u001b[0;32m~/micromamba/envs/gw3099/lib/python3.11/site-packages/flopy/mf6/mfpackage.py:620\u001b[0m, in \u001b[0;36mMFBlock.add_dataset\u001b[0;34m(self, dataset_struct, data, var_path)\u001b[0m\n\u001b[1;32m    618\u001b[0m \u001b[38;5;250m\u001b[39m\u001b[38;5;124;03m\"\"\"Add data to this block.\"\"\"\u001b[39;00m\n\u001b[1;32m    619\u001b[0m \u001b[38;5;28;01mtry\u001b[39;00m:\n\u001b[0;32m--> 620\u001b[0m     \u001b[38;5;28mself\u001b[39m\u001b[38;5;241m.\u001b[39mdatasets[var_path[\u001b[38;5;241m-\u001b[39m\u001b[38;5;241m1\u001b[39m]] \u001b[38;5;241m=\u001b[39m \u001b[38;5;28;43mself\u001b[39;49m\u001b[38;5;241;43m.\u001b[39;49m\u001b[43mdata_factory\u001b[49m\u001b[43m(\u001b[49m\n\u001b[1;32m    621\u001b[0m \u001b[43m        \u001b[49m\u001b[38;5;28;43mself\u001b[39;49m\u001b[38;5;241;43m.\u001b[39;49m\u001b[43m_simulation_data\u001b[49m\u001b[43m,\u001b[49m\n\u001b[1;32m    622\u001b[0m \u001b[43m        \u001b[49m\u001b[38;5;28;43mself\u001b[39;49m\u001b[38;5;241;43m.\u001b[39;49m\u001b[43m_model_or_sim\u001b[49m\u001b[43m,\u001b[49m\n\u001b[1;32m    623\u001b[0m \u001b[43m        \u001b[49m\u001b[43mdataset_struct\u001b[49m\u001b[43m,\u001b[49m\n\u001b[1;32m    624\u001b[0m \u001b[43m        \u001b[49m\u001b[38;5;28;43;01mTrue\u001b[39;49;00m\u001b[43m,\u001b[49m\n\u001b[1;32m    625\u001b[0m \u001b[43m        \u001b[49m\u001b[43mvar_path\u001b[49m\u001b[43m,\u001b[49m\n\u001b[1;32m    626\u001b[0m \u001b[43m        \u001b[49m\u001b[38;5;28;43mself\u001b[39;49m\u001b[38;5;241;43m.\u001b[39;49m\u001b[43m_dimensions\u001b[49m\u001b[43m,\u001b[49m\n\u001b[1;32m    627\u001b[0m \u001b[43m        \u001b[49m\u001b[43mdata\u001b[49m\u001b[43m,\u001b[49m\n\u001b[1;32m    628\u001b[0m \u001b[43m        \u001b[49m\u001b[38;5;28;43mself\u001b[39;49m\u001b[38;5;241;43m.\u001b[39;49m\u001b[43m_container_package\u001b[49m\u001b[43m,\u001b[49m\n\u001b[1;32m    629\u001b[0m \u001b[43m    \u001b[49m\u001b[43m)\u001b[49m\n\u001b[1;32m    630\u001b[0m \u001b[38;5;28;01mexcept\u001b[39;00m MFDataException \u001b[38;5;28;01mas\u001b[39;00m mfde:\n\u001b[1;32m    631\u001b[0m     \u001b[38;5;28;01mraise\u001b[39;00m MFDataException(\n\u001b[1;32m    632\u001b[0m         mfdata_except\u001b[38;5;241m=\u001b[39mmfde,\n\u001b[1;32m    633\u001b[0m         model\u001b[38;5;241m=\u001b[39m\u001b[38;5;28mself\u001b[39m\u001b[38;5;241m.\u001b[39m_container_package\u001b[38;5;241m.\u001b[39mmodel_name,\n\u001b[0;32m   (...)\u001b[0m\n\u001b[1;32m    637\u001b[0m         \u001b[38;5;124m'\u001b[39m\u001b[38;5;124m\"\u001b[39m\u001b[38;5;132;01m{}\u001b[39;00m\u001b[38;5;124m\"\u001b[39m\u001b[38;5;124m'\u001b[39m\u001b[38;5;241m.\u001b[39mformat(dataset_struct\u001b[38;5;241m.\u001b[39mname, \u001b[38;5;28mself\u001b[39m\u001b[38;5;241m.\u001b[39mstructure\u001b[38;5;241m.\u001b[39mname),\n\u001b[1;32m    638\u001b[0m     )\n",
      "File \u001b[0;32m~/micromamba/envs/gw3099/lib/python3.11/site-packages/flopy/mf6/mfpackage.py:527\u001b[0m, in \u001b[0;36mMFBlock.data_factory\u001b[0;34m(self, sim_data, model_or_sim, structure, enable, path, dimensions, data, package)\u001b[0m\n\u001b[1;32m    516\u001b[0m         trans_list \u001b[38;5;241m=\u001b[39m mfdatalist\u001b[38;5;241m.\u001b[39mMFTransientList(\n\u001b[1;32m    517\u001b[0m             sim_data,\n\u001b[1;32m    518\u001b[0m             model_or_sim,\n\u001b[0;32m   (...)\u001b[0m\n\u001b[1;32m    524\u001b[0m             \u001b[38;5;28mself\u001b[39m,\n\u001b[1;32m    525\u001b[0m         )\n\u001b[1;32m    526\u001b[0m     \u001b[38;5;28;01mif\u001b[39;00m data \u001b[38;5;129;01mis\u001b[39;00m \u001b[38;5;129;01mnot\u001b[39;00m \u001b[38;5;28;01mNone\u001b[39;00m:\n\u001b[0;32m--> 527\u001b[0m         \u001b[43mtrans_list\u001b[49m\u001b[38;5;241;43m.\u001b[39;49m\u001b[43mset_data\u001b[49m\u001b[43m(\u001b[49m\u001b[43mdata\u001b[49m\u001b[43m,\u001b[49m\u001b[43m \u001b[49m\u001b[43mkey\u001b[49m\u001b[38;5;241;43m=\u001b[39;49m\u001b[38;5;241;43m0\u001b[39;49m\u001b[43m,\u001b[49m\u001b[43m \u001b[49m\u001b[43mautofill\u001b[49m\u001b[38;5;241;43m=\u001b[39;49m\u001b[38;5;28;43;01mTrue\u001b[39;49;00m\u001b[43m)\u001b[49m\n\u001b[1;32m    528\u001b[0m     \u001b[38;5;28;01mreturn\u001b[39;00m trans_list\n\u001b[1;32m    529\u001b[0m \u001b[38;5;28;01melif\u001b[39;00m data_type \u001b[38;5;241m==\u001b[39m mfstructure\u001b[38;5;241m.\u001b[39mDataType\u001b[38;5;241m.\u001b[39mlist_multiple:\n",
      "File \u001b[0;32m~/micromamba/envs/gw3099/lib/python3.11/site-packages/flopy/mf6/data/mfdataplist.py:2277\u001b[0m, in \u001b[0;36mMFPandasTransientList.set_data\u001b[0;34m(self, data, key, autofill)\u001b[0m\n\u001b[1;32m   2260\u001b[0m \u001b[38;5;28;01mdef\u001b[39;00m \u001b[38;5;21mset_data\u001b[39m(\u001b[38;5;28mself\u001b[39m, data, key\u001b[38;5;241m=\u001b[39m\u001b[38;5;28;01mNone\u001b[39;00m, autofill\u001b[38;5;241m=\u001b[39m\u001b[38;5;28;01mFalse\u001b[39;00m):\n\u001b[1;32m   2261\u001b[0m \u001b[38;5;250m    \u001b[39m\u001b[38;5;124;03m\"\"\"Sets the contents of the data at time `key` to `data`.\u001b[39;00m\n\u001b[1;32m   2262\u001b[0m \n\u001b[1;32m   2263\u001b[0m \u001b[38;5;124;03m    Parameters\u001b[39;00m\n\u001b[0;32m   (...)\u001b[0m\n\u001b[1;32m   2275\u001b[0m \u001b[38;5;124;03m        Automatically correct data.\u001b[39;00m\n\u001b[1;32m   2276\u001b[0m \u001b[38;5;124;03m    \"\"\"\u001b[39;00m\n\u001b[0;32m-> 2277\u001b[0m     \u001b[38;5;28;43mself\u001b[39;49m\u001b[38;5;241;43m.\u001b[39;49m\u001b[43m_set_data_record\u001b[49m\u001b[43m(\u001b[49m\u001b[43mdata\u001b[49m\u001b[43m,\u001b[49m\u001b[43m \u001b[49m\u001b[43mkey\u001b[49m\u001b[43m,\u001b[49m\u001b[43m \u001b[49m\u001b[43mautofill\u001b[49m\u001b[43m)\u001b[49m\n",
      "File \u001b[0;32m~/micromamba/envs/gw3099/lib/python3.11/site-packages/flopy/mf6/data/mfdataplist.py:2411\u001b[0m, in \u001b[0;36mMFPandasTransientList._set_data_record\u001b[0;34m(self, data_record, key, autofill, check_data, is_record)\u001b[0m\n\u001b[1;32m   2409\u001b[0m         \u001b[38;5;28;01melse\u001b[39;00m:\n\u001b[1;32m   2410\u001b[0m             \u001b[38;5;28mself\u001b[39m\u001b[38;5;241m.\u001b[39m_set_data_prep(data_record, key)\n\u001b[0;32m-> 2411\u001b[0m             \u001b[38;5;28;43msuper\u001b[39;49m\u001b[43m(\u001b[49m\u001b[43m)\u001b[49m\u001b[38;5;241;43m.\u001b[39;49m\u001b[43mset_data\u001b[49m\u001b[43m(\u001b[49m\u001b[43mdata_record\u001b[49m\u001b[43m,\u001b[49m\u001b[43m \u001b[49m\u001b[43mautofill\u001b[49m\u001b[43m,\u001b[49m\u001b[43m \u001b[49m\u001b[43mcheck_data\u001b[49m\u001b[38;5;241;43m=\u001b[39;49m\u001b[43mcheck\u001b[49m\u001b[43m)\u001b[49m\n\u001b[1;32m   2412\u001b[0m \u001b[38;5;28mself\u001b[39m\u001b[38;5;241m.\u001b[39m_cache_model_grid \u001b[38;5;241m=\u001b[39m \u001b[38;5;28;01mFalse\u001b[39;00m\n",
      "File \u001b[0;32m~/micromamba/envs/gw3099/lib/python3.11/site-packages/flopy/mf6/data/mfdataplist.py:744\u001b[0m, in \u001b[0;36mMFPandasList.set_data\u001b[0;34m(self, data, autofill, check_data, append)\u001b[0m\n\u001b[1;32m    742\u001b[0m     data[\u001b[38;5;124m\"\u001b[39m\u001b[38;5;124mboundname\u001b[39m\u001b[38;5;124m\"\u001b[39m] \u001b[38;5;241m=\u001b[39m \u001b[38;5;124m\"\u001b[39m\u001b[38;5;124m\"\u001b[39m\n\u001b[1;32m    743\u001b[0m \u001b[38;5;66;03m# get rid of tuples from cellids\u001b[39;00m\n\u001b[0;32m--> 744\u001b[0m data, count \u001b[38;5;241m=\u001b[39m \u001b[38;5;28;43mself\u001b[39;49m\u001b[38;5;241;43m.\u001b[39;49m\u001b[43m_untuple_cellids\u001b[49m\u001b[43m(\u001b[49m\u001b[43mdata\u001b[49m\u001b[43m)\u001b[49m\n\u001b[1;32m    745\u001b[0m \u001b[38;5;28;01mif\u001b[39;00m count \u001b[38;5;241m>\u001b[39m \u001b[38;5;241m0\u001b[39m:\n\u001b[1;32m    746\u001b[0m     \u001b[38;5;66;03m# make sure columns are still in correct order\u001b[39;00m\n\u001b[1;32m    747\u001b[0m     data \u001b[38;5;241m=\u001b[39m pandas\u001b[38;5;241m.\u001b[39mDataFrame(data, columns\u001b[38;5;241m=\u001b[39m\u001b[38;5;28mself\u001b[39m\u001b[38;5;241m.\u001b[39m_header_names)\n",
      "File \u001b[0;32m~/micromamba/envs/gw3099/lib/python3.11/site-packages/flopy/mf6/data/mfdataplist.py:543\u001b[0m, in \u001b[0;36mMFPandasList._untuple_cellids\u001b[0;34m(self, pdata)\u001b[0m\n\u001b[1;32m    530\u001b[0m     \u001b[38;5;28mself\u001b[39m\u001b[38;5;241m.\u001b[39m_untuple_manually(\n\u001b[1;32m    531\u001b[0m         pdata,\n\u001b[1;32m    532\u001b[0m         field_idx \u001b[38;5;241m+\u001b[39m \u001b[38;5;241m1\u001b[39m,\n\u001b[0;32m   (...)\u001b[0m\n\u001b[1;32m    535\u001b[0m         \u001b[38;5;241m1\u001b[39m,\n\u001b[1;32m    536\u001b[0m     )\n\u001b[1;32m    537\u001b[0m \u001b[38;5;28;01mtry\u001b[39;00m:\n\u001b[1;32m    538\u001b[0m     pdata\u001b[38;5;241m.\u001b[39minsert(\n\u001b[1;32m    539\u001b[0m         loc\u001b[38;5;241m=\u001b[39mfield_idx \u001b[38;5;241m+\u001b[39m \u001b[38;5;241m2\u001b[39m,\n\u001b[1;32m    540\u001b[0m         column\u001b[38;5;241m=\u001b[39m\u001b[38;5;28mself\u001b[39m\u001b[38;5;241m.\u001b[39m_unique_column_name(\n\u001b[1;32m    541\u001b[0m             pdata, \u001b[38;5;124m\"\u001b[39m\u001b[38;5;124mcellid_column\u001b[39m\u001b[38;5;124m\"\u001b[39m\n\u001b[1;32m    542\u001b[0m         ),\n\u001b[0;32m--> 543\u001b[0m         value\u001b[38;5;241m=\u001b[39m\u001b[43mpdata\u001b[49m\u001b[38;5;241;43m.\u001b[39;49m\u001b[43mapply\u001b[49m\u001b[43m(\u001b[49m\u001b[38;5;28;43;01mlambda\u001b[39;49;00m\u001b[43m \u001b[49m\u001b[43mx\u001b[49m\u001b[43m:\u001b[49m\u001b[43m \u001b[49m\u001b[43mx\u001b[49m\u001b[43m[\u001b[49m\u001b[43mcolumn_name\u001b[49m\u001b[43m]\u001b[49m\u001b[43m[\u001b[49m\u001b[38;5;241;43m2\u001b[39;49m\u001b[43m]\u001b[49m\u001b[43m,\u001b[49m\u001b[43m \u001b[49m\u001b[43maxis\u001b[49m\u001b[38;5;241;43m=\u001b[39;49m\u001b[38;5;241;43m1\u001b[39;49m\u001b[43m)\u001b[49m,\n\u001b[1;32m    544\u001b[0m     )\n\u001b[1;32m    545\u001b[0m \u001b[38;5;28;01mexcept\u001b[39;00m (\u001b[38;5;167;01mValueError\u001b[39;00m, \u001b[38;5;167;01mTypeError\u001b[39;00m):\n\u001b[1;32m    546\u001b[0m     \u001b[38;5;28mself\u001b[39m\u001b[38;5;241m.\u001b[39m_untuple_manually(\n\u001b[1;32m    547\u001b[0m         pdata,\n\u001b[1;32m    548\u001b[0m         field_idx \u001b[38;5;241m+\u001b[39m \u001b[38;5;241m2\u001b[39m,\n\u001b[0;32m   (...)\u001b[0m\n\u001b[1;32m    551\u001b[0m         \u001b[38;5;241m2\u001b[39m,\n\u001b[1;32m    552\u001b[0m     )\n",
      "File \u001b[0;32m~/micromamba/envs/gw3099/lib/python3.11/site-packages/pandas/core/frame.py:10374\u001b[0m, in \u001b[0;36mDataFrame.apply\u001b[0;34m(self, func, axis, raw, result_type, args, by_row, engine, engine_kwargs, **kwargs)\u001b[0m\n\u001b[1;32m  10360\u001b[0m \u001b[38;5;28;01mfrom\u001b[39;00m \u001b[38;5;21;01mpandas\u001b[39;00m\u001b[38;5;21;01m.\u001b[39;00m\u001b[38;5;21;01mcore\u001b[39;00m\u001b[38;5;21;01m.\u001b[39;00m\u001b[38;5;21;01mapply\u001b[39;00m \u001b[38;5;28;01mimport\u001b[39;00m frame_apply\n\u001b[1;32m  10362\u001b[0m op \u001b[38;5;241m=\u001b[39m frame_apply(\n\u001b[1;32m  10363\u001b[0m     \u001b[38;5;28mself\u001b[39m,\n\u001b[1;32m  10364\u001b[0m     func\u001b[38;5;241m=\u001b[39mfunc,\n\u001b[0;32m   (...)\u001b[0m\n\u001b[1;32m  10372\u001b[0m     kwargs\u001b[38;5;241m=\u001b[39mkwargs,\n\u001b[1;32m  10373\u001b[0m )\n\u001b[0;32m> 10374\u001b[0m \u001b[38;5;28;01mreturn\u001b[39;00m \u001b[43mop\u001b[49m\u001b[38;5;241;43m.\u001b[39;49m\u001b[43mapply\u001b[49m\u001b[43m(\u001b[49m\u001b[43m)\u001b[49m\u001b[38;5;241m.\u001b[39m__finalize__(\u001b[38;5;28mself\u001b[39m, method\u001b[38;5;241m=\u001b[39m\u001b[38;5;124m\"\u001b[39m\u001b[38;5;124mapply\u001b[39m\u001b[38;5;124m\"\u001b[39m)\n",
      "File \u001b[0;32m~/micromamba/envs/gw3099/lib/python3.11/site-packages/pandas/core/apply.py:916\u001b[0m, in \u001b[0;36mFrameApply.apply\u001b[0;34m(self)\u001b[0m\n\u001b[1;32m    913\u001b[0m \u001b[38;5;28;01melif\u001b[39;00m \u001b[38;5;28mself\u001b[39m\u001b[38;5;241m.\u001b[39mraw:\n\u001b[1;32m    914\u001b[0m     \u001b[38;5;28;01mreturn\u001b[39;00m \u001b[38;5;28mself\u001b[39m\u001b[38;5;241m.\u001b[39mapply_raw(engine\u001b[38;5;241m=\u001b[39m\u001b[38;5;28mself\u001b[39m\u001b[38;5;241m.\u001b[39mengine, engine_kwargs\u001b[38;5;241m=\u001b[39m\u001b[38;5;28mself\u001b[39m\u001b[38;5;241m.\u001b[39mengine_kwargs)\n\u001b[0;32m--> 916\u001b[0m \u001b[38;5;28;01mreturn\u001b[39;00m \u001b[38;5;28;43mself\u001b[39;49m\u001b[38;5;241;43m.\u001b[39;49m\u001b[43mapply_standard\u001b[49m\u001b[43m(\u001b[49m\u001b[43m)\u001b[49m\n",
      "File \u001b[0;32m~/micromamba/envs/gw3099/lib/python3.11/site-packages/pandas/core/apply.py:1063\u001b[0m, in \u001b[0;36mFrameApply.apply_standard\u001b[0;34m(self)\u001b[0m\n\u001b[1;32m   1061\u001b[0m \u001b[38;5;28;01mdef\u001b[39;00m \u001b[38;5;21mapply_standard\u001b[39m(\u001b[38;5;28mself\u001b[39m):\n\u001b[1;32m   1062\u001b[0m     \u001b[38;5;28;01mif\u001b[39;00m \u001b[38;5;28mself\u001b[39m\u001b[38;5;241m.\u001b[39mengine \u001b[38;5;241m==\u001b[39m \u001b[38;5;124m\"\u001b[39m\u001b[38;5;124mpython\u001b[39m\u001b[38;5;124m\"\u001b[39m:\n\u001b[0;32m-> 1063\u001b[0m         results, res_index \u001b[38;5;241m=\u001b[39m \u001b[38;5;28;43mself\u001b[39;49m\u001b[38;5;241;43m.\u001b[39;49m\u001b[43mapply_series_generator\u001b[49m\u001b[43m(\u001b[49m\u001b[43m)\u001b[49m\n\u001b[1;32m   1064\u001b[0m     \u001b[38;5;28;01melse\u001b[39;00m:\n\u001b[1;32m   1065\u001b[0m         results, res_index \u001b[38;5;241m=\u001b[39m \u001b[38;5;28mself\u001b[39m\u001b[38;5;241m.\u001b[39mapply_series_numba()\n",
      "File \u001b[0;32m~/micromamba/envs/gw3099/lib/python3.11/site-packages/pandas/core/apply.py:1081\u001b[0m, in \u001b[0;36mFrameApply.apply_series_generator\u001b[0;34m(self)\u001b[0m\n\u001b[1;32m   1078\u001b[0m \u001b[38;5;28;01mwith\u001b[39;00m option_context(\u001b[38;5;124m\"\u001b[39m\u001b[38;5;124mmode.chained_assignment\u001b[39m\u001b[38;5;124m\"\u001b[39m, \u001b[38;5;28;01mNone\u001b[39;00m):\n\u001b[1;32m   1079\u001b[0m     \u001b[38;5;28;01mfor\u001b[39;00m i, v \u001b[38;5;129;01min\u001b[39;00m \u001b[38;5;28menumerate\u001b[39m(series_gen):\n\u001b[1;32m   1080\u001b[0m         \u001b[38;5;66;03m# ignore SettingWithCopy here in case the user mutates\u001b[39;00m\n\u001b[0;32m-> 1081\u001b[0m         results[i] \u001b[38;5;241m=\u001b[39m \u001b[38;5;28;43mself\u001b[39;49m\u001b[38;5;241;43m.\u001b[39;49m\u001b[43mfunc\u001b[49m\u001b[43m(\u001b[49m\u001b[43mv\u001b[49m\u001b[43m,\u001b[49m\u001b[43m \u001b[49m\u001b[38;5;241;43m*\u001b[39;49m\u001b[38;5;28;43mself\u001b[39;49m\u001b[38;5;241;43m.\u001b[39;49m\u001b[43margs\u001b[49m\u001b[43m,\u001b[49m\u001b[43m \u001b[49m\u001b[38;5;241;43m*\u001b[39;49m\u001b[38;5;241;43m*\u001b[39;49m\u001b[38;5;28;43mself\u001b[39;49m\u001b[38;5;241;43m.\u001b[39;49m\u001b[43mkwargs\u001b[49m\u001b[43m)\u001b[49m\n\u001b[1;32m   1082\u001b[0m         \u001b[38;5;28;01mif\u001b[39;00m \u001b[38;5;28misinstance\u001b[39m(results[i], ABCSeries):\n\u001b[1;32m   1083\u001b[0m             \u001b[38;5;66;03m# If we have a view on v, we need to make a copy because\u001b[39;00m\n\u001b[1;32m   1084\u001b[0m             \u001b[38;5;66;03m#  series_generator will swap out the underlying data\u001b[39;00m\n\u001b[1;32m   1085\u001b[0m             results[i] \u001b[38;5;241m=\u001b[39m results[i]\u001b[38;5;241m.\u001b[39mcopy(deep\u001b[38;5;241m=\u001b[39m\u001b[38;5;28;01mFalse\u001b[39;00m)\n",
      "File \u001b[0;32m~/micromamba/envs/gw3099/lib/python3.11/site-packages/flopy/mf6/data/mfdataplist.py:543\u001b[0m, in \u001b[0;36mMFPandasList._untuple_cellids.<locals>.<lambda>\u001b[0;34m(x)\u001b[0m\n\u001b[1;32m    530\u001b[0m     \u001b[38;5;28mself\u001b[39m\u001b[38;5;241m.\u001b[39m_untuple_manually(\n\u001b[1;32m    531\u001b[0m         pdata,\n\u001b[1;32m    532\u001b[0m         field_idx \u001b[38;5;241m+\u001b[39m \u001b[38;5;241m1\u001b[39m,\n\u001b[0;32m   (...)\u001b[0m\n\u001b[1;32m    535\u001b[0m         \u001b[38;5;241m1\u001b[39m,\n\u001b[1;32m    536\u001b[0m     )\n\u001b[1;32m    537\u001b[0m \u001b[38;5;28;01mtry\u001b[39;00m:\n\u001b[1;32m    538\u001b[0m     pdata\u001b[38;5;241m.\u001b[39minsert(\n\u001b[1;32m    539\u001b[0m         loc\u001b[38;5;241m=\u001b[39mfield_idx \u001b[38;5;241m+\u001b[39m \u001b[38;5;241m2\u001b[39m,\n\u001b[1;32m    540\u001b[0m         column\u001b[38;5;241m=\u001b[39m\u001b[38;5;28mself\u001b[39m\u001b[38;5;241m.\u001b[39m_unique_column_name(\n\u001b[1;32m    541\u001b[0m             pdata, \u001b[38;5;124m\"\u001b[39m\u001b[38;5;124mcellid_column\u001b[39m\u001b[38;5;124m\"\u001b[39m\n\u001b[1;32m    542\u001b[0m         ),\n\u001b[0;32m--> 543\u001b[0m         value\u001b[38;5;241m=\u001b[39mpdata\u001b[38;5;241m.\u001b[39mapply(\u001b[38;5;28;01mlambda\u001b[39;00m x: \u001b[43mx\u001b[49m\u001b[43m[\u001b[49m\u001b[43mcolumn_name\u001b[49m\u001b[43m]\u001b[49m\u001b[43m[\u001b[49m\u001b[38;5;241;43m2\u001b[39;49m\u001b[43m]\u001b[49m, axis\u001b[38;5;241m=\u001b[39m\u001b[38;5;241m1\u001b[39m),\n\u001b[1;32m    544\u001b[0m     )\n\u001b[1;32m    545\u001b[0m \u001b[38;5;28;01mexcept\u001b[39;00m (\u001b[38;5;167;01mValueError\u001b[39;00m, \u001b[38;5;167;01mTypeError\u001b[39;00m):\n\u001b[1;32m    546\u001b[0m     \u001b[38;5;28mself\u001b[39m\u001b[38;5;241m.\u001b[39m_untuple_manually(\n\u001b[1;32m    547\u001b[0m         pdata,\n\u001b[1;32m    548\u001b[0m         field_idx \u001b[38;5;241m+\u001b[39m \u001b[38;5;241m2\u001b[39m,\n\u001b[0;32m   (...)\u001b[0m\n\u001b[1;32m    551\u001b[0m         \u001b[38;5;241m2\u001b[39m,\n\u001b[1;32m    552\u001b[0m     )\n",
      "\u001b[0;31mIndexError\u001b[0m: tuple index out of range"
     ]
    }
   ],
   "source": [
    "riv_iface = 6\n",
    "riv_iflowface = -1\n",
    "riverline = [(Lx - 1.0, Ly), (Lx - 1.0, 0.0)]\n",
    "rivcells = ix.intersects(LineString(riverline))\n",
    "rivcells = [icpl for (icpl,) in rivcells]\n",
    "rivspd = [\n",
    "    [(0, icpl), riv_h, riv_c, riv_z, riv_iface, riv_iflowface] for icpl in rivcells\n",
    "]\n",
    "riv = flopy.mf6.ModflowGwfriv(\n",
    "    gwf, stress_period_data=rivspd, auxiliary=[(\"iface\", \"iflowface\")]\n",
    ")"
   ]
  },
  {
   "cell_type": "markdown",
   "id": "4d3a926d",
   "metadata": {},
   "source": [
    "Create the recharge package."
   ]
  },
  {
   "cell_type": "code",
   "execution_count": null,
   "id": "a94cadad",
   "metadata": {},
   "outputs": [],
   "source": [
    "rch_iface = 6\n",
    "rch_iflowface = -1\n",
    "rch = flopy.mf6.ModflowGwfrcha(\n",
    "    gwf,\n",
    "    recharge=rch,\n",
    "    auxiliary=[\"iface\", \"iflowface\"],\n",
    "    aux=[rch_iface, rch_iflowface],\n",
    ")"
   ]
  },
  {
   "cell_type": "markdown",
   "id": "32afbf8b",
   "metadata": {},
   "source": [
    "Create the output control package."
   ]
  },
  {
   "cell_type": "code",
   "execution_count": null,
   "id": "f56946e2",
   "metadata": {},
   "outputs": [],
   "source": [
    "headfile_name = \"{}.hds\".format(gwf_name)\n",
    "budgetfile_name = \"{}.cbb\".format(gwf_name)\n",
    "oc = flopy.mf6.ModflowGwfoc(\n",
    "    gwf,\n",
    "    pname=\"oc\",\n",
    "    budget_filerecord=[budgetfile_name],\n",
    "    head_filerecord=[headfile_name],\n",
    "    headprintrecord=[(\"COLUMNS\", 10, \"WIDTH\", 15, \"DIGITS\", 6, \"GENERAL\")],\n",
    "    saverecord=[(\"HEAD\", \"ALL\"), (\"BUDGET\", \"ALL\")],\n",
    "    printrecord=[(\"HEAD\", \"ALL\"), (\"BUDGET\", \"ALL\")],\n",
    ")"
   ]
  },
  {
   "cell_type": "markdown",
   "id": "3bb3149e",
   "metadata": {},
   "source": [
    "Create the iterative model solution (IMS) package and register it with the model."
   ]
  },
  {
   "cell_type": "code",
   "execution_count": null,
   "id": "31743e63",
   "metadata": {},
   "outputs": [],
   "source": [
    "ims = flopy.mf6.ModflowIms(\n",
    "    sim,\n",
    "    pname=\"ims\",\n",
    "    outer_dvclose=1.0e-5,\n",
    "    outer_maximum=100,\n",
    "    under_relaxation=\"NONE\",\n",
    "    inner_maximum=100,\n",
    "    inner_dvclose=1.0e-6,\n",
    "    rcloserecord=0.1,\n",
    "    linear_acceleration=\"BICGSTAB\",\n",
    "    scaling_method=\"NONE\",\n",
    "    reordering_method=\"NONE\",\n",
    "    relaxation_factor=0.99,\n",
    ")\n",
    "sim.register_ims_package(ims, [gwf.name])"
   ]
  },
  {
   "cell_type": "markdown",
   "id": "dfdc6a86",
   "metadata": {},
   "source": [
    "Write and run the flow model."
   ]
  },
  {
   "cell_type": "code",
   "execution_count": null,
   "id": "3f854fdf",
   "metadata": {},
   "outputs": [],
   "source": [
    "sim.write_simulation(silent=False)\n",
    "sim.run_simulation(silent=False)"
   ]
  },
  {
   "cell_type": "markdown",
   "id": "a3bb7c62",
   "metadata": {},
   "source": [
    "Load heads."
   ]
  },
  {
   "cell_type": "code",
   "execution_count": null,
   "id": "94d399a2",
   "metadata": {},
   "outputs": [],
   "source": [
    "hds = gwf.output.head().get_data()"
   ]
  },
  {
   "cell_type": "markdown",
   "id": "9d83e71b",
   "metadata": {},
   "source": [
    "Plot heads."
   ]
  },
  {
   "cell_type": "code",
   "execution_count": null,
   "id": "b2da363e",
   "metadata": {
    "lines_to_next_cell": 2
   },
   "outputs": [],
   "source": [
    "fig = plt.figure(figsize=(5, 5))\n",
    "fig.tight_layout()\n",
    "ax = fig.add_subplot(1, 1, 1, aspect=\"equal\")\n",
    "mm = flopy.plot.PlotMapView(gwf, ax=ax, layer=2)\n",
    "mm.plot_grid(alpha=0.25)\n",
    "mm.plot_bc(\"WEL\", plotAll=True, color=\"red\")\n",
    "mm.plot_bc(\"RIV\", plotAll=True, color=\"teal\")\n",
    "pc = mm.plot_array(hds[:, 0, :], edgecolor=\"black\", alpha=0.5)\n",
    "cb = plt.colorbar(pc, shrink=0.25, pad=0.1)\n",
    "cb.ax.set_xlabel(r\"Head ($ft$)\")\n",
    "plt.show()"
   ]
  }
 ],
 "metadata": {
  "jupytext": {
   "cell_metadata_filter": "-all",
   "main_language": "python",
   "notebook_metadata_filter": "-all"
  },
  "kernelspec": {
   "display_name": "Python 3",
   "language": "python",
   "name": "python3"
  },
  "language_info": {
   "codemirror_mode": {
    "name": "ipython",
    "version": 3
   },
   "file_extension": ".py",
   "mimetype": "text/x-python",
   "name": "python",
   "nbconvert_exporter": "python",
   "pygments_lexer": "ipython3",
   "version": "3.11.10"
  }
 },
 "nbformat": 4,
 "nbformat_minor": 5
}
