{
 "cells": [
  {
   "cell_type": "markdown",
   "metadata": {},
   "source": [
    "# U.S. Geological Survey Class GW3099\n",
    "\n",
    "Advanced Modeling of Groundwater Flow (GW3099) <br>\n",
    "Boise, Idaho <br>\n",
    "September 16 - 20, 2024 <br>"
   ]
  },
  {
   "cell_type": "markdown",
   "metadata": {},
   "source": [
    "# ![title](../../images/ClassLocation.jpg)"
   ]
  },
  {
   "cell_type": "markdown",
   "metadata": {},
   "source": [
    "# Particle tracking example 3: forward tracking, transient flow\n",
    "\n",
    "This notebook demonstrates particle tracking with a transient flow system, based on [Example 3](https://modflow6-examples.readthedocs.io/en/develop/_notebooks/ex-prt-mp7-p03.html) from the MODPATH 7 user guide. The flow system includes two wells, a drain, and a river.\n",
    "\n",
    "The original problem runs PRT as a post-processor for a flow model. We demonstrate the use of a GWF-PRT exchange to combine the two models in a single simulation.\n",
    "\n",
    "The original problem involves distinguishing particles terminating at each boundary. We extend the example to determine well pumping rates sufficient to keep the particles out of the drain and river.\n",
    "\n",
    "Import dependencies."
   ]
  },
  {
   "cell_type": "code",
   "execution_count": 1,
   "metadata": {},
   "outputs": [],
   "source": [
    "import pathlib as pl\n",
    "import warnings\n",
    "\n",
    "import flopy\n",
    "import matplotlib.pyplot as plt\n",
    "import numpy as np\n",
    "import pandas as pd"
   ]
  },
  {
   "cell_type": "markdown",
   "metadata": {},
   "source": [
    "Enable inline plotting."
   ]
  },
  {
   "cell_type": "code",
   "execution_count": 2,
   "metadata": {},
   "outputs": [],
   "source": [
    "%matplotlib inline"
   ]
  },
  {
   "cell_type": "markdown",
   "metadata": {},
   "source": [
    "Ignore some warnings."
   ]
  },
  {
   "cell_type": "code",
   "execution_count": 3,
   "metadata": {},
   "outputs": [],
   "source": [
    "warnings.simplefilter(\"ignore\", UserWarning)\n",
    "warnings.simplefilter(\"ignore\", DeprecationWarning)"
   ]
  },
  {
   "cell_type": "markdown",
   "metadata": {},
   "source": [
    "Install the nightly build of MODFLOW 6."
   ]
  },
  {
   "cell_type": "code",
   "execution_count": 4,
   "metadata": {},
   "outputs": [
    {
     "name": "stdout",
     "output_type": "stream",
     "text": [
      "auto-selecting option ':python' for 'bindir'\n",
      "fetched release '20240913' info from MODFLOW-USGS/modflow6-nightly-build\n",
      "using previous download '/Users/wbonelli/Downloads/modflow6_nightly-20240913-macarm.zip' (use 'force=True' to re-download)\n",
      "extracting 1 file to '/Users/wbonelli/micromamba/envs/gw3099/bin'\n",
      "mf6\n",
      "updated flopy metadata file: '/Users/wbonelli/.local/share/flopy/get_modflow.json'\n"
     ]
    }
   ],
   "source": [
    "flopy.utils.get_modflow(\":python\", subset=\"mf6\", repo=\"modflow6-nightly-build\")"
   ]
  },
  {
   "cell_type": "markdown",
   "metadata": {},
   "source": [
    "Make sure MODPATH 7 is installed."
   ]
  },
  {
   "cell_type": "code",
   "execution_count": 5,
   "metadata": {},
   "outputs": [
    {
     "name": "stdout",
     "output_type": "stream",
     "text": [
      "auto-selecting option ':python' for 'bindir'\n",
      "fetched release '19.0' info from MODFLOW-USGS/executables\n",
      "using previous download '/Users/wbonelli/Downloads/modflow_executables-19.0-macarm.zip' (use 'force=True' to re-download)\n",
      "extracting 1 file to '/Users/wbonelli/micromamba/envs/gw3099/bin'\n",
      "mp7 (7.2.001)\n",
      "updated flopy metadata file: '/Users/wbonelli/.local/share/flopy/get_modflow.json'\n"
     ]
    }
   ],
   "source": [
    "flopy.utils.get_modflow(\":python\", subset=\"mp7\")"
   ]
  },
  {
   "cell_type": "markdown",
   "metadata": {},
   "source": [
    "Create a base workspace."
   ]
  },
  {
   "cell_type": "code",
   "execution_count": 6,
   "metadata": {},
   "outputs": [],
   "source": [
    "example_name = \"ex3\"\n",
    "base_ws = pl.Path(\"temp\") / example_name\n",
    "base_ws.mkdir(exist_ok=True, parents=True)"
   ]
  },
  {
   "cell_type": "markdown",
   "metadata": {},
   "source": [
    "# Reproducing the example\n",
    "\n",
    "We start by reproducing the results in the cited example, this time with a flow model and a tracking model occupying the same simulation.\n",
    "\n",
    "First define a workspace and model names."
   ]
  },
  {
   "cell_type": "code",
   "execution_count": 7,
   "metadata": {},
   "outputs": [],
   "source": [
    "gwf_name = f\"{example_name}-gwf\"\n",
    "prt_name = f\"{example_name}-prt\"\n",
    "demo_ws = base_ws / \"demo\""
   ]
  },
  {
   "cell_type": "markdown",
   "metadata": {},
   "source": [
    "Define model units."
   ]
  },
  {
   "cell_type": "code",
   "execution_count": 8,
   "metadata": {},
   "outputs": [],
   "source": [
    "length_units = \"feet\"\n",
    "time_units = \"days\""
   ]
  },
  {
   "cell_type": "markdown",
   "metadata": {},
   "source": [
    "Define flow model parameters."
   ]
  },
  {
   "cell_type": "code",
   "execution_count": 9,
   "metadata": {},
   "outputs": [],
   "source": [
    "nper = 3  # Number of periods\n",
    "nlay = 3  # Number of layers\n",
    "nrow = 21  # Number of rows\n",
    "ncol = 20  # Number of columns\n",
    "delr = 500.0  # Column width ($ft$)\n",
    "delc = 500.0  # Row width ($ft$)\n",
    "top = 350.0  # Top of the model ($ft$)\n",
    "botm = [220.0, 200.0, 0.0]  # Layer bottom elevations ($ft$)\n",
    "kh = [50.0, 0.01, 200.0]  # Horizontal hydraulic conductivity ($ft/d$)\n",
    "kv = [10.0, 0.01, 20.0]  # Vertical hydraulic conductivity ($ft/d$)\n",
    "rchv = 0.005  # Recharge rate ($ft/d$)\n",
    "riv_h = 320.0  # River stage ($ft$)\n",
    "riv_z = 317.0  # River bottom ($ft$)\n",
    "riv_c = 1.0e5  # River conductance ($ft^2/d$)\n",
    "porosity = 0.1  # Soil porosity (unitless)"
   ]
  },
  {
   "cell_type": "markdown",
   "metadata": {},
   "source": [
    "Define boundary conditions."
   ]
  },
  {
   "cell_type": "code",
   "execution_count": 10,
   "metadata": {},
   "outputs": [],
   "source": [
    "# Define well data.\n",
    "# Negative discharge indicates pumping, positive injection.\n",
    "wells = [\n",
    "    # layer, row, col, discharge\n",
    "    (0, 10, 9, -75000),\n",
    "    (2, 12, 4, -100000),\n",
    "]\n",
    "\n",
    "# Define the drain location.\n",
    "drain = (0, 14, (9, 20))\n",
    "\n",
    "# Define the river data.\n",
    "riv_iface = 6\n",
    "riv_iflowface = -1\n",
    "rd = []\n",
    "for i in range(nrow):\n",
    "    rd.append(\n",
    "        [(0, i, ncol - 1), riv_h, riv_c, riv_z, riv_iface, riv_iflowface]\n",
    "    )"
   ]
  },
  {
   "cell_type": "markdown",
   "metadata": {},
   "source": [
    "Calculate node numbers for the boundary conditions."
   ]
  },
  {
   "cell_type": "code",
   "execution_count": 11,
   "metadata": {},
   "outputs": [],
   "source": [
    "nodes = {\"well1\": [], \"well2\": [], \"drain\": [], \"river\": []}\n",
    "for idx, (k, i, j, _) in enumerate(wells):\n",
    "    nodes[f\"well{idx + 1}\"].append(ncol * (nrow * k + i) + j)\n",
    "for j in drain[2]:\n",
    "    k, i = drain[:2]\n",
    "    nodes[\"drain\"].append([ncol * (nrow * k + i) + j])\n",
    "for rivspec in rd:\n",
    "    k, i, j = rivspec[0]\n",
    "    node = ncol * (nrow * k + i) + j\n",
    "    nodes[\"river\"].append(node)"
   ]
  },
  {
   "cell_type": "markdown",
   "metadata": {},
   "source": [
    "Configure a zone mapping."
   ]
  },
  {
   "cell_type": "code",
   "execution_count": 12,
   "metadata": {},
   "outputs": [],
   "source": [
    "def get_izone():\n",
    "    izone = []\n",
    "\n",
    "    # zone 1 is the default (non-terminating)\n",
    "    def ones():\n",
    "        return np.ones((nrow, ncol), dtype=np.int32)\n",
    "\n",
    "    # layer 1\n",
    "    l1 = ones()\n",
    "    l1[wells[0][1:3]] = 2  # well\n",
    "    l1[drain[1], drain[2][0] : drain[2][1]] = 4  # drain\n",
    "    l1[:, ncol - 1] = 5  # river\n",
    "    izone.append(l1)\n",
    "\n",
    "    # layer 2\n",
    "    izone.append(1)\n",
    "\n",
    "    # layer 3\n",
    "    l3 = ones()\n",
    "    l3[wells[1][1:3]] = 3  # well\n",
    "    izone.append(l3)\n",
    "\n",
    "    return izone\n",
    "\n",
    "\n",
    "izone = get_izone()"
   ]
  },
  {
   "cell_type": "markdown",
   "metadata": {},
   "source": [
    "Construct a simulation."
   ]
  },
  {
   "cell_type": "code",
   "execution_count": 13,
   "metadata": {},
   "outputs": [],
   "source": [
    "sim = flopy.mf6.MFSimulation(\n",
    "    sim_name=example_name, exe_name=\"mf6\", version=\"mf6\", sim_ws=demo_ws\n",
    ")"
   ]
  },
  {
   "cell_type": "markdown",
   "metadata": {},
   "source": [
    "Create the time discretization."
   ]
  },
  {
   "cell_type": "code",
   "execution_count": 14,
   "metadata": {},
   "outputs": [],
   "source": [
    "tdis_pd = [\n",
    "    # perlen, nstp, tsmult\n",
    "    (100000, 1, 1),\n",
    "    (36500, 10, 1.5),\n",
    "    (100000, 1, 1),\n",
    "]\n",
    "tdis = flopy.mf6.modflow.mftdis.ModflowTdis(\n",
    "    sim,\n",
    "    pname=\"tdis\",\n",
    "    time_units=time_units,\n",
    "    nper=len(tdis_pd),\n",
    "    perioddata=tdis_pd,\n",
    ")"
   ]
  },
  {
   "cell_type": "markdown",
   "metadata": {},
   "source": [
    "Create the groundwater flow model."
   ]
  },
  {
   "cell_type": "code",
   "execution_count": 15,
   "metadata": {},
   "outputs": [],
   "source": [
    "model_nam_file = f\"{gwf_name}.nam\"\n",
    "gwf = flopy.mf6.ModflowGwf(\n",
    "    sim, modelname=gwf_name, model_nam_file=model_nam_file, save_flows=True\n",
    ")"
   ]
  },
  {
   "cell_type": "markdown",
   "metadata": {},
   "source": [
    "Create the iterative model solver package for the flow model."
   ]
  },
  {
   "cell_type": "code",
   "execution_count": 16,
   "metadata": {},
   "outputs": [],
   "source": [
    "ims = flopy.mf6.modflow.mfims.ModflowIms(\n",
    "    sim,\n",
    "    pname=\"ims\",\n",
    "    complexity=\"SIMPLE\",\n",
    ")\n",
    "sim.register_solution_package(ims, [gwf.name])"
   ]
  },
  {
   "cell_type": "markdown",
   "metadata": {},
   "source": [
    "Create the grid discretization."
   ]
  },
  {
   "cell_type": "code",
   "execution_count": 17,
   "metadata": {},
   "outputs": [],
   "source": [
    "dis = flopy.mf6.modflow.mfgwfdis.ModflowGwfdis(\n",
    "    gwf,\n",
    "    pname=\"dis\",\n",
    "    nlay=nlay,\n",
    "    nrow=nrow,\n",
    "    ncol=ncol,\n",
    "    length_units=\"FEET\",\n",
    "    delr=delr,\n",
    "    delc=delc,\n",
    "    top=top,\n",
    "    botm=botm,\n",
    ")"
   ]
  },
  {
   "cell_type": "markdown",
   "metadata": {},
   "source": [
    "Create the initial conditions package."
   ]
  },
  {
   "cell_type": "code",
   "execution_count": 18,
   "metadata": {},
   "outputs": [],
   "source": [
    "ic = flopy.mf6.modflow.mfgwfic.ModflowGwfic(gwf, pname=\"ic\", strt=320)"
   ]
  },
  {
   "cell_type": "markdown",
   "metadata": {},
   "source": [
    "Create the node property flow package."
   ]
  },
  {
   "cell_type": "code",
   "execution_count": 19,
   "metadata": {},
   "outputs": [],
   "source": [
    "npf = flopy.mf6.modflow.mfgwfnpf.ModflowGwfnpf(\n",
    "    gwf,\n",
    "    pname=\"npf\",\n",
    "    icelltype=[1, 0, 0],  # top layer convertible\n",
    "    k=kh,\n",
    "    k33=kv,\n",
    "    save_flows=True,\n",
    "    save_specific_discharge=True,\n",
    "    save_saturation=True,\n",
    ")"
   ]
  },
  {
   "cell_type": "markdown",
   "metadata": {},
   "source": [
    "Create the recharge package."
   ]
  },
  {
   "cell_type": "code",
   "execution_count": 20,
   "metadata": {},
   "outputs": [],
   "source": [
    "rch = flopy.mf6.modflow.mfgwfrcha.ModflowGwfrcha(gwf, recharge=rchv)"
   ]
  },
  {
   "cell_type": "markdown",
   "metadata": {},
   "source": [
    "Create the storage package."
   ]
  },
  {
   "cell_type": "code",
   "execution_count": 21,
   "metadata": {},
   "outputs": [],
   "source": [
    "sto = flopy.mf6.modflow.mfgwfsto.ModflowGwfsto(\n",
    "    gwf,\n",
    "    save_flows=True,\n",
    "    iconvert=1,\n",
    "    ss=0.0001,\n",
    "    sy=0.1,\n",
    "    steady_state={0: True, 2: True},\n",
    "    transient={1: True},\n",
    ")"
   ]
  },
  {
   "cell_type": "markdown",
   "metadata": {},
   "source": [
    "Create the well package."
   ]
  },
  {
   "cell_type": "code",
   "execution_count": 22,
   "metadata": {},
   "outputs": [],
   "source": [
    "def no_flow(w):\n",
    "    return w[0], w[1], w[2], 0\n",
    "\n",
    "\n",
    "nf_wells = [no_flow(w) for w in wells]\n",
    "wel = flopy.mf6.modflow.mfgwfwel.ModflowGwfwel(\n",
    "    gwf,\n",
    "    maxbound=2,\n",
    "    stress_period_data={0: nf_wells, 1: wells, 2: wells},\n",
    ")"
   ]
  },
  {
   "cell_type": "markdown",
   "metadata": {},
   "source": [
    "Create the river package."
   ]
  },
  {
   "cell_type": "code",
   "execution_count": 23,
   "metadata": {},
   "outputs": [],
   "source": [
    "riv = flopy.mf6.modflow.mfgwfriv.ModflowGwfriv(\n",
    "    gwf, auxiliary=[\"iface\", \"iflowface\"], stress_period_data={0: rd}\n",
    ")"
   ]
  },
  {
   "cell_type": "markdown",
   "metadata": {},
   "source": [
    "Create the drain package."
   ]
  },
  {
   "cell_type": "code",
   "execution_count": 24,
   "metadata": {},
   "outputs": [],
   "source": [
    "drn_iface = 6\n",
    "drn_iflowface = -1\n",
    "dd = [\n",
    "    [\n",
    "        drain[0],\n",
    "        drain[1],\n",
    "        i + drain[2][0],\n",
    "        322.5,\n",
    "        100000.0,\n",
    "        drn_iface,\n",
    "        drn_iflowface,\n",
    "    ]\n",
    "    for i in range(drain[2][1] - drain[2][0])\n",
    "]\n",
    "drn = flopy.mf6.modflow.mfgwfdrn.ModflowGwfdrn(\n",
    "    gwf,\n",
    "    auxiliary=[\"iface\", \"iflowface\"],\n",
    "    maxbound=11,\n",
    "    stress_period_data={0: dd},\n",
    ")"
   ]
  },
  {
   "cell_type": "markdown",
   "metadata": {},
   "source": [
    "Create the flow model output control package."
   ]
  },
  {
   "cell_type": "code",
   "execution_count": 25,
   "metadata": {},
   "outputs": [],
   "source": [
    "headfile = f\"{gwf_name}.hds\"\n",
    "budgetfile = f\"{gwf_name}.cbb\"\n",
    "oc = flopy.mf6.modflow.mfgwfoc.ModflowGwfoc(\n",
    "    gwf,\n",
    "    pname=\"oc\",\n",
    "    saverecord=[(\"HEAD\", \"ALL\"), (\"BUDGET\", \"ALL\")],\n",
    "    head_filerecord=[headfile],\n",
    "    budget_filerecord=[budgetfile],\n",
    ")"
   ]
  },
  {
   "cell_type": "markdown",
   "metadata": {},
   "source": [
    "Create the particle tracking model."
   ]
  },
  {
   "cell_type": "code",
   "execution_count": 26,
   "metadata": {},
   "outputs": [],
   "source": [
    "prt = flopy.mf6.ModflowPrt(\n",
    "    sim, modelname=prt_name, model_nam_file=\"{}.nam\".format(prt_name)\n",
    ")"
   ]
  },
  {
   "cell_type": "markdown",
   "metadata": {},
   "source": [
    "Create the particle tracking model's discretization package."
   ]
  },
  {
   "cell_type": "code",
   "execution_count": 27,
   "metadata": {},
   "outputs": [],
   "source": [
    "prtdis = flopy.mf6.modflow.mfgwfdis.ModflowGwfdis(\n",
    "    prt,\n",
    "    pname=\"dis\",\n",
    "    nlay=nlay,\n",
    "    nrow=nrow,\n",
    "    ncol=ncol,\n",
    "    length_units=\"FEET\",\n",
    "    delr=delr,\n",
    "    delc=delc,\n",
    "    top=top,\n",
    "    botm=botm,\n",
    ")"
   ]
  },
  {
   "cell_type": "markdown",
   "metadata": {},
   "source": [
    "Create the particle tracking model input package. This includes global settings like porosity and the zone mapping."
   ]
  },
  {
   "cell_type": "code",
   "execution_count": 28,
   "metadata": {},
   "outputs": [],
   "source": [
    "mip = flopy.mf6.ModflowPrtmip(prt, pname=\"mip\", porosity=porosity, izone=izone)"
   ]
  },
  {
   "cell_type": "markdown",
   "metadata": {},
   "source": [
    "Create a particle release package. For convenience, we will define a particle release template for MODPATH 7 and convert it to PRT format.\n",
    "\n",
    "We use the `localz` option to position release points vertically with respect to the water table."
   ]
  },
  {
   "cell_type": "code",
   "execution_count": 29,
   "metadata": {},
   "outputs": [],
   "source": [
    "# Define a MODPATH 7 release configuration.\n",
    "rel_minl = rel_maxl = 0\n",
    "rel_minr = 2\n",
    "rel_maxr = 3\n",
    "rel_minc = 2\n",
    "rel_maxc = 3\n",
    "celldata = flopy.modpath.CellDataType(\n",
    "    drape=0,\n",
    "    rowcelldivisions=5,\n",
    "    columncelldivisions=5,\n",
    "    layercelldivisions=1,\n",
    ")\n",
    "lrcregions = [[rel_minl, rel_minr, rel_minc, rel_maxl, rel_maxr, rel_maxc]]\n",
    "lrcpd = flopy.modpath.LRCParticleData(\n",
    "    subdivisiondata=[celldata],\n",
    "    lrcregions=[lrcregions],\n",
    ")"
   ]
  },
  {
   "cell_type": "markdown",
   "metadata": {},
   "source": [
    "<details>\n",
    "  <summary>Q: How can we define an equivalent configuration without using any MP7 utilities?</summary>\n",
    "  One option is `np.meshgrid`.\n",
    "</details>"
   ]
  },
  {
   "cell_type": "code",
   "execution_count": 30,
   "metadata": {},
   "outputs": [
    {
     "data": {
      "text/plain": [
       "array([[1050. , 8550. ,    0.5],\n",
       "       [1050. , 8550. ,    0.5],\n",
       "       [1050. , 8550. ,    0.5],\n",
       "       [1050. , 8550. ,    0.5],\n",
       "       [1050. , 8550. ,    0.5],\n",
       "       [1050. , 8550. ,    0.5],\n",
       "       [1050. , 8550. ,    0.5],\n",
       "       [1050. , 8550. ,    0.5],\n",
       "       [1050. , 8550. ,    0.5],\n",
       "       [1050. , 8550. ,    0.5],\n",
       "       [1150. , 8650. ,    0.5],\n",
       "       [1150. , 8650. ,    0.5],\n",
       "       [1150. , 8650. ,    0.5],\n",
       "       [1150. , 8650. ,    0.5],\n",
       "       [1150. , 8650. ,    0.5],\n",
       "       [1150. , 8650. ,    0.5],\n",
       "       [1150. , 8650. ,    0.5],\n",
       "       [1150. , 8650. ,    0.5],\n",
       "       [1150. , 8650. ,    0.5],\n",
       "       [1150. , 8650. ,    0.5],\n",
       "       [1250. , 8750. ,    0.5],\n",
       "       [1250. , 8750. ,    0.5],\n",
       "       [1250. , 8750. ,    0.5],\n",
       "       [1250. , 8750. ,    0.5],\n",
       "       [1250. , 8750. ,    0.5],\n",
       "       [1250. , 8750. ,    0.5],\n",
       "       [1250. , 8750. ,    0.5],\n",
       "       [1250. , 8750. ,    0.5],\n",
       "       [1250. , 8750. ,    0.5],\n",
       "       [1250. , 8750. ,    0.5],\n",
       "       [1350. , 8850. ,    0.5],\n",
       "       [1350. , 8850. ,    0.5],\n",
       "       [1350. , 8850. ,    0.5],\n",
       "       [1350. , 8850. ,    0.5],\n",
       "       [1350. , 8850. ,    0.5],\n",
       "       [1350. , 8850. ,    0.5],\n",
       "       [1350. , 8850. ,    0.5],\n",
       "       [1350. , 8850. ,    0.5],\n",
       "       [1350. , 8850. ,    0.5],\n",
       "       [1350. , 8850. ,    0.5],\n",
       "       [1450. , 8950. ,    0.5],\n",
       "       [1450. , 8950. ,    0.5],\n",
       "       [1450. , 8950. ,    0.5],\n",
       "       [1450. , 8950. ,    0.5],\n",
       "       [1450. , 8950. ,    0.5],\n",
       "       [1450. , 8950. ,    0.5],\n",
       "       [1450. , 8950. ,    0.5],\n",
       "       [1450. , 8950. ,    0.5],\n",
       "       [1450. , 8950. ,    0.5],\n",
       "       [1450. , 8950. ,    0.5],\n",
       "       [1550. , 9050. ,    0.5],\n",
       "       [1550. , 9050. ,    0.5],\n",
       "       [1550. , 9050. ,    0.5],\n",
       "       [1550. , 9050. ,    0.5],\n",
       "       [1550. , 9050. ,    0.5],\n",
       "       [1550. , 9050. ,    0.5],\n",
       "       [1550. , 9050. ,    0.5],\n",
       "       [1550. , 9050. ,    0.5],\n",
       "       [1550. , 9050. ,    0.5],\n",
       "       [1550. , 9050. ,    0.5],\n",
       "       [1650. , 9150. ,    0.5],\n",
       "       [1650. , 9150. ,    0.5],\n",
       "       [1650. , 9150. ,    0.5],\n",
       "       [1650. , 9150. ,    0.5],\n",
       "       [1650. , 9150. ,    0.5],\n",
       "       [1650. , 9150. ,    0.5],\n",
       "       [1650. , 9150. ,    0.5],\n",
       "       [1650. , 9150. ,    0.5],\n",
       "       [1650. , 9150. ,    0.5],\n",
       "       [1650. , 9150. ,    0.5],\n",
       "       [1750. , 9250. ,    0.5],\n",
       "       [1750. , 9250. ,    0.5],\n",
       "       [1750. , 9250. ,    0.5],\n",
       "       [1750. , 9250. ,    0.5],\n",
       "       [1750. , 9250. ,    0.5],\n",
       "       [1750. , 9250. ,    0.5],\n",
       "       [1750. , 9250. ,    0.5],\n",
       "       [1750. , 9250. ,    0.5],\n",
       "       [1750. , 9250. ,    0.5],\n",
       "       [1750. , 9250. ,    0.5],\n",
       "       [1850. , 9350. ,    0.5],\n",
       "       [1850. , 9350. ,    0.5],\n",
       "       [1850. , 9350. ,    0.5],\n",
       "       [1850. , 9350. ,    0.5],\n",
       "       [1850. , 9350. ,    0.5],\n",
       "       [1850. , 9350. ,    0.5],\n",
       "       [1850. , 9350. ,    0.5],\n",
       "       [1850. , 9350. ,    0.5],\n",
       "       [1850. , 9350. ,    0.5],\n",
       "       [1850. , 9350. ,    0.5],\n",
       "       [1950. , 9450. ,    0.5],\n",
       "       [1950. , 9450. ,    0.5],\n",
       "       [1950. , 9450. ,    0.5],\n",
       "       [1950. , 9450. ,    0.5],\n",
       "       [1950. , 9450. ,    0.5],\n",
       "       [1950. , 9450. ,    0.5],\n",
       "       [1950. , 9450. ,    0.5],\n",
       "       [1950. , 9450. ,    0.5],\n",
       "       [1950. , 9450. ,    0.5],\n",
       "       [1950. , 9450. ,    0.5]])"
      ]
     },
     "execution_count": 30,
     "metadata": {},
     "output_type": "execute_result"
    }
   ],
   "source": [
    "# suppress scientific notation\n",
    "np.set_printoptions(suppress=True)\n",
    "\n",
    "# we want to match the mp7 template\n",
    "mp7_release_points = np.sort(\n",
    "    np.array(list(lrcpd.to_coords(prt.modelgrid, localz=True))), axis=0\n",
    ")\n",
    "\n",
    "# define release points with numpy\n",
    "prt_release_points = np.transpose(\n",
    "    np.array(\n",
    "        np.meshgrid(range(1050, 2000, 100), range(8550, 9500, 100))\n",
    "    ).reshape(2, -1)\n",
    ").astype(np.float64)\n",
    "prt_release_points = np.sort(\n",
    "    np.c_[prt_release_points, np.ones(len(prt_release_points)) * 0.5], axis=0\n",
    ")\n",
    "\n",
    "# make sure the two approaches are equivalent\n",
    "assert np.allclose(mp7_release_points, prt_release_points)\n",
    "prt_release_points"
   ]
  },
  {
   "cell_type": "markdown",
   "metadata": {},
   "source": [
    "Define release times. The first release occurs 90,000 days into the simulation, with releases continuing every 20 days, for 200 days.\n",
    "\n",
    "<details>\n",
    "  <summary>Q: How can we specify this?</summary>\n",
    "  A: Use a `range`.\n",
    "</details>"
   ]
  },
  {
   "cell_type": "code",
   "execution_count": 31,
   "metadata": {},
   "outputs": [],
   "source": [
    "release_times = list(range(90000, 90200, 20))"
   ]
  },
  {
   "cell_type": "markdown",
   "metadata": {},
   "source": [
    "We can now create the particle release point package."
   ]
  },
  {
   "cell_type": "code",
   "execution_count": 32,
   "metadata": {},
   "outputs": [],
   "source": [
    "release_points = list(lrcpd.to_prp(prt.modelgrid, localz=True))\n",
    "prp = flopy.mf6.ModflowPrtprp(\n",
    "    prt,\n",
    "    pname=\"prp1\",\n",
    "    filename=\"{}_1.prp\".format(prt_name),\n",
    "    nreleasepts=len(release_points),\n",
    "    packagedata=release_points,\n",
    "    nreleasetimes=len(release_times),\n",
    "    releasetimes=[(t,) for t in release_times],\n",
    "    # local z coordinates specified, compute global release\n",
    "    # coord from cell top if saturated or water table if not\n",
    "    local_z=True,\n",
    "    exit_solve_tolerance=1e-5,\n",
    "    extend_tracking=True,\n",
    ")"
   ]
  },
  {
   "cell_type": "markdown",
   "metadata": {},
   "source": [
    "Create the particle tracking model output control package."
   ]
  },
  {
   "cell_type": "code",
   "execution_count": 33,
   "metadata": {},
   "outputs": [],
   "source": [
    "budgetfile_prt = f\"{prt_name}.cbb\"\n",
    "trackfile_prt = f\"{prt_name}.trk\"\n",
    "trackhdrfile_prt = f\"{prt_name}.trk.hdr\"\n",
    "trackcsvfile_prt = f\"{prt_name}.trk.csv\"\n",
    "track_times = list(range(90000, 150001, 2000))\n",
    "oc = flopy.mf6.ModflowPrtoc(\n",
    "    prt,\n",
    "    pname=\"oc\",\n",
    "    budget_filerecord=[budgetfile_prt],\n",
    "    trackcsv_filerecord=[trackcsvfile_prt],\n",
    "    track_release=True,\n",
    "    track_terminate=True,\n",
    "    track_usertime=True,\n",
    "    ntracktimes=len(track_times),\n",
    "    tracktimes=[(t,) for t in track_times],\n",
    "    saverecord=[(\"BUDGET\", \"ALL\")],\n",
    ")"
   ]
  },
  {
   "cell_type": "markdown",
   "metadata": {},
   "source": [
    "Create the PRT flow model interface."
   ]
  },
  {
   "cell_type": "code",
   "execution_count": 34,
   "metadata": {},
   "outputs": [],
   "source": [
    "exg = flopy.mf6.ModflowGwfprt(\n",
    "    sim,\n",
    "    exgtype=\"GWF6-PRT6\",\n",
    "    exgmnamea=gwf_name,\n",
    "    exgmnameb=prt_name,\n",
    "    filename=f\"{gwf_name}.gwfprt\",\n",
    ")"
   ]
  },
  {
   "cell_type": "markdown",
   "metadata": {},
   "source": [
    "Create an explicit model solution for the particle tracking model."
   ]
  },
  {
   "cell_type": "code",
   "execution_count": 35,
   "metadata": {},
   "outputs": [],
   "source": [
    "ems = flopy.mf6.ModflowEms(\n",
    "    sim,\n",
    "    pname=\"ems\",\n",
    "    filename=f\"{prt_name}.ems\",\n",
    ")\n",
    "sim.register_solution_package(ems, [prt.name])"
   ]
  },
  {
   "cell_type": "markdown",
   "metadata": {},
   "source": [
    "Write and run the simulation."
   ]
  },
  {
   "cell_type": "code",
   "execution_count": 36,
   "metadata": {},
   "outputs": [
    {
     "name": "stdout",
     "output_type": "stream",
     "text": [
      "writing simulation...\n",
      "  writing simulation name file...\n",
      "  writing simulation tdis package...\n",
      "  writing solution package ims...\n",
      "  writing solution package ems...\n",
      "  writing package ex3-gwf.gwfprt...\n",
      "  writing model ex3-gwf...\n",
      "    writing model name file...\n",
      "    writing package dis...\n",
      "    writing package ic...\n",
      "    writing package npf...\n",
      "    writing package rcha_0...\n",
      "    writing package sto...\n",
      "    writing package wel_0...\n",
      "    writing package riv_0...\n",
      "INFORMATION: maxbound in ('gwf6', 'riv', 'dimensions') changed to 21 based on size of stress_period_data\n",
      "    writing package drn_0...\n",
      "    writing package oc...\n",
      "  writing model ex3-prt...\n",
      "    writing model name file...\n",
      "    writing package dis...\n",
      "    writing package mip...\n",
      "    writing package prp1...\n",
      "    writing package oc...\n",
      "FloPy is using the following executable to run the model: ../../../../../../../micromamba/envs/gw3099/bin/mf6\n",
      "                                   MODFLOW 6\n",
      "                U.S. GEOLOGICAL SURVEY MODULAR HYDROLOGIC MODEL\n",
      "                  VERSION 6.6.0.dev0 (preliminary) 09/13/2024\n",
      "                               ***DEVELOP MODE***\n",
      "\n",
      "        MODFLOW 6 compiled Sep 13 2024 02:50:39 with GCC version 13.3.0\n",
      "\n",
      "This software is preliminary or provisional and is subject to \n",
      "revision. It is being provided to meet the need for timely best \n",
      "science. The software has not received final approval by the U.S. \n",
      "Geological Survey (USGS). No warranty, expressed or implied, is made \n",
      "by the USGS or the U.S. Government as to the functionality of the \n",
      "software and related material nor shall the fact of release \n",
      "constitute any such warranty. The software is provided on the \n",
      "condition that neither the USGS nor the U.S. Government shall be held \n",
      "liable for any damages resulting from the authorized or unauthorized \n",
      "use of the software.\n",
      "\n",
      "\n",
      " MODFLOW runs in SEQUENTIAL mode\n",
      "\n",
      " Run start date and time (yyyy/mm/dd hh:mm:ss): 2024/09/13 14:59:17\n",
      "\n",
      " Writing simulation list file: mfsim.lst\n",
      " Using Simulation name file: mfsim.nam\n",
      "\n",
      "    Solving:  Stress period:     1    Time step:     1\n",
      "    Solving:  Stress period:     2    Time step:     1\n",
      "    Solving:  Stress period:     2    Time step:     2\n",
      "    Solving:  Stress period:     2    Time step:     3\n",
      "    Solving:  Stress period:     2    Time step:     4\n",
      "    Solving:  Stress period:     2    Time step:     5\n",
      "    Solving:  Stress period:     2    Time step:     6\n",
      "    Solving:  Stress period:     2    Time step:     7\n",
      "    Solving:  Stress period:     2    Time step:     8\n",
      "    Solving:  Stress period:     2    Time step:     9\n",
      "    Solving:  Stress period:     2    Time step:    10\n",
      "    Solving:  Stress period:     3    Time step:     1\n",
      "\n",
      " Run end date and time (yyyy/mm/dd hh:mm:ss): 2024/09/13 14:59:18\n",
      " Elapsed run time:  0.205 Seconds\n",
      "\n",
      " Normal termination of simulation.\n"
     ]
    },
    {
     "data": {
      "text/plain": [
       "(True, [])"
      ]
     },
     "execution_count": 36,
     "metadata": {},
     "output_type": "execute_result"
    }
   ],
   "source": [
    "sim.write_simulation()\n",
    "sim.run_simulation(silent=False)"
   ]
  },
  {
   "cell_type": "markdown",
   "metadata": {},
   "source": [
    "Retrieve head results."
   ]
  },
  {
   "cell_type": "code",
   "execution_count": 37,
   "metadata": {},
   "outputs": [],
   "source": [
    "gwf = sim.get_model(gwf_name)\n",
    "head = gwf.output.head().get_data()"
   ]
  },
  {
   "cell_type": "markdown",
   "metadata": {},
   "source": [
    "Retrieve pathlines."
   ]
  },
  {
   "cell_type": "code",
   "execution_count": 38,
   "metadata": {},
   "outputs": [
    {
     "data": {
      "text/html": [
       "<div>\n",
       "<style scoped>\n",
       "    .dataframe tbody tr th:only-of-type {\n",
       "        vertical-align: middle;\n",
       "    }\n",
       "\n",
       "    .dataframe tbody tr th {\n",
       "        vertical-align: top;\n",
       "    }\n",
       "\n",
       "    .dataframe thead th {\n",
       "        text-align: right;\n",
       "    }\n",
       "</style>\n",
       "<table border=\"1\" class=\"dataframe\">\n",
       "  <thead>\n",
       "    <tr style=\"text-align: right;\">\n",
       "      <th></th>\n",
       "      <th>kper</th>\n",
       "      <th>kstp</th>\n",
       "      <th>imdl</th>\n",
       "      <th>iprp</th>\n",
       "      <th>irpt</th>\n",
       "      <th>ilay</th>\n",
       "      <th>icell</th>\n",
       "      <th>izone</th>\n",
       "      <th>istatus</th>\n",
       "      <th>ireason</th>\n",
       "      <th>trelease</th>\n",
       "      <th>t</th>\n",
       "      <th>x</th>\n",
       "      <th>y</th>\n",
       "      <th>z</th>\n",
       "      <th>name</th>\n",
       "    </tr>\n",
       "  </thead>\n",
       "  <tbody>\n",
       "    <tr>\n",
       "      <th>0</th>\n",
       "      <td>1</td>\n",
       "      <td>1</td>\n",
       "      <td>2</td>\n",
       "      <td>1</td>\n",
       "      <td>1</td>\n",
       "      <td>1</td>\n",
       "      <td>43</td>\n",
       "      <td>1</td>\n",
       "      <td>1</td>\n",
       "      <td>0</td>\n",
       "      <td>90000.0</td>\n",
       "      <td>90000.000000</td>\n",
       "      <td>1050.000000</td>\n",
       "      <td>9050.000000</td>\n",
       "      <td>278.909710</td>\n",
       "      <td>NaN</td>\n",
       "    </tr>\n",
       "    <tr>\n",
       "      <th>1</th>\n",
       "      <td>1</td>\n",
       "      <td>1</td>\n",
       "      <td>2</td>\n",
       "      <td>1</td>\n",
       "      <td>1</td>\n",
       "      <td>1</td>\n",
       "      <td>43</td>\n",
       "      <td>1</td>\n",
       "      <td>1</td>\n",
       "      <td>5</td>\n",
       "      <td>90000.0</td>\n",
       "      <td>90000.000000</td>\n",
       "      <td>1050.000000</td>\n",
       "      <td>9050.000000</td>\n",
       "      <td>278.909710</td>\n",
       "      <td>NaN</td>\n",
       "    </tr>\n",
       "    <tr>\n",
       "      <th>2</th>\n",
       "      <td>1</td>\n",
       "      <td>1</td>\n",
       "      <td>2</td>\n",
       "      <td>1</td>\n",
       "      <td>1</td>\n",
       "      <td>1</td>\n",
       "      <td>63</td>\n",
       "      <td>1</td>\n",
       "      <td>1</td>\n",
       "      <td>5</td>\n",
       "      <td>90000.0</td>\n",
       "      <td>92000.000000</td>\n",
       "      <td>1340.583348</td>\n",
       "      <td>8893.531063</td>\n",
       "      <td>240.403146</td>\n",
       "      <td>NaN</td>\n",
       "    </tr>\n",
       "    <tr>\n",
       "      <th>3</th>\n",
       "      <td>1</td>\n",
       "      <td>1</td>\n",
       "      <td>2</td>\n",
       "      <td>1</td>\n",
       "      <td>1</td>\n",
       "      <td>3</td>\n",
       "      <td>904</td>\n",
       "      <td>1</td>\n",
       "      <td>1</td>\n",
       "      <td>5</td>\n",
       "      <td>90000.0</td>\n",
       "      <td>94000.000000</td>\n",
       "      <td>1570.049844</td>\n",
       "      <td>8791.492660</td>\n",
       "      <td>184.323096</td>\n",
       "      <td>NaN</td>\n",
       "    </tr>\n",
       "    <tr>\n",
       "      <th>4</th>\n",
       "      <td>1</td>\n",
       "      <td>1</td>\n",
       "      <td>2</td>\n",
       "      <td>1</td>\n",
       "      <td>1</td>\n",
       "      <td>3</td>\n",
       "      <td>904</td>\n",
       "      <td>1</td>\n",
       "      <td>1</td>\n",
       "      <td>5</td>\n",
       "      <td>90000.0</td>\n",
       "      <td>96000.000000</td>\n",
       "      <td>1968.273698</td>\n",
       "      <td>8647.267727</td>\n",
       "      <td>138.201094</td>\n",
       "      <td>NaN</td>\n",
       "    </tr>\n",
       "    <tr>\n",
       "      <th>...</th>\n",
       "      <td>...</td>\n",
       "      <td>...</td>\n",
       "      <td>...</td>\n",
       "      <td>...</td>\n",
       "      <td>...</td>\n",
       "      <td>...</td>\n",
       "      <td>...</td>\n",
       "      <td>...</td>\n",
       "      <td>...</td>\n",
       "      <td>...</td>\n",
       "      <td>...</td>\n",
       "      <td>...</td>\n",
       "      <td>...</td>\n",
       "      <td>...</td>\n",
       "      <td>...</td>\n",
       "      <td>...</td>\n",
       "    </tr>\n",
       "    <tr>\n",
       "      <th>22762</th>\n",
       "      <td>3</td>\n",
       "      <td>1</td>\n",
       "      <td>2</td>\n",
       "      <td>1</td>\n",
       "      <td>99</td>\n",
       "      <td>1</td>\n",
       "      <td>300</td>\n",
       "      <td>5</td>\n",
       "      <td>2</td>\n",
       "      <td>3</td>\n",
       "      <td>90140.0</td>\n",
       "      <td>138577.542918</td>\n",
       "      <td>9923.918452</td>\n",
       "      <td>3117.979284</td>\n",
       "      <td>320.085759</td>\n",
       "      <td>NaN</td>\n",
       "    </tr>\n",
       "    <tr>\n",
       "      <th>22763</th>\n",
       "      <td>3</td>\n",
       "      <td>1</td>\n",
       "      <td>2</td>\n",
       "      <td>1</td>\n",
       "      <td>99</td>\n",
       "      <td>1</td>\n",
       "      <td>300</td>\n",
       "      <td>5</td>\n",
       "      <td>1</td>\n",
       "      <td>5</td>\n",
       "      <td>90160.0</td>\n",
       "      <td>138000.000000</td>\n",
       "      <td>9554.501234</td>\n",
       "      <td>3110.159297</td>\n",
       "      <td>225.070804</td>\n",
       "      <td>NaN</td>\n",
       "    </tr>\n",
       "    <tr>\n",
       "      <th>22764</th>\n",
       "      <td>3</td>\n",
       "      <td>1</td>\n",
       "      <td>2</td>\n",
       "      <td>1</td>\n",
       "      <td>99</td>\n",
       "      <td>1</td>\n",
       "      <td>300</td>\n",
       "      <td>5</td>\n",
       "      <td>2</td>\n",
       "      <td>3</td>\n",
       "      <td>90160.0</td>\n",
       "      <td>138662.540406</td>\n",
       "      <td>9923.515395</td>\n",
       "      <td>3110.949994</td>\n",
       "      <td>320.085759</td>\n",
       "      <td>NaN</td>\n",
       "    </tr>\n",
       "    <tr>\n",
       "      <th>22765</th>\n",
       "      <td>3</td>\n",
       "      <td>1</td>\n",
       "      <td>2</td>\n",
       "      <td>1</td>\n",
       "      <td>99</td>\n",
       "      <td>1</td>\n",
       "      <td>299</td>\n",
       "      <td>4</td>\n",
       "      <td>1</td>\n",
       "      <td>5</td>\n",
       "      <td>90180.0</td>\n",
       "      <td>138000.000000</td>\n",
       "      <td>9443.138851</td>\n",
       "      <td>3101.852418</td>\n",
       "      <td>222.649680</td>\n",
       "      <td>NaN</td>\n",
       "    </tr>\n",
       "    <tr>\n",
       "      <th>22766</th>\n",
       "      <td>3</td>\n",
       "      <td>1</td>\n",
       "      <td>2</td>\n",
       "      <td>1</td>\n",
       "      <td>99</td>\n",
       "      <td>1</td>\n",
       "      <td>300</td>\n",
       "      <td>5</td>\n",
       "      <td>2</td>\n",
       "      <td>3</td>\n",
       "      <td>90180.0</td>\n",
       "      <td>138748.096787</td>\n",
       "      <td>9923.107865</td>\n",
       "      <td>3103.966321</td>\n",
       "      <td>320.085759</td>\n",
       "      <td>NaN</td>\n",
       "    </tr>\n",
       "  </tbody>\n",
       "</table>\n",
       "<p>22767 rows × 16 columns</p>\n",
       "</div>"
      ],
      "text/plain": [
       "       kper  kstp  imdl  iprp  irpt  ilay  icell  izone  istatus  ireason  \\\n",
       "0         1     1     2     1     1     1     43      1        1        0   \n",
       "1         1     1     2     1     1     1     43      1        1        5   \n",
       "2         1     1     2     1     1     1     63      1        1        5   \n",
       "3         1     1     2     1     1     3    904      1        1        5   \n",
       "4         1     1     2     1     1     3    904      1        1        5   \n",
       "...     ...   ...   ...   ...   ...   ...    ...    ...      ...      ...   \n",
       "22762     3     1     2     1    99     1    300      5        2        3   \n",
       "22763     3     1     2     1    99     1    300      5        1        5   \n",
       "22764     3     1     2     1    99     1    300      5        2        3   \n",
       "22765     3     1     2     1    99     1    299      4        1        5   \n",
       "22766     3     1     2     1    99     1    300      5        2        3   \n",
       "\n",
       "       trelease              t            x            y           z  name  \n",
       "0       90000.0   90000.000000  1050.000000  9050.000000  278.909710   NaN  \n",
       "1       90000.0   90000.000000  1050.000000  9050.000000  278.909710   NaN  \n",
       "2       90000.0   92000.000000  1340.583348  8893.531063  240.403146   NaN  \n",
       "3       90000.0   94000.000000  1570.049844  8791.492660  184.323096   NaN  \n",
       "4       90000.0   96000.000000  1968.273698  8647.267727  138.201094   NaN  \n",
       "...         ...            ...          ...          ...         ...   ...  \n",
       "22762   90140.0  138577.542918  9923.918452  3117.979284  320.085759   NaN  \n",
       "22763   90160.0  138000.000000  9554.501234  3110.159297  225.070804   NaN  \n",
       "22764   90160.0  138662.540406  9923.515395  3110.949994  320.085759   NaN  \n",
       "22765   90180.0  138000.000000  9443.138851  3101.852418  222.649680   NaN  \n",
       "22766   90180.0  138748.096787  9923.107865  3103.966321  320.085759   NaN  \n",
       "\n",
       "[22767 rows x 16 columns]"
      ]
     },
     "execution_count": 38,
     "metadata": {},
     "output_type": "execute_result"
    }
   ],
   "source": [
    "prt = sim.get_model(prt_name)\n",
    "pathlines = pd.read_csv(demo_ws / trackcsvfile_prt)\n",
    "pathlines"
   ]
  },
  {
   "cell_type": "markdown",
   "metadata": {},
   "source": [
    "Plot results."
   ]
  },
  {
   "cell_type": "code",
   "execution_count": 39,
   "metadata": {},
   "outputs": [
    {
     "data": {
      "image/png": "[encoded data removed]",
      "text/plain": [
       "<Figure size 600x600 with 2 Axes>"
      ]
     },
     "metadata": {},
     "output_type": "display_data"
    }
   ],
   "source": [
    "from matplotlib.patches import Patch\n",
    "\n",
    "\n",
    "def plot_heads(ax, gwf, heads):\n",
    "    mm = flopy.plot.PlotMapView(gwf, ax=ax, layer=2)\n",
    "    mm.plot_grid(alpha=0.25)\n",
    "    mm.plot_bc(\"WEL\", plotAll=True, color=\"red\")\n",
    "    mm.plot_bc(\"RIV\", plotAll=True, color=\"blue\")\n",
    "    mm.plot_bc(\"DRN\", plotAll=True, color=\"green\")\n",
    "    pc = mm.plot_array(heads, edgecolor=\"black\", alpha=0.25)\n",
    "    cb = plt.colorbar(pc, shrink=0.25, pad=0.1)\n",
    "    cb.ax.set_xlabel(r\"Head ($ft$)\")\n",
    "    return mm\n",
    "\n",
    "\n",
    "with flopy.plot.styles.USGSPlot():\n",
    "    fig, ax = plt.subplots(ncols=1, nrows=1, figsize=(6, 6))\n",
    "    ax.set_aspect(\"equal\")\n",
    "    ax.legend(\n",
    "        handles=[\n",
    "            Patch(color=\"red\", label=\"Well\"),\n",
    "            Patch(color=\"blue\", label=\"River\"),\n",
    "            Patch(color=\"green\", label=\"Drain\"),\n",
    "        ],\n",
    "    )\n",
    "    fig.tight_layout()\n",
    "    flopy.plot.styles.heading(ax, heading=\"Head, layer 3\")\n",
    "    mm = plot_heads(ax, gwf, head[2, :, :])\n",
    "    mm.plot_pathline(\n",
    "        pathlines, layer=\"all\", colors=\"black\", alpha=0.5, linewidth=0.1\n",
    "    )\n",
    "    plt.show()"
   ]
  },
  {
   "cell_type": "markdown",
   "metadata": {},
   "source": [
    "## Exercise\n",
    "\n",
    "Imagine the plume in this example is from a contaminant source. The demonstrated pumping scheme diverts some of it from the river, but not all.\n",
    "\n",
    "1. Assume we can pump only the well in the top layer, and only at the same rate. Could we have diverted the plume, had we known of it and began to pump immediately?  If so, at what time does it become impossible to divert?\n",
    "\n",
    "2. Assume we just learned of the plume, and we estimate it to be 10,000 days old (27 years and several months). This matches the original time discretization, where pumping begins 10,000 days after particle release, 100,000 days into the simulation. We'd like to keep the plume out of the drain/stream with a minimum of pumping from the two wells. How much should we pump from each well?\n",
    "\n",
    "\n",
    "<details>\n",
    "  <summary>Hints</summary>\n",
    "  \n",
    "This will involve counting how many particles terminate in each of the boundaries (wells, drain and river). Recall how to select terminating points in example notebook 1, then use the zone map.\n",
    "\n",
    "To answer the first question, we can start pumping the first well at particle release time. If the plume is diverted, we can rerun the model several times, advancing the time at which we start pumping by a small increment, until the plume is no longer captured.\n",
    "\n",
    "To answer the second question, we can modify pumping rates until the particles are all captured by the wells.\n",
    "\n",
    "To get a better view of where particles are going, it might be helpful to plot the model in 3D with PyVista.\n",
    "</details>"
   ]
  }
 ],
 "metadata": {
  "kernelspec": {
   "display_name": "Python 3",
   "language": "python",
   "name": "python3"
  },
  "language_info": {
   "codemirror_mode": {
    "name": "ipython",
    "version": 3
   },
   "file_extension": ".py",
   "mimetype": "text/x-python",
   "name": "python",
   "nbconvert_exporter": "python",
   "pygments_lexer": "ipython3",
   "version": "3.11.10"
  }
 },
 "nbformat": 4,
 "nbformat_minor": 2
}
