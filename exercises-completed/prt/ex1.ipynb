{
 "cells": [
  {
   "cell_type": "markdown",
   "id": "39fe9667",
   "metadata": {},
   "source": [
    "# U.S. Geological Survey Class GW3099\n",
    "\n",
    "Advanced Modeling of Groundwater Flow (GW3099) <br>\n",
    "Boise, Idaho <br>\n",
    "September 16 - 20, 2024 <br>"
   ]
  },
  {
   "cell_type": "markdown",
   "id": "9fd5ab69",
   "metadata": {},
   "source": [
    "# ![title](../../images/ClassLocation.jpg)"
   ]
  },
  {
   "cell_type": "markdown",
   "id": "b1702181",
   "metadata": {},
   "source": [
    "# Particle tracking example 1: backwards tracking in a steady flow field"
   ]
  },
  {
   "cell_type": "markdown",
   "id": "0551c195",
   "metadata": {},
   "source": [
    "![title](../../images/ex-prt-mp7-p01-config.png)"
   ]
  },
  {
   "cell_type": "markdown",
   "id": "a85831d8",
   "metadata": {},
   "source": [
    "This notebook demonstrates particle tracking with MODFLOW programs.\n",
    "\n",
    "We will solve a backwards tracking scenario in a steady-state flow field, building on [Example 1](https://modflow6-examples.readthedocs.io/en/develop/_notebooks/ex-prt-mp7-p01.html) from the MODPATH 7 user guide. This involves determining a capture area for the central well (see figure above).\n",
    "\n",
    "First a MODFLOW 6 GWF model is run to produce a flow solution. Then a MODPATH 7 model and an equivalent MODFLOW 6 PRT model are run side-by-side, and their results compared. This is an opportunity to compare the features of MODPATH 7 and MODFLOW 6 PRT, and demonstrate how to migrate an existing MODPATH 7 simulation to PRT."
   ]
  },
  {
   "cell_type": "markdown",
   "id": "92296bd7",
   "metadata": {},
   "source": [
    "Import dependencies."
   ]
  },
  {
   "cell_type": "code",
   "execution_count": 68,
   "id": "689cdab4",
   "metadata": {},
   "outputs": [],
   "source": [
    "import pathlib as pl\n",
    "import warnings\n",
    "\n",
    "import flopy\n",
    "import matplotlib.pyplot as plt\n",
    "import numpy as np\n",
    "import pandas as pd"
   ]
  },
  {
   "cell_type": "markdown",
   "id": "29f42e5b",
   "metadata": {},
   "source": [
    "Enable inline plotting."
   ]
  },
  {
   "cell_type": "code",
   "execution_count": 69,
   "id": "0b19c299",
   "metadata": {},
   "outputs": [],
   "source": [
    "%matplotlib inline"
   ]
  },
  {
   "cell_type": "markdown",
   "id": "275d8e66",
   "metadata": {},
   "source": [
    "Ignore some warnings."
   ]
  },
  {
   "cell_type": "code",
   "execution_count": 70,
   "id": "8336c32c",
   "metadata": {},
   "outputs": [],
   "source": [
    "warnings.simplefilter(\"ignore\", UserWarning)\n",
    "warnings.simplefilter(\"ignore\", DeprecationWarning)"
   ]
  },
  {
   "cell_type": "markdown",
   "id": "f4431724",
   "metadata": {},
   "source": [
    "Install the nightly build of MODFLOW 6."
   ]
  },
  {
   "cell_type": "code",
   "execution_count": 71,
   "id": "c0bf416b",
   "metadata": {},
   "outputs": [
    {
     "name": "stdout",
     "output_type": "stream",
     "text": [
      "auto-selecting option ':python' for 'bindir'\n",
      "fetched release '20240913' info from MODFLOW-USGS/modflow6-nightly-build\n",
      "using previous download '/Users/wbonelli/Downloads/modflow6_nightly-20240913-macarm.zip' (use 'force=True' to re-download)\n",
      "extracting 1 file to '/Users/wbonelli/micromamba/envs/gw3099/bin'\n",
      "mf6\n",
      "updated flopy metadata file: '/Users/wbonelli/.local/share/flopy/get_modflow.json'\n"
     ]
    }
   ],
   "source": [
    "flopy.utils.get_modflow(\":python\", subset=\"mf6\", repo=\"modflow6-nightly-build\")"
   ]
  },
  {
   "cell_type": "markdown",
   "id": "09d692a6",
   "metadata": {},
   "source": [
    "Make sure MODPATH 7 is installed."
   ]
  },
  {
   "cell_type": "code",
   "execution_count": 72,
   "id": "fba4c6b7",
   "metadata": {},
   "outputs": [
    {
     "name": "stdout",
     "output_type": "stream",
     "text": [
      "auto-selecting option ':python' for 'bindir'\n",
      "fetched release '19.0' info from MODFLOW-USGS/executables\n",
      "using previous download '/Users/wbonelli/Downloads/modflow_executables-19.0-macarm.zip' (use 'force=True' to re-download)\n",
      "extracting 1 file to '/Users/wbonelli/micromamba/envs/gw3099/bin'\n",
      "mp7 (7.2.001)\n",
      "updated flopy metadata file: '/Users/wbonelli/.local/share/flopy/get_modflow.json'\n"
     ]
    }
   ],
   "source": [
    "flopy.utils.get_modflow(\":python\", subset=\"mp7\")"
   ]
  },
  {
   "cell_type": "markdown",
   "id": "311ed1b5",
   "metadata": {},
   "source": [
    "Create a base workspace."
   ]
  },
  {
   "cell_type": "code",
   "execution_count": 73,
   "id": "19eb4628",
   "metadata": {},
   "outputs": [],
   "source": [
    "example_name = \"ex1\"\n",
    "base_ws = pl.Path(\"temp\") / example_name\n",
    "base_ws.mkdir(exist_ok=True, parents=True)"
   ]
  },
  {
   "cell_type": "markdown",
   "id": "2b6f3f8a",
   "metadata": {},
   "source": [
    "## Flow model\n",
    "\n",
    "First we define a flow model which will be used by PRT and MP7.\n",
    "\n",
    "Define the flow model name and workspace."
   ]
  },
  {
   "cell_type": "code",
   "execution_count": 74,
   "id": "94258332",
   "metadata": {},
   "outputs": [],
   "source": [
    "gwf_name = f\"{example_name}-gwf\"\n",
    "gwf_ws = base_ws / \"gwf\"\n",
    "gwf_ws.mkdir(exist_ok=True, parents=True)"
   ]
  },
  {
   "cell_type": "markdown",
   "id": "53fa4dd5",
   "metadata": {},
   "source": [
    "Define flow model units."
   ]
  },
  {
   "cell_type": "code",
   "execution_count": 75,
   "id": "8e43909a",
   "metadata": {},
   "outputs": [],
   "source": [
    "length_units = \"feet\"\n",
    "time_units = \"days\""
   ]
  },
  {
   "cell_type": "markdown",
   "id": "89295c2f",
   "metadata": {},
   "source": [
    "Define flow model parameters."
   ]
  },
  {
   "cell_type": "code",
   "execution_count": 76,
   "id": "59d504c9",
   "metadata": {},
   "outputs": [],
   "source": [
    "nper = 1  # Number of periods\n",
    "nlay = 3  # Number of layers (base grid)\n",
    "nrow = 21  # Number of rows (base grid)\n",
    "ncol = 20  # Number of columns (base grid)\n",
    "delr = 500.0  # Column width ($ft$)\n",
    "delc = 500.0  # Row width ($ft$)\n",
    "top = 400.0  # Top of the model ($ft$)\n",
    "botm = [220.0, 200.0, 0.0]  # Layer bottom elevations ($ft$)\n",
    "porosity = 0.1  # Soil porosity (unitless)\n",
    "rch = 0.005  # Recharge rate ($ft/d$)\n",
    "kh = [50.0, 0.01, 200.0]  # Horizontal hydraulic conductivity ($ft/d$)\n",
    "kv = [10.0, 0.01, 20.0]  # Vertical hydraulic conductivity ($ft/d$)\n",
    "wel_q = -150000.0  # Well pumping rate ($ft^3/d$)\n",
    "riv_h = 320.0  # River stage ($ft$)\n",
    "riv_z = 317.0  # River bottom ($ft$)\n",
    "riv_c = 1.0e5  # River conductance ($ft^2/d$)"
   ]
  },
  {
   "cell_type": "markdown",
   "id": "9e68569d",
   "metadata": {},
   "source": [
    "Define the initial structured grid. Later we will refine the grid, but for the first run we use a coarse discretization."
   ]
  },
  {
   "cell_type": "code",
   "execution_count": 77,
   "id": "d8cd4fa2",
   "metadata": {},
   "outputs": [],
   "source": [
    "Lx = 10000.0\n",
    "Ly = 10500.0\n",
    "nlay = 3\n",
    "nrow = 21\n",
    "ncol = 20\n",
    "delr = Lx / ncol\n",
    "delc = Ly / nrow\n",
    "top = 400\n",
    "botm = [220, 200, 0]"
   ]
  },
  {
   "cell_type": "markdown",
   "id": "bd9c64de",
   "metadata": {},
   "source": [
    "Define the time discretization."
   ]
  },
  {
   "cell_type": "code",
   "execution_count": 78,
   "id": "fc77b889",
   "metadata": {},
   "outputs": [],
   "source": [
    "nstp = 1\n",
    "perlen = 1000.0\n",
    "tsmult = 1.0\n",
    "tdis_rc = [(perlen, nstp, tsmult)]"
   ]
  },
  {
   "cell_type": "markdown",
   "id": "db3d8c41",
   "metadata": {},
   "source": [
    "Construct a simulation for the flow model."
   ]
  },
  {
   "cell_type": "code",
   "execution_count": 79,
   "id": "c44ff5ae",
   "metadata": {},
   "outputs": [],
   "source": [
    "gwf_sim = flopy.mf6.MFSimulation(\n",
    "    sim_name=gwf_name, exe_name=\"mf6\", version=\"mf6\", sim_ws=gwf_ws\n",
    ")"
   ]
  },
  {
   "cell_type": "markdown",
   "id": "4aafe639",
   "metadata": {},
   "source": [
    "Create the time discretization."
   ]
  },
  {
   "cell_type": "code",
   "execution_count": 80,
   "id": "96579356",
   "metadata": {},
   "outputs": [],
   "source": [
    "tdis = flopy.mf6.ModflowTdis(\n",
    "    gwf_sim,\n",
    "    pname=\"tdis\",\n",
    "    time_units=\"DAYS\",\n",
    "    perioddata=tdis_rc,\n",
    "    nper=len(tdis_rc),\n",
    ")"
   ]
  },
  {
   "cell_type": "markdown",
   "id": "32bc9512",
   "metadata": {},
   "source": [
    "Create the flow model."
   ]
  },
  {
   "cell_type": "code",
   "execution_count": 81,
   "id": "1b4a44c8",
   "metadata": {},
   "outputs": [],
   "source": [
    "gwf = flopy.mf6.ModflowGwf(\n",
    "    gwf_sim, modelname=gwf_name, model_nam_file=f\"{gwf_name}.nam\"\n",
    ")\n",
    "gwf.name_file.save_flows = True"
   ]
  },
  {
   "cell_type": "markdown",
   "id": "85cd2a51",
   "metadata": {},
   "source": [
    "Create the discretization package."
   ]
  },
  {
   "cell_type": "code",
   "execution_count": 82,
   "id": "1fee1200",
   "metadata": {},
   "outputs": [],
   "source": [
    "dis = flopy.mf6.ModflowGwfdis(\n",
    "    gwf,\n",
    "    length_units=length_units,\n",
    "    nlay=nlay,\n",
    "    nrow=nrow,\n",
    "    ncol=ncol,\n",
    "    delr=delr,\n",
    "    delc=delc,\n",
    "    top=top,\n",
    "    botm=botm,\n",
    ")"
   ]
  },
  {
   "cell_type": "markdown",
   "id": "ba4226b9",
   "metadata": {},
   "source": [
    "Create the initial conditions package."
   ]
  },
  {
   "cell_type": "code",
   "execution_count": 83,
   "id": "e449069e",
   "metadata": {},
   "outputs": [],
   "source": [
    "ic = flopy.mf6.ModflowGwfic(\n",
    "    gwf, pname=\"ic\", strt=top\n",
    ")  # initial heads at river stage"
   ]
  },
  {
   "cell_type": "markdown",
   "id": "fc553944",
   "metadata": {},
   "source": [
    "Create the node property flow package."
   ]
  },
  {
   "cell_type": "code",
   "execution_count": 84,
   "id": "4a566987",
   "metadata": {},
   "outputs": [],
   "source": [
    "npf = flopy.mf6.ModflowGwfnpf(\n",
    "    gwf,\n",
    "    icelltype=[1, 0, 0],\n",
    "    k=kh,\n",
    "    k33=kv,\n",
    "    save_saturation=True,\n",
    "    save_specific_discharge=True,\n",
    ")"
   ]
  },
  {
   "cell_type": "markdown",
   "id": "c9c661ee",
   "metadata": {},
   "source": [
    "Define the model's boundary conditions. These include a well, a river, and recharge."
   ]
  },
  {
   "cell_type": "code",
   "execution_count": 85,
   "id": "26d4fa26",
   "metadata": {},
   "outputs": [],
   "source": [
    "# Well package\n",
    "wel_loc = (2, 10, 9)\n",
    "wd = [(wel_loc, wel_q)]\n",
    "\n",
    "# River package\n",
    "riv_iface = 6\n",
    "riv_iflowface = -1\n",
    "rd = []\n",
    "for i in range(nrow):\n",
    "    rd.append(\n",
    "        [(0, i, ncol - 1), riv_h, riv_c, riv_z, riv_iface, riv_iflowface]\n",
    "    )\n",
    "\n",
    "# Recharge package\n",
    "rch_iface = 6\n",
    "rch_iflowface = -1"
   ]
  },
  {
   "cell_type": "markdown",
   "id": "43ad9abd",
   "metadata": {},
   "source": [
    "Define well and river cell numbers, used to extract and plot model results later."
   ]
  },
  {
   "cell_type": "code",
   "execution_count": 86,
   "id": "65e1a923",
   "metadata": {},
   "outputs": [],
   "source": [
    "nodes = {}\n",
    "k, i, j = wel_loc\n",
    "nodes[\"well\"] = [ncol * (nrow * k + i) + j]\n",
    "nodes[\"river\"] = []\n",
    "for rivspec in rd:\n",
    "    k, i, j = rivspec[0]\n",
    "    node = ncol * (nrow * k + i) + j\n",
    "    nodes[\"river\"].append(node)"
   ]
  },
  {
   "cell_type": "markdown",
   "id": "0f80c41b",
   "metadata": {},
   "source": [
    "Create the recharge, well, and river packages."
   ]
  },
  {
   "cell_type": "code",
   "execution_count": 87,
   "id": "2e0a2c98",
   "metadata": {},
   "outputs": [],
   "source": [
    "# Instantiate the MODFLOW 6 gwf recharge package\n",
    "rcha = flopy.mf6.modflow.mfgwfrcha.ModflowGwfrcha(\n",
    "    gwf,\n",
    "    recharge=rch,\n",
    "    auxiliary=[\"iface\", \"iflowface\"],\n",
    "    aux=[rch_iface, rch_iflowface],\n",
    ")\n",
    "\n",
    "# Instantiate the MODFLOW 6 gwf well package\n",
    "wel = flopy.mf6.modflow.mfgwfwel.ModflowGwfwel(\n",
    "    gwf, maxbound=1, stress_period_data={0: wd}\n",
    ")\n",
    "\n",
    "# Instantiate the MODFLOW 6 gwf river package\n",
    "riv = flopy.mf6.modflow.mfgwfriv.ModflowGwfriv(\n",
    "    gwf, auxiliary=[\"iface\", \"iflowface\"], stress_period_data={0: rd}\n",
    ")"
   ]
  },
  {
   "cell_type": "markdown",
   "id": "ba50c7b3",
   "metadata": {},
   "source": [
    "Create the output control package."
   ]
  },
  {
   "cell_type": "code",
   "execution_count": 88,
   "id": "48bc2ba1",
   "metadata": {},
   "outputs": [],
   "source": [
    "# Define output file names\n",
    "headfile_name = f\"{gwf_name}.hds\"\n",
    "budgetfile_name = f\"{gwf_name}.cbb\"\n",
    "\n",
    "# Create package\n",
    "head_record = [headfile_name]\n",
    "budget_record = [budgetfile_name]\n",
    "saverecord = [(\"HEAD\", \"ALL\"), (\"BUDGET\", \"ALL\")]\n",
    "oc = flopy.mf6.modflow.mfgwfoc.ModflowGwfoc(\n",
    "    gwf,\n",
    "    pname=\"oc\",\n",
    "    saverecord=saverecord,\n",
    "    head_filerecord=head_record,\n",
    "    budget_filerecord=budget_record,\n",
    ")"
   ]
  },
  {
   "cell_type": "markdown",
   "id": "fe056441",
   "metadata": {},
   "source": [
    "Create the solver package."
   ]
  },
  {
   "cell_type": "code",
   "execution_count": 89,
   "id": "be9e0d86",
   "metadata": {},
   "outputs": [],
   "source": [
    "ims = flopy.mf6.ModflowIms(\n",
    "    gwf_sim,\n",
    "    pname=\"ims\",\n",
    "    complexity=\"SIMPLE\",\n",
    "    outer_dvclose=1e-6,\n",
    "    inner_dvclose=1e-6,\n",
    "    rcloserecord=1e-6,\n",
    ")"
   ]
  },
  {
   "cell_type": "markdown",
   "id": "0a2c8a74",
   "metadata": {},
   "source": [
    "Write and run the flow model."
   ]
  },
  {
   "cell_type": "code",
   "execution_count": 90,
   "id": "833ad78e",
   "metadata": {},
   "outputs": [
    {
     "name": "stdout",
     "output_type": "stream",
     "text": [
      "writing simulation...\n",
      "  writing simulation name file...\n",
      "  writing simulation tdis package...\n",
      "  writing solution package ims...\n",
      "  writing model ex1-gwf...\n",
      "    writing model name file...\n",
      "    writing package dis...\n",
      "    writing package ic...\n",
      "    writing package npf...\n",
      "    writing package rcha_0...\n",
      "    writing package wel_0...\n",
      "    writing package riv_0...\n",
      "INFORMATION: maxbound in ('gwf6', 'riv', 'dimensions') changed to 21 based on size of stress_period_data\n",
      "    writing package oc...\n",
      "FloPy is using the following executable to run the model: ../../../../../../../micromamba/envs/gw3099/bin/mf6\n",
      "                                   MODFLOW 6\n",
      "                U.S. GEOLOGICAL SURVEY MODULAR HYDROLOGIC MODEL\n",
      "                  VERSION 6.6.0.dev0 (preliminary) 09/13/2024\n",
      "                               ***DEVELOP MODE***\n",
      "\n",
      "        MODFLOW 6 compiled Sep 13 2024 02:50:39 with GCC version 13.3.0\n",
      "\n",
      "This software is preliminary or provisional and is subject to \n",
      "revision. It is being provided to meet the need for timely best \n",
      "science. The software has not received final approval by the U.S. \n",
      "Geological Survey (USGS). No warranty, expressed or implied, is made \n",
      "by the USGS or the U.S. Government as to the functionality of the \n",
      "software and related material nor shall the fact of release \n",
      "constitute any such warranty. The software is provided on the \n",
      "condition that neither the USGS nor the U.S. Government shall be held \n",
      "liable for any damages resulting from the authorized or unauthorized \n",
      "use of the software.\n",
      "\n",
      "\n",
      " MODFLOW runs in SEQUENTIAL mode\n",
      "\n",
      " Run start date and time (yyyy/mm/dd hh:mm:ss): 2024/09/14 14:28:21\n",
      "\n",
      " Writing simulation list file: mfsim.lst\n",
      " Using Simulation name file: mfsim.nam\n",
      "\n",
      "    Solving:  Stress period:     1    Time step:     1\n",
      "\n",
      " Run end date and time (yyyy/mm/dd hh:mm:ss): 2024/09/14 14:28:21\n",
      " Elapsed run time:  0.055 Seconds\n",
      "\n",
      " Normal termination of simulation.\n"
     ]
    },
    {
     "data": {
      "text/plain": [
       "(True, [])"
      ]
     },
     "execution_count": 90,
     "metadata": {},
     "output_type": "execute_result"
    }
   ],
   "source": [
    "gwf_sim.write_simulation(silent=False)\n",
    "gwf_sim.run_simulation(silent=False)"
   ]
  },
  {
   "cell_type": "markdown",
   "id": "2589c538",
   "metadata": {},
   "source": [
    "Load heads."
   ]
  },
  {
   "cell_type": "code",
   "execution_count": 91,
   "id": "6e03469b",
   "metadata": {},
   "outputs": [],
   "source": [
    "hds = gwf.output.head().get_data()"
   ]
  },
  {
   "cell_type": "markdown",
   "id": "21e56c89",
   "metadata": {},
   "source": [
    "Plot heads. Define a function for it which we will reuse later."
   ]
  },
  {
   "cell_type": "code",
   "execution_count": 92,
   "id": "c8067e78",
   "metadata": {},
   "outputs": [
    {
     "data": {
      "image/png": "[encoded data removed]",
      "text/plain": [
       "<Figure size 600x600 with 2 Axes>"
      ]
     },
     "metadata": {},
     "output_type": "display_data"
    }
   ],
   "source": [
    "from matplotlib.patches import Patch\n",
    "\n",
    "\n",
    "def plot_heads(ax, gwf, heads, colorbar=True):\n",
    "    mm = flopy.plot.PlotMapView(gwf, ax=ax, layer=2)\n",
    "    mm.plot_grid(alpha=0.25)\n",
    "    mm.plot_bc(\"WEL\", plotAll=True, color=\"red\")\n",
    "    mm.plot_bc(\"RIV\", plotAll=True, color=\"blue\")\n",
    "    pc = mm.plot_array(heads, edgecolor=\"black\", alpha=0.25)\n",
    "    if colorbar:\n",
    "        cb = plt.colorbar(pc, shrink=0.25, pad=0.1)\n",
    "        cb.ax.set_xlabel(r\"Head ($ft$)\")\n",
    "    return mm\n",
    "\n",
    "\n",
    "with flopy.plot.styles.USGSPlot():\n",
    "    fig, ax = plt.subplots(ncols=1, nrows=1, figsize=(6, 6))\n",
    "    ax.set_aspect(\"equal\")\n",
    "    ax.legend(\n",
    "        handles=[\n",
    "            Patch(color=\"red\", label=\"Well\"),\n",
    "            Patch(color=\"blue\", label=\"River\"),\n",
    "        ],\n",
    "    )\n",
    "    fig.tight_layout()\n",
    "    flopy.plot.styles.heading(ax, heading=\"Head, layer 3\")\n",
    "    plot_heads(ax, gwf, hds[2, :, :])\n",
    "    plt.show()"
   ]
  },
  {
   "cell_type": "markdown",
   "id": "498cd107",
   "metadata": {},
   "source": [
    "## Tracking models\n",
    "\n",
    "We now define a MODPATH 7 particle tracking simulation, then an equivalent PRT simulation.\n",
    "\n",
    "### MP7 model\n",
    "\n",
    "Define the MP7 model name and workspace."
   ]
  },
  {
   "cell_type": "code",
   "execution_count": 93,
   "id": "5b23a179",
   "metadata": {},
   "outputs": [],
   "source": [
    "mp7_name = f\"{example_name}-mp7\"\n",
    "mp7_ws = base_ws / \"mp7\"\n",
    "mp7_ws.mkdir(exist_ok=True, parents=True)"
   ]
  },
  {
   "cell_type": "markdown",
   "id": "10b2ff4f",
   "metadata": {},
   "source": [
    "Now we can create the MP7 model. First define the expected pathline output file."
   ]
  },
  {
   "cell_type": "code",
   "execution_count": 94,
   "id": "03b325c3",
   "metadata": {},
   "outputs": [],
   "source": [
    "mp7_pathline_file_path = mp7_ws / f\"{mp7_name}.mppth\""
   ]
  },
  {
   "cell_type": "markdown",
   "id": "3e5da2fd",
   "metadata": {},
   "source": [
    "Create the model object."
   ]
  },
  {
   "cell_type": "code",
   "execution_count": 95,
   "id": "518da2a1",
   "metadata": {},
   "outputs": [],
   "source": [
    "mp7 = flopy.modpath.Modpath7(\n",
    "    modelname=mp7_name,\n",
    "    flowmodel=gwf,\n",
    "    exe_name=\"mp7\",\n",
    "    model_ws=mp7_ws,\n",
    "    budgetfilename=budgetfile_name,\n",
    "    headfilename=headfile_name,\n",
    ")"
   ]
  },
  {
   "cell_type": "markdown",
   "id": "31bc33b6",
   "metadata": {},
   "source": [
    "Create the MP7 basic input data package."
   ]
  },
  {
   "cell_type": "code",
   "execution_count": 96,
   "id": "77f3a2b1",
   "metadata": {},
   "outputs": [],
   "source": [
    "mp7_bas = flopy.modpath.Modpath7Bas(\n",
    "    mp7, porosity=porosity, defaultiface={\"RCH\": 6, \"EVT\": 6}\n",
    ")"
   ]
  },
  {
   "cell_type": "markdown",
   "id": "4729f521",
   "metadata": {},
   "source": [
    "The next step is to define a particle release configuration. We will release particles from the lateral faces of the cell containing the well. To do this we use MODPATH 7 particle input style 2, subdivision style 1."
   ]
  },
  {
   "cell_type": "code",
   "execution_count": 97,
   "id": "3af40228",
   "metadata": {},
   "outputs": [],
   "source": [
    "mp7_face_data = flopy.modpath.FaceDataType(\n",
    "    verticaldivisions1=5,\n",
    "    verticaldivisions2=5,\n",
    "    verticaldivisions3=5,\n",
    "    verticaldivisions4=5,\n",
    "    horizontaldivisions1=5,\n",
    "    horizontaldivisions2=5,\n",
    "    horizontaldivisions3=5,\n",
    "    horizontaldivisions4=5,\n",
    "    rowdivisions5=0,\n",
    "    rowdivisions6=0,\n",
    "    columndivisions5=0,\n",
    "    columndivisions6=0,\n",
    ")\n",
    "mp7_particle_data = flopy.modpath.LRCParticleData(\n",
    "    subdivisiondata=[mp7_face_data], lrcregions=[[[*wel_loc, *wel_loc]]]\n",
    ")\n",
    "mp7_pg1 = flopy.modpath.ParticleGroupLRCTemplate(\n",
    "    particlegroupname=\"PG1\",\n",
    "    particledata=mp7_particle_data,\n",
    "    filename=mp7_name + \"pg1.sloc\",\n",
    ")"
   ]
  },
  {
   "cell_type": "markdown",
   "id": "85a9d400",
   "metadata": {},
   "source": [
    "Define a zone map. The active region is zone 0, and the two boundaries are 1 and 2, respectively. MP7 and PRT will assign each particle path record to a zone. This will make it easier to identify the boundary condition where a given particle terminates."
   ]
  },
  {
   "cell_type": "code",
   "execution_count": 98,
   "id": "681cc78a",
   "metadata": {},
   "outputs": [],
   "source": [
    "izone = np.zeros((nlay, nrow, ncol), dtype=int)\n",
    "for l, r, c in gwf.modelgrid.get_lrc(nodes[\"well\"]):\n",
    "    izone[l, r, c] = 1\n",
    "for l, r, c in gwf.modelgrid.get_lrc(nodes[\"river\"]):\n",
    "    izone[l, r, c] = 2"
   ]
  },
  {
   "cell_type": "markdown",
   "id": "47f95946",
   "metadata": {},
   "source": [
    "Create the MP7 simulation."
   ]
  },
  {
   "cell_type": "code",
   "execution_count": 99,
   "id": "15e9a4a2",
   "metadata": {},
   "outputs": [],
   "source": [
    "mp7_sim = flopy.modpath.Modpath7Sim(\n",
    "    mp7,\n",
    "    simulationtype=\"combined\",\n",
    "    trackingdirection=\"backward\",\n",
    "    weaksinkoption=\"pass_through\",\n",
    "    weaksourceoption=\"pass_through\",\n",
    "    budgetoutputoption=\"summary\",\n",
    "    referencetime=[0, 0, 0.0],\n",
    "    stoptimeoption=\"extend\",\n",
    "    timepointdata=[500, 1000.0],\n",
    "    zonedataoption=\"on\",\n",
    "    zones=izone,\n",
    "    particlegroups=[mp7_pg1],\n",
    ")"
   ]
  },
  {
   "cell_type": "markdown",
   "id": "a38d3a19",
   "metadata": {},
   "source": [
    "Run the MP7 simulation."
   ]
  },
  {
   "cell_type": "code",
   "execution_count": 100,
   "id": "e089e0bb",
   "metadata": {},
   "outputs": [
    {
     "name": "stdout",
     "output_type": "stream",
     "text": [
      "FloPy is using the following executable to run the model: ../../../../../../../micromamba/envs/gw3099/bin/mp7\n",
      "\n",
      "MODPATH Version 7.2.001   \n",
      "Program compiled Jun 21 2024 02:56:57 with GFORTRAN compiler (ver. 12.3.0)      \n",
      "\n",
      "\n",
      "Run particle tracking simulation ...\n",
      "Processing Time Step     1 Period     1.  Time =  1.00000E+03  Steady-state flow                                                    \n",
      "\n",
      "Particle Summary:\n",
      "         0 particles are pending release.\n",
      "         0 particles remain active.\n",
      "       100 particles terminated at boundary faces.\n",
      "         0 particles terminated at weak sink cells.\n",
      "         0 particles terminated at weak source cells.\n",
      "         0 particles terminated at strong source/sink cells.\n",
      "         0 particles terminated in cells with a specified zone number.\n",
      "         0 particles were stranded in inactive or dry cells.\n",
      "         0 particles were unreleased.\n",
      "         0 particles have an unknown status.\n",
      " \n",
      "Normal termination.                                                        \n"
     ]
    },
    {
     "data": {
      "text/plain": [
       "(True, [])"
      ]
     },
     "execution_count": 100,
     "metadata": {},
     "output_type": "execute_result"
    }
   ],
   "source": [
    "mp7.write_input()\n",
    "mp7.run_model(silent=False)"
   ]
  },
  {
   "cell_type": "markdown",
   "id": "0d59a24a",
   "metadata": {},
   "source": [
    "Load MP7 pathline results. FloPy returns a list of `np.recarray`, one for each pathline; we merge the pathlines into a single dataframe."
   ]
  },
  {
   "cell_type": "code",
   "execution_count": 101,
   "id": "ba09edab",
   "metadata": {},
   "outputs": [
    {
     "data": {
      "text/html": [
       "<div>\n",
       "<style scoped>\n",
       "    .dataframe tbody tr th:only-of-type {\n",
       "        vertical-align: middle;\n",
       "    }\n",
       "\n",
       "    .dataframe tbody tr th {\n",
       "        vertical-align: top;\n",
       "    }\n",
       "\n",
       "    .dataframe thead th {\n",
       "        text-align: right;\n",
       "    }\n",
       "</style>\n",
       "<table border=\"1\" class=\"dataframe\">\n",
       "  <thead>\n",
       "    <tr style=\"text-align: right;\">\n",
       "      <th></th>\n",
       "      <th>particleid</th>\n",
       "      <th>particlegroup</th>\n",
       "      <th>sequencenumber</th>\n",
       "      <th>particleidloc</th>\n",
       "      <th>time</th>\n",
       "      <th>x</th>\n",
       "      <th>y</th>\n",
       "      <th>z</th>\n",
       "      <th>k</th>\n",
       "      <th>node</th>\n",
       "      <th>xloc</th>\n",
       "      <th>yloc</th>\n",
       "      <th>zloc</th>\n",
       "      <th>stressperiod</th>\n",
       "      <th>timestep</th>\n",
       "    </tr>\n",
       "  </thead>\n",
       "  <tbody>\n",
       "    <tr>\n",
       "      <th>0</th>\n",
       "      <td>0</td>\n",
       "      <td>0</td>\n",
       "      <td>0</td>\n",
       "      <td>0</td>\n",
       "      <td>0.000000</td>\n",
       "      <td>4500.000000</td>\n",
       "      <td>5050.000000</td>\n",
       "      <td>20.000000</td>\n",
       "      <td>2</td>\n",
       "      <td>1049</td>\n",
       "      <td>0.000000</td>\n",
       "      <td>0.100000</td>\n",
       "      <td>0.100000</td>\n",
       "      <td>1</td>\n",
       "      <td>1</td>\n",
       "    </tr>\n",
       "    <tr>\n",
       "      <th>1</th>\n",
       "      <td>0</td>\n",
       "      <td>0</td>\n",
       "      <td>0</td>\n",
       "      <td>0</td>\n",
       "      <td>0.000000</td>\n",
       "      <td>4500.000000</td>\n",
       "      <td>5050.000000</td>\n",
       "      <td>20.000000</td>\n",
       "      <td>2</td>\n",
       "      <td>1049</td>\n",
       "      <td>0.000000</td>\n",
       "      <td>0.100000</td>\n",
       "      <td>0.100000</td>\n",
       "      <td>1</td>\n",
       "      <td>1</td>\n",
       "    </tr>\n",
       "    <tr>\n",
       "      <th>2</th>\n",
       "      <td>0</td>\n",
       "      <td>0</td>\n",
       "      <td>0</td>\n",
       "      <td>0</td>\n",
       "      <td>55.099941</td>\n",
       "      <td>4295.363770</td>\n",
       "      <td>5000.000000</td>\n",
       "      <td>20.184050</td>\n",
       "      <td>2</td>\n",
       "      <td>1048</td>\n",
       "      <td>0.590727</td>\n",
       "      <td>0.000000</td>\n",
       "      <td>0.100920</td>\n",
       "      <td>1</td>\n",
       "      <td>1</td>\n",
       "    </tr>\n",
       "    <tr>\n",
       "      <th>3</th>\n",
       "      <td>0</td>\n",
       "      <td>0</td>\n",
       "      <td>0</td>\n",
       "      <td>0</td>\n",
       "      <td>266.553864</td>\n",
       "      <td>4000.000000</td>\n",
       "      <td>4786.857910</td>\n",
       "      <td>20.879211</td>\n",
       "      <td>2</td>\n",
       "      <td>1068</td>\n",
       "      <td>0.000000</td>\n",
       "      <td>0.573716</td>\n",
       "      <td>0.104396</td>\n",
       "      <td>1</td>\n",
       "      <td>1</td>\n",
       "    </tr>\n",
       "    <tr>\n",
       "      <th>4</th>\n",
       "      <td>0</td>\n",
       "      <td>0</td>\n",
       "      <td>0</td>\n",
       "      <td>0</td>\n",
       "      <td>671.823547</td>\n",
       "      <td>3500.000000</td>\n",
       "      <td>4601.118164</td>\n",
       "      <td>22.321342</td>\n",
       "      <td>2</td>\n",
       "      <td>1067</td>\n",
       "      <td>0.000000</td>\n",
       "      <td>0.202236</td>\n",
       "      <td>0.111607</td>\n",
       "      <td>1</td>\n",
       "      <td>1</td>\n",
       "    </tr>\n",
       "    <tr>\n",
       "      <th>...</th>\n",
       "      <td>...</td>\n",
       "      <td>...</td>\n",
       "      <td>...</td>\n",
       "      <td>...</td>\n",
       "      <td>...</td>\n",
       "      <td>...</td>\n",
       "      <td>...</td>\n",
       "      <td>...</td>\n",
       "      <td>...</td>\n",
       "      <td>...</td>\n",
       "      <td>...</td>\n",
       "      <td>...</td>\n",
       "      <td>...</td>\n",
       "      <td>...</td>\n",
       "      <td>...</td>\n",
       "    </tr>\n",
       "    <tr>\n",
       "      <th>11</th>\n",
       "      <td>99</td>\n",
       "      <td>0</td>\n",
       "      <td>99</td>\n",
       "      <td>99</td>\n",
       "      <td>3271.038086</td>\n",
       "      <td>4000.000000</td>\n",
       "      <td>6487.940918</td>\n",
       "      <td>277.793488</td>\n",
       "      <td>0</td>\n",
       "      <td>168</td>\n",
       "      <td>0.000000</td>\n",
       "      <td>0.975881</td>\n",
       "      <td>0.494794</td>\n",
       "      <td>1</td>\n",
       "      <td>1</td>\n",
       "    </tr>\n",
       "    <tr>\n",
       "      <th>12</th>\n",
       "      <td>99</td>\n",
       "      <td>0</td>\n",
       "      <td>99</td>\n",
       "      <td>99</td>\n",
       "      <td>4000.000000</td>\n",
       "      <td>3635.930908</td>\n",
       "      <td>6498.729980</td>\n",
       "      <td>309.707642</td>\n",
       "      <td>0</td>\n",
       "      <td>167</td>\n",
       "      <td>0.271862</td>\n",
       "      <td>0.997460</td>\n",
       "      <td>0.764556</td>\n",
       "      <td>1</td>\n",
       "      <td>1</td>\n",
       "    </tr>\n",
       "    <tr>\n",
       "      <th>13</th>\n",
       "      <td>99</td>\n",
       "      <td>0</td>\n",
       "      <td>99</td>\n",
       "      <td>99</td>\n",
       "      <td>4085.572021</td>\n",
       "      <td>3595.872803</td>\n",
       "      <td>6500.000000</td>\n",
       "      <td>313.656006</td>\n",
       "      <td>0</td>\n",
       "      <td>167</td>\n",
       "      <td>0.191745</td>\n",
       "      <td>1.000000</td>\n",
       "      <td>0.798207</td>\n",
       "      <td>1</td>\n",
       "      <td>1</td>\n",
       "    </tr>\n",
       "    <tr>\n",
       "      <th>14</th>\n",
       "      <td>99</td>\n",
       "      <td>0</td>\n",
       "      <td>99</td>\n",
       "      <td>99</td>\n",
       "      <td>4296.375488</td>\n",
       "      <td>3500.000000</td>\n",
       "      <td>6503.130371</td>\n",
       "      <td>323.594635</td>\n",
       "      <td>0</td>\n",
       "      <td>147</td>\n",
       "      <td>0.000000</td>\n",
       "      <td>0.006261</td>\n",
       "      <td>0.882800</td>\n",
       "      <td>1</td>\n",
       "      <td>1</td>\n",
       "    </tr>\n",
       "    <tr>\n",
       "      <th>15</th>\n",
       "      <td>99</td>\n",
       "      <td>0</td>\n",
       "      <td>99</td>\n",
       "      <td>99</td>\n",
       "      <td>4578.086914</td>\n",
       "      <td>3377.028320</td>\n",
       "      <td>6506.590820</td>\n",
       "      <td>337.794220</td>\n",
       "      <td>0</td>\n",
       "      <td>146</td>\n",
       "      <td>0.754057</td>\n",
       "      <td>0.013182</td>\n",
       "      <td>1.000000</td>\n",
       "      <td>1</td>\n",
       "      <td>1</td>\n",
       "    </tr>\n",
       "  </tbody>\n",
       "</table>\n",
       "<p>2405 rows × 15 columns</p>\n",
       "</div>"
      ],
      "text/plain": [
       "    particleid  particlegroup  sequencenumber  particleidloc         time  \\\n",
       "0            0              0               0              0     0.000000   \n",
       "1            0              0               0              0     0.000000   \n",
       "2            0              0               0              0    55.099941   \n",
       "3            0              0               0              0   266.553864   \n",
       "4            0              0               0              0   671.823547   \n",
       "..         ...            ...             ...            ...          ...   \n",
       "11          99              0              99             99  3271.038086   \n",
       "12          99              0              99             99  4000.000000   \n",
       "13          99              0              99             99  4085.572021   \n",
       "14          99              0              99             99  4296.375488   \n",
       "15          99              0              99             99  4578.086914   \n",
       "\n",
       "              x            y           z  k  node      xloc      yloc  \\\n",
       "0   4500.000000  5050.000000   20.000000  2  1049  0.000000  0.100000   \n",
       "1   4500.000000  5050.000000   20.000000  2  1049  0.000000  0.100000   \n",
       "2   4295.363770  5000.000000   20.184050  2  1048  0.590727  0.000000   \n",
       "3   4000.000000  4786.857910   20.879211  2  1068  0.000000  0.573716   \n",
       "4   3500.000000  4601.118164   22.321342  2  1067  0.000000  0.202236   \n",
       "..          ...          ...         ... ..   ...       ...       ...   \n",
       "11  4000.000000  6487.940918  277.793488  0   168  0.000000  0.975881   \n",
       "12  3635.930908  6498.729980  309.707642  0   167  0.271862  0.997460   \n",
       "13  3595.872803  6500.000000  313.656006  0   167  0.191745  1.000000   \n",
       "14  3500.000000  6503.130371  323.594635  0   147  0.000000  0.006261   \n",
       "15  3377.028320  6506.590820  337.794220  0   146  0.754057  0.013182   \n",
       "\n",
       "        zloc  stressperiod  timestep  \n",
       "0   0.100000             1         1  \n",
       "1   0.100000             1         1  \n",
       "2   0.100920             1         1  \n",
       "3   0.104396             1         1  \n",
       "4   0.111607             1         1  \n",
       "..       ...           ...       ...  \n",
       "11  0.494794             1         1  \n",
       "12  0.764556             1         1  \n",
       "13  0.798207             1         1  \n",
       "14  0.882800             1         1  \n",
       "15  1.000000             1         1  \n",
       "\n",
       "[2405 rows x 15 columns]"
      ]
     },
     "execution_count": 101,
     "metadata": {},
     "output_type": "execute_result"
    }
   ],
   "source": [
    "mp7_pathline_file = flopy.utils.PathlineFile(mp7_pathline_file_path)\n",
    "mp7_pathlines = pd.concat(\n",
    "    [pd.DataFrame(pl) for pl in mp7_pathline_file.get_alldata()]\n",
    ")\n",
    "mp7_pathlines"
   ]
  },
  {
   "cell_type": "markdown",
   "id": "2792dce2",
   "metadata": {},
   "source": [
    "Plot MP7 results."
   ]
  },
  {
   "cell_type": "code",
   "execution_count": 102,
   "id": "5e329136",
   "metadata": {},
   "outputs": [
    {
     "data": {
      "image/png": "[encoded data removed]",
      "text/plain": [
       "<Figure size 600x600 with 2 Axes>"
      ]
     },
     "metadata": {},
     "output_type": "display_data"
    }
   ],
   "source": [
    "with flopy.plot.styles.USGSPlot():\n",
    "    fig, ax = plt.subplots(ncols=1, nrows=1, figsize=(6, 6))\n",
    "    ax.set_aspect(\"equal\")\n",
    "    fig.tight_layout()\n",
    "    flopy.plot.styles.heading(ax, heading=\"MODPATH 7 pathlines\")\n",
    "    mm = plot_heads(ax, gwf, hds[2, :, :])\n",
    "    mm.plot_pathline(\n",
    "        mp7_pathlines, layer=\"all\", colors=\"black\", alpha=0.5, linewidth=0.5\n",
    "    )\n",
    "    plt.show()"
   ]
  },
  {
   "cell_type": "markdown",
   "id": "515a78ac",
   "metadata": {},
   "source": [
    "\n",
    "\n",
    "### PRT model\n",
    "\n",
    "Define the PRT model name and workspace."
   ]
  },
  {
   "cell_type": "code",
   "execution_count": 103,
   "id": "63918c4c",
   "metadata": {},
   "outputs": [],
   "source": [
    "prt_name = f\"{example_name}-prt\"\n",
    "prt_ws = base_ws / \"prt\"\n",
    "prt_ws.mkdir(exist_ok=True, parents=True)"
   ]
  },
  {
   "cell_type": "markdown",
   "id": "69917168",
   "metadata": {},
   "source": [
    "Create a PRT simulation."
   ]
  },
  {
   "cell_type": "code",
   "execution_count": 104,
   "id": "402001f6",
   "metadata": {},
   "outputs": [],
   "source": [
    "prt_sim = flopy.mf6.MFSimulation(\n",
    "    sim_name=prt_name, exe_name=\"mf6\", version=\"mf6\", sim_ws=prt_ws\n",
    ")"
   ]
  },
  {
   "cell_type": "markdown",
   "id": "571dde97",
   "metadata": {},
   "source": [
    "Create the temporal discretization."
   ]
  },
  {
   "cell_type": "code",
   "execution_count": 105,
   "id": "cd2c3eff",
   "metadata": {},
   "outputs": [],
   "source": [
    "tdis = flopy.mf6.modflow.mftdis.ModflowTdis(\n",
    "    prt_sim,\n",
    "    pname=\"tdis\",\n",
    "    time_units=\"DAYS\",\n",
    "    nper=nper,\n",
    "    perioddata=[(perlen, nstp, tsmult)],\n",
    ")"
   ]
  },
  {
   "cell_type": "markdown",
   "id": "2faebdc3",
   "metadata": {},
   "source": [
    "Create the PRT model."
   ]
  },
  {
   "cell_type": "code",
   "execution_count": 106,
   "id": "70f687cc",
   "metadata": {},
   "outputs": [],
   "source": [
    "prt = flopy.mf6.ModflowPrt(\n",
    "    prt_sim, modelname=prt_name, model_nam_file=f\"{prt_name}.nam\"\n",
    ")"
   ]
  },
  {
   "cell_type": "markdown",
   "id": "9a28b8eb",
   "metadata": {},
   "source": [
    "Create the discretization package."
   ]
  },
  {
   "cell_type": "code",
   "execution_count": 107,
   "id": "cfb60621",
   "metadata": {},
   "outputs": [],
   "source": [
    "dis = flopy.mf6.modflow.mfgwfdis.ModflowGwfdis(\n",
    "    prt,\n",
    "    pname=\"dis\",\n",
    "    nlay=nlay,\n",
    "    nrow=nrow,\n",
    "    ncol=ncol,\n",
    "    length_units=\"FEET\",\n",
    "    delr=delr,\n",
    "    delc=delc,\n",
    "    top=top,\n",
    "    botm=botm,\n",
    ")"
   ]
  },
  {
   "cell_type": "markdown",
   "id": "75a0c027",
   "metadata": {},
   "source": [
    "Create the PRT model input package."
   ]
  },
  {
   "cell_type": "code",
   "execution_count": 108,
   "id": "ab010a0a",
   "metadata": {},
   "outputs": [],
   "source": [
    "mip = flopy.mf6.ModflowPrtmip(prt, pname=\"mip\", porosity=porosity, izone=izone)"
   ]
  },
  {
   "cell_type": "markdown",
   "id": "97f96617",
   "metadata": {},
   "source": [
    "Create the particle release package. We will use a conversion utility which makes it straightforward to convert a MODPATH 7 particle release configuration to the format expected by PRT's particle release point (PRP) package."
   ]
  },
  {
   "cell_type": "code",
   "execution_count": 109,
   "id": "5a71322d",
   "metadata": {},
   "outputs": [],
   "source": [
    "release_pts = list(mp7_particle_data.to_prp(gwf.modelgrid))\n",
    "prp = flopy.mf6.ModflowPrtprp(\n",
    "    prt,\n",
    "    # filename=f\"{prt_name}1.prp\",\n",
    "    nreleasepts=len(release_pts),\n",
    "    packagedata=release_pts,\n",
    "    perioddata={\n",
    "        0: [\"FIRST\"],\n",
    "    },\n",
    "    exit_solve_tolerance=1e-5,\n",
    "    extend_tracking=True,\n",
    ")"
   ]
  },
  {
   "cell_type": "markdown",
   "id": "c7178619",
   "metadata": {},
   "source": [
    "Create the output control package.\n",
    "\n",
    "PRT can write pathline output to binary or CSV files. Below we will enable both, but will only read the CSV output file.\n",
    "\n",
    "The output control package is also used to configure tracking events. This is another point of departure between PRT and MODPATH. MP7 supports four distinct simulation modes:\n",
    "\n",
    "- endpoint\n",
    "- pathline\n",
    "- timeseries\n",
    "- combined pathline/timeseries\n",
    "\n",
    "The tracking algorithm used by MP7 is functionally identical in all four modes; the mode controls only how output is reported.\n",
    "\n",
    "PRT has a single mode. Output is configured by selecting tracking events:\n",
    "\n",
    "- release\n",
    "- (sub)cell exit\n",
    "- timestep end\n",
    "- termination\n",
    "- weak sink cell exit\n",
    "- user-specified time\n",
    "\n",
    "Some exercises:\n",
    "\n",
    "<details>\n",
    "  <summary>Q: How to configure a PRT model like an MP7 endpoint simulation?</summary>\n",
    "  A: Select release and termination events only.\n",
    "</details>\n",
    "\n",
    "<details>\n",
    "  <summary>Q: How to configure a model like an MP7 timeseries simulation?</summary>\n",
    "  A: Select time reporting and provide tracking times.\n",
    "</details>\n",
    "\n",
    "By default, PRT enables all tracking events."
   ]
  },
  {
   "cell_type": "code",
   "execution_count": 110,
   "id": "2810bb36",
   "metadata": {},
   "outputs": [],
   "source": [
    "# Define output files.\n",
    "budgetfile_prt = f\"{prt_name}.cbb\"\n",
    "trackfile_prt = f\"{prt_name}.trk\"\n",
    "trackhdrfile_prt = f\"{prt_name}.trk.hdr\"\n",
    "trackcsvfile_prt = f\"{prt_name}.trk.csv\"\n",
    "\n",
    "# Define the output control package.\n",
    "budget_record = [budgetfile_prt]\n",
    "track_record = [trackfile_prt]\n",
    "trackcsv_record = [trackcsvfile_prt]\n",
    "tracktimes = list(range(0, 72000, 1000))\n",
    "oc = flopy.mf6.ModflowPrtoc(\n",
    "    prt,\n",
    "    pname=\"oc\",\n",
    "    budget_filerecord=budget_record,\n",
    "    track_filerecord=track_record,\n",
    "    trackcsv_filerecord=trackcsv_record,\n",
    "    ntracktimes=len(tracktimes),\n",
    "    tracktimes=[(t,) for t in tracktimes],\n",
    "    saverecord=[(\"BUDGET\", \"ALL\")],\n",
    ")"
   ]
  },
  {
   "cell_type": "markdown",
   "id": "ae9fa491",
   "metadata": {},
   "source": [
    "Create the flow model interface. Since PRT does not yet support backwards tracking natively, we'll reverse the flow model's head and budget output files with FloPy first."
   ]
  },
  {
   "cell_type": "code",
   "execution_count": 111,
   "id": "eb38fbfa",
   "metadata": {},
   "outputs": [],
   "source": [
    "head_file = flopy.utils.HeadFile(gwf_ws / headfile_name, tdis=gwf_sim.tdis)\n",
    "budget_file = flopy.utils.CellBudgetFile(\n",
    "    gwf_ws / budgetfile_name, precision=\"double\", tdis=gwf_sim.tdis\n",
    ")\n",
    "\n",
    "headfile_bkwd_name = f\"{headfile_name}_bkwd\"\n",
    "budgetfile_bkwd_name = f\"{budgetfile_name}_bkwd\"\n",
    "\n",
    "head_file.reverse(prt_ws / headfile_bkwd_name)\n",
    "budget_file.reverse(prt_ws / budgetfile_bkwd_name)\n",
    "\n",
    "fmi = flopy.mf6.ModflowPrtfmi(\n",
    "    prt,\n",
    "    packagedata=[\n",
    "        (\"GWFHEAD\", pl.Path(f\"../{prt_ws.name}/{headfile_bkwd_name}\")),\n",
    "        (\"GWFBUDGET\", pl.Path(f\"../{prt_ws.name}/{budgetfile_bkwd_name}\")),\n",
    "    ],\n",
    ")"
   ]
  },
  {
   "cell_type": "markdown",
   "id": "4889ae0d",
   "metadata": {},
   "source": [
    "Create an explicit model solution for the PRT model. PRT is unlike other MODFLOW 6 model types in that it includes its own solution procedures for particle tracking. PRT does not use the iterative matrix solvers used by other model types, instead it uses an \"explicit\" solution."
   ]
  },
  {
   "cell_type": "code",
   "execution_count": 112,
   "id": "df360570",
   "metadata": {},
   "outputs": [],
   "source": [
    "ems = flopy.mf6.ModflowEms(\n",
    "    prt_sim,\n",
    "    pname=\"ems\",\n",
    "    filename=f\"{prt_name}.ems\",\n",
    ")\n",
    "prt_sim.register_solution_package(ems, [prt.name])"
   ]
  },
  {
   "cell_type": "markdown",
   "id": "4967f4cd",
   "metadata": {},
   "source": [
    "Write and run the PRT model."
   ]
  },
  {
   "cell_type": "code",
   "execution_count": 113,
   "id": "e4ebbde7",
   "metadata": {},
   "outputs": [
    {
     "name": "stdout",
     "output_type": "stream",
     "text": [
      "writing simulation...\n",
      "  writing simulation name file...\n",
      "  writing simulation tdis package...\n",
      "  writing solution package ems...\n",
      "  writing model ex1-prt...\n",
      "    writing model name file...\n",
      "    writing package dis...\n",
      "    writing package mip...\n",
      "    writing package prp_0...\n",
      "    writing package oc...\n",
      "    writing package fmi...\n",
      "FloPy is using the following executable to run the model: ../../../../../../../micromamba/envs/gw3099/bin/mf6\n",
      "                                   MODFLOW 6\n",
      "                U.S. GEOLOGICAL SURVEY MODULAR HYDROLOGIC MODEL\n",
      "                  VERSION 6.6.0.dev0 (preliminary) 09/13/2024\n",
      "                               ***DEVELOP MODE***\n",
      "\n",
      "        MODFLOW 6 compiled Sep 13 2024 02:50:39 with GCC version 13.3.0\n",
      "\n",
      "This software is preliminary or provisional and is subject to \n",
      "revision. It is being provided to meet the need for timely best \n",
      "science. The software has not received final approval by the U.S. \n",
      "Geological Survey (USGS). No warranty, expressed or implied, is made \n",
      "by the USGS or the U.S. Government as to the functionality of the \n",
      "software and related material nor shall the fact of release \n",
      "constitute any such warranty. The software is provided on the \n",
      "condition that neither the USGS nor the U.S. Government shall be held \n",
      "liable for any damages resulting from the authorized or unauthorized \n",
      "use of the software.\n",
      "\n",
      "\n",
      " MODFLOW runs in SEQUENTIAL mode\n",
      "\n",
      " Run start date and time (yyyy/mm/dd hh:mm:ss): 2024/09/14 14:28:22\n",
      "\n",
      " Writing simulation list file: mfsim.lst\n",
      " Using Simulation name file: mfsim.nam\n",
      "\n",
      "    Solving:  Stress period:     1    Time step:     1\n",
      "\n",
      " Run end date and time (yyyy/mm/dd hh:mm:ss): 2024/09/14 14:28:22\n",
      " Elapsed run time:  0.051 Seconds\n",
      "\n",
      " Normal termination of simulation.\n"
     ]
    },
    {
     "data": {
      "text/plain": [
       "(True, [])"
      ]
     },
     "execution_count": 113,
     "metadata": {},
     "output_type": "execute_result"
    }
   ],
   "source": [
    "prt_sim.write_simulation()\n",
    "prt_sim.run_simulation(silent=False)"
   ]
  },
  {
   "cell_type": "markdown",
   "id": "6a21896b",
   "metadata": {},
   "source": [
    "Load the PRT pathlines."
   ]
  },
  {
   "cell_type": "code",
   "execution_count": 114,
   "id": "a7a520ab",
   "metadata": {},
   "outputs": [
    {
     "data": {
      "text/html": [
       "<div>\n",
       "<style scoped>\n",
       "    .dataframe tbody tr th:only-of-type {\n",
       "        vertical-align: middle;\n",
       "    }\n",
       "\n",
       "    .dataframe tbody tr th {\n",
       "        vertical-align: top;\n",
       "    }\n",
       "\n",
       "    .dataframe thead th {\n",
       "        text-align: right;\n",
       "    }\n",
       "</style>\n",
       "<table border=\"1\" class=\"dataframe\">\n",
       "  <thead>\n",
       "    <tr style=\"text-align: right;\">\n",
       "      <th></th>\n",
       "      <th>kper</th>\n",
       "      <th>kstp</th>\n",
       "      <th>imdl</th>\n",
       "      <th>iprp</th>\n",
       "      <th>irpt</th>\n",
       "      <th>ilay</th>\n",
       "      <th>icell</th>\n",
       "      <th>izone</th>\n",
       "      <th>istatus</th>\n",
       "      <th>ireason</th>\n",
       "      <th>trelease</th>\n",
       "      <th>t</th>\n",
       "      <th>x</th>\n",
       "      <th>y</th>\n",
       "      <th>z</th>\n",
       "      <th>name</th>\n",
       "    </tr>\n",
       "  </thead>\n",
       "  <tbody>\n",
       "    <tr>\n",
       "      <th>0</th>\n",
       "      <td>1</td>\n",
       "      <td>1</td>\n",
       "      <td>1</td>\n",
       "      <td>1</td>\n",
       "      <td>1</td>\n",
       "      <td>3</td>\n",
       "      <td>1050</td>\n",
       "      <td>1</td>\n",
       "      <td>1</td>\n",
       "      <td>0</td>\n",
       "      <td>0.0</td>\n",
       "      <td>0.000000</td>\n",
       "      <td>4500.000000</td>\n",
       "      <td>5050.000000</td>\n",
       "      <td>20.000000</td>\n",
       "      <td>NaN</td>\n",
       "    </tr>\n",
       "    <tr>\n",
       "      <th>1</th>\n",
       "      <td>1</td>\n",
       "      <td>1</td>\n",
       "      <td>1</td>\n",
       "      <td>1</td>\n",
       "      <td>1</td>\n",
       "      <td>3</td>\n",
       "      <td>1050</td>\n",
       "      <td>1</td>\n",
       "      <td>1</td>\n",
       "      <td>1</td>\n",
       "      <td>0.0</td>\n",
       "      <td>0.000000</td>\n",
       "      <td>4500.000000</td>\n",
       "      <td>5050.000000</td>\n",
       "      <td>20.000000</td>\n",
       "      <td>NaN</td>\n",
       "    </tr>\n",
       "    <tr>\n",
       "      <th>2</th>\n",
       "      <td>1</td>\n",
       "      <td>1</td>\n",
       "      <td>1</td>\n",
       "      <td>1</td>\n",
       "      <td>1</td>\n",
       "      <td>3</td>\n",
       "      <td>1049</td>\n",
       "      <td>0</td>\n",
       "      <td>1</td>\n",
       "      <td>5</td>\n",
       "      <td>0.0</td>\n",
       "      <td>0.000000</td>\n",
       "      <td>4500.000000</td>\n",
       "      <td>5050.000000</td>\n",
       "      <td>20.000000</td>\n",
       "      <td>NaN</td>\n",
       "    </tr>\n",
       "    <tr>\n",
       "      <th>3</th>\n",
       "      <td>1</td>\n",
       "      <td>1</td>\n",
       "      <td>1</td>\n",
       "      <td>1</td>\n",
       "      <td>1</td>\n",
       "      <td>3</td>\n",
       "      <td>1049</td>\n",
       "      <td>0</td>\n",
       "      <td>1</td>\n",
       "      <td>1</td>\n",
       "      <td>0.0</td>\n",
       "      <td>55.099943</td>\n",
       "      <td>4295.363629</td>\n",
       "      <td>5000.000000</td>\n",
       "      <td>20.184050</td>\n",
       "      <td>NaN</td>\n",
       "    </tr>\n",
       "    <tr>\n",
       "      <th>4</th>\n",
       "      <td>1</td>\n",
       "      <td>1</td>\n",
       "      <td>1</td>\n",
       "      <td>1</td>\n",
       "      <td>1</td>\n",
       "      <td>3</td>\n",
       "      <td>1069</td>\n",
       "      <td>0</td>\n",
       "      <td>1</td>\n",
       "      <td>1</td>\n",
       "      <td>0.0</td>\n",
       "      <td>266.553875</td>\n",
       "      <td>4000.000000</td>\n",
       "      <td>4786.858002</td>\n",
       "      <td>20.879212</td>\n",
       "      <td>NaN</td>\n",
       "    </tr>\n",
       "    <tr>\n",
       "      <th>...</th>\n",
       "      <td>...</td>\n",
       "      <td>...</td>\n",
       "      <td>...</td>\n",
       "      <td>...</td>\n",
       "      <td>...</td>\n",
       "      <td>...</td>\n",
       "      <td>...</td>\n",
       "      <td>...</td>\n",
       "      <td>...</td>\n",
       "      <td>...</td>\n",
       "      <td>...</td>\n",
       "      <td>...</td>\n",
       "      <td>...</td>\n",
       "      <td>...</td>\n",
       "      <td>...</td>\n",
       "      <td>...</td>\n",
       "    </tr>\n",
       "    <tr>\n",
       "      <th>2600</th>\n",
       "      <td>1</td>\n",
       "      <td>1</td>\n",
       "      <td>1</td>\n",
       "      <td>1</td>\n",
       "      <td>100</td>\n",
       "      <td>1</td>\n",
       "      <td>168</td>\n",
       "      <td>0</td>\n",
       "      <td>1</td>\n",
       "      <td>5</td>\n",
       "      <td>0.0</td>\n",
       "      <td>4000.000000</td>\n",
       "      <td>3635.931020</td>\n",
       "      <td>6498.729757</td>\n",
       "      <td>309.707639</td>\n",
       "      <td>NaN</td>\n",
       "    </tr>\n",
       "    <tr>\n",
       "      <th>2601</th>\n",
       "      <td>1</td>\n",
       "      <td>1</td>\n",
       "      <td>1</td>\n",
       "      <td>1</td>\n",
       "      <td>100</td>\n",
       "      <td>1</td>\n",
       "      <td>168</td>\n",
       "      <td>0</td>\n",
       "      <td>1</td>\n",
       "      <td>1</td>\n",
       "      <td>0.0</td>\n",
       "      <td>4085.572033</td>\n",
       "      <td>3595.872656</td>\n",
       "      <td>6500.000000</td>\n",
       "      <td>313.656014</td>\n",
       "      <td>NaN</td>\n",
       "    </tr>\n",
       "    <tr>\n",
       "      <th>2602</th>\n",
       "      <td>1</td>\n",
       "      <td>1</td>\n",
       "      <td>1</td>\n",
       "      <td>1</td>\n",
       "      <td>100</td>\n",
       "      <td>1</td>\n",
       "      <td>148</td>\n",
       "      <td>0</td>\n",
       "      <td>1</td>\n",
       "      <td>1</td>\n",
       "      <td>0.0</td>\n",
       "      <td>4296.375355</td>\n",
       "      <td>3500.000000</td>\n",
       "      <td>6503.130627</td>\n",
       "      <td>323.594619</td>\n",
       "      <td>NaN</td>\n",
       "    </tr>\n",
       "    <tr>\n",
       "      <th>2603</th>\n",
       "      <td>1</td>\n",
       "      <td>1</td>\n",
       "      <td>1</td>\n",
       "      <td>1</td>\n",
       "      <td>100</td>\n",
       "      <td>1</td>\n",
       "      <td>147</td>\n",
       "      <td>0</td>\n",
       "      <td>1</td>\n",
       "      <td>1</td>\n",
       "      <td>0.0</td>\n",
       "      <td>4578.087022</td>\n",
       "      <td>3377.028290</td>\n",
       "      <td>6506.590878</td>\n",
       "      <td>337.794214</td>\n",
       "      <td>NaN</td>\n",
       "    </tr>\n",
       "    <tr>\n",
       "      <th>2604</th>\n",
       "      <td>1</td>\n",
       "      <td>1</td>\n",
       "      <td>1</td>\n",
       "      <td>1</td>\n",
       "      <td>100</td>\n",
       "      <td>1</td>\n",
       "      <td>147</td>\n",
       "      <td>0</td>\n",
       "      <td>2</td>\n",
       "      <td>3</td>\n",
       "      <td>0.0</td>\n",
       "      <td>4578.087022</td>\n",
       "      <td>3377.028290</td>\n",
       "      <td>6506.590878</td>\n",
       "      <td>337.794214</td>\n",
       "      <td>NaN</td>\n",
       "    </tr>\n",
       "  </tbody>\n",
       "</table>\n",
       "<p>2605 rows × 16 columns</p>\n",
       "</div>"
      ],
      "text/plain": [
       "      kper  kstp  imdl  iprp  irpt  ilay  icell  izone  istatus  ireason  \\\n",
       "0        1     1     1     1     1     3   1050      1        1        0   \n",
       "1        1     1     1     1     1     3   1050      1        1        1   \n",
       "2        1     1     1     1     1     3   1049      0        1        5   \n",
       "3        1     1     1     1     1     3   1049      0        1        1   \n",
       "4        1     1     1     1     1     3   1069      0        1        1   \n",
       "...    ...   ...   ...   ...   ...   ...    ...    ...      ...      ...   \n",
       "2600     1     1     1     1   100     1    168      0        1        5   \n",
       "2601     1     1     1     1   100     1    168      0        1        1   \n",
       "2602     1     1     1     1   100     1    148      0        1        1   \n",
       "2603     1     1     1     1   100     1    147      0        1        1   \n",
       "2604     1     1     1     1   100     1    147      0        2        3   \n",
       "\n",
       "      trelease            t            x            y           z  name  \n",
       "0          0.0     0.000000  4500.000000  5050.000000   20.000000   NaN  \n",
       "1          0.0     0.000000  4500.000000  5050.000000   20.000000   NaN  \n",
       "2          0.0     0.000000  4500.000000  5050.000000   20.000000   NaN  \n",
       "3          0.0    55.099943  4295.363629  5000.000000   20.184050   NaN  \n",
       "4          0.0   266.553875  4000.000000  4786.858002   20.879212   NaN  \n",
       "...        ...          ...          ...          ...         ...   ...  \n",
       "2600       0.0  4000.000000  3635.931020  6498.729757  309.707639   NaN  \n",
       "2601       0.0  4085.572033  3595.872656  6500.000000  313.656014   NaN  \n",
       "2602       0.0  4296.375355  3500.000000  6503.130627  323.594619   NaN  \n",
       "2603       0.0  4578.087022  3377.028290  6506.590878  337.794214   NaN  \n",
       "2604       0.0  4578.087022  3377.028290  6506.590878  337.794214   NaN  \n",
       "\n",
       "[2605 rows x 16 columns]"
      ]
     },
     "execution_count": 114,
     "metadata": {},
     "output_type": "execute_result"
    }
   ],
   "source": [
    "prt_pathlines = pd.read_csv(prt_ws / trackcsvfile_prt)\n",
    "prt_pathlines"
   ]
  },
  {
   "cell_type": "markdown",
   "id": "3bcd38a0",
   "metadata": {},
   "source": [
    "Plot the PRT pathlines superimposed over the MP7 pathlines, this time in 3D with PyVista.\n",
    "\n",
    "The first step is to export the models to VTK. Then we create meshes to show the confining bed and boundary conditions."
   ]
  },
  {
   "cell_type": "code",
   "execution_count": 127,
   "id": "1523d9f4",
   "metadata": {},
   "outputs": [
    {
     "data": {
      "application/vnd.jupyter.widget-view+json": {
       "model_id": "0b73187910ab4f948f1b123a2f6ac45d",
       "version_major": 2,
       "version_minor": 0
      },
      "text/plain": [
       "Widget(value='<iframe src=\"http://localhost:59144/index.html?ui=P_0x2b9452090_2&reconnect=auto\" class=\"pyvista…"
      ]
     },
     "metadata": {},
     "output_type": "display_data"
    }
   ],
   "source": [
    "try:\n",
    "    import pyvista as pv\n",
    "    from flopy.export.vtk import Vtk\n",
    "\n",
    "    vert_exag = 10\n",
    "\n",
    "    vtk = Vtk(\n",
    "        model=gwf, binary=False, vertical_exageration=vert_exag, smooth=False\n",
    "    )\n",
    "    vtk.add_model(gwf)\n",
    "    vtk.add_pathline_points(mp7_pathlines.to_records(index=False))\n",
    "    gwf_mesh, mp7_mesh = vtk.to_pyvista()\n",
    "\n",
    "    # this is a little awkward due to the design of `Vtk`, which can only\n",
    "    # have one set of pathlines at a time.\n",
    "    vtk = Vtk(\n",
    "        model=gwf, binary=False, vertical_exageration=vert_exag, smooth=False\n",
    "    )\n",
    "    vtk.add_model(gwf)\n",
    "    vtk.add_pathline_points(prt_pathlines.to_records(index=False))\n",
    "    _, prt_mesh = vtk.to_pyvista()\n",
    "\n",
    "    def get_nn(k, i, j):\n",
    "        \"\"\"Convert a structured grid cell index to a node number.\"\"\"\n",
    "        return k * nrow * ncol + i * ncol + j\n",
    "\n",
    "    # add meshes\n",
    "    riv_mesh = pv.Box(\n",
    "        bounds=[\n",
    "            gwf.modelgrid.extent[1] - delc,\n",
    "            gwf.modelgrid.extent[1],\n",
    "            gwf.modelgrid.extent[2],\n",
    "            gwf.modelgrid.extent[3],\n",
    "            botm[0] * vert_exag,\n",
    "            hds[(0, 0, ncol - 1)] * vert_exag,\n",
    "        ]\n",
    "    )\n",
    "    well_cellid = get_nn(0, *wel_loc[1:])\n",
    "    well_points = gwf.modelgrid.verts[gwf.modelgrid.iverts[well_cellid]]\n",
    "    well_xs, well_ys = list(zip(*well_points))\n",
    "    wel_mesh = pv.Box(\n",
    "        bounds=[\n",
    "            min(well_xs),\n",
    "            max(well_xs),\n",
    "            min(well_ys),\n",
    "            max(well_ys),\n",
    "            botm[-1] * vert_exag,\n",
    "            botm[-2] * vert_exag,\n",
    "        ]\n",
    "    )\n",
    "    bed_mesh = pv.Box(\n",
    "        bounds=[\n",
    "            gwf.modelgrid.extent[0],\n",
    "            gwf.modelgrid.extent[1],\n",
    "            gwf.modelgrid.extent[2],\n",
    "            gwf.modelgrid.extent[3],\n",
    "            botm[1] * vert_exag,\n",
    "            botm[0] * vert_exag,\n",
    "        ]\n",
    "    )\n",
    "\n",
    "    # create the plot\n",
    "    axes = pv.Axes(show_actor=False, actor_scale=2.0, line_width=5)\n",
    "    pv.set_jupyter_backend(\"static\")\n",
    "    # pv.set_jupyter_backend(\"trame\")\n",
    "    p = pv.Plotter(\n",
    "        window_size=[500, 500],\n",
    "        notebook=True,\n",
    "    )\n",
    "    p.enable_anti_aliasing()\n",
    "    p.add_mesh(gwf_mesh, opacity=0.025, style=\"wireframe\")\n",
    "    p.add_mesh(\n",
    "        mp7_mesh,\n",
    "        point_size=5,\n",
    "        line_width=2.5,\n",
    "        smooth_shading=True,\n",
    "        color=\"white\",\n",
    "    )\n",
    "    p.add_mesh(\n",
    "        prt_mesh,\n",
    "        point_size=5,\n",
    "        line_width=2.5,\n",
    "        smooth_shading=True,\n",
    "        color=\"gray\",\n",
    "    )\n",
    "    p.add_mesh(riv_mesh, color=\"teal\", opacity=0.2)\n",
    "    p.add_mesh(wel_mesh, color=\"red\", opacity=0.3)\n",
    "    p.add_mesh(bed_mesh, color=\"tan\", opacity=0.1)\n",
    "    p.show()\n",
    "except:\n",
    "    print(\"PyVista not found.\")"
   ]
  },
  {
   "cell_type": "markdown",
   "id": "810cd969",
   "metadata": {},
   "source": [
    "<details>\n",
    "  <summary>Q: How can we determine the capture area?</summary>\n",
    "  A: First, filter the pathlines and find terminating points where the particles reach the water table. Then compute the convex hull of the point set and calculate its area.\n",
    "</details>"
   ]
  },
  {
   "cell_type": "code",
   "execution_count": 116,
   "id": "204bcf94",
   "metadata": {},
   "outputs": [
    {
     "data": {
      "text/html": [
       "<div>\n",
       "<style scoped>\n",
       "    .dataframe tbody tr th:only-of-type {\n",
       "        vertical-align: middle;\n",
       "    }\n",
       "\n",
       "    .dataframe tbody tr th {\n",
       "        vertical-align: top;\n",
       "    }\n",
       "\n",
       "    .dataframe thead th {\n",
       "        text-align: right;\n",
       "    }\n",
       "</style>\n",
       "<table border=\"1\" class=\"dataframe\">\n",
       "  <thead>\n",
       "    <tr style=\"text-align: right;\">\n",
       "      <th></th>\n",
       "      <th>x</th>\n",
       "      <th>y</th>\n",
       "      <th>z</th>\n",
       "    </tr>\n",
       "    <tr>\n",
       "      <th>irpt</th>\n",
       "      <th></th>\n",
       "      <th></th>\n",
       "      <th></th>\n",
       "    </tr>\n",
       "  </thead>\n",
       "  <tbody>\n",
       "    <tr>\n",
       "      <th>1</th>\n",
       "      <td>177.528580</td>\n",
       "      <td>3358.176413</td>\n",
       "      <td>339.059486</td>\n",
       "    </tr>\n",
       "    <tr>\n",
       "      <th>2</th>\n",
       "      <td>134.866700</td>\n",
       "      <td>4210.515575</td>\n",
       "      <td>339.048235</td>\n",
       "    </tr>\n",
       "    <tr>\n",
       "      <th>3</th>\n",
       "      <td>117.533401</td>\n",
       "      <td>5250.000000</td>\n",
       "      <td>339.043887</td>\n",
       "    </tr>\n",
       "    <tr>\n",
       "      <th>4</th>\n",
       "      <td>134.866700</td>\n",
       "      <td>6289.484426</td>\n",
       "      <td>339.048235</td>\n",
       "    </tr>\n",
       "    <tr>\n",
       "      <th>5</th>\n",
       "      <td>177.528580</td>\n",
       "      <td>7141.823587</td>\n",
       "      <td>339.059486</td>\n",
       "    </tr>\n",
       "    <tr>\n",
       "      <th>...</th>\n",
       "      <td>...</td>\n",
       "      <td>...</td>\n",
       "      <td>...</td>\n",
       "    </tr>\n",
       "    <tr>\n",
       "      <th>96</th>\n",
       "      <td>2610.748895</td>\n",
       "      <td>6152.215682</td>\n",
       "      <td>338.156004</td>\n",
       "    </tr>\n",
       "    <tr>\n",
       "      <th>97</th>\n",
       "      <td>2747.147933</td>\n",
       "      <td>6405.550493</td>\n",
       "      <td>338.156004</td>\n",
       "    </tr>\n",
       "    <tr>\n",
       "      <th>98</th>\n",
       "      <td>2914.404820</td>\n",
       "      <td>6561.210471</td>\n",
       "      <td>338.166033</td>\n",
       "    </tr>\n",
       "    <tr>\n",
       "      <th>99</th>\n",
       "      <td>3122.477487</td>\n",
       "      <td>6670.614914</td>\n",
       "      <td>337.794214</td>\n",
       "    </tr>\n",
       "    <tr>\n",
       "      <th>100</th>\n",
       "      <td>3377.028290</td>\n",
       "      <td>6506.590878</td>\n",
       "      <td>337.794214</td>\n",
       "    </tr>\n",
       "  </tbody>\n",
       "</table>\n",
       "<p>100 rows × 3 columns</p>\n",
       "</div>"
      ],
      "text/plain": [
       "                x            y           z\n",
       "irpt                                      \n",
       "1      177.528580  3358.176413  339.059486\n",
       "2      134.866700  4210.515575  339.048235\n",
       "3      117.533401  5250.000000  339.043887\n",
       "4      134.866700  6289.484426  339.048235\n",
       "5      177.528580  7141.823587  339.059486\n",
       "...           ...          ...         ...\n",
       "96    2610.748895  6152.215682  338.156004\n",
       "97    2747.147933  6405.550493  338.156004\n",
       "98    2914.404820  6561.210471  338.166033\n",
       "99    3122.477487  6670.614914  337.794214\n",
       "100   3377.028290  6506.590878  337.794214\n",
       "\n",
       "[100 rows x 3 columns]"
      ]
     },
     "execution_count": 116,
     "metadata": {},
     "output_type": "execute_result"
    }
   ],
   "source": [
    "termination_pts = prt_pathlines[prt_pathlines.ireason == 3].set_index(\"irpt\")[\n",
    "    [\"x\", \"y\", \"z\"]\n",
    "]\n",
    "termination_pts"
   ]
  },
  {
   "cell_type": "markdown",
   "id": "54d25c8f",
   "metadata": {},
   "source": [
    "Create a multi-point geometry."
   ]
  },
  {
   "cell_type": "code",
   "execution_count": 117,
   "id": "e2ddd108",
   "metadata": {},
   "outputs": [
    {
     "data": {
      "image/svg+xml": [
       "<svg xmlns=\"http://www.w3.org/2000/svg\" xmlns:xlink=\"http://www.w3.org/1999/xlink\" width=\"300\" height=\"300\" viewBox=\"-216.46877613848062 740.9706127932952 4662.285884579051 9018.0587744579\" preserveAspectRatio=\"xMinYMin meet\"><g transform=\"matrix(1,0,0,-1,0,10500.00000004449)\"><g><circle cx=\"177.52858026536066\" cy=\"3358.1764131315294\" r=\"90.18058774457901\" stroke=\"#555555\" stroke-width=\"30.06019591485967\" fill=\"#66cc99\" opacity=\"0.6\" /><circle cx=\"134.86670001314127\" cy=\"4210.515574788182\" r=\"90.18058774457901\" stroke=\"#555555\" stroke-width=\"30.06019591485967\" fill=\"#66cc99\" opacity=\"0.6\" /><circle cx=\"117.53340069329346\" cy=\"5250.00000017516\" r=\"90.18058774457901\" stroke=\"#555555\" stroke-width=\"30.06019591485967\" fill=\"#66cc99\" opacity=\"0.6\" /><circle cx=\"134.8667000153308\" cy=\"6289.484425509565\" r=\"90.18058774457901\" stroke=\"#555555\" stroke-width=\"30.06019591485967\" fill=\"#66cc99\" opacity=\"0.6\" /><circle cx=\"177.52858027596346\" cy=\"7141.823587124181\" r=\"90.18058774457901\" stroke=\"#555555\" stroke-width=\"30.06019591485967\" fill=\"#66cc99\" opacity=\"0.6\" /><circle cx=\"612.7734990895884\" cy=\"3810.484046113463\" r=\"90.18058774457901\" stroke=\"#555555\" stroke-width=\"30.06019591485967\" fill=\"#66cc99\" opacity=\"0.6\" /><circle cx=\"521.1235683657324\" cy=\"4494.6636620117615\" r=\"90.18058774457901\" stroke=\"#555555\" stroke-width=\"30.06019591485967\" fill=\"#66cc99\" opacity=\"0.6\" /><circle cx=\"492.91473641242806\" cy=\"5250.000000064423\" r=\"90.18058774457901\" stroke=\"#555555\" stroke-width=\"30.06019591485967\" fill=\"#66cc99\" opacity=\"0.6\" /><circle cx=\"521.1235683603121\" cy=\"6005.336338104488\" r=\"90.18058774457901\" stroke=\"#555555\" stroke-width=\"30.06019591485967\" fill=\"#66cc99\" opacity=\"0.6\" /><circle cx=\"612.7734990885227\" cy=\"6689.515953997498\" r=\"90.18058774457901\" stroke=\"#555555\" stroke-width=\"30.06019591485967\" fill=\"#66cc99\" opacity=\"0.6\" /><circle cx=\"1118.7936193667588\" cy=\"4042.834988375111\" r=\"90.18058774457901\" stroke=\"#555555\" stroke-width=\"30.06019591485967\" fill=\"#66cc99\" opacity=\"0.6\" /><circle cx=\"1015.364623165638\" cy=\"4624.92147657666\" r=\"90.18058774457901\" stroke=\"#555555\" stroke-width=\"30.06019591485967\" fill=\"#66cc99\" opacity=\"0.6\" /><circle cx=\"971.2669646393869\" cy=\"5250.000000014444\" r=\"90.18058774457901\" stroke=\"#555555\" stroke-width=\"30.06019591485967\" fill=\"#66cc99\" opacity=\"0.6\" /><circle cx=\"1015.3646231539336\" cy=\"5875.07852344756\" r=\"90.18058774457901\" stroke=\"#555555\" stroke-width=\"30.06019591485967\" fill=\"#66cc99\" opacity=\"0.6\" /><circle cx=\"1118.7936193517255\" cy=\"6457.165011659205\" r=\"90.18058774457901\" stroke=\"#555555\" stroke-width=\"30.06019591485967\" fill=\"#66cc99\" opacity=\"0.6\" /><circle cx=\"1725.3721505433475\" cy=\"4263.654650758537\" r=\"90.18058774457901\" stroke=\"#555555\" stroke-width=\"30.06019591485967\" fill=\"#66cc99\" opacity=\"0.6\" /><circle cx=\"1608.052008344812\" cy=\"4742.36905357851\" r=\"90.18058774457901\" stroke=\"#555555\" stroke-width=\"30.06019591485967\" fill=\"#66cc99\" opacity=\"0.6\" /><circle cx=\"1551.8599683807113\" cy=\"5249.999999979866\" r=\"90.18058774457901\" stroke=\"#555555\" stroke-width=\"30.06019591485967\" fill=\"#66cc99\" opacity=\"0.6\" /><circle cx=\"1608.0520083442852\" cy=\"5757.630946383929\" r=\"90.18058774457901\" stroke=\"#555555\" stroke-width=\"30.06019591485967\" fill=\"#66cc99\" opacity=\"0.6\" /><circle cx=\"1725.3721505520998\" cy=\"6236.345349220366\" r=\"90.18058774457901\" stroke=\"#555555\" stroke-width=\"30.06019591485967\" fill=\"#66cc99\" opacity=\"0.6\" /><circle cx=\"2472.1228910326236\" cy=\"4595.297230825757\" r=\"90.18058774457901\" stroke=\"#555555\" stroke-width=\"30.06019591485967\" fill=\"#66cc99\" opacity=\"0.6\" /><circle cx=\"2361.926319144507\" cy=\"4913.729838494965\" r=\"90.18058774457901\" stroke=\"#555555\" stroke-width=\"30.06019591485967\" fill=\"#66cc99\" opacity=\"0.6\" /><circle cx=\"2325.5048002022368\" cy=\"5249.999999960978\" r=\"90.18058774457901\" stroke=\"#555555\" stroke-width=\"30.06019591485967\" fill=\"#66cc99\" opacity=\"0.6\" /><circle cx=\"2361.926319166523\" cy=\"5586.270161431449\" r=\"90.18058774457901\" stroke=\"#555555\" stroke-width=\"30.06019591485967\" fill=\"#66cc99\" opacity=\"0.6\" /><circle cx=\"2472.1228910499376\" cy=\"5904.702769112383\" r=\"90.18058774457901\" stroke=\"#555555\" stroke-width=\"30.06019591485967\" fill=\"#66cc99\" opacity=\"0.6\" /><circle cx=\"765.6960732002804\" cy=\"1174.0388317067247\" r=\"90.18058774457901\" stroke=\"#555555\" stroke-width=\"30.06019591485967\" fill=\"#66cc99\" opacity=\"0.6\" /><circle cx=\"976.6592806365359\" cy=\"1074.9727896250693\" r=\"90.18058774457901\" stroke=\"#555555\" stroke-width=\"30.06019591485967\" fill=\"#66cc99\" opacity=\"0.6\" /><circle cx=\"4111.8149316087965\" cy=\"5250.006145881367\" r=\"90.18058774457901\" stroke=\"#555555\" stroke-width=\"30.06019591485967\" fill=\"#66cc99\" opacity=\"0.6\" /><circle cx=\"976.6592806120486\" cy=\"9425.027210419421\" r=\"90.18058774457901\" stroke=\"#555555\" stroke-width=\"30.06019591485967\" fill=\"#66cc99\" opacity=\"0.6\" /><circle cx=\"765.6960731948294\" cy=\"9325.961168370744\" r=\"90.18058774457901\" stroke=\"#555555\" stroke-width=\"30.06019591485967\" fill=\"#66cc99\" opacity=\"0.6\" /><circle cx=\"1821.2173700092128\" cy=\"1649.0279548373658\" r=\"90.18058774457901\" stroke=\"#555555\" stroke-width=\"30.06019591485967\" fill=\"#66cc99\" opacity=\"0.6\" /><circle cx=\"2259.769344895546\" cy=\"1617.3142750936272\" r=\"90.18058774457901\" stroke=\"#555555\" stroke-width=\"30.06019591485967\" fill=\"#66cc99\" opacity=\"0.6\" /><circle cx=\"4111.585482120587\" cy=\"5250.000020113461\" r=\"90.18058774457901\" stroke=\"#555555\" stroke-width=\"30.06019591485967\" fill=\"#66cc99\" opacity=\"0.6\" /><circle cx=\"2259.7693449196126\" cy=\"8882.685724949397\" r=\"90.18058774457901\" stroke=\"#555555\" stroke-width=\"30.06019591485967\" fill=\"#66cc99\" opacity=\"0.6\" /><circle cx=\"1821.2173700431592\" cy=\"8850.972045212224\" r=\"90.18058774457901\" stroke=\"#555555\" stroke-width=\"30.06019591485967\" fill=\"#66cc99\" opacity=\"0.6\" /><circle cx=\"2662.3390412895324\" cy=\"2182.2747788543898\" r=\"90.18058774457901\" stroke=\"#555555\" stroke-width=\"30.06019591485967\" fill=\"#66cc99\" opacity=\"0.6\" /><circle cx=\"3169.894208655058\" cy=\"2353.136967100025\" r=\"90.18058774457901\" stroke=\"#555555\" stroke-width=\"30.06019591485967\" fill=\"#66cc99\" opacity=\"0.6\" /><circle cx=\"4106.341225981598\" cy=\"5250.000001387642\" r=\"90.18058774457901\" stroke=\"#555555\" stroke-width=\"30.06019591485967\" fill=\"#66cc99\" opacity=\"0.6\" /><circle cx=\"3169.894208676312\" cy=\"8146.863032989852\" r=\"90.18058774457901\" stroke=\"#555555\" stroke-width=\"30.06019591485967\" fill=\"#66cc99\" opacity=\"0.6\" /><circle cx=\"2662.3390413529532\" cy=\"8317.725221203758\" r=\"90.18058774457901\" stroke=\"#555555\" stroke-width=\"30.06019591485967\" fill=\"#66cc99\" opacity=\"0.6\" /><circle cx=\"3293.0052070401075\" cy=\"2978.846204794992\" r=\"90.18058774457901\" stroke=\"#555555\" stroke-width=\"30.06019591485967\" fill=\"#66cc99\" opacity=\"0.6\" /><circle cx=\"3688.449393196373\" cy=\"3454.257395208885\" r=\"90.18058774457901\" stroke=\"#555555\" stroke-width=\"30.06019591485967\" fill=\"#66cc99\" opacity=\"0.6\" /><circle cx=\"4067.625213720198\" cy=\"5250.000000221433\" r=\"90.18058774457901\" stroke=\"#555555\" stroke-width=\"30.06019591485967\" fill=\"#66cc99\" opacity=\"0.6\" /><circle cx=\"3688.4493931803217\" cy=\"7045.742604900469\" r=\"90.18058774457901\" stroke=\"#555555\" stroke-width=\"30.06019591485967\" fill=\"#66cc99\" opacity=\"0.6\" /><circle cx=\"3293.0052070896154\" cy=\"7521.153795254451\" r=\"90.18058774457901\" stroke=\"#555555\" stroke-width=\"30.06019591485967\" fill=\"#66cc99\" opacity=\"0.6\" /><circle cx=\"3570.4807721836332\" cy=\"4219.677462496633\" r=\"90.18058774457901\" stroke=\"#555555\" stroke-width=\"30.06019591485967\" fill=\"#66cc99\" opacity=\"0.6\" /><circle cx=\"3747.1078965796864\" cy=\"4670.469869046188\" r=\"90.18058774457901\" stroke=\"#555555\" stroke-width=\"30.06019591485967\" fill=\"#66cc99\" opacity=\"0.6\" /><circle cx=\"3879.9333184206457\" cy=\"5250.000000026992\" r=\"90.18058774457901\" stroke=\"#555555\" stroke-width=\"30.06019591485967\" fill=\"#66cc99\" opacity=\"0.6\" /><circle cx=\"3747.1078965933216\" cy=\"5829.530130991107\" r=\"90.18058774457901\" stroke=\"#555555\" stroke-width=\"30.06019591485967\" fill=\"#66cc99\" opacity=\"0.6\" /><circle cx=\"3570.480772212733\" cy=\"6280.322537516834\" r=\"90.18058774457901\" stroke=\"#555555\" stroke-width=\"30.06019591485967\" fill=\"#66cc99\" opacity=\"0.6\" /><circle cx=\"238.2586823083224\" cy=\"2735.7089961282627\" r=\"90.18058774457901\" stroke=\"#555555\" stroke-width=\"30.06019591485967\" fill=\"#66cc99\" opacity=\"0.6\" /><circle cx=\"306.78522323323887\" cy=\"2265.193796004042\" r=\"90.18058774457901\" stroke=\"#555555\" stroke-width=\"30.06019591485967\" fill=\"#66cc99\" opacity=\"0.6\" /><circle cx=\"388.47331971271024\" cy=\"1888.4304481630272\" r=\"90.18058774457901\" stroke=\"#555555\" stroke-width=\"30.06019591485967\" fill=\"#66cc99\" opacity=\"0.6\" /><circle cx=\"486.2451064233731\" cy=\"1585.278421942025\" r=\"90.18058774457901\" stroke=\"#555555\" stroke-width=\"30.06019591485967\" fill=\"#66cc99\" opacity=\"0.6\" /><circle cx=\"617.0191234089375\" cy=\"1345.905675324679\" r=\"90.18058774457901\" stroke=\"#555555\" stroke-width=\"30.06019591485967\" fill=\"#66cc99\" opacity=\"0.6\" /><circle cx=\"733.3947361292057\" cy=\"3246.702842139868\" r=\"90.18058774457901\" stroke=\"#555555\" stroke-width=\"30.06019591485967\" fill=\"#66cc99\" opacity=\"0.6\" /><circle cx=\"868.8574161739987\" cy=\"2789.8464361704023\" r=\"90.18058774457901\" stroke=\"#555555\" stroke-width=\"30.06019591485967\" fill=\"#66cc99\" opacity=\"0.6\" /><circle cx=\"1033.966094631666\" cy=\"2395.0028436448724\" r=\"90.18058774457901\" stroke=\"#555555\" stroke-width=\"30.06019591485967\" fill=\"#66cc99\" opacity=\"0.6\" /><circle cx=\"1234.2961370395246\" cy=\"2067.50783473139\" r=\"90.18058774457901\" stroke=\"#555555\" stroke-width=\"30.06019591485967\" fill=\"#66cc99\" opacity=\"0.6\" /><circle cx=\"1512.995308773192\" cy=\"1815.0528447266436\" r=\"90.18058774457901\" stroke=\"#555555\" stroke-width=\"30.06019591485967\" fill=\"#66cc99\" opacity=\"0.6\" /><circle cx=\"1273.4616982965413\" cy=\"3552.6286150117994\" r=\"90.18058774457901\" stroke=\"#555555\" stroke-width=\"30.06019591485967\" fill=\"#66cc99\" opacity=\"0.6\" /><circle cx=\"1448.7045073387758\" cy=\"3125.331384272061\" r=\"90.18058774457901\" stroke=\"#555555\" stroke-width=\"30.06019591485967\" fill=\"#66cc99\" opacity=\"0.6\" /><circle cx=\"1665.0763530952036\" cy=\"2767.8308983505935\" r=\"90.18058774457901\" stroke=\"#555555\" stroke-width=\"30.06019591485967\" fill=\"#66cc99\" opacity=\"0.6\" /><circle cx=\"1915.2474958447376\" cy=\"2464.3917518983703\" r=\"90.18058774457901\" stroke=\"#555555\" stroke-width=\"30.06019591485967\" fill=\"#66cc99\" opacity=\"0.6\" /><circle cx=\"2278.1829587572915\" cy=\"2266.4689440382235\" r=\"90.18058774457901\" stroke=\"#555555\" stroke-width=\"30.06019591485967\" fill=\"#66cc99\" opacity=\"0.6\" /><circle cx=\"1886.9585474997723\" cy=\"3858.7797565499977\" r=\"90.18058774457901\" stroke=\"#555555\" stroke-width=\"30.06019591485967\" fill=\"#66cc99\" opacity=\"0.6\" /><circle cx=\"2055.6229497531226\" cy=\"3500.88157954925\" r=\"90.18058774457901\" stroke=\"#555555\" stroke-width=\"30.06019591485967\" fill=\"#66cc99\" opacity=\"0.6\" /><circle cx=\"2291.8285435503017\" cy=\"3204.501103387241\" r=\"90.18058774457901\" stroke=\"#555555\" stroke-width=\"30.06019591485967\" fill=\"#66cc99\" opacity=\"0.6\" /><circle cx=\"2554.4489993739103\" cy=\"2967.397366368501\" r=\"90.18058774457901\" stroke=\"#555555\" stroke-width=\"30.06019591485967\" fill=\"#66cc99\" opacity=\"0.6\" /><circle cx=\"2925.291941946309\" cy=\"2895.952014626537\" r=\"90.18058774457901\" stroke=\"#555555\" stroke-width=\"30.06019591485967\" fill=\"#66cc99\" opacity=\"0.6\" /><circle cx=\"2610.7488947863417\" cy=\"4347.784318308124\" r=\"90.18058774457901\" stroke=\"#555555\" stroke-width=\"30.06019591485967\" fill=\"#66cc99\" opacity=\"0.6\" /><circle cx=\"2747.1479332992035\" cy=\"4094.4495068768506\" r=\"90.18058774457901\" stroke=\"#555555\" stroke-width=\"30.06019591485967\" fill=\"#66cc99\" opacity=\"0.6\" /><circle cx=\"2914.404819456066\" cy=\"3938.789529410673\" r=\"90.18058774457901\" stroke=\"#555555\" stroke-width=\"30.06019591485967\" fill=\"#66cc99\" opacity=\"0.6\" /><circle cx=\"3122.477487074545\" cy=\"3829.3850860470766\" r=\"90.18058774457901\" stroke=\"#555555\" stroke-width=\"30.06019591485967\" fill=\"#66cc99\" opacity=\"0.6\" /><circle cx=\"3377.0282897573516\" cy=\"3993.409122498436\" r=\"90.18058774457901\" stroke=\"#555555\" stroke-width=\"30.06019591485967\" fill=\"#66cc99\" opacity=\"0.6\" /><circle cx=\"238.25868231583763\" cy=\"7764.291004090058\" r=\"90.18058774457901\" stroke=\"#555555\" stroke-width=\"30.06019591485967\" fill=\"#66cc99\" opacity=\"0.6\" /><circle cx=\"306.7852232417805\" cy=\"8234.806204199489\" r=\"90.18058774457901\" stroke=\"#555555\" stroke-width=\"30.06019591485967\" fill=\"#66cc99\" opacity=\"0.6\" /><circle cx=\"388.47331971497874\" cy=\"8611.569552016936\" r=\"90.18058774457901\" stroke=\"#555555\" stroke-width=\"30.06019591485967\" fill=\"#66cc99\" opacity=\"0.6\" /><circle cx=\"486.2451064196473\" cy=\"8914.7215781996\" r=\"90.18058774457901\" stroke=\"#555555\" stroke-width=\"30.06019591485967\" fill=\"#66cc99\" opacity=\"0.6\" /><circle cx=\"617.0191233918255\" cy=\"9154.094324784104\" r=\"90.18058774457901\" stroke=\"#555555\" stroke-width=\"30.06019591485967\" fill=\"#66cc99\" opacity=\"0.6\" /><circle cx=\"733.3947361249883\" cy=\"7253.297157958929\" r=\"90.18058774457901\" stroke=\"#555555\" stroke-width=\"30.06019591485967\" fill=\"#66cc99\" opacity=\"0.6\" /><circle cx=\"868.8574161811609\" cy=\"7710.15356393279\" r=\"90.18058774457901\" stroke=\"#555555\" stroke-width=\"30.06019591485967\" fill=\"#66cc99\" opacity=\"0.6\" /><circle cx=\"1033.9660946420377\" cy=\"8104.997156463294\" r=\"90.18058774457901\" stroke=\"#555555\" stroke-width=\"30.06019591485967\" fill=\"#66cc99\" opacity=\"0.6\" /><circle cx=\"1234.2961370236146\" cy=\"8432.492165364016\" r=\"90.18058774457901\" stroke=\"#555555\" stroke-width=\"30.06019591485967\" fill=\"#66cc99\" opacity=\"0.6\" /><circle cx=\"1512.99530878252\" cy=\"8684.947155348467\" r=\"90.18058774457901\" stroke=\"#555555\" stroke-width=\"30.06019591485967\" fill=\"#66cc99\" opacity=\"0.6\" /><circle cx=\"1273.4616982920377\" cy=\"6947.371385033085\" r=\"90.18058774457901\" stroke=\"#555555\" stroke-width=\"30.06019591485967\" fill=\"#66cc99\" opacity=\"0.6\" /><circle cx=\"1448.7045073529748\" cy=\"7374.668615765753\" r=\"90.18058774457901\" stroke=\"#555555\" stroke-width=\"30.06019591485967\" fill=\"#66cc99\" opacity=\"0.6\" /><circle cx=\"1665.0763531368696\" cy=\"7732.169101683448\" r=\"90.18058774457901\" stroke=\"#555555\" stroke-width=\"30.06019591485967\" fill=\"#66cc99\" opacity=\"0.6\" /><circle cx=\"1915.2474959114968\" cy=\"8035.608248131146\" r=\"90.18058774457901\" stroke=\"#555555\" stroke-width=\"30.06019591485967\" fill=\"#66cc99\" opacity=\"0.6\" /><circle cx=\"2278.1829588263436\" cy=\"8233.531056004438\" r=\"90.18058774457901\" stroke=\"#555555\" stroke-width=\"30.06019591485967\" fill=\"#66cc99\" opacity=\"0.6\" /><circle cx=\"1886.9585475289368\" cy=\"6641.220243449282\" r=\"90.18058774457901\" stroke=\"#555555\" stroke-width=\"30.06019591485967\" fill=\"#66cc99\" opacity=\"0.6\" /><circle cx=\"2055.622949776577\" cy=\"6999.11842047254\" r=\"90.18058774457901\" stroke=\"#555555\" stroke-width=\"30.06019591485967\" fill=\"#66cc99\" opacity=\"0.6\" /><circle cx=\"2291.828543593111\" cy=\"7295.498896633188\" r=\"90.18058774457901\" stroke=\"#555555\" stroke-width=\"30.06019591485967\" fill=\"#66cc99\" opacity=\"0.6\" /><circle cx=\"2554.448999435436\" cy=\"7532.602633656467\" r=\"90.18058774457901\" stroke=\"#555555\" stroke-width=\"30.06019591485967\" fill=\"#66cc99\" opacity=\"0.6\" /><circle cx=\"2925.291942013249\" cy=\"7604.047985408313\" r=\"90.18058774457901\" stroke=\"#555555\" stroke-width=\"30.06019591485967\" fill=\"#66cc99\" opacity=\"0.6\" /><circle cx=\"2610.74889482895\" cy=\"6152.215681645425\" r=\"90.18058774457901\" stroke=\"#555555\" stroke-width=\"30.06019591485967\" fill=\"#66cc99\" opacity=\"0.6\" /><circle cx=\"2747.1479333421385\" cy=\"6405.550493092233\" r=\"90.18058774457901\" stroke=\"#555555\" stroke-width=\"30.06019591485967\" fill=\"#66cc99\" opacity=\"0.6\" /><circle cx=\"2914.4048195148953\" cy=\"6561.210470571968\" r=\"90.18058774457901\" stroke=\"#555555\" stroke-width=\"30.06019591485967\" fill=\"#66cc99\" opacity=\"0.6\" /><circle cx=\"3122.4774871312075\" cy=\"6670.6149139478175\" r=\"90.18058774457901\" stroke=\"#555555\" stroke-width=\"30.06019591485967\" fill=\"#66cc99\" opacity=\"0.6\" /><circle cx=\"3377.028289797811\" cy=\"6506.590877507416\" r=\"90.18058774457901\" stroke=\"#555555\" stroke-width=\"30.06019591485967\" fill=\"#66cc99\" opacity=\"0.6\" /></g></g></svg>"
      ],
      "text/plain": [
       "<MULTIPOINT Z ((177.529 3358.176 339.059), (134.867 4210.516 339.048), (117....>"
      ]
     },
     "execution_count": 117,
     "metadata": {},
     "output_type": "execute_result"
    }
   ],
   "source": [
    "from shapely import MultiPoint\n",
    "\n",
    "term_pts = MultiPoint(termination_pts.to_numpy())\n",
    "term_pts"
   ]
  },
  {
   "cell_type": "markdown",
   "id": "9fe5b5d9",
   "metadata": {},
   "source": [
    "Compute the area of the convex hull."
   ]
  },
  {
   "cell_type": "code",
   "execution_count": 118,
   "id": "f81ce634",
   "metadata": {},
   "outputs": [
    {
     "name": "stdout",
     "output_type": "stream",
     "text": [
      "Capture area:  2.51e+07 sq feet,     0.899 sq mi\n"
     ]
    },
    {
     "data": {
      "image/svg+xml": [
       "<svg xmlns=\"http://www.w3.org/2000/svg\" xmlns:xlink=\"http://www.w3.org/1999/xlink\" width=\"300\" height=\"300\" viewBox=\"-216.46877613848062 740.9706127932952 4662.285884579051 9018.0587744579\" preserveAspectRatio=\"xMinYMin meet\"><g transform=\"matrix(1,0,0,-1,0,10500.00000004449)\"><path fill-rule=\"evenodd\" fill=\"#66cc99\" stroke=\"#555555\" stroke-width=\"60.12039182971934\" opacity=\"0.6\" d=\"M 976.6592806365359,1074.9727896250693 L 765.6960732002804,1174.0388317067247 L 617.0191234089375,1345.905675324679 L 486.2451064233731,1585.278421942025 L 388.47331971271024,1888.4304481630272 L 306.78522323323887,2265.193796004042 L 238.2586823083224,2735.7089961282627 L 177.52858026536066,3358.1764131315294 L 134.86670001314127,4210.515574788182 L 117.53340069329346,5250.00000017516 L 134.8667000153308,6289.484425509565 L 177.52858027596346,7141.823587124181 L 238.25868231583763,7764.291004090058 L 306.7852232417805,8234.806204199489 L 388.47331971497874,8611.569552016936 L 486.2451064196473,8914.7215781996 L 617.0191233918255,9154.094324784104 L 765.6960731948294,9325.961168370744 L 976.6592806120486,9425.027210419421 L 2259.7693449196126,8882.685724949397 L 3169.894208676312,8146.863032989852 L 3688.4493931803217,7045.742604900469 L 4111.8149316087965,5250.006145881367 L 3688.449393196373,3454.257395208885 L 3169.894208655058,2353.136967100025 L 2259.769344895546,1617.3142750936272 L 976.6592806365359,1074.9727896250693 z\" /></g></svg>"
      ],
      "text/plain": [
       "<POLYGON Z ((976.659 1074.973 339.029, 765.696 1174.039 339.029, 617.019 134...>"
      ]
     },
     "execution_count": 118,
     "metadata": {},
     "output_type": "execute_result"
    }
   ],
   "source": [
    "from shapely import convex_hull\n",
    "\n",
    "chull = convex_hull(term_pts)\n",
    "chull_area_ft = chull.area\n",
    "chull_area_mi = chull.area / (5280 * 5280)\n",
    "print(\n",
    "    f\"Capture area: {chull.area:9.3} sq {length_units}, {chull_area_mi:9.3} sq mi\"\n",
    ")\n",
    "chull"
   ]
  },
  {
   "cell_type": "markdown",
   "id": "138c1678",
   "metadata": {},
   "source": [
    "Plot the capture area in map view."
   ]
  },
  {
   "cell_type": "code",
   "execution_count": 119,
   "id": "f4a0d360",
   "metadata": {},
   "outputs": [
    {
     "data": {
      "image/png": "[encoded data removed]",
      "text/plain": [
       "<Figure size 600x600 with 2 Axes>"
      ]
     },
     "metadata": {},
     "output_type": "display_data"
    }
   ],
   "source": [
    "with flopy.plot.styles.USGSPlot():\n",
    "    fig, ax = plt.subplots(ncols=1, nrows=1, figsize=(6, 6))\n",
    "    ax.set_aspect(\"equal\")\n",
    "    fig.tight_layout()\n",
    "    flopy.plot.styles.heading(ax, heading=\"Pathlines with capture area\")\n",
    "    mm = plot_heads(ax, gwf, hds[2, :, :])\n",
    "    mm.plot_pathline(\n",
    "        prt_pathlines, layer=\"all\", colors=\"black\", alpha=0.5, linewidth=0.5\n",
    "    )\n",
    "    chull_xs, chull_ys, _ = map(list, zip(*list(chull.exterior.coords)))\n",
    "    ax.fill(chull_xs, chull_ys)\n",
    "    ax.annotate(f\"{chull_area_mi:9.3f} sq mi\", (1000, 3000), color=\"red\")\n",
    "    plt.show()"
   ]
  },
  {
   "cell_type": "markdown",
   "id": "9108be0f",
   "metadata": {},
   "source": [
    "## Exercises\n",
    "\n",
    "1. Determine a travel time distribution and plot endpoints colored by travel time.\n",
    "2. Vary the particle configuration and determine the effect on the capture area.\n",
    "3. Refine the grid around the well and determine the effect on the capture area.\n",
    "\n",
    "<details>\n",
    "  <summary>Hints</summary>\n",
    "  \n",
    "To solve part 1 we can select endpoints from the set of pathlines, extract travel times, and compute some statistics, then map the travel times to a color gradient in an endpoint plot.\n",
    "\n",
    "To solve part 2 we can change the particle release configuration above and rerun the notebook.\n",
    "\n",
    "To solve part 3 we can use GRIDGEN to refine the grid around the well, then rerun the notebook to see the effect on pathlines and capture area.\n",
    "</details>"
   ]
  },
  {
   "cell_type": "markdown",
   "id": "55bb2134",
   "metadata": {},
   "source": [
    "Solution 1"
   ]
  },
  {
   "cell_type": "code",
   "execution_count": 120,
   "id": "44a71a83",
   "metadata": {},
   "outputs": [
    {
     "data": {
      "text/html": [
       "<div>\n",
       "<style scoped>\n",
       "    .dataframe tbody tr th:only-of-type {\n",
       "        vertical-align: middle;\n",
       "    }\n",
       "\n",
       "    .dataframe tbody tr th {\n",
       "        vertical-align: top;\n",
       "    }\n",
       "\n",
       "    .dataframe thead th {\n",
       "        text-align: right;\n",
       "    }\n",
       "</style>\n",
       "<table border=\"1\" class=\"dataframe\">\n",
       "  <thead>\n",
       "    <tr style=\"text-align: right;\">\n",
       "      <th></th>\n",
       "      <th>kper</th>\n",
       "      <th>kstp</th>\n",
       "      <th>imdl</th>\n",
       "      <th>iprp</th>\n",
       "      <th>ilay</th>\n",
       "      <th>icell</th>\n",
       "      <th>izone</th>\n",
       "      <th>istatus</th>\n",
       "      <th>ireason</th>\n",
       "      <th>trelease</th>\n",
       "      <th>t</th>\n",
       "      <th>x</th>\n",
       "      <th>y</th>\n",
       "      <th>z</th>\n",
       "      <th>name</th>\n",
       "    </tr>\n",
       "    <tr>\n",
       "      <th>irpt</th>\n",
       "      <th></th>\n",
       "      <th></th>\n",
       "      <th></th>\n",
       "      <th></th>\n",
       "      <th></th>\n",
       "      <th></th>\n",
       "      <th></th>\n",
       "      <th></th>\n",
       "      <th></th>\n",
       "      <th></th>\n",
       "      <th></th>\n",
       "      <th></th>\n",
       "      <th></th>\n",
       "      <th></th>\n",
       "      <th></th>\n",
       "    </tr>\n",
       "  </thead>\n",
       "  <tbody>\n",
       "    <tr>\n",
       "      <th>1</th>\n",
       "      <td>1</td>\n",
       "      <td>1</td>\n",
       "      <td>1</td>\n",
       "      <td>1</td>\n",
       "      <td>1</td>\n",
       "      <td>281</td>\n",
       "      <td>0</td>\n",
       "      <td>2</td>\n",
       "      <td>3</td>\n",
       "      <td>0.0</td>\n",
       "      <td>16146.959364</td>\n",
       "      <td>177.528580</td>\n",
       "      <td>3358.176413</td>\n",
       "      <td>339.059486</td>\n",
       "      <td>NaN</td>\n",
       "    </tr>\n",
       "    <tr>\n",
       "      <th>2</th>\n",
       "      <td>1</td>\n",
       "      <td>1</td>\n",
       "      <td>1</td>\n",
       "      <td>1</td>\n",
       "      <td>1</td>\n",
       "      <td>241</td>\n",
       "      <td>0</td>\n",
       "      <td>2</td>\n",
       "      <td>3</td>\n",
       "      <td>0.0</td>\n",
       "      <td>16069.549381</td>\n",
       "      <td>134.866700</td>\n",
       "      <td>4210.515575</td>\n",
       "      <td>339.048235</td>\n",
       "      <td>NaN</td>\n",
       "    </tr>\n",
       "    <tr>\n",
       "      <th>3</th>\n",
       "      <td>1</td>\n",
       "      <td>1</td>\n",
       "      <td>1</td>\n",
       "      <td>1</td>\n",
       "      <td>1</td>\n",
       "      <td>201</td>\n",
       "      <td>0</td>\n",
       "      <td>2</td>\n",
       "      <td>3</td>\n",
       "      <td>0.0</td>\n",
       "      <td>16038.815195</td>\n",
       "      <td>117.533401</td>\n",
       "      <td>5250.000000</td>\n",
       "      <td>339.043887</td>\n",
       "      <td>NaN</td>\n",
       "    </tr>\n",
       "    <tr>\n",
       "      <th>4</th>\n",
       "      <td>1</td>\n",
       "      <td>1</td>\n",
       "      <td>1</td>\n",
       "      <td>1</td>\n",
       "      <td>1</td>\n",
       "      <td>161</td>\n",
       "      <td>0</td>\n",
       "      <td>2</td>\n",
       "      <td>3</td>\n",
       "      <td>0.0</td>\n",
       "      <td>16069.549381</td>\n",
       "      <td>134.866700</td>\n",
       "      <td>6289.484426</td>\n",
       "      <td>339.048235</td>\n",
       "      <td>NaN</td>\n",
       "    </tr>\n",
       "    <tr>\n",
       "      <th>5</th>\n",
       "      <td>1</td>\n",
       "      <td>1</td>\n",
       "      <td>1</td>\n",
       "      <td>1</td>\n",
       "      <td>1</td>\n",
       "      <td>121</td>\n",
       "      <td>0</td>\n",
       "      <td>2</td>\n",
       "      <td>3</td>\n",
       "      <td>0.0</td>\n",
       "      <td>16146.959364</td>\n",
       "      <td>177.528580</td>\n",
       "      <td>7141.823587</td>\n",
       "      <td>339.059486</td>\n",
       "      <td>NaN</td>\n",
       "    </tr>\n",
       "    <tr>\n",
       "      <th>...</th>\n",
       "      <td>...</td>\n",
       "      <td>...</td>\n",
       "      <td>...</td>\n",
       "      <td>...</td>\n",
       "      <td>...</td>\n",
       "      <td>...</td>\n",
       "      <td>...</td>\n",
       "      <td>...</td>\n",
       "      <td>...</td>\n",
       "      <td>...</td>\n",
       "      <td>...</td>\n",
       "      <td>...</td>\n",
       "      <td>...</td>\n",
       "      <td>...</td>\n",
       "      <td>...</td>\n",
       "    </tr>\n",
       "    <tr>\n",
       "      <th>96</th>\n",
       "      <td>1</td>\n",
       "      <td>1</td>\n",
       "      <td>1</td>\n",
       "      <td>1</td>\n",
       "      <td>1</td>\n",
       "      <td>166</td>\n",
       "      <td>0</td>\n",
       "      <td>2</td>\n",
       "      <td>3</td>\n",
       "      <td>0.0</td>\n",
       "      <td>4145.342599</td>\n",
       "      <td>2610.748895</td>\n",
       "      <td>6152.215682</td>\n",
       "      <td>338.156004</td>\n",
       "      <td>NaN</td>\n",
       "    </tr>\n",
       "    <tr>\n",
       "      <th>97</th>\n",
       "      <td>1</td>\n",
       "      <td>1</td>\n",
       "      <td>1</td>\n",
       "      <td>1</td>\n",
       "      <td>1</td>\n",
       "      <td>166</td>\n",
       "      <td>0</td>\n",
       "      <td>2</td>\n",
       "      <td>3</td>\n",
       "      <td>0.0</td>\n",
       "      <td>4176.878506</td>\n",
       "      <td>2747.147933</td>\n",
       "      <td>6405.550493</td>\n",
       "      <td>338.156004</td>\n",
       "      <td>NaN</td>\n",
       "    </tr>\n",
       "    <tr>\n",
       "      <th>98</th>\n",
       "      <td>1</td>\n",
       "      <td>1</td>\n",
       "      <td>1</td>\n",
       "      <td>1</td>\n",
       "      <td>1</td>\n",
       "      <td>146</td>\n",
       "      <td>0</td>\n",
       "      <td>2</td>\n",
       "      <td>3</td>\n",
       "      <td>0.0</td>\n",
       "      <td>4294.438299</td>\n",
       "      <td>2914.404820</td>\n",
       "      <td>6561.210471</td>\n",
       "      <td>338.166033</td>\n",
       "      <td>NaN</td>\n",
       "    </tr>\n",
       "    <tr>\n",
       "      <th>99</th>\n",
       "      <td>1</td>\n",
       "      <td>1</td>\n",
       "      <td>1</td>\n",
       "      <td>1</td>\n",
       "      <td>1</td>\n",
       "      <td>147</td>\n",
       "      <td>0</td>\n",
       "      <td>2</td>\n",
       "      <td>3</td>\n",
       "      <td>0.0</td>\n",
       "      <td>4417.429764</td>\n",
       "      <td>3122.477487</td>\n",
       "      <td>6670.614914</td>\n",
       "      <td>337.794214</td>\n",
       "      <td>NaN</td>\n",
       "    </tr>\n",
       "    <tr>\n",
       "      <th>100</th>\n",
       "      <td>1</td>\n",
       "      <td>1</td>\n",
       "      <td>1</td>\n",
       "      <td>1</td>\n",
       "      <td>1</td>\n",
       "      <td>147</td>\n",
       "      <td>0</td>\n",
       "      <td>2</td>\n",
       "      <td>3</td>\n",
       "      <td>0.0</td>\n",
       "      <td>4578.087022</td>\n",
       "      <td>3377.028290</td>\n",
       "      <td>6506.590878</td>\n",
       "      <td>337.794214</td>\n",
       "      <td>NaN</td>\n",
       "    </tr>\n",
       "  </tbody>\n",
       "</table>\n",
       "<p>100 rows × 15 columns</p>\n",
       "</div>"
      ],
      "text/plain": [
       "      kper  kstp  imdl  iprp  ilay  icell  izone  istatus  ireason  trelease  \\\n",
       "irpt                                                                           \n",
       "1        1     1     1     1     1    281      0        2        3       0.0   \n",
       "2        1     1     1     1     1    241      0        2        3       0.0   \n",
       "3        1     1     1     1     1    201      0        2        3       0.0   \n",
       "4        1     1     1     1     1    161      0        2        3       0.0   \n",
       "5        1     1     1     1     1    121      0        2        3       0.0   \n",
       "...    ...   ...   ...   ...   ...    ...    ...      ...      ...       ...   \n",
       "96       1     1     1     1     1    166      0        2        3       0.0   \n",
       "97       1     1     1     1     1    166      0        2        3       0.0   \n",
       "98       1     1     1     1     1    146      0        2        3       0.0   \n",
       "99       1     1     1     1     1    147      0        2        3       0.0   \n",
       "100      1     1     1     1     1    147      0        2        3       0.0   \n",
       "\n",
       "                 t            x            y           z  name  \n",
       "irpt                                                            \n",
       "1     16146.959364   177.528580  3358.176413  339.059486   NaN  \n",
       "2     16069.549381   134.866700  4210.515575  339.048235   NaN  \n",
       "3     16038.815195   117.533401  5250.000000  339.043887   NaN  \n",
       "4     16069.549381   134.866700  6289.484426  339.048235   NaN  \n",
       "5     16146.959364   177.528580  7141.823587  339.059486   NaN  \n",
       "...            ...          ...          ...         ...   ...  \n",
       "96     4145.342599  2610.748895  6152.215682  338.156004   NaN  \n",
       "97     4176.878506  2747.147933  6405.550493  338.156004   NaN  \n",
       "98     4294.438299  2914.404820  6561.210471  338.166033   NaN  \n",
       "99     4417.429764  3122.477487  6670.614914  337.794214   NaN  \n",
       "100    4578.087022  3377.028290  6506.590878  337.794214   NaN  \n",
       "\n",
       "[100 rows x 15 columns]"
      ]
     },
     "execution_count": 120,
     "metadata": {},
     "output_type": "execute_result"
    }
   ],
   "source": [
    "# select endpoints\n",
    "termination_pts = prt_pathlines[prt_pathlines.ireason == 3].set_index(\"irpt\")\n",
    "termination_pts"
   ]
  },
  {
   "cell_type": "code",
   "execution_count": 130,
   "id": "d4c1d243",
   "metadata": {},
   "outputs": [
    {
     "data": {
      "text/plain": [
       "count      100.000000\n",
       "mean      9769.405159\n",
       "std       5917.415979\n",
       "min       4049.062651\n",
       "25%       5542.759547\n",
       "50%       7785.306165\n",
       "75%      11827.711774\n",
       "max      44794.587323\n",
       "Name: t, dtype: float64"
      ]
     },
     "execution_count": 130,
     "metadata": {},
     "output_type": "execute_result"
    }
   ],
   "source": [
    "# compute summary stats of travel time\n",
    "termination_pts.t.describe()"
   ]
  },
  {
   "cell_type": "code",
   "execution_count": 122,
   "id": "4b475c90",
   "metadata": {},
   "outputs": [
    {
     "data": {
      "text/plain": [
       "<Axes: ylabel='Frequency'>"
      ]
     },
     "execution_count": 122,
     "metadata": {},
     "output_type": "execute_result"
    },
    {
     "data": {
      "image/png": "[encoded data removed]",
      "text/plain": [
       "<Figure size 640x480 with 1 Axes>"
      ]
     },
     "metadata": {},
     "output_type": "display_data"
    }
   ],
   "source": [
    "# show distribution\n",
    "termination_pts.t.plot(kind=\"hist\")\n",
    "# termination_pts.t.plot(kind=\"kde\")"
   ]
  },
  {
   "cell_type": "code",
   "execution_count": 129,
   "id": "32528bf9",
   "metadata": {},
   "outputs": [
    {
     "data": {
      "image/png": "[encoded data removed]",
      "text/plain": [
       "<Figure size 600x600 with 2 Axes>"
      ]
     },
     "metadata": {},
     "output_type": "display_data"
    }
   ],
   "source": [
    "# color-coded endpoint plot\n",
    "with flopy.plot.styles.USGSPlot():\n",
    "    fig, ax = plt.subplots(ncols=1, nrows=1, figsize=(6, 6))\n",
    "    ax.set_aspect(\"equal\")\n",
    "    fig.tight_layout()\n",
    "    flopy.plot.styles.heading(ax, heading=\"Pathlines with total travel time\")\n",
    "    mm = plot_heads(ax, gwf, hds[2, :, :], colorbar=False)\n",
    "    mm.plot_pathline(\n",
    "        prt_pathlines, layer=\"all\", colors=\"black\", alpha=0.5, linewidth=0.5\n",
    "    )\n",
    "    pc = ax.scatter(termination_pts.x, termination_pts.y, c=termination_pts.t)\n",
    "    cb = plt.colorbar(pc, shrink=0.25, pad=0.1)\n",
    "    cb.ax.set_xlabel(r\"Travel time ($d$)\")\n",
    "    plt.show()"
   ]
  }
 ],
 "metadata": {
  "jupytext": {
   "cell_metadata_filter": "-all",
   "main_language": "python",
   "notebook_metadata_filter": "-all"
  },
  "kernelspec": {
   "display_name": "Python 3",
   "language": "python",
   "name": "python3"
  },
  "language_info": {
   "codemirror_mode": {
    "name": "ipython",
    "version": 3
   },
   "file_extension": ".py",
   "mimetype": "text/x-python",
   "name": "python",
   "nbconvert_exporter": "python",
   "pygments_lexer": "ipython3",
   "version": "3.11.10"
  }
 },
 "nbformat": 4,
 "nbformat_minor": 5
}
