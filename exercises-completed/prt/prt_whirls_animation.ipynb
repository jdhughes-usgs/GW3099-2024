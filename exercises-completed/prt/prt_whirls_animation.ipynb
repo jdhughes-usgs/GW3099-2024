{
 "cells": [
  {
   "cell_type": "markdown",
   "id": "6ba0457f",
   "metadata": {},
   "source": [
    "## Groundwater Whirls with Particle Tracking (XT3D and PRT)\n",
    "\n",
    "This is a 10 layer steady-state problem involving anisotropic groundwater\n",
    "flow.  The XT3D formulation is used to represent anisotropy of the hydraulic\n",
    "conductivity tensor.  The resulting flow pattern consists of groundwater whirls,\n",
    "as described in the XT3D documentation report. A particle tracking model is\n",
    "created to visualize the whirls."
   ]
  },
  {
   "cell_type": "markdown",
   "id": "536e96d6",
   "metadata": {},
   "source": [
    "### Initial setup\n",
    "\n",
    "Import dependencies and define the example name and workspace."
   ]
  },
  {
   "cell_type": "code",
   "execution_count": null,
   "id": "b97f8e2e",
   "metadata": {},
   "outputs": [],
   "source": [
    "import pathlib as pl\n",
    "import warnings\n",
    "from itertools import repeat\n",
    "\n",
    "import flopy\n",
    "import numpy as np\n",
    "import pandas as pd\n",
    "import pyvista as pv\n",
    "from flopy.export.vtk import Vtk\n",
    "\n",
    "warnings.simplefilter(\"ignore\", UserWarning)\n",
    "\n",
    "sim_name = \"whirls-prt\"\n",
    "gwf_name = sim_name + \"-gwf\"\n",
    "prt_name = sim_name + \"-prt\"\n",
    "workspace = pl.Path(\"temp\")\n",
    "sim_ws = workspace / sim_name\n",
    "\n",
    "# Define output file names\n",
    "headfile_gwf = f\"{gwf_name}.hds\"\n",
    "budgetfile_gwf = f\"{gwf_name}.cbb\"\n",
    "budgetfile_prt = f\"{prt_name}.cbb\"\n",
    "trackfile_prt = f\"{prt_name}.trk\"\n",
    "trackhdrfile_prt = f\"{prt_name}.trk.hdr\"\n",
    "trackcsvfile_prt = f\"{prt_name}.trk.csv\""
   ]
  },
  {
   "cell_type": "markdown",
   "id": "056bd616",
   "metadata": {},
   "source": [
    "### Define parameters\n",
    "\n",
    "Define model units, parameters and other settings."
   ]
  },
  {
   "cell_type": "code",
   "execution_count": null,
   "id": "018deeb8",
   "metadata": {},
   "outputs": [],
   "source": [
    "# Model units\n",
    "length_units = \"meters\"\n",
    "time_units = \"days\"\n",
    "\n",
    "# Model parameters\n",
    "nper = 1  # Number of periods\n",
    "nlay = 10  # Number of layers\n",
    "nrow = 10  # Number of rows\n",
    "ncol = 51  # Number of columns\n",
    "delr = 100.0  # Spacing along rows ($m$)\n",
    "delc = 100.0  # Spacing along columns ($m$)\n",
    "top = 0.0  # Top of the model ($m$)\n",
    "botm_str = \"-100, -200, -300, -400, -500, -600, -700, -800, -900, -1000\"  # Layer bottom elevations ($m$)\n",
    "strt = 0.0  # Starting head ($m$)\n",
    "icelltype = 0  # Cell conversion type\n",
    "k11 = 1.0  # Hydraulic conductivity in the 11 direction ($m/d$)\n",
    "k22 = 0.1  # Hydraulic conductivity in the 22 direction ($m/d$)\n",
    "k33 = 1.0  # Hydraulic conductivity in the 33 direction ($m/d$)\n",
    "angle1_str = \"45, 45, 45, 45, 45, -45, -45, -45, -45, -45\"  # Rotation of the hydraulic conductivity ellipsoid in the x-y plane\n",
    "inflow_rate = 0.01  # Inflow rate ($m^3/d$)\n",
    "\n",
    "# Static temporal data used by TDIS file\n",
    "# Simulation has 1 steady stress period (1 day)\n",
    "perlen = [1.0]\n",
    "nstp = [1]\n",
    "tsmult = [1.0]\n",
    "tdis_ds = list(zip(perlen, nstp, tsmult))\n",
    "\n",
    "# Parse strings into lists\n",
    "botm = [float(value) for value in botm_str.split(\",\")]\n",
    "angle1 = [float(value) for value in angle1_str.split(\",\")]\n",
    "\n",
    "# Solver settings\n",
    "nouter = 50\n",
    "ninner = 100\n",
    "hclose = 1e-9\n",
    "rclose = 1e-6"
   ]
  },
  {
   "cell_type": "markdown",
   "id": "6586d070",
   "metadata": {
    "lines_to_next_cell": 2
   },
   "source": [
    "### Model setup\n",
    "\n",
    "Next we build models. In this example the groundwater flow (GWF) and particle tracking (PRT) model run within the same simulation."
   ]
  },
  {
   "cell_type": "code",
   "execution_count": null,
   "id": "2864cf28",
   "metadata": {},
   "outputs": [],
   "source": [
    "sim = flopy.mf6.MFSimulation(sim_name=sim_name, sim_ws=sim_ws, exe_name=\"mf6\")\n",
    "\n",
    "flopy.mf6.ModflowTdis(\n",
    "    sim, nper=nper, perioddata=tdis_ds, time_units=time_units\n",
    ")\n",
    "\n",
    "gwf = flopy.mf6.ModflowGwf(sim, modelname=gwf_name, save_flows=True)\n",
    "\n",
    "ims = flopy.mf6.ModflowIms(\n",
    "    sim,\n",
    "    linear_acceleration=\"bicgstab\",\n",
    "    outer_maximum=nouter,\n",
    "    outer_dvclose=hclose,\n",
    "    inner_maximum=ninner,\n",
    "    inner_dvclose=hclose,\n",
    "    rcloserecord=f\"{rclose} strict\",\n",
    ")\n",
    "sim.register_solution_package(ims, [gwf.name])\n",
    "\n",
    "flopy.mf6.ModflowGwfdis(\n",
    "    gwf,\n",
    "    length_units=length_units,\n",
    "    nlay=nlay,\n",
    "    nrow=nrow,\n",
    "    ncol=ncol,\n",
    "    delr=delr,\n",
    "    delc=delc,\n",
    "    top=top,\n",
    "    botm=botm,\n",
    ")\n",
    "\n",
    "flopy.mf6.ModflowGwfnpf(\n",
    "    gwf,\n",
    "    icelltype=icelltype,\n",
    "    k=k11,\n",
    "    k22=k22,\n",
    "    k33=k33,\n",
    "    angle1=angle1,\n",
    "    save_specific_discharge=True,\n",
    "    save_saturation=True,\n",
    "    save_flows=True,\n",
    "    xt3doptions=True,\n",
    ")\n",
    "flopy.mf6.ModflowGwfic(gwf, strt=strt)\n",
    "\n",
    "rate = np.zeros((nlay, nrow, ncol), dtype=float)\n",
    "rate[:, :, 0] = inflow_rate\n",
    "rate[:, :, -1] = -inflow_rate\n",
    "wellay, welrow, welcol = np.where(rate != 0.0)\n",
    "wel_spd = [\n",
    "    ((k, i, j), rate[k, i, j], 1 if rate[k, i, j] > 0 else 3)\n",
    "    for k, i, j in zip(wellay, welrow, welcol)\n",
    "]\n",
    "wel_spd = {0: wel_spd}\n",
    "flopy.mf6.ModflowGwfwel(\n",
    "    gwf, stress_period_data=wel_spd, pname=\"WEL\", auxiliary=[\"IFLOWFACE\"]\n",
    ")\n",
    "\n",
    "flopy.mf6.ModflowGwfoc(\n",
    "    gwf,\n",
    "    head_filerecord=[headfile_gwf],\n",
    "    budget_filerecord=[budgetfile_gwf],\n",
    "    saverecord=[(\"HEAD\", \"ALL\"), (\"BUDGET\", \"ALL\")],\n",
    ")\n",
    "\n",
    "prt = flopy.mf6.ModflowPrt(\n",
    "    sim, modelname=prt_name, model_nam_file=\"{}.nam\".format(prt_name)\n",
    ")\n",
    "\n",
    "flopy.mf6.ModflowGwfdis(\n",
    "    prt,\n",
    "    length_units=length_units,\n",
    "    nlay=nlay,\n",
    "    nrow=nrow,\n",
    "    ncol=ncol,\n",
    "    delr=delr,\n",
    "    delc=delc,\n",
    "    top=top,\n",
    "    botm=botm,\n",
    ")\n",
    "\n",
    "flopy.mf6.ModflowPrtmip(prt, pname=\"mip\", porosity=0.1)\n",
    "\n",
    "xs = np.array(list(repeat(50, 4)))\n",
    "ys = np.linspace(1, 999, 4)\n",
    "zs = np.linspace(1, 999, 4) * -1\n",
    "points = np.transpose(np.array(np.meshgrid(xs, ys, zs)).reshape(3, -1))\n",
    "releasepts = [\n",
    "    (i, *prt.modelgrid.intersect(*p), *p) for i, p in enumerate(points)\n",
    "]\n",
    "flopy.mf6.ModflowPrtprp(\n",
    "    prt,\n",
    "    nreleasepts=len(releasepts),\n",
    "    packagedata=releasepts,\n",
    "    perioddata={0: [\"FIRST\"]},\n",
    "    exit_solve_tolerance=1e-5,\n",
    "    istopzone=2,\n",
    "    extend_tracking=True,\n",
    ")\n",
    "\n",
    "tracktimes = list(range(0, 700000000, 5000000))\n",
    "flopy.mf6.ModflowPrtoc(\n",
    "    prt,\n",
    "    pname=\"oc\",\n",
    "    budget_filerecord=[budgetfile_prt],\n",
    "    track_filerecord=[trackfile_prt],\n",
    "    trackcsv_filerecord=[trackcsvfile_prt],\n",
    "    saverecord=[(\"BUDGET\", \"ALL\")],\n",
    "    ntracktimes=len(tracktimes),\n",
    "    tracktimes=[(t,) for t in tracktimes],\n",
    "    track_release=True,\n",
    "    track_terminate=True,\n",
    "    track_usertime=True,\n",
    ")\n",
    "\n",
    "flopy.mf6.ModflowGwfprt(\n",
    "    sim, exgtype=\"GWF6-PRT6\", exgmnamea=gwf_name, exgmnameb=prt_name\n",
    ")\n",
    "\n",
    "ems = flopy.mf6.ModflowEms(\n",
    "    sim,\n",
    "    pname=\"ems\",\n",
    "    filename=\"{}.ems\".format(prt_name),\n",
    ")\n",
    "sim.register_solution_package(ems, [prt.name])"
   ]
  },
  {
   "cell_type": "markdown",
   "id": "b3f1bdad",
   "metadata": {},
   "source": [
    "### Run models\n",
    "\n",
    "We are ready to run the models. First write model input files, then run the simulation."
   ]
  },
  {
   "cell_type": "code",
   "execution_count": null,
   "id": "d6292cc8",
   "metadata": {},
   "outputs": [],
   "source": [
    "# Write and run the simulation.\n",
    "sim.write_simulation(silent=False)\n",
    "success, buff = sim.run_simulation(silent=True)"
   ]
  },
  {
   "cell_type": "markdown",
   "id": "5a3c71c3",
   "metadata": {},
   "source": [
    "### Animate results\n",
    "\n",
    "We can now load pathlines and create an animation.\n",
    "\n",
    "First, load the pathlines from the CSV output file."
   ]
  },
  {
   "cell_type": "code",
   "execution_count": null,
   "id": "86d22c72",
   "metadata": {},
   "outputs": [],
   "source": [
    "pls = pd.read_csv(sim_ws / trackcsvfile_prt)\n",
    "pls"
   ]
  },
  {
   "cell_type": "markdown",
   "id": "d732fc53",
   "metadata": {},
   "source": [
    "Set some PyVista settings."
   ]
  },
  {
   "cell_type": "code",
   "execution_count": null,
   "id": "c08e0699",
   "metadata": {},
   "outputs": [],
   "source": [
    "# pyvista settings\n",
    "pv.set_jupyter_backend(\"static\")\n",
    "pv.set_plot_theme(\"document\")\n",
    "pv.global_theme.allow_empty_mesh = True"
   ]
  },
  {
   "cell_type": "markdown",
   "id": "a459f3f7",
   "metadata": {},
   "source": [
    "Create meshes for the model grid and the particle pathlines. We do this by exporting the the flow model and pathlines to VTK, then using the `to_pyvista()` conversion utility."
   ]
  },
  {
   "cell_type": "code",
   "execution_count": null,
   "id": "62d0cc64",
   "metadata": {},
   "outputs": [],
   "source": [
    "gwf = sim.get_model(gwf_name)\n",
    "axes = pv.Axes(show_actor=False, actor_scale=2.0, line_width=5)\n",
    "vtk = Vtk(model=gwf, binary=False, vertical_exageration=1, smooth=False)\n",
    "vtk.add_model(gwf)\n",
    "vtk.add_pathline_points(pls)\n",
    "gwf_mesh, prt_mesh = vtk.to_pyvista()"
   ]
  },
  {
   "cell_type": "markdown",
   "id": "82265862",
   "metadata": {},
   "source": [
    "Create another mesh for the wells. We do this by selecting the subset of the grid mesh corresponding to the well cells. This is possible because the mesh cell numbering is identical to the model grid node numbering."
   ]
  },
  {
   "cell_type": "code",
   "execution_count": null,
   "id": "7d47051f",
   "metadata": {},
   "outputs": [],
   "source": [
    "wel_nodes = gwf.modelgrid.get_node([w[0] for w in wel_spd[0]])\n",
    "wel_mesh = gwf_mesh.remove_cells(\n",
    "    list(set(range(gwf.modelgrid.nnodes)) - set(wel_nodes)), inplace=False\n",
    ")"
   ]
  },
  {
   "cell_type": "markdown",
   "id": "72a568e2",
   "metadata": {},
   "source": [
    "Slice the pathline mesh along the x axis, one slice per time point."
   ]
  },
  {
   "cell_type": "code",
   "execution_count": null,
   "id": "27b48fdc",
   "metadata": {},
   "outputs": [],
   "source": [
    "pathline_slices = prt_mesh.slice_along_axis(n=len(tracktimes), axis=\"x\")"
   ]
  },
  {
   "cell_type": "markdown",
   "id": "c0744647",
   "metadata": {},
   "source": [
    "Now we can create an animation of particles moving along their pathlines."
   ]
  },
  {
   "cell_type": "code",
   "execution_count": null,
   "id": "cda81fcd",
   "metadata": {},
   "outputs": [],
   "source": [
    "# create the plotter\n",
    "p = pv.Plotter(\n",
    "    window_size=[700, 700],\n",
    "    notebook=False,\n",
    "    off_screen=True,\n",
    ")\n",
    "p.enable_anti_aliasing()\n",
    "\n",
    "# add fixed meshes\n",
    "p.add_mesh(gwf_mesh, opacity=0.1, style=\"wireframe\")\n",
    "p.add_mesh(wel_mesh, opacity=0.1, color=\"red\", label=\"Wells\")\n",
    "\n",
    "# open a GIF file\n",
    "p.open_gif(\"fixed_view.gif\")\n",
    "p.show(auto_close=False)\n",
    "\n",
    "# add a mesh with the initial particle positions\n",
    "frame = pathline_slices.get(0)\n",
    "p.add_mesh(frame, point_size=12, color=\"black\")\n",
    "\n",
    "# update the particle mesh in-place for each timestamp,\n",
    "# and write a new frame\n",
    "for i, t in enumerate(tracktimes[1:]):\n",
    "    frame.points = pathline_slices.get(i).points\n",
    "    p.write_frame()\n",
    "\n",
    "p.close()"
   ]
  },
  {
   "cell_type": "markdown",
   "id": "a15eacb0",
   "metadata": {},
   "source": [
    "Finally we can modify the animation to take a particle's perspective as it travels through the model grid."
   ]
  },
  {
   "cell_type": "code",
   "execution_count": null,
   "id": "95dab9ec",
   "metadata": {},
   "outputs": [],
   "source": [
    "# create a new plotter\n",
    "p = pv.Plotter(\n",
    "    window_size=[700, 700],\n",
    "    notebook=False,\n",
    "    off_screen=True,\n",
    ")\n",
    "p.enable_anti_aliasing()\n",
    "\n",
    "# add the fixed meshes\n",
    "p.add_mesh(gwf_mesh, opacity=0.1, style=\"wireframe\")\n",
    "p.add_mesh(wel_mesh, opacity=0.1, color=\"red\", label=\"Wells\")\n",
    "\n",
    "# open a new GIF file\n",
    "p.open_gif(\"whirlycoaster.gif\")\n",
    "p.show(auto_close=False)\n",
    "\n",
    "# this time we move the camera along with one of\n",
    "# the particles. also add an overlay showing the\n",
    "# current time and the particle's position. also\n",
    "# we keep previous particle positions instead of\n",
    "# overwriting them.\n",
    "ntimes = len(tracktimes)\n",
    "for i, t in enumerate(tracktimes[1:]):\n",
    "    frame = pathline_slices.get(i)\n",
    "    p.add_mesh(frame, point_size=12, color=\"black\")\n",
    "    x, y, z = frame.points[0]\n",
    "    p.camera.position = (x, y, z)\n",
    "    years = t / 365\n",
    "    text = \"\\n\".join(\n",
    "        [\n",
    "            f\"Time: {years:.1f}y\",\n",
    "            f\"X: {x:.0f}\",\n",
    "            f\"Y: {y:.0f}\",\n",
    "            f\"Z: {z:.0f}\",\n",
    "        ]\n",
    "    )\n",
    "    p.add_text(\n",
    "        text,\n",
    "        position=\"upper_left\",\n",
    "        font_size=18,\n",
    "        color=\"black\",\n",
    "        name=\"time_text\",\n",
    "        shadow=True,\n",
    "    )\n",
    "    p.write_frame()\n",
    "\n",
    "p.close()"
   ]
  }
 ],
 "metadata": {
  "kernelspec": {
   "display_name": "Python 3 (ipykernel)",
   "language": "python",
   "name": "python3"
  }
 },
 "nbformat": 4,
 "nbformat_minor": 5
}
