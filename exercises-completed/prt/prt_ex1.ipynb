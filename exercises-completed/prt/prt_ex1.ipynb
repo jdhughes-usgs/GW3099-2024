{
 "cells": [
  {
   "cell_type": "markdown",
   "id": "39fe9667",
   "metadata": {},
   "source": [
    "# U.S. Geological Survey Class GW3099\n",
    "\n",
    "Advanced Modeling of Groundwater Flow (GW3099) <br>\n",
    "Boise, Idaho <br>\n",
    "September 16 - 20, 2024 <br>"
   ]
  },
  {
   "cell_type": "markdown",
   "id": "9fd5ab69",
   "metadata": {},
   "source": [
    "# ![title](../../images/ClassLocation.jpg)"
   ]
  },
  {
   "cell_type": "markdown",
   "id": "b1702181",
   "metadata": {},
   "source": [
    "# Particle tracking example 1: backwards tracking in a steady flow field"
   ]
  },
  {
   "cell_type": "markdown",
   "id": "0551c195",
   "metadata": {},
   "source": [
    "![title](../../images/ex-prt-mp7-p01-config.png)"
   ]
  },
  {
   "cell_type": "markdown",
   "id": "a85831d8",
   "metadata": {},
   "source": [
    "This notebook demonstrates particle tracking with MODFLOW programs.\n",
    "\n",
    "We will solve a backwards tracking scenario in a steady-state flow field, building on [Example 1](https://modflow6-examples.readthedocs.io/en/develop/_notebooks/ex-prt-mp7-p01.html) from the MODPATH 7 user guide. This involves determining a capture area for the central well (see figure above).\n",
    "\n",
    "First a MODFLOW 6 GWF model is run to produce a flow solution. Then a MODPATH 7 model and an equivalent MODFLOW 6 PRT model are run side-by-side, and their results compared. This is an opportunity to compare the features of MODPATH 7 and MODFLOW 6 PRT, and demonstrate how to migrate an existing MODPATH 7 simulation to PRT."
   ]
  },
  {
   "cell_type": "markdown",
   "id": "92296bd7",
   "metadata": {},
   "source": [
    "Import dependencies."
   ]
  },
  {
   "cell_type": "code",
   "execution_count": 131,
   "id": "689cdab4",
   "metadata": {},
   "outputs": [],
   "source": [
    "import pathlib as pl\n",
    "import warnings\n",
    "\n",
    "import flopy\n",
    "import matplotlib.pyplot as plt\n",
    "import numpy as np\n",
    "import pandas as pd"
   ]
  },
  {
   "cell_type": "markdown",
   "id": "29f42e5b",
   "metadata": {},
   "source": [
    "Enable inline plotting."
   ]
  },
  {
   "cell_type": "code",
   "execution_count": 132,
   "id": "0b19c299",
   "metadata": {},
   "outputs": [],
   "source": [
    "%matplotlib inline"
   ]
  },
  {
   "cell_type": "markdown",
   "id": "275d8e66",
   "metadata": {},
   "source": [
    "Ignore some warnings."
   ]
  },
  {
   "cell_type": "code",
   "execution_count": 133,
   "id": "8336c32c",
   "metadata": {},
   "outputs": [],
   "source": [
    "warnings.simplefilter(\"ignore\", UserWarning)\n",
    "warnings.simplefilter(\"ignore\", DeprecationWarning)"
   ]
  },
  {
   "cell_type": "markdown",
   "id": "09d692a6",
   "metadata": {},
   "source": [
    "Make sure MODPATH 7 is installed."
   ]
  },
  {
   "cell_type": "code",
   "execution_count": null,
   "id": "fba4c6b7",
   "metadata": {},
   "outputs": [],
   "source": [
    "flopy.utils.get_modflow(\":python\", subset=\"mp7\")"
   ]
  },
  {
   "cell_type": "markdown",
   "id": "311ed1b5",
   "metadata": {},
   "source": [
    "Create a base workspace."
   ]
  },
  {
   "cell_type": "code",
   "execution_count": 136,
   "id": "19eb4628",
   "metadata": {},
   "outputs": [],
   "source": [
    "example_name = \"ex1\"\n",
    "base_ws = pl.Path(\"temp\") / example_name\n",
    "base_ws.mkdir(exist_ok=True, parents=True)"
   ]
  },
  {
   "cell_type": "markdown",
   "id": "2b6f3f8a",
   "metadata": {},
   "source": [
    "## Flow model\n",
    "\n",
    "First we define a flow model which will be used by PRT and MP7.\n",
    "\n",
    "Define the flow model name and workspace."
   ]
  },
  {
   "cell_type": "code",
   "execution_count": 137,
   "id": "94258332",
   "metadata": {},
   "outputs": [],
   "source": [
    "gwf_name = f\"{example_name}-gwf\"\n",
    "gwf_ws = base_ws / \"gwf\"\n",
    "gwf_ws.mkdir(exist_ok=True, parents=True)"
   ]
  },
  {
   "cell_type": "markdown",
   "id": "53fa4dd5",
   "metadata": {},
   "source": [
    "Define flow model units."
   ]
  },
  {
   "cell_type": "code",
   "execution_count": 138,
   "id": "8e43909a",
   "metadata": {},
   "outputs": [],
   "source": [
    "length_units = \"feet\"\n",
    "time_units = \"days\""
   ]
  },
  {
   "cell_type": "markdown",
   "id": "89295c2f",
   "metadata": {},
   "source": [
    "Define flow model parameters."
   ]
  },
  {
   "cell_type": "code",
   "execution_count": 139,
   "id": "59d504c9",
   "metadata": {},
   "outputs": [],
   "source": [
    "nper = 1  # Number of periods\n",
    "nlay = 3  # Number of layers (base grid)\n",
    "nrow = 21  # Number of rows (base grid)\n",
    "ncol = 20  # Number of columns (base grid)\n",
    "delr = 500.0  # Column width ($ft$)\n",
    "delc = 500.0  # Row width ($ft$)\n",
    "top = 400.0  # Top of the model ($ft$)\n",
    "botm = [220.0, 200.0, 0.0]  # Layer bottom elevations ($ft$)\n",
    "porosity = 0.1  # Soil porosity (unitless)\n",
    "rch = 0.005  # Recharge rate ($ft/d$)\n",
    "kh = [50.0, 0.01, 200.0]  # Horizontal hydraulic conductivity ($ft/d$)\n",
    "kv = [10.0, 0.01, 20.0]  # Vertical hydraulic conductivity ($ft/d$)\n",
    "wel_q = -150000.0  # Well pumping rate ($ft^3/d$)\n",
    "riv_h = 320.0  # River stage ($ft$)\n",
    "riv_z = 317.0  # River bottom ($ft$)\n",
    "riv_c = 1.0e5  # River conductance ($ft^2/d$)"
   ]
  },
  {
   "cell_type": "markdown",
   "id": "9e68569d",
   "metadata": {},
   "source": [
    "Define the initial structured grid. Later we will refine the grid, but for the first run we use a coarse discretization."
   ]
  },
  {
   "cell_type": "code",
   "execution_count": 140,
   "id": "d8cd4fa2",
   "metadata": {},
   "outputs": [],
   "source": [
    "Lx = 10000.0\n",
    "Ly = 10500.0\n",
    "nlay = 3\n",
    "nrow = 21\n",
    "ncol = 20\n",
    "delr = Lx / ncol\n",
    "delc = Ly / nrow\n",
    "top = 400\n",
    "botm = [220, 200, 0]"
   ]
  },
  {
   "cell_type": "markdown",
   "id": "bd9c64de",
   "metadata": {},
   "source": [
    "Define the time discretization."
   ]
  },
  {
   "cell_type": "code",
   "execution_count": 141,
   "id": "fc77b889",
   "metadata": {},
   "outputs": [],
   "source": [
    "nstp = 1\n",
    "perlen = 1000.0\n",
    "tsmult = 1.0\n",
    "tdis_rc = [(perlen, nstp, tsmult)]"
   ]
  },
  {
   "cell_type": "markdown",
   "id": "db3d8c41",
   "metadata": {},
   "source": [
    "Construct a simulation for the flow model."
   ]
  },
  {
   "cell_type": "code",
   "execution_count": 142,
   "id": "c44ff5ae",
   "metadata": {},
   "outputs": [],
   "source": [
    "gwf_sim = flopy.mf6.MFSimulation(\n",
    "    sim_name=gwf_name, exe_name=\"mf6\", version=\"mf6\", sim_ws=gwf_ws\n",
    ")"
   ]
  },
  {
   "cell_type": "markdown",
   "id": "4aafe639",
   "metadata": {},
   "source": [
    "Create the time discretization."
   ]
  },
  {
   "cell_type": "code",
   "execution_count": 143,
   "id": "96579356",
   "metadata": {},
   "outputs": [],
   "source": [
    "tdis = flopy.mf6.ModflowTdis(\n",
    "    gwf_sim,\n",
    "    pname=\"tdis\",\n",
    "    time_units=\"DAYS\",\n",
    "    perioddata=tdis_rc,\n",
    "    nper=len(tdis_rc),\n",
    ")"
   ]
  },
  {
   "cell_type": "markdown",
   "id": "32bc9512",
   "metadata": {},
   "source": [
    "Create the flow model."
   ]
  },
  {
   "cell_type": "code",
   "execution_count": 144,
   "id": "1b4a44c8",
   "metadata": {},
   "outputs": [],
   "source": [
    "gwf = flopy.mf6.ModflowGwf(\n",
    "    gwf_sim, modelname=gwf_name, model_nam_file=f\"{gwf_name}.nam\"\n",
    ")\n",
    "gwf.name_file.save_flows = True"
   ]
  },
  {
   "cell_type": "markdown",
   "id": "85cd2a51",
   "metadata": {},
   "source": [
    "Create the discretization package."
   ]
  },
  {
   "cell_type": "code",
   "execution_count": 145,
   "id": "1fee1200",
   "metadata": {},
   "outputs": [],
   "source": [
    "dis = flopy.mf6.ModflowGwfdis(\n",
    "    gwf,\n",
    "    length_units=length_units,\n",
    "    nlay=nlay,\n",
    "    nrow=nrow,\n",
    "    ncol=ncol,\n",
    "    delr=delr,\n",
    "    delc=delc,\n",
    "    top=top,\n",
    "    botm=botm,\n",
    ")"
   ]
  },
  {
   "cell_type": "markdown",
   "id": "ba4226b9",
   "metadata": {},
   "source": [
    "Create the initial conditions package."
   ]
  },
  {
   "cell_type": "code",
   "execution_count": 146,
   "id": "e449069e",
   "metadata": {},
   "outputs": [],
   "source": [
    "ic = flopy.mf6.ModflowGwfic(\n",
    "    gwf, pname=\"ic\", strt=top\n",
    ")  # initial heads at river stage"
   ]
  },
  {
   "cell_type": "markdown",
   "id": "fc553944",
   "metadata": {},
   "source": [
    "Create the node property flow package."
   ]
  },
  {
   "cell_type": "code",
   "execution_count": 147,
   "id": "4a566987",
   "metadata": {},
   "outputs": [],
   "source": [
    "npf = flopy.mf6.ModflowGwfnpf(\n",
    "    gwf,\n",
    "    icelltype=[1, 0, 0],\n",
    "    k=kh,\n",
    "    k33=kv,\n",
    "    save_saturation=True,\n",
    "    save_specific_discharge=True,\n",
    ")"
   ]
  },
  {
   "cell_type": "markdown",
   "id": "c9c661ee",
   "metadata": {},
   "source": [
    "Define the model's boundary conditions. These include a well, a river, and recharge."
   ]
  },
  {
   "cell_type": "code",
   "execution_count": 148,
   "id": "26d4fa26",
   "metadata": {},
   "outputs": [],
   "source": [
    "# Well package\n",
    "wel_loc = (2, 10, 9)\n",
    "wd = [(wel_loc, wel_q)]\n",
    "\n",
    "# River package\n",
    "riv_iface = 6\n",
    "riv_iflowface = -1\n",
    "rd = []\n",
    "for i in range(nrow):\n",
    "    rd.append(\n",
    "        [(0, i, ncol - 1), riv_h, riv_c, riv_z, riv_iface, riv_iflowface]\n",
    "    )\n",
    "\n",
    "# Recharge package\n",
    "rch_iface = 6\n",
    "rch_iflowface = -1"
   ]
  },
  {
   "cell_type": "markdown",
   "id": "43ad9abd",
   "metadata": {},
   "source": [
    "Define well and river cell numbers, used to extract and plot model results later."
   ]
  },
  {
   "cell_type": "code",
   "execution_count": 149,
   "id": "65e1a923",
   "metadata": {},
   "outputs": [],
   "source": [
    "nodes = {}\n",
    "k, i, j = wel_loc\n",
    "nodes[\"well\"] = [ncol * (nrow * k + i) + j]\n",
    "nodes[\"river\"] = []\n",
    "for rivspec in rd:\n",
    "    k, i, j = rivspec[0]\n",
    "    node = ncol * (nrow * k + i) + j\n",
    "    nodes[\"river\"].append(node)"
   ]
  },
  {
   "cell_type": "markdown",
   "id": "0f80c41b",
   "metadata": {},
   "source": [
    "Create the recharge, well, and river packages."
   ]
  },
  {
   "cell_type": "code",
   "execution_count": 150,
   "id": "2e0a2c98",
   "metadata": {},
   "outputs": [],
   "source": [
    "# Instantiate the MODFLOW 6 gwf recharge package\n",
    "rcha = flopy.mf6.modflow.mfgwfrcha.ModflowGwfrcha(\n",
    "    gwf,\n",
    "    recharge=rch,\n",
    "    auxiliary=[\"iface\", \"iflowface\"],\n",
    "    aux=[rch_iface, rch_iflowface],\n",
    ")\n",
    "\n",
    "# Instantiate the MODFLOW 6 gwf well package\n",
    "wel = flopy.mf6.modflow.mfgwfwel.ModflowGwfwel(\n",
    "    gwf, maxbound=1, stress_period_data={0: wd}\n",
    ")\n",
    "\n",
    "# Instantiate the MODFLOW 6 gwf river package\n",
    "riv = flopy.mf6.modflow.mfgwfriv.ModflowGwfriv(\n",
    "    gwf, auxiliary=[\"iface\", \"iflowface\"], stress_period_data={0: rd}\n",
    ")"
   ]
  },
  {
   "cell_type": "markdown",
   "id": "ba50c7b3",
   "metadata": {},
   "source": [
    "Create the output control package."
   ]
  },
  {
   "cell_type": "code",
   "execution_count": 151,
   "id": "48bc2ba1",
   "metadata": {},
   "outputs": [],
   "source": [
    "# Define output file names\n",
    "headfile_name = f\"{gwf_name}.hds\"\n",
    "budgetfile_name = f\"{gwf_name}.cbb\"\n",
    "\n",
    "# Create package\n",
    "head_record = [headfile_name]\n",
    "budget_record = [budgetfile_name]\n",
    "saverecord = [(\"HEAD\", \"ALL\"), (\"BUDGET\", \"ALL\")]\n",
    "oc = flopy.mf6.modflow.mfgwfoc.ModflowGwfoc(\n",
    "    gwf,\n",
    "    pname=\"oc\",\n",
    "    saverecord=saverecord,\n",
    "    head_filerecord=head_record,\n",
    "    budget_filerecord=budget_record,\n",
    ")"
   ]
  },
  {
   "cell_type": "markdown",
   "id": "fe056441",
   "metadata": {},
   "source": [
    "Create the solver package."
   ]
  },
  {
   "cell_type": "code",
   "execution_count": 152,
   "id": "be9e0d86",
   "metadata": {},
   "outputs": [],
   "source": [
    "ims = flopy.mf6.ModflowIms(\n",
    "    gwf_sim,\n",
    "    pname=\"ims\",\n",
    "    complexity=\"SIMPLE\",\n",
    "    outer_dvclose=1e-6,\n",
    "    inner_dvclose=1e-6,\n",
    "    rcloserecord=1e-6,\n",
    ")"
   ]
  },
  {
   "cell_type": "markdown",
   "id": "0a2c8a74",
   "metadata": {},
   "source": [
    "Write and run the flow model."
   ]
  },
  {
   "cell_type": "code",
   "execution_count": null,
   "id": "833ad78e",
   "metadata": {},
   "outputs": [],
   "source": [
    "gwf_sim.write_simulation(silent=False)\n",
    "gwf_sim.run_simulation(silent=False)"
   ]
  },
  {
   "cell_type": "markdown",
   "id": "2589c538",
   "metadata": {},
   "source": [
    "Load heads."
   ]
  },
  {
   "cell_type": "code",
   "execution_count": 154,
   "id": "6e03469b",
   "metadata": {},
   "outputs": [],
   "source": [
    "hds = gwf.output.head().get_data()"
   ]
  },
  {
   "cell_type": "markdown",
   "id": "21e56c89",
   "metadata": {},
   "source": [
    "Plot heads. Define a function for it which we will reuse later."
   ]
  },
  {
   "cell_type": "code",
   "execution_count": null,
   "id": "c8067e78",
   "metadata": {},
   "outputs": [],
   "source": [
    "from matplotlib.patches import Patch\n",
    "\n",
    "\n",
    "def plot_heads(ax, gwf, heads, colorbar=True):\n",
    "    mm = flopy.plot.PlotMapView(gwf, ax=ax, layer=2)\n",
    "    mm.plot_grid(alpha=0.25)\n",
    "    mm.plot_bc(\"WEL\", plotAll=True, color=\"red\")\n",
    "    mm.plot_bc(\"RIV\", plotAll=True, color=\"blue\")\n",
    "    pc = mm.plot_array(heads, edgecolor=\"black\", alpha=0.25)\n",
    "    if colorbar:\n",
    "        cb = plt.colorbar(pc, shrink=0.25, pad=0.1)\n",
    "        cb.ax.set_xlabel(r\"Head ($ft$)\")\n",
    "    return mm\n",
    "\n",
    "\n",
    "with flopy.plot.styles.USGSPlot():\n",
    "    fig, ax = plt.subplots(ncols=1, nrows=1, figsize=(6, 6))\n",
    "    ax.set_aspect(\"equal\")\n",
    "    ax.legend(\n",
    "        handles=[\n",
    "            Patch(color=\"red\", label=\"Well\"),\n",
    "            Patch(color=\"blue\", label=\"River\"),\n",
    "        ],\n",
    "    )\n",
    "    fig.tight_layout()\n",
    "    flopy.plot.styles.heading(ax, heading=\"Head, layer 3\")\n",
    "    plot_heads(ax, gwf, hds[2, :, :])"
   ]
  },
  {
   "cell_type": "markdown",
   "id": "498cd107",
   "metadata": {},
   "source": [
    "## Tracking models\n",
    "\n",
    "We now define a MODPATH 7 particle tracking simulation, then an equivalent PRT simulation.\n",
    "\n",
    "### MP7 model\n",
    "\n",
    "Define the MP7 model name and workspace."
   ]
  },
  {
   "cell_type": "code",
   "execution_count": 156,
   "id": "5b23a179",
   "metadata": {},
   "outputs": [],
   "source": [
    "mp7_name = f\"{example_name}-mp7\"\n",
    "mp7_ws = base_ws / \"mp7\"\n",
    "mp7_ws.mkdir(exist_ok=True, parents=True)"
   ]
  },
  {
   "cell_type": "markdown",
   "id": "10b2ff4f",
   "metadata": {},
   "source": [
    "Now we can create the MP7 model. First define the expected pathline output file."
   ]
  },
  {
   "cell_type": "code",
   "execution_count": 157,
   "id": "03b325c3",
   "metadata": {},
   "outputs": [],
   "source": [
    "mp7_pathline_file_path = mp7_ws / f\"{mp7_name}.mppth\""
   ]
  },
  {
   "cell_type": "markdown",
   "id": "3e5da2fd",
   "metadata": {},
   "source": [
    "Create the model object."
   ]
  },
  {
   "cell_type": "code",
   "execution_count": 158,
   "id": "518da2a1",
   "metadata": {},
   "outputs": [],
   "source": [
    "mp7 = flopy.modpath.Modpath7(\n",
    "    modelname=mp7_name,\n",
    "    flowmodel=gwf,\n",
    "    exe_name=\"mp7\",\n",
    "    model_ws=mp7_ws,\n",
    "    budgetfilename=budgetfile_name,\n",
    "    headfilename=headfile_name,\n",
    ")"
   ]
  },
  {
   "cell_type": "markdown",
   "id": "31bc33b6",
   "metadata": {},
   "source": [
    "Create the MP7 basic input data package."
   ]
  },
  {
   "cell_type": "code",
   "execution_count": 159,
   "id": "77f3a2b1",
   "metadata": {},
   "outputs": [],
   "source": [
    "mp7_bas = flopy.modpath.Modpath7Bas(\n",
    "    mp7, porosity=porosity, defaultiface={\"RCH\": 6, \"EVT\": 6}\n",
    ")"
   ]
  },
  {
   "cell_type": "markdown",
   "id": "4729f521",
   "metadata": {},
   "source": [
    "The next step is to define a particle release configuration. We will release particles from the lateral faces of the cell containing the well. To do this we use MODPATH 7 particle input style 2, subdivision style 1."
   ]
  },
  {
   "cell_type": "code",
   "execution_count": 160,
   "id": "3af40228",
   "metadata": {},
   "outputs": [],
   "source": [
    "mp7_face_data = flopy.modpath.FaceDataType(\n",
    "    verticaldivisions1=5,\n",
    "    verticaldivisions2=5,\n",
    "    verticaldivisions3=5,\n",
    "    verticaldivisions4=5,\n",
    "    horizontaldivisions1=5,\n",
    "    horizontaldivisions2=5,\n",
    "    horizontaldivisions3=5,\n",
    "    horizontaldivisions4=5,\n",
    "    rowdivisions5=0,\n",
    "    rowdivisions6=0,\n",
    "    columndivisions5=0,\n",
    "    columndivisions6=0,\n",
    ")\n",
    "mp7_particle_data = flopy.modpath.LRCParticleData(\n",
    "    subdivisiondata=[mp7_face_data], lrcregions=[[[*wel_loc, *wel_loc]]]\n",
    ")\n",
    "mp7_pg1 = flopy.modpath.ParticleGroupLRCTemplate(\n",
    "    particlegroupname=\"PG1\",\n",
    "    particledata=mp7_particle_data,\n",
    "    filename=mp7_name + \"pg1.sloc\",\n",
    ")"
   ]
  },
  {
   "cell_type": "markdown",
   "id": "85a9d400",
   "metadata": {},
   "source": [
    "Define a zone map. The active region is zone 0, and the two boundaries are 1 and 2, respectively. MP7 and PRT will assign each particle path record to a zone. This will make it easier to identify the boundary condition where a given particle terminates."
   ]
  },
  {
   "cell_type": "code",
   "execution_count": 161,
   "id": "681cc78a",
   "metadata": {},
   "outputs": [],
   "source": [
    "izone = np.zeros((nlay, nrow, ncol), dtype=int)\n",
    "for l, r, c in gwf.modelgrid.get_lrc(nodes[\"well\"]):\n",
    "    izone[l, r, c] = 1\n",
    "for l, r, c in gwf.modelgrid.get_lrc(nodes[\"river\"]):\n",
    "    izone[l, r, c] = 2"
   ]
  },
  {
   "cell_type": "markdown",
   "id": "47f95946",
   "metadata": {},
   "source": [
    "Create the MP7 simulation."
   ]
  },
  {
   "cell_type": "code",
   "execution_count": 162,
   "id": "15e9a4a2",
   "metadata": {},
   "outputs": [],
   "source": [
    "mp7_sim = flopy.modpath.Modpath7Sim(\n",
    "    mp7,\n",
    "    simulationtype=\"combined\",\n",
    "    trackingdirection=\"backward\",\n",
    "    weaksinkoption=\"pass_through\",\n",
    "    weaksourceoption=\"pass_through\",\n",
    "    budgetoutputoption=\"summary\",\n",
    "    referencetime=[0, 0, 0.0],\n",
    "    stoptimeoption=\"extend\",\n",
    "    timepointdata=[500, 1000.0],\n",
    "    zonedataoption=\"on\",\n",
    "    zones=izone,\n",
    "    particlegroups=[mp7_pg1],\n",
    ")"
   ]
  },
  {
   "cell_type": "markdown",
   "id": "a38d3a19",
   "metadata": {},
   "source": [
    "Run the MP7 simulation."
   ]
  },
  {
   "cell_type": "code",
   "execution_count": null,
   "id": "e089e0bb",
   "metadata": {},
   "outputs": [],
   "source": [
    "mp7.write_input()\n",
    "mp7.run_model(silent=False)"
   ]
  },
  {
   "cell_type": "markdown",
   "id": "0d59a24a",
   "metadata": {},
   "source": [
    "Load MP7 pathline results. FloPy returns a list of `np.recarray`, one for each pathline; we merge the pathlines into a single dataframe."
   ]
  },
  {
   "cell_type": "code",
   "execution_count": null,
   "id": "ba09edab",
   "metadata": {},
   "outputs": [],
   "source": [
    "mp7_pathline_file = flopy.utils.PathlineFile(mp7_pathline_file_path)\n",
    "mp7_pathlines = pd.concat(\n",
    "    [pd.DataFrame(pl) for pl in mp7_pathline_file.get_alldata()]\n",
    ")\n",
    "mp7_pathlines"
   ]
  },
  {
   "cell_type": "markdown",
   "id": "2792dce2",
   "metadata": {},
   "source": [
    "Plot MP7 results."
   ]
  },
  {
   "cell_type": "code",
   "execution_count": null,
   "id": "5e329136",
   "metadata": {},
   "outputs": [],
   "source": [
    "with flopy.plot.styles.USGSPlot():\n",
    "    fig, ax = plt.subplots(ncols=1, nrows=1, figsize=(6, 6))\n",
    "    ax.set_aspect(\"equal\")\n",
    "    fig.tight_layout()\n",
    "    flopy.plot.styles.heading(ax, heading=\"MODPATH 7 pathlines\")\n",
    "    mm = plot_heads(ax, gwf, hds[2, :, :])\n",
    "    mm.plot_pathline(\n",
    "        mp7_pathlines, layer=\"all\", colors=\"black\", alpha=0.5, linewidth=0.5\n",
    "    )"
   ]
  },
  {
   "cell_type": "markdown",
   "id": "515a78ac",
   "metadata": {},
   "source": [
    "\n",
    "\n",
    "### PRT model\n",
    "\n",
    "Define the PRT model name and workspace."
   ]
  },
  {
   "cell_type": "code",
   "execution_count": 166,
   "id": "63918c4c",
   "metadata": {},
   "outputs": [],
   "source": [
    "prt_name = f\"{example_name}-prt\"\n",
    "prt_ws = base_ws / \"prt\"\n",
    "prt_ws.mkdir(exist_ok=True, parents=True)"
   ]
  },
  {
   "cell_type": "markdown",
   "id": "69917168",
   "metadata": {},
   "source": [
    "Create a PRT simulation."
   ]
  },
  {
   "cell_type": "code",
   "execution_count": 167,
   "id": "402001f6",
   "metadata": {},
   "outputs": [],
   "source": [
    "prt_sim = flopy.mf6.MFSimulation(\n",
    "    sim_name=prt_name, exe_name=\"mf6\", version=\"mf6\", sim_ws=prt_ws\n",
    ")"
   ]
  },
  {
   "cell_type": "markdown",
   "id": "571dde97",
   "metadata": {},
   "source": [
    "Create the temporal discretization."
   ]
  },
  {
   "cell_type": "code",
   "execution_count": 168,
   "id": "cd2c3eff",
   "metadata": {},
   "outputs": [],
   "source": [
    "tdis = flopy.mf6.modflow.mftdis.ModflowTdis(\n",
    "    prt_sim,\n",
    "    pname=\"tdis\",\n",
    "    time_units=\"DAYS\",\n",
    "    nper=nper,\n",
    "    perioddata=[(perlen, nstp, tsmult)],\n",
    ")"
   ]
  },
  {
   "cell_type": "markdown",
   "id": "2faebdc3",
   "metadata": {},
   "source": [
    "Create the PRT model."
   ]
  },
  {
   "cell_type": "code",
   "execution_count": 169,
   "id": "70f687cc",
   "metadata": {},
   "outputs": [],
   "source": [
    "prt = flopy.mf6.ModflowPrt(\n",
    "    prt_sim, modelname=prt_name, model_nam_file=f\"{prt_name}.nam\"\n",
    ")"
   ]
  },
  {
   "cell_type": "markdown",
   "id": "9a28b8eb",
   "metadata": {},
   "source": [
    "Create the discretization package."
   ]
  },
  {
   "cell_type": "code",
   "execution_count": 170,
   "id": "cfb60621",
   "metadata": {},
   "outputs": [],
   "source": [
    "dis = flopy.mf6.modflow.mfgwfdis.ModflowGwfdis(\n",
    "    prt,\n",
    "    pname=\"dis\",\n",
    "    nlay=nlay,\n",
    "    nrow=nrow,\n",
    "    ncol=ncol,\n",
    "    length_units=\"FEET\",\n",
    "    delr=delr,\n",
    "    delc=delc,\n",
    "    top=top,\n",
    "    botm=botm,\n",
    ")"
   ]
  },
  {
   "cell_type": "markdown",
   "id": "75a0c027",
   "metadata": {},
   "source": [
    "Create the PRT model input package."
   ]
  },
  {
   "cell_type": "code",
   "execution_count": 171,
   "id": "ab010a0a",
   "metadata": {},
   "outputs": [],
   "source": [
    "mip = flopy.mf6.ModflowPrtmip(prt, pname=\"mip\", porosity=porosity, izone=izone)"
   ]
  },
  {
   "cell_type": "markdown",
   "id": "97f96617",
   "metadata": {},
   "source": [
    "Create the particle release package. We will use a conversion utility which makes it straightforward to convert a MODPATH 7 particle release configuration to the format expected by PRT's particle release point (PRP) package."
   ]
  },
  {
   "cell_type": "code",
   "execution_count": 172,
   "id": "5a71322d",
   "metadata": {},
   "outputs": [],
   "source": [
    "release_pts = list(mp7_particle_data.to_prp(gwf.modelgrid))\n",
    "prp = flopy.mf6.ModflowPrtprp(\n",
    "    prt,\n",
    "    # filename=f\"{prt_name}1.prp\",\n",
    "    nreleasepts=len(release_pts),\n",
    "    packagedata=release_pts,\n",
    "    perioddata={\n",
    "        0: [\"FIRST\"],\n",
    "    },\n",
    "    exit_solve_tolerance=1e-5,\n",
    "    extend_tracking=True,\n",
    ")"
   ]
  },
  {
   "cell_type": "markdown",
   "id": "c7178619",
   "metadata": {},
   "source": [
    "Create the output control package.\n",
    "\n",
    "PRT can write pathline output to binary or CSV files. Below we will enable both, but will only read the CSV output file.\n",
    "\n",
    "The output control package is also used to configure tracking events. This is another point of departure between PRT and MODPATH. MP7 supports four distinct simulation modes:\n",
    "\n",
    "- endpoint\n",
    "- pathline\n",
    "- timeseries\n",
    "- combined pathline/timeseries\n",
    "\n",
    "The tracking algorithm used by MP7 is functionally identical in all four modes; the mode controls only how output is reported.\n",
    "\n",
    "PRT has a single mode. Output is configured by selecting tracking events:\n",
    "\n",
    "- release\n",
    "- (sub)cell exit\n",
    "- timestep end\n",
    "- termination\n",
    "- weak sink cell exit\n",
    "- user-specified time\n",
    "\n",
    "Some exercises:\n",
    "\n",
    "<details>\n",
    "  <summary>Q: How to configure a PRT model like an MP7 endpoint simulation?</summary>\n",
    "  A: Select release and termination events only.\n",
    "</details>\n",
    "\n",
    "<details>\n",
    "  <summary>Q: How to configure a model like an MP7 timeseries simulation?</summary>\n",
    "  A: Select time reporting and provide tracking times.\n",
    "</details>\n",
    "\n",
    "By default, PRT enables all tracking events."
   ]
  },
  {
   "cell_type": "code",
   "execution_count": 173,
   "id": "2810bb36",
   "metadata": {},
   "outputs": [],
   "source": [
    "# Define output files.\n",
    "budgetfile_prt = f\"{prt_name}.cbb\"\n",
    "trackfile_prt = f\"{prt_name}.trk\"\n",
    "trackhdrfile_prt = f\"{prt_name}.trk.hdr\"\n",
    "trackcsvfile_prt = f\"{prt_name}.trk.csv\"\n",
    "\n",
    "# Define the output control package.\n",
    "budget_record = [budgetfile_prt]\n",
    "track_record = [trackfile_prt]\n",
    "trackcsv_record = [trackcsvfile_prt]\n",
    "tracktimes = list(range(0, 72000, 1000))\n",
    "oc = flopy.mf6.ModflowPrtoc(\n",
    "    prt,\n",
    "    pname=\"oc\",\n",
    "    budget_filerecord=budget_record,\n",
    "    track_filerecord=track_record,\n",
    "    trackcsv_filerecord=trackcsv_record,\n",
    "    ntracktimes=len(tracktimes),\n",
    "    tracktimes=[(t,) for t in tracktimes],\n",
    "    saverecord=[(\"BUDGET\", \"ALL\")],\n",
    ")"
   ]
  },
  {
   "cell_type": "markdown",
   "id": "ae9fa491",
   "metadata": {},
   "source": [
    "Create the flow model interface. Since PRT does not yet support backwards tracking natively, we'll reverse the flow model's head and budget output files with FloPy first."
   ]
  },
  {
   "cell_type": "code",
   "execution_count": 174,
   "id": "eb38fbfa",
   "metadata": {},
   "outputs": [],
   "source": [
    "head_file = flopy.utils.HeadFile(gwf_ws / headfile_name, tdis=gwf_sim.tdis)\n",
    "budget_file = flopy.utils.CellBudgetFile(\n",
    "    gwf_ws / budgetfile_name, precision=\"double\", tdis=gwf_sim.tdis\n",
    ")\n",
    "\n",
    "headfile_bkwd_name = f\"{headfile_name}_bkwd\"\n",
    "budgetfile_bkwd_name = f\"{budgetfile_name}_bkwd\"\n",
    "\n",
    "head_file.reverse(prt_ws / headfile_bkwd_name)\n",
    "budget_file.reverse(prt_ws / budgetfile_bkwd_name)\n",
    "\n",
    "fmi = flopy.mf6.ModflowPrtfmi(\n",
    "    prt,\n",
    "    packagedata=[\n",
    "        (\"GWFHEAD\", pl.Path(f\"../{prt_ws.name}/{headfile_bkwd_name}\")),\n",
    "        (\"GWFBUDGET\", pl.Path(f\"../{prt_ws.name}/{budgetfile_bkwd_name}\")),\n",
    "    ],\n",
    ")"
   ]
  },
  {
   "cell_type": "markdown",
   "id": "4889ae0d",
   "metadata": {},
   "source": [
    "Create an explicit model solution for the PRT model. PRT is unlike other MODFLOW 6 model types in that it includes its own solution procedures for particle tracking. PRT does not use the iterative matrix solvers used by other model types, instead it uses an \"explicit\" solution."
   ]
  },
  {
   "cell_type": "code",
   "execution_count": 175,
   "id": "df360570",
   "metadata": {},
   "outputs": [],
   "source": [
    "ems = flopy.mf6.ModflowEms(\n",
    "    prt_sim,\n",
    "    pname=\"ems\",\n",
    "    filename=f\"{prt_name}.ems\",\n",
    ")\n",
    "prt_sim.register_solution_package(ems, [prt.name])"
   ]
  },
  {
   "cell_type": "markdown",
   "id": "4967f4cd",
   "metadata": {},
   "source": [
    "Write and run the PRT model."
   ]
  },
  {
   "cell_type": "code",
   "execution_count": null,
   "id": "e4ebbde7",
   "metadata": {},
   "outputs": [],
   "source": [
    "prt_sim.write_simulation()\n",
    "prt_sim.run_simulation(silent=False)"
   ]
  },
  {
   "cell_type": "markdown",
   "id": "6a21896b",
   "metadata": {},
   "source": [
    "Load the PRT pathlines."
   ]
  },
  {
   "cell_type": "code",
   "execution_count": null,
   "id": "a7a520ab",
   "metadata": {},
   "outputs": [],
   "source": [
    "prt_pathlines = pd.read_csv(prt_ws / trackcsvfile_prt)\n",
    "prt_pathlines"
   ]
  },
  {
   "cell_type": "markdown",
   "id": "3bcd38a0",
   "metadata": {},
   "source": [
    "Plot the PRT pathlines superimposed over the MP7 pathlines, this time in 3D with PyVista.\n",
    "\n",
    "The first step is to export the models to VTK. Then we create meshes to show the confining bed and boundary conditions."
   ]
  },
  {
   "cell_type": "code",
   "execution_count": null,
   "id": "1523d9f4",
   "metadata": {},
   "outputs": [],
   "source": [
    "try:\n",
    "    import pyvista as pv\n",
    "    from flopy.export.vtk import Vtk\n",
    "\n",
    "    vert_exag = 10\n",
    "\n",
    "    vtk = Vtk(\n",
    "        model=gwf, binary=False, vertical_exageration=vert_exag, smooth=False\n",
    "    )\n",
    "    vtk.add_model(gwf)\n",
    "    vtk.add_pathline_points(mp7_pathlines.to_records(index=False))\n",
    "    gwf_mesh, mp7_mesh = vtk.to_pyvista()\n",
    "\n",
    "    # this is a little awkward due to the design of `Vtk`, which can only\n",
    "    # have one set of pathlines at a time.\n",
    "    vtk = Vtk(\n",
    "        model=gwf, binary=False, vertical_exageration=vert_exag, smooth=False\n",
    "    )\n",
    "    vtk.add_model(gwf)\n",
    "    vtk.add_pathline_points(prt_pathlines.to_records(index=False))\n",
    "    _, prt_mesh = vtk.to_pyvista()\n",
    "\n",
    "    def get_nn(k, i, j):\n",
    "        \"\"\"Convert a structured grid cell index to a node number.\"\"\"\n",
    "        return k * nrow * ncol + i * ncol + j\n",
    "\n",
    "    # add meshes\n",
    "    riv_mesh = pv.Box(\n",
    "        bounds=[\n",
    "            gwf.modelgrid.extent[1] - delc,\n",
    "            gwf.modelgrid.extent[1],\n",
    "            gwf.modelgrid.extent[2],\n",
    "            gwf.modelgrid.extent[3],\n",
    "            botm[0] * vert_exag,\n",
    "            hds[(0, 0, ncol - 1)] * vert_exag,\n",
    "        ]\n",
    "    )\n",
    "    well_cellid = get_nn(0, *wel_loc[1:])\n",
    "    well_points = gwf.modelgrid.verts[gwf.modelgrid.iverts[well_cellid]]\n",
    "    well_xs, well_ys = list(zip(*well_points))\n",
    "    wel_mesh = pv.Box(\n",
    "        bounds=[\n",
    "            min(well_xs),\n",
    "            max(well_xs),\n",
    "            min(well_ys),\n",
    "            max(well_ys),\n",
    "            botm[-1] * vert_exag,\n",
    "            botm[-2] * vert_exag,\n",
    "        ]\n",
    "    )\n",
    "    bed_mesh = pv.Box(\n",
    "        bounds=[\n",
    "            gwf.modelgrid.extent[0],\n",
    "            gwf.modelgrid.extent[1],\n",
    "            gwf.modelgrid.extent[2],\n",
    "            gwf.modelgrid.extent[3],\n",
    "            botm[1] * vert_exag,\n",
    "            botm[0] * vert_exag,\n",
    "        ]\n",
    "    )\n",
    "\n",
    "    # create the plot\n",
    "    axes = pv.Axes(show_actor=False, actor_scale=2.0, line_width=5)\n",
    "    pv.set_jupyter_backend(\"static\")\n",
    "    # pv.set_jupyter_backend(\"trame\")\n",
    "    p = pv.Plotter(\n",
    "        window_size=[500, 500],\n",
    "        notebook=True,\n",
    "    )\n",
    "    p.enable_anti_aliasing()\n",
    "    p.add_mesh(gwf_mesh, opacity=0.025, style=\"wireframe\")\n",
    "    p.add_mesh(\n",
    "        mp7_mesh,\n",
    "        point_size=5,\n",
    "        line_width=2.5,\n",
    "        smooth_shading=True,\n",
    "        color=\"white\",\n",
    "    )\n",
    "    p.add_mesh(\n",
    "        prt_mesh,\n",
    "        point_size=5,\n",
    "        line_width=2.5,\n",
    "        smooth_shading=True,\n",
    "        color=\"gray\",\n",
    "    )\n",
    "    p.add_mesh(riv_mesh, color=\"teal\", opacity=0.2)\n",
    "    p.add_mesh(wel_mesh, color=\"red\", opacity=0.3)\n",
    "    p.add_mesh(bed_mesh, color=\"tan\", opacity=0.1)\n",
    "    p.show()\n",
    "except:\n",
    "    print(\"PyVista not found.\")"
   ]
  },
  {
   "cell_type": "markdown",
   "id": "810cd969",
   "metadata": {},
   "source": [
    "<details>\n",
    "  <summary>Q: How can we determine the capture area?</summary>\n",
    "  A: First, filter the pathlines and find terminating points where the particles reach the water table. Then compute the convex hull of the point set and calculate its area.\n",
    "</details>"
   ]
  },
  {
   "cell_type": "code",
   "execution_count": null,
   "id": "204bcf94",
   "metadata": {},
   "outputs": [],
   "source": [
    "termination_pts = prt_pathlines[prt_pathlines.ireason == 3].set_index(\"irpt\")[\n",
    "    [\"x\", \"y\", \"z\"]\n",
    "]\n",
    "termination_pts"
   ]
  },
  {
   "cell_type": "markdown",
   "id": "54d25c8f",
   "metadata": {},
   "source": [
    "Create a multi-point geometry."
   ]
  },
  {
   "cell_type": "code",
   "execution_count": null,
   "id": "e2ddd108",
   "metadata": {},
   "outputs": [],
   "source": [
    "from shapely import MultiPoint\n",
    "\n",
    "term_pts = MultiPoint(termination_pts.to_numpy())\n",
    "term_pts"
   ]
  },
  {
   "cell_type": "markdown",
   "id": "9fe5b5d9",
   "metadata": {},
   "source": [
    "Compute the area of the convex hull."
   ]
  },
  {
   "cell_type": "code",
   "execution_count": null,
   "id": "f81ce634",
   "metadata": {},
   "outputs": [],
   "source": [
    "from shapely import convex_hull\n",
    "\n",
    "chull = convex_hull(term_pts)\n",
    "chull_area_ft = chull.area\n",
    "chull_area_mi = chull.area / (5280 * 5280)\n",
    "print(\n",
    "    f\"Capture area: {chull.area:9.3} sq {length_units}, {chull_area_mi:9.3} sq mi\"\n",
    ")\n",
    "chull"
   ]
  },
  {
   "cell_type": "markdown",
   "id": "138c1678",
   "metadata": {},
   "source": [
    "Plot the capture area in map view."
   ]
  },
  {
   "cell_type": "code",
   "execution_count": null,
   "id": "f4a0d360",
   "metadata": {},
   "outputs": [],
   "source": [
    "with flopy.plot.styles.USGSPlot():\n",
    "    fig, ax = plt.subplots(ncols=1, nrows=1, figsize=(6, 6))\n",
    "    ax.set_aspect(\"equal\")\n",
    "    fig.tight_layout()\n",
    "    flopy.plot.styles.heading(ax, heading=\"Pathlines with capture area\")\n",
    "    mm = plot_heads(ax, gwf, hds[2, :, :])\n",
    "    mm.plot_pathline(\n",
    "        prt_pathlines, layer=\"all\", colors=\"black\", alpha=0.5, linewidth=0.5\n",
    "    )\n",
    "    chull_xs, chull_ys, _ = map(list, zip(*list(chull.exterior.coords)))\n",
    "    ax.fill(chull_xs, chull_ys)\n",
    "    ax.annotate(f\"{chull_area_mi:9.3f} sq mi\", (1000, 3000), color=\"red\")"
   ]
  },
  {
   "cell_type": "markdown",
   "id": "9108be0f",
   "metadata": {},
   "source": [
    "## Exercises\n",
    "\n",
    "1. Determine a travel time distribution and plot endpoints colored by travel time.\n",
    "2. Vary the particle configuration and determine the effect on the capture area.\n",
    "3. Refine the grid around the well and determine the effect on the capture area.\n",
    "\n",
    "<details>\n",
    "  <summary>Hints</summary>\n",
    "  \n",
    "To solve part 1 we can select endpoints from the set of pathlines, extract travel times, and compute some statistics, then map the travel times to a color gradient in an endpoint plot.\n",
    "\n",
    "To solve part 2 we can change the particle release configuration above and rerun the notebook.\n",
    "\n",
    "To solve part 3 we can use GRIDGEN to refine the grid around the well, then rerun the notebook to see the effect on pathlines and capture area.\n",
    "</details>"
   ]
  },
  {
   "cell_type": "markdown",
   "id": "55bb2134",
   "metadata": {},
   "source": [
    "Solution 1"
   ]
  },
  {
   "cell_type": "code",
   "execution_count": null,
   "id": "44a71a83",
   "metadata": {},
   "outputs": [],
   "source": [
    "# select endpoints\n",
    "termination_pts = prt_pathlines[prt_pathlines.ireason == 3].set_index(\"irpt\")\n",
    "termination_pts"
   ]
  },
  {
   "cell_type": "code",
   "execution_count": null,
   "id": "d4c1d243",
   "metadata": {},
   "outputs": [],
   "source": [
    "# compute summary stats of travel time\n",
    "termination_pts.t.describe()"
   ]
  },
  {
   "cell_type": "code",
   "execution_count": null,
   "id": "4b475c90",
   "metadata": {},
   "outputs": [],
   "source": [
    "# show distribution\n",
    "termination_pts.t.plot(kind=\"hist\")\n",
    "# termination_pts.t.plot(kind=\"kde\")"
   ]
  },
  {
   "cell_type": "code",
   "execution_count": null,
   "id": "32528bf9",
   "metadata": {},
   "outputs": [],
   "source": [
    "# color-coded endpoint plot\n",
    "with flopy.plot.styles.USGSPlot():\n",
    "    fig, ax = plt.subplots(ncols=1, nrows=1, figsize=(6, 6))\n",
    "    ax.set_aspect(\"equal\")\n",
    "    fig.tight_layout()\n",
    "    flopy.plot.styles.heading(ax, heading=\"Pathlines with total travel time\")\n",
    "    mm = plot_heads(ax, gwf, hds[2, :, :], colorbar=False)\n",
    "    mm.plot_pathline(\n",
    "        prt_pathlines, layer=\"all\", colors=\"black\", alpha=0.5, linewidth=0.5\n",
    "    )\n",
    "    pc = ax.scatter(termination_pts.x, termination_pts.y, c=termination_pts.t)\n",
    "    cb = plt.colorbar(pc, shrink=0.25, pad=0.1)\n",
    "    cb.ax.set_xlabel(r\"Travel time ($d$)\")"
   ]
  }
 ],
 "metadata": {
  "jupytext": {
   "cell_metadata_filter": "-all",
   "main_language": "python",
   "notebook_metadata_filter": "-all"
  },
  "kernelspec": {
   "display_name": "Python 3",
   "language": "python",
   "name": "python3"
  },
  "language_info": {
   "codemirror_mode": {
    "name": "ipython",
    "version": 3
   },
   "file_extension": ".py",
   "mimetype": "text/x-python",
   "name": "python",
   "nbconvert_exporter": "python",
   "pygments_lexer": "ipython3",
   "version": "3.11.10"
  }
 },
 "nbformat": 4,
 "nbformat_minor": 5
}
