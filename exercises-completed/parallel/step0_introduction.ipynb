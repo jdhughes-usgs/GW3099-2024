{
 "cells": [
  {
   "cell_type": "markdown",
   "metadata": {},
   "source": [
    "# Introduction: running a watershed in parallel\n",
    "\n",
    "These notebooks present the parallel capabilities recently added to MODFLOW 6. It is largely based on the hypothetical watershed presented in a recent paper on using FloPy to set up workflows for structured and unstructured MODFLOW models (https://doi.org/10.1111/gwat.13327). The following figure from that paper illustrates some of the properties and layout of the watershed:\n",
    "\n",
    "<img src=\"./watershed.jpg\" alt=\"drawing\" width=\"700\"/>\n",
    "\n",
    "In particular, we will use the pre- and post-processing capabilities for (parallel) MODFLOW 6. Contrary to what is shown in the figure, the spatial discretization of the model will be structured (of type DIS).\n",
    "\n",
    "The exercise consists of the following 4 steps, each of them presented in a separate notebook:\n",
    "\n",
    "1. [Run the base watershed model with the PETSc solver](./step1_run_base_watershed.ipynb)\n",
    "2. [Split the basin into a multi-model simulation](./step2_split_watershed.ipynb)\n",
    "3. [Run in parallel mode and compare with serial base](./step3_parallel_watershed.ipynb)\n",
    "4. [Convergence study](./step4_parallel_solution.ipynb)\n",
    "\n",
    "To get a feeling for the performance behavior, you can run steps 2 and 3 repeatedly while changing the number of domains into which the serial model is partitioned. Another variation is to switch between a partitioning in rectangular domains and using the graph partitioning algorithm from the Metis library. The base model is dimensioned to a small number of nodes: ~10k. This will keep processing times acceptable when working through the notebooks. However, for a serious test of performance the number of nodes should be much larger: at least 25k per domain would be a reasonable lower limit."
   ]
  },
  {
   "cell_type": "code",
   "execution_count": null,
   "metadata": {},
   "outputs": [],
   "source": []
  }
 ],
 "metadata": {
  "kernelspec": {
   "display_name": "Python 3 (ipykernel)",
   "language": "python",
   "name": "python3"
  },
  "language_info": {
   "codemirror_mode": {
    "name": "ipython",
    "version": 3
   },
   "file_extension": ".py",
   "mimetype": "text/x-python",
   "name": "python",
   "nbconvert_exporter": "python",
   "pygments_lexer": "ipython3",
   "version": "3.10.14"
  }
 },
 "nbformat": 4,
 "nbformat_minor": 4
}
