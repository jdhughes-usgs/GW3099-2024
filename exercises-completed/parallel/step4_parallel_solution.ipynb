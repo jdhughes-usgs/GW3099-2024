{
 "cells": [
  {
   "cell_type": "markdown",
   "metadata": {},
   "source": [
    "# U.S. Geological Survey Class GW3099\n",
    "Advanced Modeling of Groundwater Flow (GW3099)\\\n",
    "Boise, Idaho\\\n",
    "September 16 - 20, 2024\n",
    "\n",
    "![title](../../images/ClassLocation.jpg)\n",
    "\n",
    "# Evaluate the convergence properties of the parallel model simulation"
   ]
  },
  {
   "cell_type": "code",
   "execution_count": null,
   "metadata": {},
   "outputs": [],
   "source": [
    "import pathlib as pl\n",
    "import sys\n",
    "\n",
    "import flopy\n",
    "import matplotlib.pyplot as plt\n",
    "import numpy as np\n",
    "import pandas"
   ]
  },
  {
   "cell_type": "code",
   "execution_count": null,
   "metadata": {},
   "outputs": [],
   "source": [
    "sys.path.append(\"../../base/watershed/\")\n",
    "from defaults import figheight, figwidth, get_base_dir, get_parallel_dir"
   ]
  },
  {
   "cell_type": "markdown",
   "metadata": {},
   "source": [
    "Get the working dirs"
   ]
  },
  {
   "cell_type": "code",
   "execution_count": null,
   "metadata": {},
   "outputs": [],
   "source": [
    "parallel_dir = get_parallel_dir()\n",
    "base_dir = get_base_dir()"
   ]
  },
  {
   "cell_type": "markdown",
   "metadata": {},
   "source": [
    "Load the parallel simulation from disk"
   ]
  },
  {
   "cell_type": "code",
   "execution_count": null,
   "metadata": {},
   "outputs": [],
   "source": [
    "parallel_sim = flopy.mf6.MFSimulation.load(\n",
    "    sim_ws=parallel_dir, verbosity_level=0\n",
    ")\n",
    "nr_models = len(parallel_sim.model_names)"
   ]
  },
  {
   "cell_type": "markdown",
   "metadata": {},
   "source": [
    "## Read the convergence data from the CSVs"
   ]
  },
  {
   "cell_type": "markdown",
   "metadata": {},
   "source": [
    "This will get the reference data"
   ]
  },
  {
   "cell_type": "code",
   "execution_count": null,
   "metadata": {},
   "outputs": [],
   "source": [
    "csv_inner_base = pl.Path.cwd().joinpath(base_dir).joinpath(\"inner.csv\")\n",
    "assert pl.Path.is_file(csv_inner_base)"
   ]
  },
  {
   "cell_type": "markdown",
   "metadata": {},
   "source": [
    "And for parallel we have multiple files, one per process"
   ]
  },
  {
   "cell_type": "code",
   "execution_count": null,
   "metadata": {},
   "outputs": [],
   "source": [
    "csv_inner_par = [\n",
    "    pl.Path.cwd().joinpath(parallel_dir).joinpath(f\"inner.p{irank}.csv\")\n",
    "    for irank in range(nr_models)\n",
    "]\n",
    "assert pl.Path.is_file(csv_inner_par[-1])"
   ]
  },
  {
   "cell_type": "markdown",
   "metadata": {},
   "source": [
    "Read them from disk with the csv read utility in `pandas`"
   ]
  },
  {
   "cell_type": "code",
   "execution_count": null,
   "metadata": {},
   "outputs": [],
   "source": [
    "df_base = pandas.read_csv(csv_inner_base)\n",
    "df_par = [pandas.read_csv(f) for f in csv_inner_par]\n",
    "\n",
    "total_inners_base = df_base.iloc[-1][\"total_inner_iterations\"]\n",
    "total_inners_par = df_par[0].iloc[-1][\"total_inner_iterations\"]"
   ]
  },
  {
   "cell_type": "markdown",
   "metadata": {},
   "source": [
    "Check on the total number of inner iterations"
   ]
  },
  {
   "cell_type": "code",
   "execution_count": null,
   "metadata": {},
   "outputs": [],
   "source": [
    "print(\n",
    "    \"Total inner iterations base:\",\n",
    "    total_inners_base,\n",
    "    \", parallel:\",\n",
    "    total_inners_par,\n",
    ")"
   ]
  },
  {
   "cell_type": "markdown",
   "metadata": {},
   "source": [
    "Set the variable that we are plotting"
   ]
  },
  {
   "cell_type": "code",
   "execution_count": null,
   "metadata": {},
   "outputs": [],
   "source": [
    "plot_variable = \"solution_inner_dvmax\""
   ]
  },
  {
   "cell_type": "markdown",
   "metadata": {},
   "source": [
    "## Plot the convergence behavior\n",
    "Include DVClose and the total nr. of inners from the base simulation to plot as a reference in the figure"
   ]
  },
  {
   "cell_type": "code",
   "execution_count": null,
   "metadata": {},
   "outputs": [],
   "source": [
    "import warnings\n",
    "\n",
    "warnings.filterwarnings(\"ignore\", category=DeprecationWarning)"
   ]
  },
  {
   "cell_type": "code",
   "execution_count": null,
   "metadata": {},
   "outputs": [],
   "source": [
    "fig = plt.figure(figsize=(1.5 * figwidth, 0.7 * figheight))\n",
    "colors = plt.cm.Greens(np.linspace(1.0, 0.2, nr_models))\n",
    "\n",
    "# get dvclose from the IMS package\n",
    "dvclose = parallel_sim.get_package(\"IMS\").inner_dvclose.data\n",
    "plt.axhline(dvclose, color=\"grey\", label=\"dvclose\")\n",
    "plt.axvline(\n",
    "    total_inners_base - 1,\n",
    "    color=\"grey\",\n",
    "    linestyle=\"dashed\",\n",
    "    label=\"serial convergence\",\n",
    ")\n",
    "\n",
    "for i, df in enumerate(df_par):\n",
    "    dvmax = abs(df[plot_variable])\n",
    "    plt.plot(dvmax, label=f\"process {i}\", color=colors[i])\n",
    "\n",
    "dvmax = abs(df_base[plot_variable])\n",
    "plt.plot(dvmax, label=\"reference result\", color=\"blue\")\n",
    "\n",
    "plt.yscale(\"log\")\n",
    "plt.legend()\n",
    "plt.title(\"Convergence behavior of linear solver\")\n",
    "plt.xlabel(\"inner iteration number\")\n",
    "plt.ylabel(plot_variable)"
   ]
  },
  {
   "cell_type": "markdown",
   "metadata": {},
   "source": [
    "## Possible next steps\n",
    "* Demo: new files and diagnostics with parallel MODFLOW\n",
    "* Start from the splitting in [notebook 2](./step2_split_watershed.ipynb) and change the method to using the Metis library and run all subsequent notebooks\n",
    "* Change the number of domains in [notebook 1](./step1_watershed.ipynb) and run everything after again\n",
    "* The default problem is still relatively small for parallel scaling. Increase the size of the problem in the [base watershed notebook](../../base/watershed/build_base_watershed.ipynb) and see how the run times of serial and parallel compare\n",
    "* Make the hclose parameter (the solver tolerance) smaller in [base watershed notebook](../../base/watershed/build_base_watershed.ipynb) and confirm that the head difference plots between the base reference and the parallel results are indeed getting smaller accordingly"
   ]
  },
  {
   "cell_type": "code",
   "execution_count": null,
   "metadata": {},
   "outputs": [],
   "source": []
  }
 ],
 "metadata": {
  "kernelspec": {
   "display_name": "Python 3 (ipykernel)",
   "language": "python",
   "name": "python3"
  }
 },
 "nbformat": 4,
 "nbformat_minor": 4
}
