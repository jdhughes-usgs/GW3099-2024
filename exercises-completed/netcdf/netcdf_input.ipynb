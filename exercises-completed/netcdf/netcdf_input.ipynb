{
 "cells": [
  {
   "cell_type": "markdown",
   "id": "9f34f0ad-998a-431c-b0b9-71c39cca588a",
   "metadata": {},
   "source": [
    "# U.S. Geological Survey Class GW3099\n",
    "Advanced Modeling of Groundwater Flow (GW3099)\\\n",
    "Boise, Idaho\\\n",
    "September 16 - 20, 2024\n",
    "\n",
    "![title](../../images/ClassLocation.jpg)\n",
    "\n",
    "# NetCDF input"
   ]
  },
  {
   "cell_type": "markdown",
   "id": "68e5ae6c-8e35-4316-9943-e8849964377d",
   "metadata": {},
   "source": [
    "Running MODFLOW 6 in validate mode offers a convenient way to export existing gridded package input arrays to NetCDF.  These files can then be used as simulation inputs."
   ]
  },
  {
   "cell_type": "code",
   "execution_count": null,
   "id": "58228621-4630-479b-8f40-97622eb034b6",
   "metadata": {},
   "outputs": [],
   "source": [
    "import pathlib as pl\n",
    "\n",
    "import flopy\n",
    "import matplotlib.pyplot as plt\n",
    "import xarray as xa\n",
    "import xugrid as xu"
   ]
  },
  {
   "cell_type": "markdown",
   "id": "1a2a898f-2d3e-4a3d-9da3-97274f30bd16",
   "metadata": {},
   "source": [
    "# Load the base watershed model\n",
    "\n",
    "We will use the base watershed model to demonstrate MODFLOW NetCDF input functionality.  "
   ]
  },
  {
   "cell_type": "code",
   "execution_count": null,
   "id": "15502acc-a7b8-4c4d-bc5b-826d117dbee1",
   "metadata": {},
   "outputs": [],
   "source": [
    "name = \"watershed\"\n",
    "sim = flopy.mf6.MFSimulation.load(\n",
    "    sim_name=name, sim_ws=pl.Path(\"../../data/watershed/\")\n",
    ")"
   ]
  },
  {
   "cell_type": "markdown",
   "id": "9f70dae6-dc92-4cc6-a921-3a7d94e221a0",
   "metadata": {},
   "source": [
    "# Modify the model to export ascii input arrays to NetCDF\n",
    "\n",
    "Define the `export_netcdf` variable in the groundwater flow model `name_file` and set to `structured` for this example. We also need to specifically export array input per package.  In this example we will do this for the `DIS` package."
   ]
  },
  {
   "cell_type": "code",
   "execution_count": null,
   "id": "554f587f-acfd-466c-bd2f-cc65cf6908ca",
   "metadata": {},
   "outputs": [],
   "source": [
    "gwf = sim.get_model()"
   ]
  },
  {
   "cell_type": "code",
   "execution_count": null,
   "id": "d5c5a67e-466b-4281-8593-f894f72025b3",
   "metadata": {},
   "outputs": [],
   "source": [
    "gwf.export_netcdf = \"structured\"\n",
    "gwf.dis.export_array_netcdf = True"
   ]
  },
  {
   "cell_type": "markdown",
   "id": "c88b8d45-73bd-4576-8d69-d851565a9bcf",
   "metadata": {},
   "source": [
    "# Write the model files and run the model in validate mode"
   ]
  },
  {
   "cell_type": "code",
   "execution_count": null,
   "id": "e3554eed-a92f-477d-b71a-7d977c40faaa",
   "metadata": {},
   "outputs": [],
   "source": [
    "ws = pl.Path(\"temp/structured\")\n",
    "sim.set_sim_path(ws)"
   ]
  },
  {
   "cell_type": "code",
   "execution_count": null,
   "id": "bafa50f3-359c-4361-8b0b-49ad9e5251ce",
   "metadata": {
    "scrolled": true
   },
   "outputs": [],
   "source": [
    "sim.write_simulation()"
   ]
  },
  {
   "cell_type": "code",
   "execution_count": null,
   "id": "2543b005-308e-4781-8f64-87f9fd119eb0",
   "metadata": {},
   "outputs": [],
   "source": [
    "cargs = [\"--mode\", \"validate\"]\n",
    "sim.run_simulation(cargs=cargs)"
   ]
  },
  {
   "cell_type": "markdown",
   "id": "3f53f8e6-482c-4f62-995b-69e8468b115d",
   "metadata": {},
   "source": [
    "# Load the structured NetCDF file with `xarray` and visualize `botm` layers 1 and 5"
   ]
  },
  {
   "cell_type": "code",
   "execution_count": null,
   "id": "4f9adde2-b492-46f4-8a42-9703a929be7c",
   "metadata": {},
   "outputs": [],
   "source": [
    "nc_ds = xa.open_dataset(ws / \"model.nc\")"
   ]
  },
  {
   "cell_type": "code",
   "execution_count": null,
   "id": "6205381b-5643-4a20-b59b-625d30e2aa00",
   "metadata": {},
   "outputs": [],
   "source": [
    "nc_ds"
   ]
  },
  {
   "cell_type": "code",
   "execution_count": null,
   "id": "1a11c06d-8a22-4176-8b92-52bb2c925ad5",
   "metadata": {},
   "outputs": [],
   "source": [
    "nc_ds[\"dis_botm\"].isel(z=0).plot()\n",
    "plt.gca().set_aspect(1.0)\n",
    "plt.show(block=False)"
   ]
  },
  {
   "cell_type": "code",
   "execution_count": null,
   "id": "2cdc8e58-352c-4da8-b9be-77f5fee8ef0b",
   "metadata": {},
   "outputs": [],
   "source": [
    "nc_ds[\"dis_botm\"].isel(z=4).plot()\n",
    "plt.gca().set_aspect(1.0)\n",
    "plt.show(block=False)"
   ]
  },
  {
   "cell_type": "markdown",
   "id": "2ea43438-a8b9-477f-9bd2-259338238cd8",
   "metadata": {},
   "source": [
    "# Deactivate NetCDF export and activate NetCDF import"
   ]
  },
  {
   "cell_type": "code",
   "execution_count": null,
   "id": "054d4dc8-2819-46ad-b62a-61f4498c6555",
   "metadata": {},
   "outputs": [],
   "source": [
    "# set simulation start_date_time\n",
    "sim.tdis.start_date_time = \"1980-01-01\"\n",
    "gwf.export_netcdf = None\n",
    "gwf.nc_filerecord = \"model.nc\""
   ]
  },
  {
   "cell_type": "markdown",
   "id": "11a2d0bb-ffa4-49b2-9077-8859c734b90a",
   "metadata": {},
   "source": [
    "# Write the simulation and the overwrite the DIS package to specify gridded arrays should be read from NetCDF"
   ]
  },
  {
   "cell_type": "code",
   "execution_count": null,
   "id": "62a37fe4-b45e-44fd-bf4b-39c69d102cc0",
   "metadata": {},
   "outputs": [],
   "source": [
    "sim.write_simulation()"
   ]
  },
  {
   "cell_type": "code",
   "execution_count": null,
   "id": "b3ab7a19-4da9-4f93-9755-014783cbb389",
   "metadata": {},
   "outputs": [],
   "source": [
    "with open(ws / \"model.dis\", \"w\") as f:\n",
    "    f.write(\"BEGIN options\\n\")\n",
    "    f.write(\"  XORIGIN       0.00000000\\n\")\n",
    "    f.write(\"  YORIGIN       0.00000000\\n\")\n",
    "    f.write(\"END options\\n\\n\")\n",
    "    f.write(\"BEGIN dimensions\\n\")\n",
    "    f.write(\"  NLAY  5\\n\")\n",
    "    f.write(\"  NROW  41\\n\")\n",
    "    f.write(\"  NCOL  73\\n\")\n",
    "    f.write(\"END dimensions\\n\\n\")\n",
    "    f.write(\"BEGIN griddata\\n\")\n",
    "    f.write(\"  delr NETCDF\\n\")\n",
    "    f.write(\"  delc NETCDF\\n\")\n",
    "    f.write(\"  top NETCDF\\n\")\n",
    "    f.write(\"  botm NETCDF\\n\")\n",
    "    f.write(\"  idomain NETCDF\\n\")\n",
    "    f.write(\"END griddata\\n\\n\")\n",
    "\n",
    "with open(ws / \"model.dis\", \"r\") as f:\n",
    "    print(f.read())"
   ]
  },
  {
   "cell_type": "markdown",
   "id": "e81cb176-1cb3-4fd9-b395-74b6814d483d",
   "metadata": {},
   "source": [
    "# Run the simulation"
   ]
  },
  {
   "cell_type": "code",
   "execution_count": null,
   "id": "0193ee4b-a265-4619-b540-e2d778631ace",
   "metadata": {},
   "outputs": [],
   "source": [
    "sim.run_simulation()"
   ]
  },
  {
   "cell_type": "markdown",
   "id": "4eb753c9-dd63-497f-8d9b-af54a127d6f9",
   "metadata": {},
   "source": [
    "# Update model to export input arrays to `ugrid` NetCDF\n",
    "\n",
    "Set the `export_netcdf` variable in the groundwater flow model `name_file` to `ugrid` to export input arrays as mesh NetCDF output. Deactive NetCDF as input.  Turn off DIS array export and turn on IC array export."
   ]
  },
  {
   "cell_type": "code",
   "execution_count": null,
   "id": "b6b36739-1dc6-4cd9-99fe-0bd60781a843",
   "metadata": {},
   "outputs": [],
   "source": [
    "gwf.name_file.export_netcdf = \"ugrid\"\n",
    "gwf.nc_filerecord = None\n",
    "gwf.dis.export_array_netcdf = False\n",
    "gwf.ic.export_array_netcdf = True"
   ]
  },
  {
   "cell_type": "markdown",
   "id": "88fc9f44-e662-4213-ba4c-a26627c2c721",
   "metadata": {},
   "source": [
    "# Write the model files and run the model in validate mode"
   ]
  },
  {
   "cell_type": "code",
   "execution_count": null,
   "id": "38399e16-13a8-46b0-bb66-c0be11768aa9",
   "metadata": {},
   "outputs": [],
   "source": [
    "ws = pl.Path(\"temp/mesh\")\n",
    "sim.set_sim_path(ws)"
   ]
  },
  {
   "cell_type": "code",
   "execution_count": null,
   "id": "98752f0f-542e-4369-b722-a2f57c39c617",
   "metadata": {},
   "outputs": [],
   "source": [
    "sim.write_simulation()"
   ]
  },
  {
   "cell_type": "code",
   "execution_count": null,
   "id": "9d203db3-3014-4fb9-a7ac-7ac3c48aca70",
   "metadata": {},
   "outputs": [],
   "source": [
    "cargs = [\"--mode\", \"validate\"]\n",
    "sim.run_simulation(cargs=cargs)"
   ]
  },
  {
   "cell_type": "markdown",
   "id": "3b4fbdaa-34eb-482d-b0f7-dc807e3bf161",
   "metadata": {},
   "source": [
    "# Load the mesh NetCDF file with `xugrid` and visualize `strt` layer 1"
   ]
  },
  {
   "cell_type": "code",
   "execution_count": null,
   "id": "90111303-aa15-4efb-86ed-64f2b3b3b4f9",
   "metadata": {},
   "outputs": [],
   "source": [
    "nc_ds = xu.open_dataset(ws / \"model.nc\")"
   ]
  },
  {
   "cell_type": "code",
   "execution_count": null,
   "id": "deff8a2c-2252-4762-a2f7-2542bb9dce5e",
   "metadata": {},
   "outputs": [],
   "source": [
    "nc_ds"
   ]
  },
  {
   "cell_type": "code",
   "execution_count": null,
   "id": "3b9a827b-dd32-4b3a-9d7b-fbee42b6489f",
   "metadata": {},
   "outputs": [],
   "source": [
    "nc_ds[\"ic_strt_l1\"].isel().ugrid.plot()\n",
    "plt.gca().set_aspect(1.0)\n",
    "plt.show(block=False)"
   ]
  },
  {
   "cell_type": "markdown",
   "id": "41cfa944-3c2e-44fc-ac54-3be204c9e603",
   "metadata": {},
   "source": [
    "# Deactivate NetCDF export and activate NetCDF import"
   ]
  },
  {
   "cell_type": "code",
   "execution_count": null,
   "id": "e4a640e4-5076-4e14-bb5c-0e8b3c651773",
   "metadata": {},
   "outputs": [],
   "source": [
    "# update model for netcdf input\n",
    "gwf.export_netcdf = None\n",
    "gwf.nc_filerecord = \"model.nc\""
   ]
  },
  {
   "cell_type": "markdown",
   "id": "d45574dd-23c6-4bc0-a7ad-9ede30058e7a",
   "metadata": {},
   "source": [
    "# Write the simulation and the overwrite the `IC` package to specify gridded arrays should be read from NetCDF"
   ]
  },
  {
   "cell_type": "code",
   "execution_count": null,
   "id": "eb87db95-f52b-4aa4-a422-cb53449e5445",
   "metadata": {
    "scrolled": true
   },
   "outputs": [],
   "source": [
    "sim.write_simulation()"
   ]
  },
  {
   "cell_type": "code",
   "execution_count": null,
   "id": "c7735576-6018-4c0b-b49b-c595175e8c85",
   "metadata": {},
   "outputs": [],
   "source": [
    "with open(ws / \"model.ic\", \"w\") as f:\n",
    "    f.write(\"BEGIN options\\n\")\n",
    "    f.write(\"END options\\n\\n\")\n",
    "    f.write(\"BEGIN griddata\\n\")\n",
    "    f.write(\"  strt NETCDF\\n\")\n",
    "    f.write(\"END griddata\\n\\n\")\n",
    "\n",
    "with open(ws / \"model.ic\", \"r\") as f:\n",
    "    print(f.read())"
   ]
  },
  {
   "cell_type": "markdown",
   "id": "b15964e2-e1e5-4fc7-986e-18d68ef5a760",
   "metadata": {},
   "source": [
    "# Run the simulation"
   ]
  },
  {
   "cell_type": "code",
   "execution_count": null,
   "id": "48760a6e-2736-474d-85b2-88fd06b9db2b",
   "metadata": {},
   "outputs": [],
   "source": [
    "sim.run_simulation()"
   ]
  },
  {
   "cell_type": "code",
   "execution_count": null,
   "id": "7d48fceb-20ce-42aa-b674-a16bab698e7a",
   "metadata": {},
   "outputs": [],
   "source": []
  }
 ],
 "metadata": {
  "kernelspec": {
   "display_name": "Python 3 (ipykernel)",
   "language": "python",
   "name": "python3"
  },
  "language_info": {
   "codemirror_mode": {
    "name": "ipython",
    "version": 3
   },
   "file_extension": ".py",
   "mimetype": "text/x-python",
   "name": "python",
   "nbconvert_exporter": "python",
   "pygments_lexer": "ipython3",
   "version": "3.12.5"
  }
 },
 "nbformat": 4,
 "nbformat_minor": 5
}
