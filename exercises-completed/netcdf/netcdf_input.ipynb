{
 "cells": [
  {
   "cell_type": "code",
   "execution_count": 1,
   "id": "58228621-4630-479b-8f40-97622eb034b6",
   "metadata": {
    "execution": {
     "iopub.execute_input": "2024-08-28T13:57:53.342810Z",
     "iopub.status.busy": "2024-08-28T13:57:53.342352Z",
     "iopub.status.idle": "2024-08-28T13:57:55.819400Z",
     "shell.execute_reply": "2024-08-28T13:57:55.818481Z",
     "shell.execute_reply.started": "2024-08-28T13:57:53.342783Z"
    }
   },
   "outputs": [],
   "source": [
    "import pathlib as pl\n",
    "\n",
    "import flopy\n",
    "import matplotlib.pyplot as plt\n",
    "import xarray as xa\n",
    "import xugrid as xu"
   ]
  },
  {
   "cell_type": "markdown",
   "id": "1a2a898f-2d3e-4a3d-9da3-97274f30bd16",
   "metadata": {},
   "source": [
    "# Load the base watershed model\n",
    "\n",
    "We will use the base watershed model to demonstrate MODFLOW NetCDF input functionality.  "
   ]
  },
  {
   "cell_type": "code",
   "execution_count": 2,
   "id": "15502acc-a7b8-4c4d-bc5b-826d117dbee1",
   "metadata": {
    "execution": {
     "iopub.execute_input": "2024-08-28T13:57:55.821172Z",
     "iopub.status.busy": "2024-08-28T13:57:55.820748Z",
     "iopub.status.idle": "2024-08-28T13:57:56.055181Z",
     "shell.execute_reply": "2024-08-28T13:57:56.054014Z",
     "shell.execute_reply.started": "2024-08-28T13:57:55.821149Z"
    }
   },
   "outputs": [
    {
     "name": "stdout",
     "output_type": "stream",
     "text": [
      "loading simulation...\n",
      "  loading simulation name file...\n",
      "  loading tdis package...\n",
      "  loading model gwf6...\n",
      "    loading package dis...\n",
      "    loading package ic...\n",
      "    loading package npf...\n",
      "    loading package rch...\n",
      "    loading package drn...\n",
      "    loading package drn...\n",
      "    loading package oc...\n",
      "  loading solution package model...\n"
     ]
    }
   ],
   "source": [
    "name = \"watershed\"\n",
    "sim = flopy.mf6.MFSimulation.load(\n",
    "    sim_name=name, sim_ws=pl.Path(\"../../data/watershed/\")\n",
    ")"
   ]
  },
  {
   "cell_type": "markdown",
   "id": "1d94e17a-1d75-43ea-8d1c-20a7e4c95c92",
   "metadata": {},
   "source": [
    "# Modify the model to export ascii input arrays to NetCDF\n",
    "\n",
    "Define the `export_netcdf` variable in the groundwater flow model `name_file` and set to `structured` for this example. We also need to specifically export array input per package.  In this example we will do this for the DIS package."
   ]
  },
  {
   "cell_type": "code",
   "execution_count": 3,
   "id": "554f587f-acfd-466c-bd2f-cc65cf6908ca",
   "metadata": {
    "execution": {
     "iopub.execute_input": "2024-08-28T13:57:58.089564Z",
     "iopub.status.busy": "2024-08-28T13:57:58.089238Z",
     "iopub.status.idle": "2024-08-28T13:57:58.094644Z",
     "shell.execute_reply": "2024-08-28T13:57:58.093336Z",
     "shell.execute_reply.started": "2024-08-28T13:57:58.089544Z"
    }
   },
   "outputs": [],
   "source": [
    "gwf = sim.get_model()"
   ]
  },
  {
   "cell_type": "code",
   "execution_count": 4,
   "id": "d5c5a67e-466b-4281-8593-f894f72025b3",
   "metadata": {
    "execution": {
     "iopub.execute_input": "2024-08-28T13:57:59.313042Z",
     "iopub.status.busy": "2024-08-28T13:57:59.312722Z",
     "iopub.status.idle": "2024-08-28T13:57:59.318083Z",
     "shell.execute_reply": "2024-08-28T13:57:59.317141Z",
     "shell.execute_reply.started": "2024-08-28T13:57:59.313022Z"
    }
   },
   "outputs": [],
   "source": [
    "gwf.export_netcdf = \"structured\"\n",
    "gwf.dis.export_array_netcdf = True"
   ]
  },
  {
   "cell_type": "markdown",
   "id": "c88b8d45-73bd-4576-8d69-d851565a9bcf",
   "metadata": {},
   "source": [
    "# Write the model files and run the model in validate mode"
   ]
  },
  {
   "cell_type": "code",
   "execution_count": 5,
   "id": "e3554eed-a92f-477d-b71a-7d977c40faaa",
   "metadata": {
    "execution": {
     "iopub.execute_input": "2024-08-28T13:58:02.067439Z",
     "iopub.status.busy": "2024-08-28T13:58:02.066995Z",
     "iopub.status.idle": "2024-08-28T13:58:02.072422Z",
     "shell.execute_reply": "2024-08-28T13:58:02.071397Z",
     "shell.execute_reply.started": "2024-08-28T13:58:02.067409Z"
    }
   },
   "outputs": [],
   "source": [
    "ws = pl.Path(\"temp/structured\")\n",
    "sim.set_sim_path(ws)"
   ]
  },
  {
   "cell_type": "code",
   "execution_count": 6,
   "id": "bafa50f3-359c-4361-8b0b-49ad9e5251ce",
   "metadata": {
    "execution": {
     "iopub.execute_input": "2024-08-28T13:58:06.685430Z",
     "iopub.status.busy": "2024-08-28T13:58:06.685119Z",
     "iopub.status.idle": "2024-08-28T13:58:06.839570Z",
     "shell.execute_reply": "2024-08-28T13:58:06.838808Z",
     "shell.execute_reply.started": "2024-08-28T13:58:06.685411Z"
    },
    "scrolled": true
   },
   "outputs": [
    {
     "name": "stdout",
     "output_type": "stream",
     "text": [
      "writing simulation...\n",
      "  writing simulation name file...\n",
      "  writing simulation tdis package...\n",
      "  writing solution package model...\n",
      "  writing model model...\n",
      "    writing model name file...\n",
      "    writing package dis...\n",
      "    writing package ic...\n",
      "    writing package npf...\n",
      "    writing package rcha_0...\n",
      "    writing package river...\n",
      "    writing package gwd...\n",
      "    writing package oc...\n"
     ]
    }
   ],
   "source": [
    "sim.write_simulation()"
   ]
  },
  {
   "cell_type": "code",
   "execution_count": 7,
   "id": "2543b005-308e-4781-8f64-87f9fd119eb0",
   "metadata": {
    "execution": {
     "iopub.execute_input": "2024-08-28T13:58:08.460021Z",
     "iopub.status.busy": "2024-08-28T13:58:08.459703Z",
     "iopub.status.idle": "2024-08-28T13:58:08.751351Z",
     "shell.execute_reply": "2024-08-28T13:58:08.750294Z",
     "shell.execute_reply.started": "2024-08-28T13:58:08.460000Z"
    }
   },
   "outputs": [
    {
     "name": "stdout",
     "output_type": "stream",
     "text": [
      "FloPy is using the following executable to run the model: ../../../../../../usgs/modflow6/bin/mf6\n",
      "\n",
      "mf6: MODFLOW 6 simulation mode VALIDATE. Model input will be checked for all\n",
      "stress periods but the matrix equations will not be assembled or solved.\n",
      "\n",
      "\n",
      "                               MODFLOW 6 EXTENDED\n",
      "                U.S. GEOLOGICAL SURVEY MODULAR HYDROLOGIC MODEL\n",
      "                  VERSION 6.6.0.dev0 (preliminary) 05/23/2024\n",
      "                               ***DEVELOP MODE***\n",
      "\n",
      "        MODFLOW 6 compiled Aug 27 2024 10:04:53 with GCC version 11.4.0\n",
      "\n",
      "This software is preliminary or provisional and is subject to \n",
      "revision. It is being provided to meet the need for timely best \n",
      "science. The software has not received final approval by the U.S. \n",
      "Geological Survey (USGS). No warranty, expressed or implied, is made \n",
      "by the USGS or the U.S. Government as to the functionality of the \n",
      "software and related material nor shall the fact of release \n",
      "constitute any such warranty. The software is provided on the \n",
      "condition that neither the USGS nor the U.S. Government shall be held \n",
      "liable for any damages resulting from the authorized or unauthorized \n",
      "use of the software.\n",
      "\n",
      "\n",
      " MODFLOW runs in SEQUENTIAL mode\n",
      "\n",
      " Run start date and time (yyyy/mm/dd hh:mm:ss): 2024/08/28  9:58:08\n",
      "\n",
      " Writing simulation list file: mfsim.lst\n",
      " Using Simulation name file: mfsim.nam\n",
      "\n",
      " Validating:  Stress period:     1    Time step:     1\n",
      "\n",
      " Run end date and time (yyyy/mm/dd hh:mm:ss): 2024/08/28  9:58:08\n",
      " Elapsed run time:  0.158 Seconds\n",
      "\n",
      " Normal termination of simulation.\n"
     ]
    },
    {
     "data": {
      "text/plain": [
       "(True, [])"
      ]
     },
     "execution_count": 7,
     "metadata": {},
     "output_type": "execute_result"
    }
   ],
   "source": [
    "cargs = [\"--mode\", \"validate\"]\n",
    "sim.run_simulation(cargs=cargs)"
   ]
  },
  {
   "cell_type": "markdown",
   "id": "39615396-afbe-4d73-b9b1-b36f66fd01b3",
   "metadata": {},
   "source": [
    "# Load the structured NetCDF file with `xarray` and visualize botm layers 1 and 5"
   ]
  },
  {
   "cell_type": "code",
   "execution_count": 8,
   "id": "4f9adde2-b492-46f4-8a42-9703a929be7c",
   "metadata": {
    "execution": {
     "iopub.execute_input": "2024-08-28T13:58:15.918581Z",
     "iopub.status.busy": "2024-08-28T13:58:15.918172Z",
     "iopub.status.idle": "2024-08-28T13:58:16.095681Z",
     "shell.execute_reply": "2024-08-28T13:58:16.094827Z",
     "shell.execute_reply.started": "2024-08-28T13:58:15.918558Z"
    }
   },
   "outputs": [],
   "source": [
    "nc_ds = xa.open_dataset(ws / \"model.nc\")"
   ]
  },
  {
   "cell_type": "code",
   "execution_count": 9,
   "id": "6205381b-5643-4a20-b59b-625d30e2aa00",
   "metadata": {
    "execution": {
     "iopub.execute_input": "2024-08-28T13:58:18.614017Z",
     "iopub.status.busy": "2024-08-28T13:58:18.613472Z",
     "iopub.status.idle": "2024-08-28T13:58:18.635732Z",
     "shell.execute_reply": "2024-08-28T13:58:18.634328Z",
     "shell.execute_reply.started": "2024-08-28T13:58:18.613992Z"
    }
   },
   "outputs": [
    {
     "data": {
      "text/html": [
       "<div><svg style=\"position: absolute; width: 0; height: 0; overflow: hidden\">\n",
       "<defs>\n",
       "<symbol id=\"icon-database\" viewBox=\"0 0 32 32\">\n",
       "<path d=\"M16 0c-8.837 0-16 2.239-16 5v4c0 2.761 7.163 5 16 5s16-2.239 16-5v-4c0-2.761-7.163-5-16-5z\"></path>\n",
       "<path d=\"M16 17c-8.837 0-16-2.239-16-5v6c0 2.761 7.163 5 16 5s16-2.239 16-5v-6c0 2.761-7.163 5-16 5z\"></path>\n",
       "<path d=\"M16 26c-8.837 0-16-2.239-16-5v6c0 2.761 7.163 5 16 5s16-2.239 16-5v-6c0 2.761-7.163 5-16 5z\"></path>\n",
       "</symbol>\n",
       "<symbol id=\"icon-file-text2\" viewBox=\"0 0 32 32\">\n",
       "<path d=\"M28.681 7.159c-0.694-0.947-1.662-2.053-2.724-3.116s-2.169-2.030-3.116-2.724c-1.612-1.182-2.393-1.319-2.841-1.319h-15.5c-1.378 0-2.5 1.121-2.5 2.5v27c0 1.378 1.122 2.5 2.5 2.5h23c1.378 0 2.5-1.122 2.5-2.5v-19.5c0-0.448-0.137-1.23-1.319-2.841zM24.543 5.457c0.959 0.959 1.712 1.825 2.268 2.543h-4.811v-4.811c0.718 0.556 1.584 1.309 2.543 2.268zM28 29.5c0 0.271-0.229 0.5-0.5 0.5h-23c-0.271 0-0.5-0.229-0.5-0.5v-27c0-0.271 0.229-0.5 0.5-0.5 0 0 15.499-0 15.5 0v7c0 0.552 0.448 1 1 1h7v19.5z\"></path>\n",
       "<path d=\"M23 26h-14c-0.552 0-1-0.448-1-1s0.448-1 1-1h14c0.552 0 1 0.448 1 1s-0.448 1-1 1z\"></path>\n",
       "<path d=\"M23 22h-14c-0.552 0-1-0.448-1-1s0.448-1 1-1h14c0.552 0 1 0.448 1 1s-0.448 1-1 1z\"></path>\n",
       "<path d=\"M23 18h-14c-0.552 0-1-0.448-1-1s0.448-1 1-1h14c0.552 0 1 0.448 1 1s-0.448 1-1 1z\"></path>\n",
       "</symbol>\n",
       "</defs>\n",
       "</svg>\n",
       "<style>/* CSS stylesheet for displaying xarray objects in jupyterlab.\n",
       " *\n",
       " */\n",
       "\n",
       ":root {\n",
       "  --xr-font-color0: var(--jp-content-font-color0, rgba(0, 0, 0, 1));\n",
       "  --xr-font-color2: var(--jp-content-font-color2, rgba(0, 0, 0, 0.54));\n",
       "  --xr-font-color3: var(--jp-content-font-color3, rgba(0, 0, 0, 0.38));\n",
       "  --xr-border-color: var(--jp-border-color2, #e0e0e0);\n",
       "  --xr-disabled-color: var(--jp-layout-color3, #bdbdbd);\n",
       "  --xr-background-color: var(--jp-layout-color0, white);\n",
       "  --xr-background-color-row-even: var(--jp-layout-color1, white);\n",
       "  --xr-background-color-row-odd: var(--jp-layout-color2, #eeeeee);\n",
       "}\n",
       "\n",
       "html[theme=dark],\n",
       "html[data-theme=dark],\n",
       "body[data-theme=dark],\n",
       "body.vscode-dark {\n",
       "  --xr-font-color0: rgba(255, 255, 255, 1);\n",
       "  --xr-font-color2: rgba(255, 255, 255, 0.54);\n",
       "  --xr-font-color3: rgba(255, 255, 255, 0.38);\n",
       "  --xr-border-color: #1F1F1F;\n",
       "  --xr-disabled-color: #515151;\n",
       "  --xr-background-color: #111111;\n",
       "  --xr-background-color-row-even: #111111;\n",
       "  --xr-background-color-row-odd: #313131;\n",
       "}\n",
       "\n",
       ".xr-wrap {\n",
       "  display: block !important;\n",
       "  min-width: 300px;\n",
       "  max-width: 700px;\n",
       "}\n",
       "\n",
       ".xr-text-repr-fallback {\n",
       "  /* fallback to plain text repr when CSS is not injected (untrusted notebook) */\n",
       "  display: none;\n",
       "}\n",
       "\n",
       ".xr-header {\n",
       "  padding-top: 6px;\n",
       "  padding-bottom: 6px;\n",
       "  margin-bottom: 4px;\n",
       "  border-bottom: solid 1px var(--xr-border-color);\n",
       "}\n",
       "\n",
       ".xr-header > div,\n",
       ".xr-header > ul {\n",
       "  display: inline;\n",
       "  margin-top: 0;\n",
       "  margin-bottom: 0;\n",
       "}\n",
       "\n",
       ".xr-obj-type,\n",
       ".xr-array-name {\n",
       "  margin-left: 2px;\n",
       "  margin-right: 10px;\n",
       "}\n",
       "\n",
       ".xr-obj-type {\n",
       "  color: var(--xr-font-color2);\n",
       "}\n",
       "\n",
       ".xr-sections {\n",
       "  padding-left: 0 !important;\n",
       "  display: grid;\n",
       "  grid-template-columns: 150px auto auto 1fr 20px 20px;\n",
       "}\n",
       "\n",
       ".xr-section-item {\n",
       "  display: contents;\n",
       "}\n",
       "\n",
       ".xr-section-item input {\n",
       "  display: none;\n",
       "}\n",
       "\n",
       ".xr-section-item input + label {\n",
       "  color: var(--xr-disabled-color);\n",
       "}\n",
       "\n",
       ".xr-section-item input:enabled + label {\n",
       "  cursor: pointer;\n",
       "  color: var(--xr-font-color2);\n",
       "}\n",
       "\n",
       ".xr-section-item input:enabled + label:hover {\n",
       "  color: var(--xr-font-color0);\n",
       "}\n",
       "\n",
       ".xr-section-summary {\n",
       "  grid-column: 1;\n",
       "  color: var(--xr-font-color2);\n",
       "  font-weight: 500;\n",
       "}\n",
       "\n",
       ".xr-section-summary > span {\n",
       "  display: inline-block;\n",
       "  padding-left: 0.5em;\n",
       "}\n",
       "\n",
       ".xr-section-summary-in:disabled + label {\n",
       "  color: var(--xr-font-color2);\n",
       "}\n",
       "\n",
       ".xr-section-summary-in + label:before {\n",
       "  display: inline-block;\n",
       "  content: '►';\n",
       "  font-size: 11px;\n",
       "  width: 15px;\n",
       "  text-align: center;\n",
       "}\n",
       "\n",
       ".xr-section-summary-in:disabled + label:before {\n",
       "  color: var(--xr-disabled-color);\n",
       "}\n",
       "\n",
       ".xr-section-summary-in:checked + label:before {\n",
       "  content: '▼';\n",
       "}\n",
       "\n",
       ".xr-section-summary-in:checked + label > span {\n",
       "  display: none;\n",
       "}\n",
       "\n",
       ".xr-section-summary,\n",
       ".xr-section-inline-details {\n",
       "  padding-top: 4px;\n",
       "  padding-bottom: 4px;\n",
       "}\n",
       "\n",
       ".xr-section-inline-details {\n",
       "  grid-column: 2 / -1;\n",
       "}\n",
       "\n",
       ".xr-section-details {\n",
       "  display: none;\n",
       "  grid-column: 1 / -1;\n",
       "  margin-bottom: 5px;\n",
       "}\n",
       "\n",
       ".xr-section-summary-in:checked ~ .xr-section-details {\n",
       "  display: contents;\n",
       "}\n",
       "\n",
       ".xr-array-wrap {\n",
       "  grid-column: 1 / -1;\n",
       "  display: grid;\n",
       "  grid-template-columns: 20px auto;\n",
       "}\n",
       "\n",
       ".xr-array-wrap > label {\n",
       "  grid-column: 1;\n",
       "  vertical-align: top;\n",
       "}\n",
       "\n",
       ".xr-preview {\n",
       "  color: var(--xr-font-color3);\n",
       "}\n",
       "\n",
       ".xr-array-preview,\n",
       ".xr-array-data {\n",
       "  padding: 0 5px !important;\n",
       "  grid-column: 2;\n",
       "}\n",
       "\n",
       ".xr-array-data,\n",
       ".xr-array-in:checked ~ .xr-array-preview {\n",
       "  display: none;\n",
       "}\n",
       "\n",
       ".xr-array-in:checked ~ .xr-array-data,\n",
       ".xr-array-preview {\n",
       "  display: inline-block;\n",
       "}\n",
       "\n",
       ".xr-dim-list {\n",
       "  display: inline-block !important;\n",
       "  list-style: none;\n",
       "  padding: 0 !important;\n",
       "  margin: 0;\n",
       "}\n",
       "\n",
       ".xr-dim-list li {\n",
       "  display: inline-block;\n",
       "  padding: 0;\n",
       "  margin: 0;\n",
       "}\n",
       "\n",
       ".xr-dim-list:before {\n",
       "  content: '(';\n",
       "}\n",
       "\n",
       ".xr-dim-list:after {\n",
       "  content: ')';\n",
       "}\n",
       "\n",
       ".xr-dim-list li:not(:last-child):after {\n",
       "  content: ',';\n",
       "  padding-right: 5px;\n",
       "}\n",
       "\n",
       ".xr-has-index {\n",
       "  font-weight: bold;\n",
       "}\n",
       "\n",
       ".xr-var-list,\n",
       ".xr-var-item {\n",
       "  display: contents;\n",
       "}\n",
       "\n",
       ".xr-var-item > div,\n",
       ".xr-var-item label,\n",
       ".xr-var-item > .xr-var-name span {\n",
       "  background-color: var(--xr-background-color-row-even);\n",
       "  margin-bottom: 0;\n",
       "}\n",
       "\n",
       ".xr-var-item > .xr-var-name:hover span {\n",
       "  padding-right: 5px;\n",
       "}\n",
       "\n",
       ".xr-var-list > li:nth-child(odd) > div,\n",
       ".xr-var-list > li:nth-child(odd) > label,\n",
       ".xr-var-list > li:nth-child(odd) > .xr-var-name span {\n",
       "  background-color: var(--xr-background-color-row-odd);\n",
       "}\n",
       "\n",
       ".xr-var-name {\n",
       "  grid-column: 1;\n",
       "}\n",
       "\n",
       ".xr-var-dims {\n",
       "  grid-column: 2;\n",
       "}\n",
       "\n",
       ".xr-var-dtype {\n",
       "  grid-column: 3;\n",
       "  text-align: right;\n",
       "  color: var(--xr-font-color2);\n",
       "}\n",
       "\n",
       ".xr-var-preview {\n",
       "  grid-column: 4;\n",
       "}\n",
       "\n",
       ".xr-index-preview {\n",
       "  grid-column: 2 / 5;\n",
       "  color: var(--xr-font-color2);\n",
       "}\n",
       "\n",
       ".xr-var-name,\n",
       ".xr-var-dims,\n",
       ".xr-var-dtype,\n",
       ".xr-preview,\n",
       ".xr-attrs dt {\n",
       "  white-space: nowrap;\n",
       "  overflow: hidden;\n",
       "  text-overflow: ellipsis;\n",
       "  padding-right: 10px;\n",
       "}\n",
       "\n",
       ".xr-var-name:hover,\n",
       ".xr-var-dims:hover,\n",
       ".xr-var-dtype:hover,\n",
       ".xr-attrs dt:hover {\n",
       "  overflow: visible;\n",
       "  width: auto;\n",
       "  z-index: 1;\n",
       "}\n",
       "\n",
       ".xr-var-attrs,\n",
       ".xr-var-data,\n",
       ".xr-index-data {\n",
       "  display: none;\n",
       "  background-color: var(--xr-background-color) !important;\n",
       "  padding-bottom: 5px !important;\n",
       "}\n",
       "\n",
       ".xr-var-attrs-in:checked ~ .xr-var-attrs,\n",
       ".xr-var-data-in:checked ~ .xr-var-data,\n",
       ".xr-index-data-in:checked ~ .xr-index-data {\n",
       "  display: block;\n",
       "}\n",
       "\n",
       ".xr-var-data > table {\n",
       "  float: right;\n",
       "}\n",
       "\n",
       ".xr-var-name span,\n",
       ".xr-var-data,\n",
       ".xr-index-name div,\n",
       ".xr-index-data,\n",
       ".xr-attrs {\n",
       "  padding-left: 25px !important;\n",
       "}\n",
       "\n",
       ".xr-attrs,\n",
       ".xr-var-attrs,\n",
       ".xr-var-data,\n",
       ".xr-index-data {\n",
       "  grid-column: 1 / -1;\n",
       "}\n",
       "\n",
       "dl.xr-attrs {\n",
       "  padding: 0;\n",
       "  margin: 0;\n",
       "  display: grid;\n",
       "  grid-template-columns: 125px auto;\n",
       "}\n",
       "\n",
       ".xr-attrs dt,\n",
       ".xr-attrs dd {\n",
       "  padding: 0;\n",
       "  margin: 0;\n",
       "  float: left;\n",
       "  padding-right: 10px;\n",
       "  width: auto;\n",
       "}\n",
       "\n",
       ".xr-attrs dt {\n",
       "  font-weight: normal;\n",
       "  grid-column: 1;\n",
       "}\n",
       "\n",
       ".xr-attrs dt:hover span {\n",
       "  display: inline-block;\n",
       "  background: var(--xr-background-color);\n",
       "  padding-right: 10px;\n",
       "}\n",
       "\n",
       ".xr-attrs dd {\n",
       "  grid-column: 2;\n",
       "  white-space: pre-wrap;\n",
       "  word-break: break-all;\n",
       "}\n",
       "\n",
       ".xr-icon-database,\n",
       ".xr-icon-file-text2,\n",
       ".xr-no-icon {\n",
       "  display: inline-block;\n",
       "  vertical-align: middle;\n",
       "  width: 1em;\n",
       "  height: 1.5em !important;\n",
       "  stroke-width: 0;\n",
       "  stroke: currentColor;\n",
       "  fill: currentColor;\n",
       "}\n",
       "</style><pre class='xr-text-repr-fallback'>&lt;xarray.Dataset&gt; Size: 267kB\n",
       "Dimensions:      (z: 5, y: 41, bnd: 2, x: 73)\n",
       "Coordinates:\n",
       "  * z            (z) float64 40B 1.0 2.0 3.0 4.0 5.0\n",
       "  * y            (y) float64 328B 1.012e+05 9.875e+04 ... 3.75e+03 1.25e+03\n",
       "  * x            (x) float64 584B 1.25e+03 3.75e+03 ... 1.788e+05 1.812e+05\n",
       "Dimensions without coordinates: bnd\n",
       "Data variables:\n",
       "    y_bnds       (y, bnd) float64 656B ...\n",
       "    x_bnds       (x, bnd) float64 1kB ...\n",
       "    dis_delr     (x) float64 584B ...\n",
       "    dis_delc     (y) float64 328B ...\n",
       "    dis_top      (y, x) float64 24kB ...\n",
       "    dis_botm     (z, y, x) float64 120kB ...\n",
       "    dis_idomain  (z, y, x) float64 120kB ...\n",
       "Attributes:\n",
       "    title:           MODEL hydraulic head\n",
       "    source:          MODFLOW 6 6.6.0.dev0 (preliminary) 05/23/2024\n",
       "    modflow6_grid:   STRUCTURED\n",
       "    modflow6_model:  MODEL: MODFLOW 6 Groundwater Flow (GWF) model\n",
       "    history:         first created 2024/8/28 9:58:8.622\n",
       "    Conventions:     CF-1.11</pre><div class='xr-wrap' style='display:none'><div class='xr-header'><div class='xr-obj-type'>xarray.Dataset</div></div><ul class='xr-sections'><li class='xr-section-item'><input id='section-267404d0-90ab-4022-ac49-b7220922be1f' class='xr-section-summary-in' type='checkbox' disabled ><label for='section-267404d0-90ab-4022-ac49-b7220922be1f' class='xr-section-summary'  title='Expand/collapse section'>Dimensions:</label><div class='xr-section-inline-details'><ul class='xr-dim-list'><li><span class='xr-has-index'>z</span>: 5</li><li><span class='xr-has-index'>y</span>: 41</li><li><span>bnd</span>: 2</li><li><span class='xr-has-index'>x</span>: 73</li></ul></div><div class='xr-section-details'></div></li><li class='xr-section-item'><input id='section-036f6a8b-8f74-477b-a7ad-871aa2e5605a' class='xr-section-summary-in' type='checkbox'  checked><label for='section-036f6a8b-8f74-477b-a7ad-871aa2e5605a' class='xr-section-summary' >Coordinates: <span>(3)</span></label><div class='xr-section-inline-details'></div><div class='xr-section-details'><ul class='xr-var-list'><li class='xr-var-item'><div class='xr-var-name'><span class='xr-has-index'>z</span></div><div class='xr-var-dims'>(z)</div><div class='xr-var-dtype'>float64</div><div class='xr-var-preview xr-preview'>1.0 2.0 3.0 4.0 5.0</div><input id='attrs-bdf84179-c1c6-46f8-9ff5-c4ad9a421f68' class='xr-var-attrs-in' type='checkbox' ><label for='attrs-bdf84179-c1c6-46f8-9ff5-c4ad9a421f68' title='Show/Hide attributes'><svg class='icon xr-icon-file-text2'><use xlink:href='#icon-file-text2'></use></svg></label><input id='data-5f15d3ec-6052-44cf-944e-86b4f5833372' class='xr-var-data-in' type='checkbox'><label for='data-5f15d3ec-6052-44cf-944e-86b4f5833372' title='Show/Hide data repr'><svg class='icon xr-icon-database'><use xlink:href='#icon-database'></use></svg></label><div class='xr-var-attrs'><dl class='xr-attrs'><dt><span>units :</span></dt><dd>layer</dd><dt><span>long_name :</span></dt><dd>layer number</dd></dl></div><div class='xr-var-data'><pre>array([1., 2., 3., 4., 5.])</pre></div></li><li class='xr-var-item'><div class='xr-var-name'><span class='xr-has-index'>y</span></div><div class='xr-var-dims'>(y)</div><div class='xr-var-dtype'>float64</div><div class='xr-var-preview xr-preview'>1.012e+05 9.875e+04 ... 1.25e+03</div><input id='attrs-28f00dd3-f666-47dd-b6b5-9c652e2861f2' class='xr-var-attrs-in' type='checkbox' ><label for='attrs-28f00dd3-f666-47dd-b6b5-9c652e2861f2' title='Show/Hide attributes'><svg class='icon xr-icon-file-text2'><use xlink:href='#icon-file-text2'></use></svg></label><input id='data-74f24473-a19c-4c94-92fa-d308f6f7ce29' class='xr-var-data-in' type='checkbox'><label for='data-74f24473-a19c-4c94-92fa-d308f6f7ce29' title='Show/Hide data repr'><svg class='icon xr-icon-database'><use xlink:href='#icon-database'></use></svg></label><div class='xr-var-attrs'><dl class='xr-attrs'><dt><span>units :</span></dt><dd>m</dd><dt><span>axis :</span></dt><dd>Y</dd><dt><span>standard_name :</span></dt><dd>projection_y_coordinate</dd><dt><span>long_name :</span></dt><dd>Northing</dd><dt><span>bounds :</span></dt><dd>y_bnds</dd></dl></div><div class='xr-var-data'><pre>array([101250.,  98750.,  96250.,  93750.,  91250.,  88750.,  86250.,  83750.,\n",
       "        81250.,  78750.,  76250.,  73750.,  71250.,  68750.,  66250.,  63750.,\n",
       "        61250.,  58750.,  56250.,  53750.,  51250.,  48750.,  46250.,  43750.,\n",
       "        41250.,  38750.,  36250.,  33750.,  31250.,  28750.,  26250.,  23750.,\n",
       "        21250.,  18750.,  16250.,  13750.,  11250.,   8750.,   6250.,   3750.,\n",
       "         1250.])</pre></div></li><li class='xr-var-item'><div class='xr-var-name'><span class='xr-has-index'>x</span></div><div class='xr-var-dims'>(x)</div><div class='xr-var-dtype'>float64</div><div class='xr-var-preview xr-preview'>1.25e+03 3.75e+03 ... 1.812e+05</div><input id='attrs-8e9b757b-79af-4acb-b34f-71836cdc3a3b' class='xr-var-attrs-in' type='checkbox' ><label for='attrs-8e9b757b-79af-4acb-b34f-71836cdc3a3b' title='Show/Hide attributes'><svg class='icon xr-icon-file-text2'><use xlink:href='#icon-file-text2'></use></svg></label><input id='data-886df6cd-8964-4b1e-a460-b9b4ce9cb32a' class='xr-var-data-in' type='checkbox'><label for='data-886df6cd-8964-4b1e-a460-b9b4ce9cb32a' title='Show/Hide data repr'><svg class='icon xr-icon-database'><use xlink:href='#icon-database'></use></svg></label><div class='xr-var-attrs'><dl class='xr-attrs'><dt><span>units :</span></dt><dd>m</dd><dt><span>axis :</span></dt><dd>X</dd><dt><span>standard_name :</span></dt><dd>projection_x_coordinate</dd><dt><span>long_name :</span></dt><dd>Easting</dd><dt><span>bounds :</span></dt><dd>x_bnds</dd></dl></div><div class='xr-var-data'><pre>array([  1250.,   3750.,   6250.,   8750.,  11250.,  13750.,  16250.,  18750.,\n",
       "        21250.,  23750.,  26250.,  28750.,  31250.,  33750.,  36250.,  38750.,\n",
       "        41250.,  43750.,  46250.,  48750.,  51250.,  53750.,  56250.,  58750.,\n",
       "        61250.,  63750.,  66250.,  68750.,  71250.,  73750.,  76250.,  78750.,\n",
       "        81250.,  83750.,  86250.,  88750.,  91250.,  93750.,  96250.,  98750.,\n",
       "       101250., 103750., 106250., 108750., 111250., 113750., 116250., 118750.,\n",
       "       121250., 123750., 126250., 128750., 131250., 133750., 136250., 138750.,\n",
       "       141250., 143750., 146250., 148750., 151250., 153750., 156250., 158750.,\n",
       "       161250., 163750., 166250., 168750., 171250., 173750., 176250., 178750.,\n",
       "       181250.])</pre></div></li></ul></div></li><li class='xr-section-item'><input id='section-5e542091-898d-4fee-aa4d-8fdaad67e6bf' class='xr-section-summary-in' type='checkbox'  checked><label for='section-5e542091-898d-4fee-aa4d-8fdaad67e6bf' class='xr-section-summary' >Data variables: <span>(7)</span></label><div class='xr-section-inline-details'></div><div class='xr-section-details'><ul class='xr-var-list'><li class='xr-var-item'><div class='xr-var-name'><span>y_bnds</span></div><div class='xr-var-dims'>(y, bnd)</div><div class='xr-var-dtype'>float64</div><div class='xr-var-preview xr-preview'>...</div><input id='attrs-4e86cfd7-5c81-4ea4-9c37-85ee28cee27a' class='xr-var-attrs-in' type='checkbox' disabled><label for='attrs-4e86cfd7-5c81-4ea4-9c37-85ee28cee27a' title='Show/Hide attributes'><svg class='icon xr-icon-file-text2'><use xlink:href='#icon-file-text2'></use></svg></label><input id='data-d3bf5c93-1fc2-4af9-baaa-8237cdd03292' class='xr-var-data-in' type='checkbox'><label for='data-d3bf5c93-1fc2-4af9-baaa-8237cdd03292' title='Show/Hide data repr'><svg class='icon xr-icon-database'><use xlink:href='#icon-database'></use></svg></label><div class='xr-var-attrs'><dl class='xr-attrs'></dl></div><div class='xr-var-data'><pre>[82 values with dtype=float64]</pre></div></li><li class='xr-var-item'><div class='xr-var-name'><span>x_bnds</span></div><div class='xr-var-dims'>(x, bnd)</div><div class='xr-var-dtype'>float64</div><div class='xr-var-preview xr-preview'>...</div><input id='attrs-4ff2c4fc-b10d-453c-9a9a-315f73369074' class='xr-var-attrs-in' type='checkbox' disabled><label for='attrs-4ff2c4fc-b10d-453c-9a9a-315f73369074' title='Show/Hide attributes'><svg class='icon xr-icon-file-text2'><use xlink:href='#icon-file-text2'></use></svg></label><input id='data-7fccfac7-5797-449e-9cfe-af6bfc3ed258' class='xr-var-data-in' type='checkbox'><label for='data-7fccfac7-5797-449e-9cfe-af6bfc3ed258' title='Show/Hide data repr'><svg class='icon xr-icon-database'><use xlink:href='#icon-database'></use></svg></label><div class='xr-var-attrs'><dl class='xr-attrs'></dl></div><div class='xr-var-data'><pre>[146 values with dtype=float64]</pre></div></li><li class='xr-var-item'><div class='xr-var-name'><span>dis_delr</span></div><div class='xr-var-dims'>(x)</div><div class='xr-var-dtype'>float64</div><div class='xr-var-preview xr-preview'>...</div><input id='attrs-6b46ea01-f0b1-40c3-be8a-aabd8b8d0f62' class='xr-var-attrs-in' type='checkbox' ><label for='attrs-6b46ea01-f0b1-40c3-be8a-aabd8b8d0f62' title='Show/Hide attributes'><svg class='icon xr-icon-file-text2'><use xlink:href='#icon-file-text2'></use></svg></label><input id='data-c32b2c05-f34c-43bd-bcd9-c201570e1812' class='xr-var-data-in' type='checkbox'><label for='data-c32b2c05-f34c-43bd-bcd9-c201570e1812' title='Show/Hide data repr'><svg class='icon xr-icon-database'><use xlink:href='#icon-database'></use></svg></label><div class='xr-var-attrs'><dl class='xr-attrs'><dt><span>long_name :</span></dt><dd>spacing along a row</dd><dt><span>modflow6_input :</span></dt><dd>MODEL/DIS/DELR</dd></dl></div><div class='xr-var-data'><pre>[73 values with dtype=float64]</pre></div></li><li class='xr-var-item'><div class='xr-var-name'><span>dis_delc</span></div><div class='xr-var-dims'>(y)</div><div class='xr-var-dtype'>float64</div><div class='xr-var-preview xr-preview'>...</div><input id='attrs-69866b6c-6d2d-4a82-ad6e-1163ee9e6572' class='xr-var-attrs-in' type='checkbox' ><label for='attrs-69866b6c-6d2d-4a82-ad6e-1163ee9e6572' title='Show/Hide attributes'><svg class='icon xr-icon-file-text2'><use xlink:href='#icon-file-text2'></use></svg></label><input id='data-3d9232a8-7e22-4bb2-b148-e6d68565d284' class='xr-var-data-in' type='checkbox'><label for='data-3d9232a8-7e22-4bb2-b148-e6d68565d284' title='Show/Hide data repr'><svg class='icon xr-icon-database'><use xlink:href='#icon-database'></use></svg></label><div class='xr-var-attrs'><dl class='xr-attrs'><dt><span>long_name :</span></dt><dd>spacing along a column</dd><dt><span>modflow6_input :</span></dt><dd>MODEL/DIS/DELC</dd></dl></div><div class='xr-var-data'><pre>[41 values with dtype=float64]</pre></div></li><li class='xr-var-item'><div class='xr-var-name'><span>dis_top</span></div><div class='xr-var-dims'>(y, x)</div><div class='xr-var-dtype'>float64</div><div class='xr-var-preview xr-preview'>...</div><input id='attrs-d5fcfa4e-c195-40e2-99e7-72b40ea0b458' class='xr-var-attrs-in' type='checkbox' ><label for='attrs-d5fcfa4e-c195-40e2-99e7-72b40ea0b458' title='Show/Hide attributes'><svg class='icon xr-icon-file-text2'><use xlink:href='#icon-file-text2'></use></svg></label><input id='data-23d3efdd-6c6a-4924-b571-695042e7ea79' class='xr-var-data-in' type='checkbox'><label for='data-23d3efdd-6c6a-4924-b571-695042e7ea79' title='Show/Hide data repr'><svg class='icon xr-icon-database'><use xlink:href='#icon-database'></use></svg></label><div class='xr-var-attrs'><dl class='xr-attrs'><dt><span>long_name :</span></dt><dd>cell top elevation</dd><dt><span>modflow6_input :</span></dt><dd>MODEL/DIS/TOP</dd></dl></div><div class='xr-var-data'><pre>[2993 values with dtype=float64]</pre></div></li><li class='xr-var-item'><div class='xr-var-name'><span>dis_botm</span></div><div class='xr-var-dims'>(z, y, x)</div><div class='xr-var-dtype'>float64</div><div class='xr-var-preview xr-preview'>...</div><input id='attrs-aa99834a-532a-4018-b10c-6f86c712e7f5' class='xr-var-attrs-in' type='checkbox' ><label for='attrs-aa99834a-532a-4018-b10c-6f86c712e7f5' title='Show/Hide attributes'><svg class='icon xr-icon-file-text2'><use xlink:href='#icon-file-text2'></use></svg></label><input id='data-0dad52c4-568e-448d-9ce0-93a610fcbe76' class='xr-var-data-in' type='checkbox'><label for='data-0dad52c4-568e-448d-9ce0-93a610fcbe76' title='Show/Hide data repr'><svg class='icon xr-icon-database'><use xlink:href='#icon-database'></use></svg></label><div class='xr-var-attrs'><dl class='xr-attrs'><dt><span>long_name :</span></dt><dd>cell bottom elevation</dd><dt><span>modflow6_input :</span></dt><dd>MODEL/DIS/BOTM</dd></dl></div><div class='xr-var-data'><pre>[14965 values with dtype=float64]</pre></div></li><li class='xr-var-item'><div class='xr-var-name'><span>dis_idomain</span></div><div class='xr-var-dims'>(z, y, x)</div><div class='xr-var-dtype'>float64</div><div class='xr-var-preview xr-preview'>...</div><input id='attrs-212b80c8-74ed-406c-a290-5306c06231aa' class='xr-var-attrs-in' type='checkbox' ><label for='attrs-212b80c8-74ed-406c-a290-5306c06231aa' title='Show/Hide attributes'><svg class='icon xr-icon-file-text2'><use xlink:href='#icon-file-text2'></use></svg></label><input id='data-16951562-8316-4ad0-b28c-56714609ac2e' class='xr-var-data-in' type='checkbox'><label for='data-16951562-8316-4ad0-b28c-56714609ac2e' title='Show/Hide data repr'><svg class='icon xr-icon-database'><use xlink:href='#icon-database'></use></svg></label><div class='xr-var-attrs'><dl class='xr-attrs'><dt><span>long_name :</span></dt><dd>idomain existence array</dd><dt><span>modflow6_input :</span></dt><dd>MODEL/DIS/IDOMAIN</dd></dl></div><div class='xr-var-data'><pre>[14965 values with dtype=float64]</pre></div></li></ul></div></li><li class='xr-section-item'><input id='section-87041403-d3d5-4751-b9f8-b7f5584ec302' class='xr-section-summary-in' type='checkbox'  ><label for='section-87041403-d3d5-4751-b9f8-b7f5584ec302' class='xr-section-summary' >Indexes: <span>(3)</span></label><div class='xr-section-inline-details'></div><div class='xr-section-details'><ul class='xr-var-list'><li class='xr-var-item'><div class='xr-index-name'><div>z</div></div><div class='xr-index-preview'>PandasIndex</div><div></div><input id='index-5f1b9927-54cb-4df3-b241-dbe25719502e' class='xr-index-data-in' type='checkbox'/><label for='index-5f1b9927-54cb-4df3-b241-dbe25719502e' title='Show/Hide index repr'><svg class='icon xr-icon-database'><use xlink:href='#icon-database'></use></svg></label><div class='xr-index-data'><pre>PandasIndex(Index([1.0, 2.0, 3.0, 4.0, 5.0], dtype=&#x27;float64&#x27;, name=&#x27;z&#x27;))</pre></div></li><li class='xr-var-item'><div class='xr-index-name'><div>y</div></div><div class='xr-index-preview'>PandasIndex</div><div></div><input id='index-1a19862d-1852-46bf-8424-5eb2d102a170' class='xr-index-data-in' type='checkbox'/><label for='index-1a19862d-1852-46bf-8424-5eb2d102a170' title='Show/Hide index repr'><svg class='icon xr-icon-database'><use xlink:href='#icon-database'></use></svg></label><div class='xr-index-data'><pre>PandasIndex(Index([101250.0,  98750.0,  96250.0,  93750.0,  91250.0,  88750.0,  86250.0,\n",
       "        83750.0,  81250.0,  78750.0,  76250.0,  73750.0,  71250.0,  68750.0,\n",
       "        66250.0,  63750.0,  61250.0,  58750.0,  56250.0,  53750.0,  51250.0,\n",
       "        48750.0,  46250.0,  43750.0,  41250.0,  38750.0,  36250.0,  33750.0,\n",
       "        31250.0,  28750.0,  26250.0,  23750.0,  21250.0,  18750.0,  16250.0,\n",
       "        13750.0,  11250.0,   8750.0,   6250.0,   3750.0,   1250.0],\n",
       "      dtype=&#x27;float64&#x27;, name=&#x27;y&#x27;))</pre></div></li><li class='xr-var-item'><div class='xr-index-name'><div>x</div></div><div class='xr-index-preview'>PandasIndex</div><div></div><input id='index-72421e5d-f96b-4161-b02d-9f17e9282f74' class='xr-index-data-in' type='checkbox'/><label for='index-72421e5d-f96b-4161-b02d-9f17e9282f74' title='Show/Hide index repr'><svg class='icon xr-icon-database'><use xlink:href='#icon-database'></use></svg></label><div class='xr-index-data'><pre>PandasIndex(Index([  1250.0,   3750.0,   6250.0,   8750.0,  11250.0,  13750.0,  16250.0,\n",
       "        18750.0,  21250.0,  23750.0,  26250.0,  28750.0,  31250.0,  33750.0,\n",
       "        36250.0,  38750.0,  41250.0,  43750.0,  46250.0,  48750.0,  51250.0,\n",
       "        53750.0,  56250.0,  58750.0,  61250.0,  63750.0,  66250.0,  68750.0,\n",
       "        71250.0,  73750.0,  76250.0,  78750.0,  81250.0,  83750.0,  86250.0,\n",
       "        88750.0,  91250.0,  93750.0,  96250.0,  98750.0, 101250.0, 103750.0,\n",
       "       106250.0, 108750.0, 111250.0, 113750.0, 116250.0, 118750.0, 121250.0,\n",
       "       123750.0, 126250.0, 128750.0, 131250.0, 133750.0, 136250.0, 138750.0,\n",
       "       141250.0, 143750.0, 146250.0, 148750.0, 151250.0, 153750.0, 156250.0,\n",
       "       158750.0, 161250.0, 163750.0, 166250.0, 168750.0, 171250.0, 173750.0,\n",
       "       176250.0, 178750.0, 181250.0],\n",
       "      dtype=&#x27;float64&#x27;, name=&#x27;x&#x27;))</pre></div></li></ul></div></li><li class='xr-section-item'><input id='section-c9409c1f-3ed6-4a97-9b45-8b29568d1e28' class='xr-section-summary-in' type='checkbox'  checked><label for='section-c9409c1f-3ed6-4a97-9b45-8b29568d1e28' class='xr-section-summary' >Attributes: <span>(6)</span></label><div class='xr-section-inline-details'></div><div class='xr-section-details'><dl class='xr-attrs'><dt><span>title :</span></dt><dd>MODEL hydraulic head</dd><dt><span>source :</span></dt><dd>MODFLOW 6 6.6.0.dev0 (preliminary) 05/23/2024</dd><dt><span>modflow6_grid :</span></dt><dd>STRUCTURED</dd><dt><span>modflow6_model :</span></dt><dd>MODEL: MODFLOW 6 Groundwater Flow (GWF) model</dd><dt><span>history :</span></dt><dd>first created 2024/8/28 9:58:8.622</dd><dt><span>Conventions :</span></dt><dd>CF-1.11</dd></dl></div></li></ul></div></div>"
      ],
      "text/plain": [
       "<xarray.Dataset> Size: 267kB\n",
       "Dimensions:      (z: 5, y: 41, bnd: 2, x: 73)\n",
       "Coordinates:\n",
       "  * z            (z) float64 40B 1.0 2.0 3.0 4.0 5.0\n",
       "  * y            (y) float64 328B 1.012e+05 9.875e+04 ... 3.75e+03 1.25e+03\n",
       "  * x            (x) float64 584B 1.25e+03 3.75e+03 ... 1.788e+05 1.812e+05\n",
       "Dimensions without coordinates: bnd\n",
       "Data variables:\n",
       "    y_bnds       (y, bnd) float64 656B ...\n",
       "    x_bnds       (x, bnd) float64 1kB ...\n",
       "    dis_delr     (x) float64 584B ...\n",
       "    dis_delc     (y) float64 328B ...\n",
       "    dis_top      (y, x) float64 24kB ...\n",
       "    dis_botm     (z, y, x) float64 120kB ...\n",
       "    dis_idomain  (z, y, x) float64 120kB ...\n",
       "Attributes:\n",
       "    title:           MODEL hydraulic head\n",
       "    source:          MODFLOW 6 6.6.0.dev0 (preliminary) 05/23/2024\n",
       "    modflow6_grid:   STRUCTURED\n",
       "    modflow6_model:  MODEL: MODFLOW 6 Groundwater Flow (GWF) model\n",
       "    history:         first created 2024/8/28 9:58:8.622\n",
       "    Conventions:     CF-1.11"
      ]
     },
     "execution_count": 9,
     "metadata": {},
     "output_type": "execute_result"
    }
   ],
   "source": [
    "nc_ds"
   ]
  },
  {
   "cell_type": "code",
   "execution_count": 10,
   "id": "1a11c06d-8a22-4176-8b92-52bb2c925ad5",
   "metadata": {
    "execution": {
     "iopub.execute_input": "2024-08-28T13:58:19.612143Z",
     "iopub.status.busy": "2024-08-28T13:58:19.611759Z",
     "iopub.status.idle": "2024-08-28T13:58:19.905466Z",
     "shell.execute_reply": "2024-08-28T13:58:19.904502Z",
     "shell.execute_reply.started": "2024-08-28T13:58:19.612118Z"
    }
   },
   "outputs": [
    {
     "data": {
      "image/png": "[encoded data removed]",
      "text/plain": [
       "<Figure size 640x480 with 2 Axes>"
      ]
     },
     "metadata": {},
     "output_type": "display_data"
    }
   ],
   "source": [
    "nc_ds[\"dis_botm\"].isel(z=0).plot()\n",
    "plt.gca().set_aspect(1.0)\n",
    "plt.show(block=False)"
   ]
  },
  {
   "cell_type": "code",
   "execution_count": 11,
   "id": "2cdc8e58-352c-4da8-b9be-77f5fee8ef0b",
   "metadata": {
    "execution": {
     "iopub.execute_input": "2024-08-28T13:58:21.164679Z",
     "iopub.status.busy": "2024-08-28T13:58:21.164344Z",
     "iopub.status.idle": "2024-08-28T13:58:21.334634Z",
     "shell.execute_reply": "2024-08-28T13:58:21.333527Z",
     "shell.execute_reply.started": "2024-08-28T13:58:21.164657Z"
    }
   },
   "outputs": [
    {
     "data": {
      "image/png": "[encoded data removed]",
      "text/plain": [
       "<Figure size 640x480 with 2 Axes>"
      ]
     },
     "metadata": {},
     "output_type": "display_data"
    }
   ],
   "source": [
    "nc_ds[\"dis_botm\"].isel(z=4).plot()\n",
    "plt.gca().set_aspect(1.0)\n",
    "plt.show(block=False)"
   ]
  },
  {
   "cell_type": "markdown",
   "id": "98e91bd1-baa5-495d-b2d3-6ffa3bff7292",
   "metadata": {},
   "source": [
    "# Deactivate NetCDF export and activate NetCDF import."
   ]
  },
  {
   "cell_type": "code",
   "execution_count": 12,
   "id": "054d4dc8-2819-46ad-b62a-61f4498c6555",
   "metadata": {
    "execution": {
     "iopub.execute_input": "2024-08-28T13:58:25.352523Z",
     "iopub.status.busy": "2024-08-28T13:58:25.352179Z",
     "iopub.status.idle": "2024-08-28T13:58:25.357020Z",
     "shell.execute_reply": "2024-08-28T13:58:25.356035Z",
     "shell.execute_reply.started": "2024-08-28T13:58:25.352502Z"
    }
   },
   "outputs": [],
   "source": [
    "# set simulation start_date_time\n",
    "sim.tdis.start_date_time = \"1980-01-01\"\n",
    "gwf.export_netcdf = None\n",
    "gwf.nc_filerecord = \"model.nc\""
   ]
  },
  {
   "cell_type": "markdown",
   "id": "50532901-683f-45e8-903e-80e304c3bb5d",
   "metadata": {},
   "source": [
    "# Write the simulation and the overwrite the DIS package to specify gridded arrays should be read from NetCDF."
   ]
  },
  {
   "cell_type": "code",
   "execution_count": 13,
   "id": "62a37fe4-b45e-44fd-bf4b-39c69d102cc0",
   "metadata": {
    "execution": {
     "iopub.execute_input": "2024-08-28T13:58:29.025933Z",
     "iopub.status.busy": "2024-08-28T13:58:29.025585Z",
     "iopub.status.idle": "2024-08-28T13:58:29.187425Z",
     "shell.execute_reply": "2024-08-28T13:58:29.186373Z",
     "shell.execute_reply.started": "2024-08-28T13:58:29.025913Z"
    }
   },
   "outputs": [
    {
     "name": "stdout",
     "output_type": "stream",
     "text": [
      "writing simulation...\n",
      "  writing simulation name file...\n",
      "  writing simulation tdis package...\n",
      "  writing solution package model...\n",
      "  writing model model...\n",
      "    writing model name file...\n",
      "    writing package dis...\n",
      "    writing package ic...\n",
      "    writing package npf...\n",
      "    writing package rcha_0...\n",
      "    writing package river...\n",
      "    writing package gwd...\n",
      "    writing package oc...\n"
     ]
    }
   ],
   "source": [
    "sim.write_simulation()"
   ]
  },
  {
   "cell_type": "code",
   "execution_count": 14,
   "id": "b3ab7a19-4da9-4f93-9755-014783cbb389",
   "metadata": {
    "execution": {
     "iopub.execute_input": "2024-08-28T13:58:30.776291Z",
     "iopub.status.busy": "2024-08-28T13:58:30.775955Z",
     "iopub.status.idle": "2024-08-28T13:58:30.783586Z",
     "shell.execute_reply": "2024-08-28T13:58:30.782376Z",
     "shell.execute_reply.started": "2024-08-28T13:58:30.776271Z"
    }
   },
   "outputs": [],
   "source": [
    "with open(ws / \"model.dis\", \"w\") as f:\n",
    "    f.write(\"BEGIN options\\n\")\n",
    "    f.write(\"  XORIGIN       0.00000000\\n\")\n",
    "    f.write(\"  YORIGIN       0.00000000\\n\")\n",
    "    f.write(\"END options\\n\\n\")\n",
    "    f.write(\"BEGIN dimensions\\n\")\n",
    "    f.write(\"  NLAY  5\\n\")\n",
    "    f.write(\"  NROW  41\\n\")\n",
    "    f.write(\"  NCOL  73\\n\")\n",
    "    f.write(\"END dimensions\\n\\n\")\n",
    "    f.write(\"BEGIN griddata\\n\")\n",
    "    f.write(\"  delr NETCDF\\n\")\n",
    "    f.write(\"  delc NETCDF\\n\")\n",
    "    f.write(\"  top NETCDF\\n\")\n",
    "    f.write(\"  botm NETCDF\\n\")\n",
    "    f.write(\"  idomain NETCDF\\n\")\n",
    "    f.write(\"END griddata\\n\\n\")"
   ]
  },
  {
   "cell_type": "markdown",
   "id": "36c226f7-a934-4dcf-bab2-ead144ae061e",
   "metadata": {},
   "source": [
    "# Run the simulation."
   ]
  },
  {
   "cell_type": "code",
   "execution_count": 15,
   "id": "0193ee4b-a265-4619-b540-e2d778631ace",
   "metadata": {
    "execution": {
     "iopub.execute_input": "2024-08-28T13:58:32.497767Z",
     "iopub.status.busy": "2024-08-28T13:58:32.497441Z",
     "iopub.status.idle": "2024-08-28T13:58:32.979132Z",
     "shell.execute_reply": "2024-08-28T13:58:32.977994Z",
     "shell.execute_reply.started": "2024-08-28T13:58:32.497746Z"
    }
   },
   "outputs": [
    {
     "name": "stdout",
     "output_type": "stream",
     "text": [
      "FloPy is using the following executable to run the model: ../../../../../../usgs/modflow6/bin/mf6\n",
      "                               MODFLOW 6 EXTENDED\n",
      "                U.S. GEOLOGICAL SURVEY MODULAR HYDROLOGIC MODEL\n",
      "                  VERSION 6.6.0.dev0 (preliminary) 05/23/2024\n",
      "                               ***DEVELOP MODE***\n",
      "\n",
      "        MODFLOW 6 compiled Aug 27 2024 10:04:53 with GCC version 11.4.0\n",
      "\n",
      "This software is preliminary or provisional and is subject to \n",
      "revision. It is being provided to meet the need for timely best \n",
      "science. The software has not received final approval by the U.S. \n",
      "Geological Survey (USGS). No warranty, expressed or implied, is made \n",
      "by the USGS or the U.S. Government as to the functionality of the \n",
      "software and related material nor shall the fact of release \n",
      "constitute any such warranty. The software is provided on the \n",
      "condition that neither the USGS nor the U.S. Government shall be held \n",
      "liable for any damages resulting from the authorized or unauthorized \n",
      "use of the software.\n",
      "\n",
      "\n",
      " MODFLOW runs in SEQUENTIAL mode\n",
      "\n",
      " Run start date and time (yyyy/mm/dd hh:mm:ss): 2024/08/28  9:58:32\n",
      "\n",
      " Writing simulation list file: mfsim.lst\n",
      " Using Simulation name file: mfsim.nam\n",
      "\n",
      "    Solving:  Stress period:     1    Time step:     1\n",
      "\n",
      " Run end date and time (yyyy/mm/dd hh:mm:ss): 2024/08/28  9:58:32\n",
      " Elapsed run time:  0.377 Seconds\n",
      "\n",
      " Normal termination of simulation.\n"
     ]
    },
    {
     "data": {
      "text/plain": [
       "(True, [])"
      ]
     },
     "execution_count": 15,
     "metadata": {},
     "output_type": "execute_result"
    }
   ],
   "source": [
    "sim.run_simulation()"
   ]
  },
  {
   "cell_type": "markdown",
   "id": "4eb753c9-dd63-497f-8d9b-af54a127d6f9",
   "metadata": {},
   "source": [
    "# Update model to export input arrays to `ugrid` NetCDF\n",
    "\n",
    "Set the `export_netcdf` variable in the groundwater flow model `name_file` to `ugrid` to export input arrays as mesh NetCDF output. Deactive NetCDF as input.  Turn off DIS array export and turn on IC array export."
   ]
  },
  {
   "cell_type": "code",
   "execution_count": 16,
   "id": "b6b36739-1dc6-4cd9-99fe-0bd60781a843",
   "metadata": {
    "execution": {
     "iopub.execute_input": "2024-08-28T13:58:37.681417Z",
     "iopub.status.busy": "2024-08-28T13:58:37.681051Z",
     "iopub.status.idle": "2024-08-28T13:58:37.687518Z",
     "shell.execute_reply": "2024-08-28T13:58:37.686425Z",
     "shell.execute_reply.started": "2024-08-28T13:58:37.681393Z"
    }
   },
   "outputs": [],
   "source": [
    "gwf.name_file.export_netcdf = \"ugrid\"\n",
    "gwf.nc_filerecord = None\n",
    "gwf.dis.export_array_netcdf = False\n",
    "gwf.ic.export_array_netcdf = True"
   ]
  },
  {
   "cell_type": "markdown",
   "id": "88fc9f44-e662-4213-ba4c-a26627c2c721",
   "metadata": {},
   "source": [
    "# Write the model files and run the model in validate mode"
   ]
  },
  {
   "cell_type": "code",
   "execution_count": 17,
   "id": "38399e16-13a8-46b0-bb66-c0be11768aa9",
   "metadata": {
    "execution": {
     "iopub.execute_input": "2024-08-28T13:58:39.953723Z",
     "iopub.status.busy": "2024-08-28T13:58:39.953356Z",
     "iopub.status.idle": "2024-08-28T13:58:39.961256Z",
     "shell.execute_reply": "2024-08-28T13:58:39.960015Z",
     "shell.execute_reply.started": "2024-08-28T13:58:39.953701Z"
    }
   },
   "outputs": [],
   "source": [
    "ws = pl.Path(\"temp/mesh\")\n",
    "sim.set_sim_path(ws)"
   ]
  },
  {
   "cell_type": "code",
   "execution_count": 18,
   "id": "98752f0f-542e-4369-b722-a2f57c39c617",
   "metadata": {
    "execution": {
     "iopub.execute_input": "2024-08-28T13:58:42.257383Z",
     "iopub.status.busy": "2024-08-28T13:58:42.257045Z",
     "iopub.status.idle": "2024-08-28T13:58:42.411138Z",
     "shell.execute_reply": "2024-08-28T13:58:42.410079Z",
     "shell.execute_reply.started": "2024-08-28T13:58:42.257364Z"
    }
   },
   "outputs": [
    {
     "name": "stdout",
     "output_type": "stream",
     "text": [
      "writing simulation...\n",
      "  writing simulation name file...\n",
      "  writing simulation tdis package...\n",
      "  writing solution package model...\n",
      "  writing model model...\n",
      "    writing model name file...\n",
      "    writing package dis...\n",
      "    writing package ic...\n",
      "    writing package npf...\n",
      "    writing package rcha_0...\n",
      "    writing package river...\n",
      "    writing package gwd...\n",
      "    writing package oc...\n"
     ]
    }
   ],
   "source": [
    "sim.write_simulation()"
   ]
  },
  {
   "cell_type": "code",
   "execution_count": 19,
   "id": "9d203db3-3014-4fb9-a7ac-7ac3c48aca70",
   "metadata": {
    "execution": {
     "iopub.execute_input": "2024-08-28T13:58:43.633621Z",
     "iopub.status.busy": "2024-08-28T13:58:43.633297Z",
     "iopub.status.idle": "2024-08-28T13:58:44.244082Z",
     "shell.execute_reply": "2024-08-28T13:58:44.242601Z",
     "shell.execute_reply.started": "2024-08-28T13:58:43.633601Z"
    }
   },
   "outputs": [
    {
     "name": "stdout",
     "output_type": "stream",
     "text": [
      "FloPy is using the following executable to run the model: ../../../../../../usgs/modflow6/bin/mf6\n",
      "\n",
      "mf6: MODFLOW 6 simulation mode VALIDATE. Model input will be checked for all\n",
      "stress periods but the matrix equations will not be assembled or solved.\n",
      "\n",
      "\n",
      "                               MODFLOW 6 EXTENDED\n",
      "                U.S. GEOLOGICAL SURVEY MODULAR HYDROLOGIC MODEL\n",
      "                  VERSION 6.6.0.dev0 (preliminary) 05/23/2024\n",
      "                               ***DEVELOP MODE***\n",
      "\n",
      "        MODFLOW 6 compiled Aug 27 2024 10:04:53 with GCC version 11.4.0\n",
      "\n",
      "This software is preliminary or provisional and is subject to \n",
      "revision. It is being provided to meet the need for timely best \n",
      "science. The software has not received final approval by the U.S. \n",
      "Geological Survey (USGS). No warranty, expressed or implied, is made \n",
      "by the USGS or the U.S. Government as to the functionality of the \n",
      "software and related material nor shall the fact of release \n",
      "constitute any such warranty. The software is provided on the \n",
      "condition that neither the USGS nor the U.S. Government shall be held \n",
      "liable for any damages resulting from the authorized or unauthorized \n",
      "use of the software.\n",
      "\n",
      "\n",
      " MODFLOW runs in SEQUENTIAL mode\n",
      "\n",
      " Run start date and time (yyyy/mm/dd hh:mm:ss): 2024/08/28  9:58:43\n",
      "\n",
      " Writing simulation list file: mfsim.lst\n",
      " Using Simulation name file: mfsim.nam\n",
      "\n",
      " Validating:  Stress period:     1    Time step:     1\n",
      "\n",
      " Run end date and time (yyyy/mm/dd hh:mm:ss): 2024/08/28  9:58:44\n",
      " Elapsed run time:  0.385 Seconds\n",
      "\n",
      " Normal termination of simulation.\n"
     ]
    },
    {
     "data": {
      "text/plain": [
       "(True, [])"
      ]
     },
     "execution_count": 19,
     "metadata": {},
     "output_type": "execute_result"
    }
   ],
   "source": [
    "cargs = [\"--mode\", \"validate\"]\n",
    "sim.run_simulation(cargs=cargs)"
   ]
  },
  {
   "cell_type": "markdown",
   "id": "3b4fbdaa-34eb-482d-b0f7-dc807e3bf161",
   "metadata": {},
   "source": [
    "# Load the mesh NetCDF file with `xugrid` and visualize `strt` layer 1"
   ]
  },
  {
   "cell_type": "code",
   "execution_count": 20,
   "id": "90111303-aa15-4efb-86ed-64f2b3b3b4f9",
   "metadata": {
    "execution": {
     "iopub.execute_input": "2024-08-28T13:58:47.465265Z",
     "iopub.status.busy": "2024-08-28T13:58:47.464949Z",
     "iopub.status.idle": "2024-08-28T13:58:47.491941Z",
     "shell.execute_reply": "2024-08-28T13:58:47.490512Z",
     "shell.execute_reply.started": "2024-08-28T13:58:47.465245Z"
    }
   },
   "outputs": [],
   "source": [
    "nc_ds = xu.open_dataset(ws / \"model.nc\")"
   ]
  },
  {
   "cell_type": "code",
   "execution_count": 21,
   "id": "deff8a2c-2252-4762-a2f7-2542bb9dce5e",
   "metadata": {
    "execution": {
     "iopub.execute_input": "2024-08-28T13:58:48.347757Z",
     "iopub.status.busy": "2024-08-28T13:58:48.347433Z",
     "iopub.status.idle": "2024-08-28T13:58:48.362418Z",
     "shell.execute_reply": "2024-08-28T13:58:48.361272Z",
     "shell.execute_reply.started": "2024-08-28T13:58:48.347737Z"
    }
   },
   "outputs": [
    {
     "data": {
      "text/html": [
       "<div><svg style=\"position: absolute; width: 0; height: 0; overflow: hidden\">\n",
       "<defs>\n",
       "<symbol id=\"icon-database\" viewBox=\"0 0 32 32\">\n",
       "<path d=\"M16 0c-8.837 0-16 2.239-16 5v4c0 2.761 7.163 5 16 5s16-2.239 16-5v-4c0-2.761-7.163-5-16-5z\"></path>\n",
       "<path d=\"M16 17c-8.837 0-16-2.239-16-5v6c0 2.761 7.163 5 16 5s16-2.239 16-5v-6c0 2.761-7.163 5-16 5z\"></path>\n",
       "<path d=\"M16 26c-8.837 0-16-2.239-16-5v6c0 2.761 7.163 5 16 5s16-2.239 16-5v-6c0 2.761-7.163 5-16 5z\"></path>\n",
       "</symbol>\n",
       "<symbol id=\"icon-file-text2\" viewBox=\"0 0 32 32\">\n",
       "<path d=\"M28.681 7.159c-0.694-0.947-1.662-2.053-2.724-3.116s-2.169-2.030-3.116-2.724c-1.612-1.182-2.393-1.319-2.841-1.319h-15.5c-1.378 0-2.5 1.121-2.5 2.5v27c0 1.378 1.122 2.5 2.5 2.5h23c1.378 0 2.5-1.122 2.5-2.5v-19.5c0-0.448-0.137-1.23-1.319-2.841zM24.543 5.457c0.959 0.959 1.712 1.825 2.268 2.543h-4.811v-4.811c0.718 0.556 1.584 1.309 2.543 2.268zM28 29.5c0 0.271-0.229 0.5-0.5 0.5h-23c-0.271 0-0.5-0.229-0.5-0.5v-27c0-0.271 0.229-0.5 0.5-0.5 0 0 15.499-0 15.5 0v7c0 0.552 0.448 1 1 1h7v19.5z\"></path>\n",
       "<path d=\"M23 26h-14c-0.552 0-1-0.448-1-1s0.448-1 1-1h14c0.552 0 1 0.448 1 1s-0.448 1-1 1z\"></path>\n",
       "<path d=\"M23 22h-14c-0.552 0-1-0.448-1-1s0.448-1 1-1h14c0.552 0 1 0.448 1 1s-0.448 1-1 1z\"></path>\n",
       "<path d=\"M23 18h-14c-0.552 0-1-0.448-1-1s0.448-1 1-1h14c0.552 0 1 0.448 1 1s-0.448 1-1 1z\"></path>\n",
       "</symbol>\n",
       "</defs>\n",
       "</svg>\n",
       "<style>/* CSS stylesheet for displaying xarray objects in jupyterlab.\n",
       " *\n",
       " */\n",
       "\n",
       ":root {\n",
       "  --xr-font-color0: var(--jp-content-font-color0, rgba(0, 0, 0, 1));\n",
       "  --xr-font-color2: var(--jp-content-font-color2, rgba(0, 0, 0, 0.54));\n",
       "  --xr-font-color3: var(--jp-content-font-color3, rgba(0, 0, 0, 0.38));\n",
       "  --xr-border-color: var(--jp-border-color2, #e0e0e0);\n",
       "  --xr-disabled-color: var(--jp-layout-color3, #bdbdbd);\n",
       "  --xr-background-color: var(--jp-layout-color0, white);\n",
       "  --xr-background-color-row-even: var(--jp-layout-color1, white);\n",
       "  --xr-background-color-row-odd: var(--jp-layout-color2, #eeeeee);\n",
       "}\n",
       "\n",
       "html[theme=dark],\n",
       "html[data-theme=dark],\n",
       "body[data-theme=dark],\n",
       "body.vscode-dark {\n",
       "  --xr-font-color0: rgba(255, 255, 255, 1);\n",
       "  --xr-font-color2: rgba(255, 255, 255, 0.54);\n",
       "  --xr-font-color3: rgba(255, 255, 255, 0.38);\n",
       "  --xr-border-color: #1F1F1F;\n",
       "  --xr-disabled-color: #515151;\n",
       "  --xr-background-color: #111111;\n",
       "  --xr-background-color-row-even: #111111;\n",
       "  --xr-background-color-row-odd: #313131;\n",
       "}\n",
       "\n",
       ".xr-wrap {\n",
       "  display: block !important;\n",
       "  min-width: 300px;\n",
       "  max-width: 700px;\n",
       "}\n",
       "\n",
       ".xr-text-repr-fallback {\n",
       "  /* fallback to plain text repr when CSS is not injected (untrusted notebook) */\n",
       "  display: none;\n",
       "}\n",
       "\n",
       ".xr-header {\n",
       "  padding-top: 6px;\n",
       "  padding-bottom: 6px;\n",
       "  margin-bottom: 4px;\n",
       "  border-bottom: solid 1px var(--xr-border-color);\n",
       "}\n",
       "\n",
       ".xr-header > div,\n",
       ".xr-header > ul {\n",
       "  display: inline;\n",
       "  margin-top: 0;\n",
       "  margin-bottom: 0;\n",
       "}\n",
       "\n",
       ".xr-obj-type,\n",
       ".xr-array-name {\n",
       "  margin-left: 2px;\n",
       "  margin-right: 10px;\n",
       "}\n",
       "\n",
       ".xr-obj-type {\n",
       "  color: var(--xr-font-color2);\n",
       "}\n",
       "\n",
       ".xr-sections {\n",
       "  padding-left: 0 !important;\n",
       "  display: grid;\n",
       "  grid-template-columns: 150px auto auto 1fr 20px 20px;\n",
       "}\n",
       "\n",
       ".xr-section-item {\n",
       "  display: contents;\n",
       "}\n",
       "\n",
       ".xr-section-item input {\n",
       "  display: none;\n",
       "}\n",
       "\n",
       ".xr-section-item input + label {\n",
       "  color: var(--xr-disabled-color);\n",
       "}\n",
       "\n",
       ".xr-section-item input:enabled + label {\n",
       "  cursor: pointer;\n",
       "  color: var(--xr-font-color2);\n",
       "}\n",
       "\n",
       ".xr-section-item input:enabled + label:hover {\n",
       "  color: var(--xr-font-color0);\n",
       "}\n",
       "\n",
       ".xr-section-summary {\n",
       "  grid-column: 1;\n",
       "  color: var(--xr-font-color2);\n",
       "  font-weight: 500;\n",
       "}\n",
       "\n",
       ".xr-section-summary > span {\n",
       "  display: inline-block;\n",
       "  padding-left: 0.5em;\n",
       "}\n",
       "\n",
       ".xr-section-summary-in:disabled + label {\n",
       "  color: var(--xr-font-color2);\n",
       "}\n",
       "\n",
       ".xr-section-summary-in + label:before {\n",
       "  display: inline-block;\n",
       "  content: '►';\n",
       "  font-size: 11px;\n",
       "  width: 15px;\n",
       "  text-align: center;\n",
       "}\n",
       "\n",
       ".xr-section-summary-in:disabled + label:before {\n",
       "  color: var(--xr-disabled-color);\n",
       "}\n",
       "\n",
       ".xr-section-summary-in:checked + label:before {\n",
       "  content: '▼';\n",
       "}\n",
       "\n",
       ".xr-section-summary-in:checked + label > span {\n",
       "  display: none;\n",
       "}\n",
       "\n",
       ".xr-section-summary,\n",
       ".xr-section-inline-details {\n",
       "  padding-top: 4px;\n",
       "  padding-bottom: 4px;\n",
       "}\n",
       "\n",
       ".xr-section-inline-details {\n",
       "  grid-column: 2 / -1;\n",
       "}\n",
       "\n",
       ".xr-section-details {\n",
       "  display: none;\n",
       "  grid-column: 1 / -1;\n",
       "  margin-bottom: 5px;\n",
       "}\n",
       "\n",
       ".xr-section-summary-in:checked ~ .xr-section-details {\n",
       "  display: contents;\n",
       "}\n",
       "\n",
       ".xr-array-wrap {\n",
       "  grid-column: 1 / -1;\n",
       "  display: grid;\n",
       "  grid-template-columns: 20px auto;\n",
       "}\n",
       "\n",
       ".xr-array-wrap > label {\n",
       "  grid-column: 1;\n",
       "  vertical-align: top;\n",
       "}\n",
       "\n",
       ".xr-preview {\n",
       "  color: var(--xr-font-color3);\n",
       "}\n",
       "\n",
       ".xr-array-preview,\n",
       ".xr-array-data {\n",
       "  padding: 0 5px !important;\n",
       "  grid-column: 2;\n",
       "}\n",
       "\n",
       ".xr-array-data,\n",
       ".xr-array-in:checked ~ .xr-array-preview {\n",
       "  display: none;\n",
       "}\n",
       "\n",
       ".xr-array-in:checked ~ .xr-array-data,\n",
       ".xr-array-preview {\n",
       "  display: inline-block;\n",
       "}\n",
       "\n",
       ".xr-dim-list {\n",
       "  display: inline-block !important;\n",
       "  list-style: none;\n",
       "  padding: 0 !important;\n",
       "  margin: 0;\n",
       "}\n",
       "\n",
       ".xr-dim-list li {\n",
       "  display: inline-block;\n",
       "  padding: 0;\n",
       "  margin: 0;\n",
       "}\n",
       "\n",
       ".xr-dim-list:before {\n",
       "  content: '(';\n",
       "}\n",
       "\n",
       ".xr-dim-list:after {\n",
       "  content: ')';\n",
       "}\n",
       "\n",
       ".xr-dim-list li:not(:last-child):after {\n",
       "  content: ',';\n",
       "  padding-right: 5px;\n",
       "}\n",
       "\n",
       ".xr-has-index {\n",
       "  font-weight: bold;\n",
       "}\n",
       "\n",
       ".xr-var-list,\n",
       ".xr-var-item {\n",
       "  display: contents;\n",
       "}\n",
       "\n",
       ".xr-var-item > div,\n",
       ".xr-var-item label,\n",
       ".xr-var-item > .xr-var-name span {\n",
       "  background-color: var(--xr-background-color-row-even);\n",
       "  margin-bottom: 0;\n",
       "}\n",
       "\n",
       ".xr-var-item > .xr-var-name:hover span {\n",
       "  padding-right: 5px;\n",
       "}\n",
       "\n",
       ".xr-var-list > li:nth-child(odd) > div,\n",
       ".xr-var-list > li:nth-child(odd) > label,\n",
       ".xr-var-list > li:nth-child(odd) > .xr-var-name span {\n",
       "  background-color: var(--xr-background-color-row-odd);\n",
       "}\n",
       "\n",
       ".xr-var-name {\n",
       "  grid-column: 1;\n",
       "}\n",
       "\n",
       ".xr-var-dims {\n",
       "  grid-column: 2;\n",
       "}\n",
       "\n",
       ".xr-var-dtype {\n",
       "  grid-column: 3;\n",
       "  text-align: right;\n",
       "  color: var(--xr-font-color2);\n",
       "}\n",
       "\n",
       ".xr-var-preview {\n",
       "  grid-column: 4;\n",
       "}\n",
       "\n",
       ".xr-index-preview {\n",
       "  grid-column: 2 / 5;\n",
       "  color: var(--xr-font-color2);\n",
       "}\n",
       "\n",
       ".xr-var-name,\n",
       ".xr-var-dims,\n",
       ".xr-var-dtype,\n",
       ".xr-preview,\n",
       ".xr-attrs dt {\n",
       "  white-space: nowrap;\n",
       "  overflow: hidden;\n",
       "  text-overflow: ellipsis;\n",
       "  padding-right: 10px;\n",
       "}\n",
       "\n",
       ".xr-var-name:hover,\n",
       ".xr-var-dims:hover,\n",
       ".xr-var-dtype:hover,\n",
       ".xr-attrs dt:hover {\n",
       "  overflow: visible;\n",
       "  width: auto;\n",
       "  z-index: 1;\n",
       "}\n",
       "\n",
       ".xr-var-attrs,\n",
       ".xr-var-data,\n",
       ".xr-index-data {\n",
       "  display: none;\n",
       "  background-color: var(--xr-background-color) !important;\n",
       "  padding-bottom: 5px !important;\n",
       "}\n",
       "\n",
       ".xr-var-attrs-in:checked ~ .xr-var-attrs,\n",
       ".xr-var-data-in:checked ~ .xr-var-data,\n",
       ".xr-index-data-in:checked ~ .xr-index-data {\n",
       "  display: block;\n",
       "}\n",
       "\n",
       ".xr-var-data > table {\n",
       "  float: right;\n",
       "}\n",
       "\n",
       ".xr-var-name span,\n",
       ".xr-var-data,\n",
       ".xr-index-name div,\n",
       ".xr-index-data,\n",
       ".xr-attrs {\n",
       "  padding-left: 25px !important;\n",
       "}\n",
       "\n",
       ".xr-attrs,\n",
       ".xr-var-attrs,\n",
       ".xr-var-data,\n",
       ".xr-index-data {\n",
       "  grid-column: 1 / -1;\n",
       "}\n",
       "\n",
       "dl.xr-attrs {\n",
       "  padding: 0;\n",
       "  margin: 0;\n",
       "  display: grid;\n",
       "  grid-template-columns: 125px auto;\n",
       "}\n",
       "\n",
       ".xr-attrs dt,\n",
       ".xr-attrs dd {\n",
       "  padding: 0;\n",
       "  margin: 0;\n",
       "  float: left;\n",
       "  padding-right: 10px;\n",
       "  width: auto;\n",
       "}\n",
       "\n",
       ".xr-attrs dt {\n",
       "  font-weight: normal;\n",
       "  grid-column: 1;\n",
       "}\n",
       "\n",
       ".xr-attrs dt:hover span {\n",
       "  display: inline-block;\n",
       "  background: var(--xr-background-color);\n",
       "  padding-right: 10px;\n",
       "}\n",
       "\n",
       ".xr-attrs dd {\n",
       "  grid-column: 2;\n",
       "  white-space: pre-wrap;\n",
       "  word-break: break-all;\n",
       "}\n",
       "\n",
       ".xr-icon-database,\n",
       ".xr-icon-file-text2,\n",
       ".xr-no-icon {\n",
       "  display: inline-block;\n",
       "  vertical-align: middle;\n",
       "  width: 1em;\n",
       "  height: 1.5em !important;\n",
       "  stroke-width: 0;\n",
       "  stroke: currentColor;\n",
       "  fill: currentColor;\n",
       "}\n",
       "</style><pre class='xr-text-repr-fallback'>&lt;xarray.Dataset&gt; Size: 458kB\n",
       "Dimensions:          (nmesh_node: 3108, nmesh_face: 2993,\n",
       "                      max_nmesh_face_nodes: 4)\n",
       "Coordinates:\n",
       "  * nmesh_face       (nmesh_face) int64 24kB 0 1 2 3 4 ... 2989 2990 2991 2992\n",
       "  * nmesh_node       (nmesh_node) int64 25kB 0 1 2 3 4 ... 3104 3105 3106 3107\n",
       "Dimensions without coordinates: max_nmesh_face_nodes\n",
       "Data variables:\n",
       "    mesh_node_x      (nmesh_node) float64 25kB ...\n",
       "    mesh_node_y      (nmesh_node) float64 25kB ...\n",
       "    mesh_face_x      (nmesh_face) float64 24kB ...\n",
       "    mesh_face_xbnds  (nmesh_face, max_nmesh_face_nodes) float64 96kB ...\n",
       "    mesh_face_y      (nmesh_face) float64 24kB ...\n",
       "    mesh_face_ybnds  (nmesh_face, max_nmesh_face_nodes) float64 96kB ...\n",
       "    ic_strt_l1       (nmesh_face) float64 24kB ...\n",
       "    ic_strt_l2       (nmesh_face) float64 24kB ...\n",
       "    ic_strt_l3       (nmesh_face) float64 24kB ...\n",
       "    ic_strt_l4       (nmesh_face) float64 24kB ...\n",
       "    ic_strt_l5       (nmesh_face) float64 24kB ...\n",
       "Attributes:\n",
       "    title:           MODEL hydraulic head\n",
       "    source:          MODFLOW 6 6.6.0.dev0 (preliminary) 05/23/2024\n",
       "    modflow6_grid:   LAYERED MESH\n",
       "    modflow6_model:  MODEL: MODFLOW 6 Groundwater Flow (GWF) model\n",
       "    history:         first created 2024/8/28 9:58:43.897\n",
       "    Conventions:     CF-1.11 UGRID-1.0</pre><div class='xr-wrap' style='display:none'><div class='xr-header'><div class='xr-obj-type'>xarray.Dataset</div></div><ul class='xr-sections'><li class='xr-section-item'><input id='section-4dacb848-8f41-41d7-99e4-07b390175ba0' class='xr-section-summary-in' type='checkbox' disabled ><label for='section-4dacb848-8f41-41d7-99e4-07b390175ba0' class='xr-section-summary'  title='Expand/collapse section'>Dimensions:</label><div class='xr-section-inline-details'><ul class='xr-dim-list'><li><span class='xr-has-index'>nmesh_node</span>: 3108</li><li><span class='xr-has-index'>nmesh_face</span>: 2993</li><li><span>max_nmesh_face_nodes</span>: 4</li></ul></div><div class='xr-section-details'></div></li><li class='xr-section-item'><input id='section-b6342043-e667-4a21-9d08-adc064b2dfaf' class='xr-section-summary-in' type='checkbox'  checked><label for='section-b6342043-e667-4a21-9d08-adc064b2dfaf' class='xr-section-summary' >Coordinates: <span>(2)</span></label><div class='xr-section-inline-details'></div><div class='xr-section-details'><ul class='xr-var-list'><li class='xr-var-item'><div class='xr-var-name'><span class='xr-has-index'>nmesh_face</span></div><div class='xr-var-dims'>(nmesh_face)</div><div class='xr-var-dtype'>int64</div><div class='xr-var-preview xr-preview'>0 1 2 3 4 ... 2989 2990 2991 2992</div><input id='attrs-bea026e4-bd9c-4fe7-a3ed-57291fc4f161' class='xr-var-attrs-in' type='checkbox' disabled><label for='attrs-bea026e4-bd9c-4fe7-a3ed-57291fc4f161' title='Show/Hide attributes'><svg class='icon xr-icon-file-text2'><use xlink:href='#icon-file-text2'></use></svg></label><input id='data-b40cbd96-d6d6-4dc5-8ebf-f9228012a590' class='xr-var-data-in' type='checkbox'><label for='data-b40cbd96-d6d6-4dc5-8ebf-f9228012a590' title='Show/Hide data repr'><svg class='icon xr-icon-database'><use xlink:href='#icon-database'></use></svg></label><div class='xr-var-attrs'><dl class='xr-attrs'></dl></div><div class='xr-var-data'><pre>array([   0,    1,    2, ..., 2990, 2991, 2992])</pre></div></li><li class='xr-var-item'><div class='xr-var-name'><span class='xr-has-index'>nmesh_node</span></div><div class='xr-var-dims'>(nmesh_node)</div><div class='xr-var-dtype'>int64</div><div class='xr-var-preview xr-preview'>0 1 2 3 4 ... 3104 3105 3106 3107</div><input id='attrs-a883ed2a-4a6b-4fd2-a26e-28e879100eb1' class='xr-var-attrs-in' type='checkbox' disabled><label for='attrs-a883ed2a-4a6b-4fd2-a26e-28e879100eb1' title='Show/Hide attributes'><svg class='icon xr-icon-file-text2'><use xlink:href='#icon-file-text2'></use></svg></label><input id='data-118ed11d-849c-4c39-9f16-d727bec4312f' class='xr-var-data-in' type='checkbox'><label for='data-118ed11d-849c-4c39-9f16-d727bec4312f' title='Show/Hide data repr'><svg class='icon xr-icon-database'><use xlink:href='#icon-database'></use></svg></label><div class='xr-var-attrs'><dl class='xr-attrs'></dl></div><div class='xr-var-data'><pre>array([   0,    1,    2, ..., 3105, 3106, 3107])</pre></div></li></ul></div></li><li class='xr-section-item'><input id='section-50ebf125-d764-4619-bdaf-8d47f6007748' class='xr-section-summary-in' type='checkbox'  checked><label for='section-50ebf125-d764-4619-bdaf-8d47f6007748' class='xr-section-summary' >Data variables: <span>(11)</span></label><div class='xr-section-inline-details'></div><div class='xr-section-details'><ul class='xr-var-list'><li class='xr-var-item'><div class='xr-var-name'><span>mesh_node_x</span></div><div class='xr-var-dims'>(nmesh_node)</div><div class='xr-var-dtype'>float64</div><div class='xr-var-preview xr-preview'>...</div><input id='attrs-cb3a43f2-9f66-4275-b426-bd216f774cd5' class='xr-var-attrs-in' type='checkbox' ><label for='attrs-cb3a43f2-9f66-4275-b426-bd216f774cd5' title='Show/Hide attributes'><svg class='icon xr-icon-file-text2'><use xlink:href='#icon-file-text2'></use></svg></label><input id='data-9ce81f6b-28c6-44b6-92bf-b0a74b98af27' class='xr-var-data-in' type='checkbox'><label for='data-9ce81f6b-28c6-44b6-92bf-b0a74b98af27' title='Show/Hide data repr'><svg class='icon xr-icon-database'><use xlink:href='#icon-database'></use></svg></label><div class='xr-var-attrs'><dl class='xr-attrs'><dt><span>units :</span></dt><dd>m</dd><dt><span>standard_name :</span></dt><dd>projection_x_coordinate</dd><dt><span>long_name :</span></dt><dd>Easting</dd></dl></div><div class='xr-var-data'><pre>[3108 values with dtype=float64]</pre></div></li><li class='xr-var-item'><div class='xr-var-name'><span>mesh_node_y</span></div><div class='xr-var-dims'>(nmesh_node)</div><div class='xr-var-dtype'>float64</div><div class='xr-var-preview xr-preview'>...</div><input id='attrs-5475918f-d175-4fea-a7ee-acbd8ce68b98' class='xr-var-attrs-in' type='checkbox' ><label for='attrs-5475918f-d175-4fea-a7ee-acbd8ce68b98' title='Show/Hide attributes'><svg class='icon xr-icon-file-text2'><use xlink:href='#icon-file-text2'></use></svg></label><input id='data-2d1e0796-7796-48c7-9aea-bcf7cb8e3313' class='xr-var-data-in' type='checkbox'><label for='data-2d1e0796-7796-48c7-9aea-bcf7cb8e3313' title='Show/Hide data repr'><svg class='icon xr-icon-database'><use xlink:href='#icon-database'></use></svg></label><div class='xr-var-attrs'><dl class='xr-attrs'><dt><span>units :</span></dt><dd>m</dd><dt><span>standard_name :</span></dt><dd>projection_y_coordinate</dd><dt><span>long_name :</span></dt><dd>Northing</dd></dl></div><div class='xr-var-data'><pre>[3108 values with dtype=float64]</pre></div></li><li class='xr-var-item'><div class='xr-var-name'><span>mesh_face_x</span></div><div class='xr-var-dims'>(nmesh_face)</div><div class='xr-var-dtype'>float64</div><div class='xr-var-preview xr-preview'>...</div><input id='attrs-0fd3629c-23eb-4b24-b5a8-7a1ee5baab45' class='xr-var-attrs-in' type='checkbox' ><label for='attrs-0fd3629c-23eb-4b24-b5a8-7a1ee5baab45' title='Show/Hide attributes'><svg class='icon xr-icon-file-text2'><use xlink:href='#icon-file-text2'></use></svg></label><input id='data-d2452706-b502-49db-bbf5-b852fef401ca' class='xr-var-data-in' type='checkbox'><label for='data-d2452706-b502-49db-bbf5-b852fef401ca' title='Show/Hide data repr'><svg class='icon xr-icon-database'><use xlink:href='#icon-database'></use></svg></label><div class='xr-var-attrs'><dl class='xr-attrs'><dt><span>units :</span></dt><dd>m</dd><dt><span>standard_name :</span></dt><dd>projection_x_coordinate</dd><dt><span>long_name :</span></dt><dd>Easting</dd><dt><span>bounds :</span></dt><dd>mesh_face_xbnds</dd></dl></div><div class='xr-var-data'><pre>[2993 values with dtype=float64]</pre></div></li><li class='xr-var-item'><div class='xr-var-name'><span>mesh_face_xbnds</span></div><div class='xr-var-dims'>(nmesh_face, max_nmesh_face_nodes)</div><div class='xr-var-dtype'>float64</div><div class='xr-var-preview xr-preview'>...</div><input id='attrs-403b2be6-79b7-449e-a18b-2e3747e2aa3f' class='xr-var-attrs-in' type='checkbox' disabled><label for='attrs-403b2be6-79b7-449e-a18b-2e3747e2aa3f' title='Show/Hide attributes'><svg class='icon xr-icon-file-text2'><use xlink:href='#icon-file-text2'></use></svg></label><input id='data-1285b7bd-6db1-4ca5-9756-b2ce463a59a9' class='xr-var-data-in' type='checkbox'><label for='data-1285b7bd-6db1-4ca5-9756-b2ce463a59a9' title='Show/Hide data repr'><svg class='icon xr-icon-database'><use xlink:href='#icon-database'></use></svg></label><div class='xr-var-attrs'><dl class='xr-attrs'></dl></div><div class='xr-var-data'><pre>[11972 values with dtype=float64]</pre></div></li><li class='xr-var-item'><div class='xr-var-name'><span>mesh_face_y</span></div><div class='xr-var-dims'>(nmesh_face)</div><div class='xr-var-dtype'>float64</div><div class='xr-var-preview xr-preview'>...</div><input id='attrs-6ba3d370-28f1-4c00-a607-24fa81d23fc9' class='xr-var-attrs-in' type='checkbox' ><label for='attrs-6ba3d370-28f1-4c00-a607-24fa81d23fc9' title='Show/Hide attributes'><svg class='icon xr-icon-file-text2'><use xlink:href='#icon-file-text2'></use></svg></label><input id='data-cbb11290-d408-4153-be2f-5883a3f8ce3e' class='xr-var-data-in' type='checkbox'><label for='data-cbb11290-d408-4153-be2f-5883a3f8ce3e' title='Show/Hide data repr'><svg class='icon xr-icon-database'><use xlink:href='#icon-database'></use></svg></label><div class='xr-var-attrs'><dl class='xr-attrs'><dt><span>units :</span></dt><dd>m</dd><dt><span>standard_name :</span></dt><dd>projection_y_coordinate</dd><dt><span>long_name :</span></dt><dd>Northing</dd><dt><span>bounds :</span></dt><dd>mesh_face_ybnds</dd></dl></div><div class='xr-var-data'><pre>[2993 values with dtype=float64]</pre></div></li><li class='xr-var-item'><div class='xr-var-name'><span>mesh_face_ybnds</span></div><div class='xr-var-dims'>(nmesh_face, max_nmesh_face_nodes)</div><div class='xr-var-dtype'>float64</div><div class='xr-var-preview xr-preview'>...</div><input id='attrs-b58458b0-33af-49cb-9f56-f9391ce32288' class='xr-var-attrs-in' type='checkbox' disabled><label for='attrs-b58458b0-33af-49cb-9f56-f9391ce32288' title='Show/Hide attributes'><svg class='icon xr-icon-file-text2'><use xlink:href='#icon-file-text2'></use></svg></label><input id='data-bc59dc97-773e-458f-afb4-4f57f76f5509' class='xr-var-data-in' type='checkbox'><label for='data-bc59dc97-773e-458f-afb4-4f57f76f5509' title='Show/Hide data repr'><svg class='icon xr-icon-database'><use xlink:href='#icon-database'></use></svg></label><div class='xr-var-attrs'><dl class='xr-attrs'></dl></div><div class='xr-var-data'><pre>[11972 values with dtype=float64]</pre></div></li><li class='xr-var-item'><div class='xr-var-name'><span>ic_strt_l1</span></div><div class='xr-var-dims'>(nmesh_face)</div><div class='xr-var-dtype'>float64</div><div class='xr-var-preview xr-preview'>...</div><input id='attrs-dcc3eff6-8311-49a6-8634-04deebcc70af' class='xr-var-attrs-in' type='checkbox' ><label for='attrs-dcc3eff6-8311-49a6-8634-04deebcc70af' title='Show/Hide attributes'><svg class='icon xr-icon-file-text2'><use xlink:href='#icon-file-text2'></use></svg></label><input id='data-9d8fe582-cd3c-4552-944a-8beecaf8ebe0' class='xr-var-data-in' type='checkbox'><label for='data-9d8fe582-cd3c-4552-944a-8beecaf8ebe0' title='Show/Hide data repr'><svg class='icon xr-icon-database'><use xlink:href='#icon-database'></use></svg></label><div class='xr-var-attrs'><dl class='xr-attrs'><dt><span>long_name :</span></dt><dd>starting head (layer 1)</dd><dt><span>modflow6_input :</span></dt><dd>MODEL/IC/STRT</dd><dt><span>modflow6_layer :</span></dt><dd>1</dd></dl></div><div class='xr-var-data'><pre>[2993 values with dtype=float64]</pre></div></li><li class='xr-var-item'><div class='xr-var-name'><span>ic_strt_l2</span></div><div class='xr-var-dims'>(nmesh_face)</div><div class='xr-var-dtype'>float64</div><div class='xr-var-preview xr-preview'>...</div><input id='attrs-6aac04eb-5ff1-4861-bcdb-c74ea27bdd29' class='xr-var-attrs-in' type='checkbox' ><label for='attrs-6aac04eb-5ff1-4861-bcdb-c74ea27bdd29' title='Show/Hide attributes'><svg class='icon xr-icon-file-text2'><use xlink:href='#icon-file-text2'></use></svg></label><input id='data-dbdbcbfb-b242-4aa0-b87f-1f72e8e8c055' class='xr-var-data-in' type='checkbox'><label for='data-dbdbcbfb-b242-4aa0-b87f-1f72e8e8c055' title='Show/Hide data repr'><svg class='icon xr-icon-database'><use xlink:href='#icon-database'></use></svg></label><div class='xr-var-attrs'><dl class='xr-attrs'><dt><span>long_name :</span></dt><dd>starting head (layer 2)</dd><dt><span>modflow6_input :</span></dt><dd>MODEL/IC/STRT</dd><dt><span>modflow6_layer :</span></dt><dd>2</dd></dl></div><div class='xr-var-data'><pre>[2993 values with dtype=float64]</pre></div></li><li class='xr-var-item'><div class='xr-var-name'><span>ic_strt_l3</span></div><div class='xr-var-dims'>(nmesh_face)</div><div class='xr-var-dtype'>float64</div><div class='xr-var-preview xr-preview'>...</div><input id='attrs-c2a48e7b-fbef-4ed2-b6e4-b1fcc6177c2a' class='xr-var-attrs-in' type='checkbox' ><label for='attrs-c2a48e7b-fbef-4ed2-b6e4-b1fcc6177c2a' title='Show/Hide attributes'><svg class='icon xr-icon-file-text2'><use xlink:href='#icon-file-text2'></use></svg></label><input id='data-b3512345-e62d-4074-bc02-891f235f3c70' class='xr-var-data-in' type='checkbox'><label for='data-b3512345-e62d-4074-bc02-891f235f3c70' title='Show/Hide data repr'><svg class='icon xr-icon-database'><use xlink:href='#icon-database'></use></svg></label><div class='xr-var-attrs'><dl class='xr-attrs'><dt><span>long_name :</span></dt><dd>starting head (layer 3)</dd><dt><span>modflow6_input :</span></dt><dd>MODEL/IC/STRT</dd><dt><span>modflow6_layer :</span></dt><dd>3</dd></dl></div><div class='xr-var-data'><pre>[2993 values with dtype=float64]</pre></div></li><li class='xr-var-item'><div class='xr-var-name'><span>ic_strt_l4</span></div><div class='xr-var-dims'>(nmesh_face)</div><div class='xr-var-dtype'>float64</div><div class='xr-var-preview xr-preview'>...</div><input id='attrs-84a1a807-4144-4b76-8c5e-05f272445f31' class='xr-var-attrs-in' type='checkbox' ><label for='attrs-84a1a807-4144-4b76-8c5e-05f272445f31' title='Show/Hide attributes'><svg class='icon xr-icon-file-text2'><use xlink:href='#icon-file-text2'></use></svg></label><input id='data-99e63427-e580-423b-b74c-63f83eec0b38' class='xr-var-data-in' type='checkbox'><label for='data-99e63427-e580-423b-b74c-63f83eec0b38' title='Show/Hide data repr'><svg class='icon xr-icon-database'><use xlink:href='#icon-database'></use></svg></label><div class='xr-var-attrs'><dl class='xr-attrs'><dt><span>long_name :</span></dt><dd>starting head (layer 4)</dd><dt><span>modflow6_input :</span></dt><dd>MODEL/IC/STRT</dd><dt><span>modflow6_layer :</span></dt><dd>4</dd></dl></div><div class='xr-var-data'><pre>[2993 values with dtype=float64]</pre></div></li><li class='xr-var-item'><div class='xr-var-name'><span>ic_strt_l5</span></div><div class='xr-var-dims'>(nmesh_face)</div><div class='xr-var-dtype'>float64</div><div class='xr-var-preview xr-preview'>...</div><input id='attrs-0f9a79e3-22d6-4733-99e9-94bfb398c4c6' class='xr-var-attrs-in' type='checkbox' ><label for='attrs-0f9a79e3-22d6-4733-99e9-94bfb398c4c6' title='Show/Hide attributes'><svg class='icon xr-icon-file-text2'><use xlink:href='#icon-file-text2'></use></svg></label><input id='data-75adb61e-3386-4412-aa5b-98a43881f026' class='xr-var-data-in' type='checkbox'><label for='data-75adb61e-3386-4412-aa5b-98a43881f026' title='Show/Hide data repr'><svg class='icon xr-icon-database'><use xlink:href='#icon-database'></use></svg></label><div class='xr-var-attrs'><dl class='xr-attrs'><dt><span>long_name :</span></dt><dd>starting head (layer 5)</dd><dt><span>modflow6_input :</span></dt><dd>MODEL/IC/STRT</dd><dt><span>modflow6_layer :</span></dt><dd>5</dd></dl></div><div class='xr-var-data'><pre>[2993 values with dtype=float64]</pre></div></li></ul></div></li><li class='xr-section-item'><input id='section-f5eb2525-a662-4e76-b21c-7b6143e6d553' class='xr-section-summary-in' type='checkbox'  ><label for='section-f5eb2525-a662-4e76-b21c-7b6143e6d553' class='xr-section-summary' >Indexes: <span>(2)</span></label><div class='xr-section-inline-details'></div><div class='xr-section-details'><ul class='xr-var-list'><li class='xr-var-item'><div class='xr-index-name'><div>nmesh_face</div></div><div class='xr-index-preview'>PandasIndex</div><div></div><input id='index-37b426a8-4748-4588-817d-f02f551b56cb' class='xr-index-data-in' type='checkbox'/><label for='index-37b426a8-4748-4588-817d-f02f551b56cb' title='Show/Hide index repr'><svg class='icon xr-icon-database'><use xlink:href='#icon-database'></use></svg></label><div class='xr-index-data'><pre>PandasIndex(RangeIndex(start=0, stop=2993, step=1, name=&#x27;nmesh_face&#x27;))</pre></div></li><li class='xr-var-item'><div class='xr-index-name'><div>nmesh_node</div></div><div class='xr-index-preview'>PandasIndex</div><div></div><input id='index-8e87616c-aab9-4d0e-ab03-b6e704cce385' class='xr-index-data-in' type='checkbox'/><label for='index-8e87616c-aab9-4d0e-ab03-b6e704cce385' title='Show/Hide index repr'><svg class='icon xr-icon-database'><use xlink:href='#icon-database'></use></svg></label><div class='xr-index-data'><pre>PandasIndex(RangeIndex(start=0, stop=3108, step=1, name=&#x27;nmesh_node&#x27;))</pre></div></li></ul></div></li><li class='xr-section-item'><input id='section-864d87f3-a6af-46a1-9b52-acf1f6ffde4d' class='xr-section-summary-in' type='checkbox'  checked><label for='section-864d87f3-a6af-46a1-9b52-acf1f6ffde4d' class='xr-section-summary' >Attributes: <span>(6)</span></label><div class='xr-section-inline-details'></div><div class='xr-section-details'><dl class='xr-attrs'><dt><span>title :</span></dt><dd>MODEL hydraulic head</dd><dt><span>source :</span></dt><dd>MODFLOW 6 6.6.0.dev0 (preliminary) 05/23/2024</dd><dt><span>modflow6_grid :</span></dt><dd>LAYERED MESH</dd><dt><span>modflow6_model :</span></dt><dd>MODEL: MODFLOW 6 Groundwater Flow (GWF) model</dd><dt><span>history :</span></dt><dd>first created 2024/8/28 9:58:43.897</dd><dt><span>Conventions :</span></dt><dd>CF-1.11 UGRID-1.0</dd></dl></div></li></ul></div></div>"
      ],
      "text/plain": [
       "<xarray.Dataset> Size: 458kB\n",
       "Dimensions:          (nmesh_node: 3108, nmesh_face: 2993,\n",
       "                      max_nmesh_face_nodes: 4)\n",
       "Coordinates:\n",
       "  * nmesh_face       (nmesh_face) int64 24kB 0 1 2 3 4 ... 2989 2990 2991 2992\n",
       "  * nmesh_node       (nmesh_node) int64 25kB 0 1 2 3 4 ... 3104 3105 3106 3107\n",
       "Dimensions without coordinates: max_nmesh_face_nodes\n",
       "Data variables:\n",
       "    mesh_node_x      (nmesh_node) float64 25kB ...\n",
       "    mesh_node_y      (nmesh_node) float64 25kB ...\n",
       "    mesh_face_x      (nmesh_face) float64 24kB ...\n",
       "    mesh_face_xbnds  (nmesh_face, max_nmesh_face_nodes) float64 96kB ...\n",
       "    mesh_face_y      (nmesh_face) float64 24kB ...\n",
       "    mesh_face_ybnds  (nmesh_face, max_nmesh_face_nodes) float64 96kB ...\n",
       "    ic_strt_l1       (nmesh_face) float64 24kB ...\n",
       "    ic_strt_l2       (nmesh_face) float64 24kB ...\n",
       "    ic_strt_l3       (nmesh_face) float64 24kB ...\n",
       "    ic_strt_l4       (nmesh_face) float64 24kB ...\n",
       "    ic_strt_l5       (nmesh_face) float64 24kB ...\n",
       "Attributes:\n",
       "    title:           MODEL hydraulic head\n",
       "    source:          MODFLOW 6 6.6.0.dev0 (preliminary) 05/23/2024\n",
       "    modflow6_grid:   LAYERED MESH\n",
       "    modflow6_model:  MODEL: MODFLOW 6 Groundwater Flow (GWF) model\n",
       "    history:         first created 2024/8/28 9:58:43.897\n",
       "    Conventions:     CF-1.11 UGRID-1.0"
      ]
     },
     "execution_count": 21,
     "metadata": {},
     "output_type": "execute_result"
    }
   ],
   "source": [
    "nc_ds"
   ]
  },
  {
   "cell_type": "code",
   "execution_count": 22,
   "id": "3b9a827b-dd32-4b3a-9d7b-fbee42b6489f",
   "metadata": {
    "execution": {
     "iopub.execute_input": "2024-08-28T13:58:49.625153Z",
     "iopub.status.busy": "2024-08-28T13:58:49.624768Z",
     "iopub.status.idle": "2024-08-28T13:58:49.795810Z",
     "shell.execute_reply": "2024-08-28T13:58:49.794382Z",
     "shell.execute_reply.started": "2024-08-28T13:58:49.625131Z"
    }
   },
   "outputs": [
    {
     "data": {
      "image/png": "[encoded data removed]",
      "text/plain": [
       "<Figure size 640x480 with 2 Axes>"
      ]
     },
     "metadata": {},
     "output_type": "display_data"
    }
   ],
   "source": [
    "nc_ds[\"ic_strt_l1\"].isel().ugrid.plot()\n",
    "plt.gca().set_aspect(1.0)\n",
    "plt.show(block=False)"
   ]
  },
  {
   "cell_type": "markdown",
   "id": "73f61c64-eb03-48ee-811c-80b20ca2ccfb",
   "metadata": {},
   "source": [
    "# Deactivate NetCDF export and activate NetCDF import."
   ]
  },
  {
   "cell_type": "code",
   "execution_count": 23,
   "id": "e4a640e4-5076-4e14-bb5c-0e8b3c651773",
   "metadata": {
    "execution": {
     "iopub.execute_input": "2024-08-28T13:58:54.729071Z",
     "iopub.status.busy": "2024-08-28T13:58:54.728765Z",
     "iopub.status.idle": "2024-08-28T13:58:54.733563Z",
     "shell.execute_reply": "2024-08-28T13:58:54.732502Z",
     "shell.execute_reply.started": "2024-08-28T13:58:54.729051Z"
    }
   },
   "outputs": [],
   "source": [
    "# update model for netcdf input\n",
    "gwf.export_netcdf = None\n",
    "gwf.nc_filerecord = \"model.nc\""
   ]
  },
  {
   "cell_type": "markdown",
   "id": "d75f5fce-8619-44f0-8d65-3d32022b8c09",
   "metadata": {},
   "source": [
    "# Write the simulation and the overwrite the IC package to specify gridded arrays should be read from NetCDF."
   ]
  },
  {
   "cell_type": "code",
   "execution_count": 24,
   "id": "eb87db95-f52b-4aa4-a422-cb53449e5445",
   "metadata": {
    "execution": {
     "iopub.execute_input": "2024-08-28T13:58:56.779898Z",
     "iopub.status.busy": "2024-08-28T13:58:56.779530Z",
     "iopub.status.idle": "2024-08-28T13:58:56.924911Z",
     "shell.execute_reply": "2024-08-28T13:58:56.923890Z",
     "shell.execute_reply.started": "2024-08-28T13:58:56.779876Z"
    }
   },
   "outputs": [
    {
     "name": "stdout",
     "output_type": "stream",
     "text": [
      "writing simulation...\n",
      "  writing simulation name file...\n",
      "  writing simulation tdis package...\n",
      "  writing solution package model...\n",
      "  writing model model...\n",
      "    writing model name file...\n",
      "    writing package dis...\n",
      "    writing package ic...\n",
      "    writing package npf...\n",
      "    writing package rcha_0...\n",
      "    writing package river...\n",
      "    writing package gwd...\n",
      "    writing package oc...\n"
     ]
    }
   ],
   "source": [
    "sim.write_simulation()"
   ]
  },
  {
   "cell_type": "code",
   "execution_count": 25,
   "id": "c7735576-6018-4c0b-b49b-c595175e8c85",
   "metadata": {
    "execution": {
     "iopub.execute_input": "2024-08-28T13:58:58.569571Z",
     "iopub.status.busy": "2024-08-28T13:58:58.569241Z",
     "iopub.status.idle": "2024-08-28T13:58:58.574204Z",
     "shell.execute_reply": "2024-08-28T13:58:58.573246Z",
     "shell.execute_reply.started": "2024-08-28T13:58:58.569550Z"
    }
   },
   "outputs": [],
   "source": [
    "with open(ws / \"model.ic\", \"w\") as f:\n",
    "    f.write(\"BEGIN options\\n\")\n",
    "    f.write(\"END options\\n\\n\")\n",
    "    f.write(\"BEGIN griddata\\n\")\n",
    "    f.write(\"  strt NETCDF\\n\")\n",
    "    f.write(\"END griddata\\n\\n\")"
   ]
  },
  {
   "cell_type": "markdown",
   "id": "53eaf0e9-1036-48ab-8ab8-5c05beff33d5",
   "metadata": {},
   "source": [
    "# Run the simulation."
   ]
  },
  {
   "cell_type": "code",
   "execution_count": 26,
   "id": "48760a6e-2736-474d-85b2-88fd06b9db2b",
   "metadata": {
    "execution": {
     "iopub.execute_input": "2024-08-28T13:59:00.962166Z",
     "iopub.status.busy": "2024-08-28T13:59:00.961787Z",
     "iopub.status.idle": "2024-08-28T13:59:01.481680Z",
     "shell.execute_reply": "2024-08-28T13:59:01.480377Z",
     "shell.execute_reply.started": "2024-08-28T13:59:00.962144Z"
    }
   },
   "outputs": [
    {
     "name": "stdout",
     "output_type": "stream",
     "text": [
      "FloPy is using the following executable to run the model: ../../../../../../usgs/modflow6/bin/mf6\n",
      "                               MODFLOW 6 EXTENDED\n",
      "                U.S. GEOLOGICAL SURVEY MODULAR HYDROLOGIC MODEL\n",
      "                  VERSION 6.6.0.dev0 (preliminary) 05/23/2024\n",
      "                               ***DEVELOP MODE***\n",
      "\n",
      "        MODFLOW 6 compiled Aug 27 2024 10:04:53 with GCC version 11.4.0\n",
      "\n",
      "This software is preliminary or provisional and is subject to \n",
      "revision. It is being provided to meet the need for timely best \n",
      "science. The software has not received final approval by the U.S. \n",
      "Geological Survey (USGS). No warranty, expressed or implied, is made \n",
      "by the USGS or the U.S. Government as to the functionality of the \n",
      "software and related material nor shall the fact of release \n",
      "constitute any such warranty. The software is provided on the \n",
      "condition that neither the USGS nor the U.S. Government shall be held \n",
      "liable for any damages resulting from the authorized or unauthorized \n",
      "use of the software.\n",
      "\n",
      "\n",
      " MODFLOW runs in SEQUENTIAL mode\n",
      "\n",
      " Run start date and time (yyyy/mm/dd hh:mm:ss): 2024/08/28  9:59:01\n",
      "\n",
      " Writing simulation list file: mfsim.lst\n",
      " Using Simulation name file: mfsim.nam\n",
      "\n",
      "    Solving:  Stress period:     1    Time step:     1\n",
      "\n",
      " Run end date and time (yyyy/mm/dd hh:mm:ss): 2024/08/28  9:59:01\n",
      " Elapsed run time:  0.381 Seconds\n",
      "\n",
      " Normal termination of simulation.\n"
     ]
    },
    {
     "data": {
      "text/plain": [
       "(True, [])"
      ]
     },
     "execution_count": 26,
     "metadata": {},
     "output_type": "execute_result"
    }
   ],
   "source": [
    "sim.run_simulation()"
   ]
  },
  {
   "cell_type": "code",
   "execution_count": null,
   "id": "7d48fceb-20ce-42aa-b674-a16bab698e7a",
   "metadata": {},
   "outputs": [],
   "source": []
  },
  {
   "cell_type": "code",
   "execution_count": null,
   "id": "4f3de27a-bb47-41c3-84fc-375dafea4712",
   "metadata": {},
   "outputs": [],
   "source": []
  }
 ],
 "metadata": {
  "kernelspec": {
   "display_name": "Python 3 (ipykernel)",
   "language": "python",
   "name": "python3"
  },
  "language_info": {
   "codemirror_mode": {
    "name": "ipython",
    "version": 3
   },
   "file_extension": ".py",
   "mimetype": "text/x-python",
   "name": "python",
   "nbconvert_exporter": "python",
   "pygments_lexer": "ipython3",
   "version": "3.12.5"
  }
 },
 "nbformat": 4,
 "nbformat_minor": 5
}
