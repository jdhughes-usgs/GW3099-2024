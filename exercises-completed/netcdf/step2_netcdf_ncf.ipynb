{
 "cells": [
  {
   "cell_type": "markdown",
   "id": "b1fcf2cf-08e4-4613-8429-5e5fc3458e9f",
   "metadata": {},
   "source": [
    "# U.S. Geological Survey Class GW3099\n",
    "Advanced Modeling of Groundwater Flow (GW3099)\\\n",
    "Boise, Idaho\\\n",
    "September 16 - 20, 2024\n",
    "\n",
    "![title](../../images/ClassLocation.jpg)\n",
    "\n",
    "# NetCDF configuration package and visualization"
   ]
  },
  {
   "cell_type": "markdown",
   "id": "61d25aca-18d5-4199-a6b0-70d84d0beeee",
   "metadata": {},
   "source": [
    "Additional NetCDF configuration options are available in the `NCF6` package.  These include a `WKT` (well-known text) string that can aid visualization in applications like QGIS or Panoply."
   ]
  },
  {
   "cell_type": "code",
   "execution_count": null,
   "id": "58228621-4630-479b-8f40-97622eb034b6",
   "metadata": {},
   "outputs": [],
   "source": [
    "import pathlib as pl\n",
    "\n",
    "import flopy\n",
    "import matplotlib.pyplot as plt\n",
    "import xarray as xa\n",
    "import xugrid as xu"
   ]
  },
  {
   "cell_type": "markdown",
   "id": "da70620c-e003-40cd-8d78-7c70eb83dc3e",
   "metadata": {},
   "source": [
    "# Load the base watershed model\n",
    "\n",
    "We will use the base watershed model to demonstrate MODFLOW NetCDF output functionality.  "
   ]
  },
  {
   "cell_type": "code",
   "execution_count": null,
   "id": "15502acc-a7b8-4c4d-bc5b-826d117dbee1",
   "metadata": {},
   "outputs": [],
   "source": [
    "name = \"watershed\"\n",
    "sim = flopy.mf6.MFSimulation.load(\n",
    "    sim_name=name, sim_ws=pl.Path(\"../../data/watershed/\")\n",
    ")"
   ]
  },
  {
   "cell_type": "markdown",
   "id": "c3976dc2-7930-466c-b883-1fad31e0525b",
   "metadata": {},
   "source": [
    "# Modify the model to save NetCDF output\n",
    "\n",
    "We need to set the `start_date_time` variable in the TDIS file and define the `export_netcdf` variable in the groundwater flow model `name_file`. We will specify `ugrid` NetCDF output. We'll turn on `DIS EXPORT_ARRAY_NETCDF` so we can visualize that data as well. "
   ]
  },
  {
   "cell_type": "code",
   "execution_count": null,
   "id": "16bfacd4-3ea1-4cec-a44c-27cef22d9c11",
   "metadata": {},
   "outputs": [],
   "source": [
    "sim.tdis.start_date_time = \"1980-01-01\""
   ]
  },
  {
   "cell_type": "code",
   "execution_count": null,
   "id": "554f587f-acfd-466c-bd2f-cc65cf6908ca",
   "metadata": {},
   "outputs": [],
   "source": [
    "gwf = sim.get_model()\n",
    "gwf.export_netcdf = \"ugrid\"\n",
    "gwf.dis.export_array_netcdf = True"
   ]
  },
  {
   "cell_type": "markdown",
   "id": "4d33c2d6-c278-459a-88e1-408a6b580e04",
   "metadata": {},
   "source": [
    "# Define `WKT` string and create `NCF` package\n",
    "\n",
    "The `NCF` package is currently a subpackage of the model discretization (`DIS` or `DISV`) package."
   ]
  },
  {
   "cell_type": "code",
   "execution_count": null,
   "id": "f016b279-5673-412b-8e18-f842bcb526ab",
   "metadata": {},
   "outputs": [],
   "source": [
    "wkt = \"\"\"PROJCRS[\"NAD83 / UTM ZONE 18N\",BASEGEOGCRS[\"NAD83\",DATUM[\"NORTH AMERICAN DATUM 1983\",ELLIPSOID[\"GRS 1980\",6378137,298.257222101,LENGTHUNIT[\"METRE\",1]]],PRIMEM[\"GREENWICH\",0,ANGLEUNIT[\"DEGREE\",0.0174532925199433]],ID[\"EPSG\",4269]],CONVERSION[\"UTM ZONE 18N\",METHOD[\"TRANSVERSE MERCATOR\",ID[\"EPSG\",9807]],PARAMETER[\"LATITUDE OF NATURAL ORIGIN\",0,ANGLEUNIT[\"DEGREE\",0.0174532925199433],ID[\"EPSG\",8801]],PARAMETER[\"LONGITUDE OF NATURAL ORIGIN\",-75,ANGLEUNIT[\"DEGREE\",0.0174532925199433],ID[\"EPSG\",8802]],PARAMETER[\"SCALE FACTOR AT NATURAL ORIGIN\",0.9996,SCALEUNIT[\"UNITY\",1],ID[\"EPSG\",8805]],PARAMETER[\"FALSE EASTING\",500000,LENGTHUNIT[\"METRE\",1],ID[\"EPSG\",8806]],PARAMETER[\"FALSE NORTHING\",0,LENGTHUNIT[\"METRE\",1],ID[\"EPSG\",8807]]],CS[CARTESIAN,2],AXIS[\"(E)\",EAST,ORDER[1],LENGTHUNIT[\"METRE\",1]],AXIS[\"(N)\",NORTH,ORDER[2],LENGTHUNIT[\"METRE\",1]],USAGE[SCOPE[\"ENGINEERING SURVEY, TOPOGRAPHIC MAPPING.\"],AREA[\"NORTH AMERICA - BETWEEN 78°W AND 72°W - ONSHORE AND OFFSHORE. CANADA - NUNAVUT; ONTARIO; QUEBEC. UNITED STATES (USA) - CONNECTICUT; DELAWARE; MARYLAND; MASSACHUSETTS; NEW HAMPSHIRE; NEW JERSEY; NEW YORK; NORTH CAROLINA; PENNSYLVANIA; VIRGINIA; VERMONT.\"],BBOX[28.28,-78,84,-72]],ID[\"EPSG\",26918]]\"\"\"\n",
    "\n",
    "ncf = flopy.mf6.ModflowUtlncf(\n",
    "    gwf.dis,\n",
    "    ogc_wkt=wkt,\n",
    "    filename=\"model.dis.ncf\",\n",
    ")"
   ]
  },
  {
   "cell_type": "markdown",
   "id": "334eb752-77a6-4bf7-b877-772aa19b1f54",
   "metadata": {},
   "source": [
    "# Change the simulation workspace, write the model files, and run the model"
   ]
  },
  {
   "cell_type": "code",
   "execution_count": null,
   "id": "38399e16-13a8-46b0-bb66-c0be11768aa9",
   "metadata": {},
   "outputs": [],
   "source": [
    "ws = pl.Path(\"temp/step2\")\n",
    "sim.set_sim_path(ws)"
   ]
  },
  {
   "cell_type": "code",
   "execution_count": null,
   "id": "98752f0f-542e-4369-b722-a2f57c39c617",
   "metadata": {},
   "outputs": [],
   "source": [
    "sim.write_simulation()"
   ]
  },
  {
   "cell_type": "code",
   "execution_count": null,
   "id": "9d203db3-3014-4fb9-a7ac-7ac3c48aca70",
   "metadata": {},
   "outputs": [],
   "source": [
    "sim.run_simulation()"
   ]
  },
  {
   "cell_type": "code",
   "execution_count": null,
   "id": "8f3fb780-b665-4186-a99e-160629553edb",
   "metadata": {},
   "outputs": [],
   "source": []
  }
 ],
 "metadata": {
  "kernelspec": {
   "display_name": "Python 3 (ipykernel)",
   "language": "python",
   "name": "python3"
  },
  "language_info": {
   "codemirror_mode": {
    "name": "ipython",
    "version": 3
   },
   "file_extension": ".py",
   "mimetype": "text/x-python",
   "name": "python",
   "nbconvert_exporter": "python",
   "pygments_lexer": "ipython3",
   "version": "3.12.5"
  }
 },
 "nbformat": 4,
 "nbformat_minor": 5
}
