{
 "cells": [
  {
   "cell_type": "markdown",
   "id": "2976189f-3044-4b88-9785-16f4c4c21838",
   "metadata": {},
   "source": [
    "# U.S. Geological Survey Class GW3099\n",
    "Advanced Modeling of Groundwater Flow (GW3099)\\\n",
    "Boise, Idaho\\\n",
    "September 16 - 20, 2024\n",
    "\n",
    "![title](../../images/ClassLocation.jpg)\n",
    "\n",
    "## NetCDF configuration package and visualization\n",
    "  - Additional NetCDF configuration options are available in the `NCF6` package\n",
    "  - These include a `WKT` (well-known text) string that can aid visualization in applications like QGIS or Panoply"
   ]
  },
  {
   "cell_type": "code",
   "execution_count": null,
   "id": "58228621-4630-479b-8f40-97622eb034b6",
   "metadata": {},
   "outputs": [],
   "source": [
    "import pathlib as pl\n",
    "\n",
    "import flopy\n",
    "import matplotlib.pyplot as plt\n",
    "import xarray as xa\n",
    "import xugrid as xu"
   ]
  },
  {
   "cell_type": "markdown",
   "id": "bfa8518e-8fdf-40bd-a458-a2d8cb90fcd4",
   "metadata": {},
   "source": [
    "### Load the base watershed model\n",
    "  - Use the base watershed model to demonstrate `MODFLOW 6` `NCF` package functionality  "
   ]
  },
  {
   "cell_type": "code",
   "execution_count": null,
   "id": "15502acc-a7b8-4c4d-bc5b-826d117dbee1",
   "metadata": {},
   "outputs": [],
   "source": [
    "name = \"watershed\"\n",
    "sim = flopy.mf6.MFSimulation.load(\n",
    "    sim_name=name, sim_ws=pl.Path(\"../../data/watershed/\")\n",
    ")"
   ]
  },
  {
   "cell_type": "markdown",
   "id": "5b1f01a1-d2c8-48ec-bded-e375d1a67be9",
   "metadata": {},
   "source": [
    "### Modify the model to save NetCDF output\n",
    "  - Set `start_date_time` in the TDIS file\n",
    "  - Define `export_netcdf` in the groundwater flow model `name_file`, specifying `structured` as the output type\n",
    "  - Activate `DIS` package array export with the `EXPORT_ARRAY_NETCDF` keyword in the package `OPTION` block "
   ]
  },
  {
   "cell_type": "code",
   "execution_count": null,
   "id": "16bfacd4-3ea1-4cec-a44c-27cef22d9c11",
   "metadata": {},
   "outputs": [],
   "source": [
    "sim.tdis.start_date_time = \"1980-01-01\""
   ]
  },
  {
   "cell_type": "code",
   "execution_count": null,
   "id": "554f587f-acfd-466c-bd2f-cc65cf6908ca",
   "metadata": {},
   "outputs": [],
   "source": [
    "gwf = sim.get_model()\n",
    "gwf.export_netcdf = \"structured\"\n",
    "gwf.dis.export_array_netcdf = True"
   ]
  },
  {
   "cell_type": "markdown",
   "id": "d091bba5-d7b3-42c3-b4d2-0fe79776ed17",
   "metadata": {},
   "source": [
    "### Define `WKT` string and create `NCF` package\n",
    "  - The `NCF6` package is currently a subpackage of the model discretization (`DIS` or `DISV`) package\n",
    "  - Currently this package contains options related to visualization and compression\n",
    "  - This is a synthetic model- no actual georeference data exists.  CRS and origin info have been chosen simply to colocate with step 3 model."
   ]
  },
  {
   "cell_type": "code",
   "execution_count": null,
   "id": "f016b279-5673-412b-8e18-f842bcb526ab",
   "metadata": {},
   "outputs": [],
   "source": [
    "wkt = \"\"\"PROJCRS[\"WGS 84 / UTM zone 18S\",BASEGEOGCRS[\"WGS 84\",ENSEMBLE[\"World Geodetic System 1984 ensemble\",MEMBER[\"World Geodetic System 1984 (Transit)\"],MEMBER[\"World Geodetic System 1984 (G730)\"],MEMBER[\"World Geodetic System 1984 (G873)\"],MEMBER[\"World Geodetic System 1984 (G1150)\"],MEMBER[\"World Geodetic System 1984 (G1674)\"],MEMBER[\"World Geodetic System 1984 (G1762)\"],MEMBER[\"World Geodetic System 1984 (G2139)\"],MEMBER[\"World Geodetic System 1984 (G2296)\"],ELLIPSOID[\"WGS 84\",6378137,298.257223563,LENGTHUNIT[\"metre\",1]],ENSEMBLEACCURACY[2.0]],PRIMEM[\"Greenwich\",0,ANGLEUNIT[\"degree\",0.0174532925199433]],ID[\"EPSG\",4326]],CONVERSION[\"UTM zone 18S\",METHOD[\"Transverse Mercator\",ID[\"EPSG\",9807]],PARAMETER[\"Latitude of natural origin\",0,ANGLEUNIT[\"degree\",0.0174532925199433],ID[\"EPSG\",8801]],PARAMETER[\"Longitude of natural origin\",-75,ANGLEUNIT[\"degree\",0.0174532925199433],ID[\"EPSG\",8802]],PARAMETER[\"Scale factor at natural origin\",0.9996,SCALEUNIT[\"unity\",1],ID[\"EPSG\",8805]],PARAMETER[\"False easting\",500000,LENGTHUNIT[\"metre\",1],ID[\"EPSG\",8806]],PARAMETER[\"False northing\",10000000,LENGTHUNIT[\"metre\",1],ID[\"EPSG\",8807]]],CS[Cartesian,2],AXIS[\"(E)\",east,ORDER[1],LENGTHUNIT[\"metre\",1]],AXIS[\"(N)\",north,ORDER[2],LENGTHUNIT[\"metre\",1]],USAGE[SCOPE[\"Navigation and medium accuracy spatial referencing.\"],AREA[\"Between 78°W and 72°W, southern hemisphere between 80°S and equator, onshore and offshore. Argentina. Brazil. Chile. Colombia. Ecuador. Peru.\"],BBOX[-80,-78,0,-72]],ID[\"EPSG\",32718]]\"\"\"\n",
    "gwf.dis.xorigin = 800000.0\n",
    "gwf.dis.yorigin = 8300000.0\n",
    "\n",
    "ncf = flopy.mf6.ModflowUtlncf(\n",
    "    gwf.dis,\n",
    "    ogc_wkt=wkt,\n",
    "    filename=\"model.dis.ncf\",\n",
    ")"
   ]
  },
  {
   "cell_type": "markdown",
   "id": "f82294a8-df18-42bb-9baf-eb404b8b9476",
   "metadata": {},
   "source": [
    "### Run the model\n",
    "  - Change simulation workspace to structured subdirectory\n",
    "  - Write model files and run the model"
   ]
  },
  {
   "cell_type": "code",
   "execution_count": null,
   "id": "38399e16-13a8-46b0-bb66-c0be11768aa9",
   "metadata": {},
   "outputs": [],
   "source": [
    "ws = pl.Path(\"temp/step2/structured\")\n",
    "sim.set_sim_path(ws)"
   ]
  },
  {
   "cell_type": "code",
   "execution_count": null,
   "id": "98752f0f-542e-4369-b722-a2f57c39c617",
   "metadata": {},
   "outputs": [],
   "source": [
    "sim.write_simulation()"
   ]
  },
  {
   "cell_type": "code",
   "execution_count": null,
   "id": "9d203db3-3014-4fb9-a7ac-7ac3c48aca70",
   "metadata": {},
   "outputs": [],
   "source": [
    "sim.run_simulation()"
   ]
  },
  {
   "cell_type": "markdown",
   "id": "e1d602d6-08f3-45b4-8f65-3daf5ee6c55f",
   "metadata": {},
   "source": [
    "### Rename NetCDF export\n",
    "  - For clarity in post-processing step, rename export"
   ]
  },
  {
   "cell_type": "code",
   "execution_count": null,
   "id": "ff65a356-e273-47de-9bcb-56c2f84e12b0",
   "metadata": {},
   "outputs": [],
   "source": [
    "nc_fpth = pl.Path(\"temp/step2/structured/model.nc\")\n",
    "nc_fpth.rename(\"temp/step2/structured/model.structured.nc\")"
   ]
  },
  {
   "cell_type": "markdown",
   "id": "e8b46a5b-d750-4ff9-840d-020a2edd9e8a",
   "metadata": {},
   "source": [
    "### Update model to export mesh NetCDF file"
   ]
  },
  {
   "cell_type": "code",
   "execution_count": null,
   "id": "3f716faf",
   "metadata": {},
   "outputs": [],
   "source": [
    "gwf = sim.get_model()\n",
    "gwf.export_netcdf = \"ugrid\""
   ]
  },
  {
   "cell_type": "markdown",
   "id": "6a3c8803-a2ca-4259-a253-48a6a6450b8e",
   "metadata": {},
   "source": [
    "### Run the model\n",
    "  - Change simulation workspace to mesh subdirectory\n",
    "  - Write model files and run the model"
   ]
  },
  {
   "cell_type": "code",
   "execution_count": null,
   "id": "f294373a",
   "metadata": {},
   "outputs": [],
   "source": [
    "ws = pl.Path(\"temp/step2/mesh\")\n",
    "sim.set_sim_path(ws)"
   ]
  },
  {
   "cell_type": "code",
   "execution_count": null,
   "id": "72bda599",
   "metadata": {},
   "outputs": [],
   "source": [
    "sim.write_simulation()"
   ]
  },
  {
   "cell_type": "code",
   "execution_count": null,
   "id": "a2aab7b3",
   "metadata": {},
   "outputs": [],
   "source": [
    "sim.run_simulation()"
   ]
  },
  {
   "cell_type": "markdown",
   "id": "4118ab54-9e81-4d6e-9741-86380fad6fc7",
   "metadata": {},
   "source": [
    "### Rename NetCDF export\n",
    "  - For clarity in post-processing step, rename export"
   ]
  },
  {
   "cell_type": "code",
   "execution_count": null,
   "id": "939e1320-6dd9-489f-b04c-1582b89f18b5",
   "metadata": {},
   "outputs": [],
   "source": [
    "nc_fpth = pl.Path(\"temp/step2/mesh/model.nc\")\n",
    "nc_fpth.rename(\"temp/step2/mesh/model.mesh.nc\")"
   ]
  },
  {
   "cell_type": "code",
   "execution_count": null,
   "id": "8f3fb780-b665-4186-a99e-160629553edb",
   "metadata": {},
   "outputs": [],
   "source": []
  }
 ],
 "metadata": {
  "kernelspec": {
   "display_name": "Python 3 (ipykernel)",
   "language": "python",
   "name": "python3"
  },
  "language_info": {
   "codemirror_mode": {
    "name": "ipython",
    "version": 3
   },
   "file_extension": ".py",
   "mimetype": "text/x-python",
   "name": "python",
   "nbconvert_exporter": "python",
   "pygments_lexer": "ipython3",
   "version": "3.12.5"
  }
 },
 "nbformat": 4,
 "nbformat_minor": 5
}
