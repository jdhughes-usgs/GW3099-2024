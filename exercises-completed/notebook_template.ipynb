{
 "cells": [
  {
   "cell_type": "markdown",
   "id": "74c4071a-e428-47dd-b8ec-4733d09f80b8",
   "metadata": {},
   "source": [
    "# U.S. Geological Survey Class GW3099\n",
    "Advanced Modeling of Groundwater Flow (GW3099)\\\n",
    "Boise, Idaho\\\n",
    "September 16 - 20, 2024\n",
    "\n",
    "![title](../../images/ClassLocation.jpg)\n",
    "\n",
    "# Notebook that demonstrates some thing"
   ]
  },
  {
   "cell_type": "markdown",
   "id": "eda5391a-3b1d-4935-b5f7-487fb5144e4e",
   "metadata": {},
   "source": [
    "Maybe a description of the problem"
   ]
  },
  {
   "cell_type": "code",
   "execution_count": null,
   "id": "37f3bbd3-9df3-4628-b97b-22ebf85dc7c1",
   "metadata": {},
   "outputs": [],
   "source": [
    "import pathlib as pl\n",
    "\n",
    "import flopy\n",
    "import matplotlib.pyplot as plt\n",
    "import numpy as np"
   ]
  },
  {
   "cell_type": "markdown",
   "id": "72a8f9d0-4be2-4540-bc83-66642ff63074",
   "metadata": {
    "execution": {
     "iopub.execute_input": "2024-08-29T17:25:46.778581Z",
     "iopub.status.busy": "2024-08-29T17:25:46.778254Z",
     "iopub.status.idle": "2024-08-29T17:25:46.789059Z",
     "shell.execute_reply": "2024-08-29T17:25:46.788022Z",
     "shell.execute_reply.started": "2024-08-29T17:25:46.778555Z"
    }
   },
   "source": [
    "## Heading\n",
    "\n",
    "A section"
   ]
  },
  {
   "cell_type": "code",
   "execution_count": null,
   "id": "93d6ad42-db1d-416a-af5e-7e40d116ec18",
   "metadata": {},
   "outputs": [],
   "source": []
  },
  {
   "cell_type": "markdown",
   "id": "3f91c303-9a21-4f7e-8d19-10863e7068ef",
   "metadata": {},
   "source": [
    "## Heading\n",
    "\n",
    "Another section"
   ]
  },
  {
   "cell_type": "code",
   "execution_count": null,
   "id": "60717283-79f0-4aac-b364-65aefe81bf1b",
   "metadata": {},
   "outputs": [],
   "source": []
  },
  {
   "cell_type": "markdown",
   "id": "3bac2b6c-fb6d-46d6-bde9-13d641357869",
   "metadata": {},
   "source": [
    "### Subheading"
   ]
  },
  {
   "cell_type": "code",
   "execution_count": null,
   "id": "142cf91e-fc32-40b0-9357-f6629fb02f93",
   "metadata": {},
   "outputs": [],
   "source": []
  },
  {
   "cell_type": "code",
   "execution_count": null,
   "id": "6881a56f-197a-44cc-8414-ba13b704740c",
   "metadata": {},
   "outputs": [],
   "source": []
  }
 ],
 "metadata": {
  "kernelspec": {
   "display_name": "Python 3 (ipykernel)",
   "language": "python",
   "name": "python3"
  }
 },
 "nbformat": 4,
 "nbformat_minor": 5
}
