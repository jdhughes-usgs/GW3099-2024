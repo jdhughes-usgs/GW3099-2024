{
 "cells": [
  {
   "cell_type": "markdown",
   "metadata": {},
   "source": [
    "# Build the watershed model"
   ]
  },
  {
   "cell_type": "code",
   "execution_count": null,
   "metadata": {},
   "outputs": [],
   "source": [
    "import pathlib as pl\n",
    "\n",
    "import flopy\n",
    "import matplotlib.pyplot as plt\n",
    "import numpy as np\n",
    "from flopy.discretization import StructuredGrid"
   ]
  },
  {
   "cell_type": "code",
   "execution_count": null,
   "metadata": {},
   "outputs": [],
   "source": [
    "from defaults import (\n",
    "    Lx,\n",
    "    Ly,\n",
    "    build_drain_data,\n",
    "    build_groundwater_discharge_data,\n",
    "    figsize,\n",
    "    geometry,\n",
    "    get_base_dir,\n",
    "    get_simulation_cell_count,\n",
    "    intersect_segments,\n",
    "    set_structured_idomain,\n",
    "    string2geom,\n",
    ")"
   ]
  },
  {
   "cell_type": "code",
   "execution_count": null,
   "metadata": {},
   "outputs": [],
   "source": [
    "import warnings\n",
    "\n",
    "warnings.filterwarnings(\"ignore\", category=DeprecationWarning)"
   ]
  },
  {
   "cell_type": "code",
   "execution_count": null,
   "metadata": {},
   "outputs": [],
   "source": [
    "model_dir = pl.Path(\"../../data/watershed/\")"
   ]
  },
  {
   "cell_type": "markdown",
   "metadata": {},
   "source": [
    "### Load the topology"
   ]
  },
  {
   "cell_type": "code",
   "execution_count": null,
   "metadata": {},
   "outputs": [],
   "source": [
    "fine_topo = flopy.utils.Raster.load(\"../../data/watershed/fine_topo.tif\")"
   ]
  },
  {
   "cell_type": "code",
   "execution_count": null,
   "metadata": {},
   "outputs": [],
   "source": [
    "fig = plt.figure(figsize=figsize)\n",
    "ax = fig.add_subplot()\n",
    "fine_topo.plot(ax=ax)\n",
    "plt.show(block=False)"
   ]
  },
  {
   "cell_type": "markdown",
   "metadata": {},
   "source": [
    "### Structured grid parameters"
   ]
  },
  {
   "cell_type": "markdown",
   "metadata": {},
   "source": [
    "Set the cell dimensions. This will determine the number of cells in the grid. Setting dx = dy = 2500.0 will lead to 9595 active cells"
   ]
  },
  {
   "cell_type": "code",
   "execution_count": null,
   "metadata": {},
   "outputs": [],
   "source": [
    "dx = dy = 2500.0\n",
    "nrow = int(Ly / dy) + 1\n",
    "ncol = int(Lx / dx) + 1"
   ]
  },
  {
   "cell_type": "markdown",
   "metadata": {},
   "source": [
    "### Read in boundary data\n",
    "\n",
    "Load the boundary data from `defaults.py` and plot"
   ]
  },
  {
   "cell_type": "code",
   "execution_count": null,
   "metadata": {},
   "outputs": [],
   "source": [
    "boundary_polygon = string2geom(geometry[\"boundary\"])\n",
    "bp = np.array(boundary_polygon)\n",
    "\n",
    "stream_segs = (\n",
    "    geometry[\"streamseg1\"],\n",
    "    geometry[\"streamseg2\"],\n",
    "    geometry[\"streamseg3\"],\n",
    "    geometry[\"streamseg4\"],\n",
    ")\n",
    "sgs = [string2geom(sg) for sg in stream_segs]\n",
    "\n",
    "\n",
    "fig = plt.figure(figsize=figsize)\n",
    "ax = fig.add_subplot()\n",
    "ax.set_aspect(\"equal\")\n",
    "\n",
    "riv_colors = (\"blue\", \"cyan\", \"green\", \"orange\", \"red\")\n",
    "\n",
    "ax.plot(bp[:, 0], bp[:, 1], \"ro-\")\n",
    "for idx, sg in enumerate(sgs):\n",
    "    sa = np.array(sg)\n",
    "    ax.plot(sa[:, 0], sa[:, 1], color=riv_colors[idx], lw=0.75, marker=\"o\")"
   ]
  },
  {
   "cell_type": "markdown",
   "metadata": {},
   "source": [
    "### Create a structured grid"
   ]
  },
  {
   "cell_type": "code",
   "execution_count": null,
   "metadata": {},
   "outputs": [],
   "source": [
    "working_grid = StructuredGrid(\n",
    "    nlay=1,\n",
    "    delr=np.full(ncol, dx),\n",
    "    delc=np.full(nrow, dy),\n",
    "    xoff=0.0,\n",
    "    yoff=0.0,\n",
    "    top=np.full((nrow, ncol), 1000.0),\n",
    "    botm=np.full((1, nrow, ncol), -100.0),\n",
    ")\n",
    "\n",
    "set_structured_idomain(working_grid, boundary_polygon)\n",
    "print(\"grid data: \", Lx, Ly, nrow, ncol)"
   ]
  },
  {
   "cell_type": "markdown",
   "metadata": {},
   "source": [
    "### Sample the raw topographic data"
   ]
  },
  {
   "cell_type": "code",
   "execution_count": null,
   "metadata": {},
   "outputs": [],
   "source": [
    "top_wg = fine_topo.resample_to_grid(\n",
    "    working_grid,\n",
    "    band=fine_topo.bands[0],\n",
    "    method=\"linear\",\n",
    "    extrapolate_edges=True,\n",
    ")"
   ]
  },
  {
   "cell_type": "markdown",
   "metadata": {},
   "source": [
    "### Intersect river segments with grid"
   ]
  },
  {
   "cell_type": "code",
   "execution_count": null,
   "metadata": {},
   "outputs": [],
   "source": [
    "ixs, cellids, lengths = intersect_segments(working_grid, sgs)"
   ]
  },
  {
   "cell_type": "markdown",
   "metadata": {},
   "source": [
    "### Plot the river intersection"
   ]
  },
  {
   "cell_type": "code",
   "execution_count": null,
   "metadata": {},
   "outputs": [],
   "source": [
    "intersection_rg = np.zeros(working_grid.shape[1:])\n",
    "for loc in cellids:\n",
    "    intersection_rg[loc] = 1"
   ]
  },
  {
   "cell_type": "code",
   "execution_count": null,
   "metadata": {},
   "outputs": [],
   "source": [
    "fig = plt.figure(figsize=figsize)\n",
    "ax = fig.add_subplot()\n",
    "pmv = flopy.plot.PlotMapView(modelgrid=working_grid)\n",
    "ax.set_aspect(\"equal\")\n",
    "pmv.plot_array(top_wg)\n",
    "pmv.plot_array(\n",
    "    intersection_rg,\n",
    "    masked_values=[\n",
    "        0,\n",
    "    ],\n",
    "    alpha=0.2,\n",
    "    cmap=\"Reds_r\",\n",
    ")\n",
    "pmv.plot_inactive(color_noflow=\"white\")\n",
    "ax.plot(bp[:, 0], bp[:, 1], \"r-\")\n",
    "for sg in sgs:\n",
    "    sa = np.array(sg)\n",
    "    ax.plot(sa[:, 0], sa[:, 1], \"b-\")\n",
    "plt.show(block=False)"
   ]
  },
  {
   "cell_type": "markdown",
   "metadata": {},
   "source": [
    "### Set the idomain value to 2 where the river intersects the grid"
   ]
  },
  {
   "cell_type": "code",
   "execution_count": null,
   "metadata": {},
   "outputs": [],
   "source": [
    "river_locations = working_grid.idomain[0].copy()\n",
    "index = tuple(np.array(list(zip(*cellids))))\n",
    "river_locations[index] = 2\n",
    "working_grid.idomain = river_locations.reshape(1, nrow, ncol)\n",
    "\n",
    "plt.imshow(working_grid.idomain[0])"
   ]
  },
  {
   "cell_type": "markdown",
   "metadata": {},
   "source": [
    "### Define the number of layers and the thickness of layer 1"
   ]
  },
  {
   "cell_type": "code",
   "execution_count": null,
   "metadata": {},
   "outputs": [],
   "source": [
    "nlay = 5\n",
    "dv0 = 5.0"
   ]
  },
  {
   "cell_type": "markdown",
   "metadata": {},
   "source": [
    "### Create the drain data for the river segments"
   ]
  },
  {
   "cell_type": "code",
   "execution_count": null,
   "metadata": {},
   "outputs": [],
   "source": [
    "leakance = 1.0 / (0.5 * dv0)  # kv / b\n",
    "drn_data = build_drain_data(\n",
    "    working_grid,\n",
    "    cellids,\n",
    "    lengths,\n",
    "    leakance,\n",
    "    top_wg,\n",
    ")\n",
    "drn_data[:10]"
   ]
  },
  {
   "cell_type": "markdown",
   "metadata": {},
   "source": [
    "### Create the groundwater discharge drain data"
   ]
  },
  {
   "cell_type": "code",
   "execution_count": null,
   "metadata": {},
   "outputs": [],
   "source": [
    "gw_discharge_data = build_groundwater_discharge_data(\n",
    "    working_grid,\n",
    "    leakance,\n",
    "    top_wg,\n",
    ")\n",
    "gw_discharge_data[:10]"
   ]
  },
  {
   "cell_type": "markdown",
   "metadata": {},
   "source": [
    "### Create the top and bottom arrays.\n",
    "\n",
    "Top array is not used by the model."
   ]
  },
  {
   "cell_type": "code",
   "execution_count": null,
   "metadata": {},
   "outputs": [],
   "source": [
    "topc = np.zeros((nlay, nrow, ncol), dtype=float)\n",
    "botm = np.zeros((nlay, nrow, ncol), dtype=float)\n",
    "dv = dv0\n",
    "topc[0] = top_wg.copy()\n",
    "botm[0] = topc[0] - dv\n",
    "for idx in range(1, nlay):\n",
    "    dv *= 1.5\n",
    "    topc[idx] = botm[idx - 1]\n",
    "    botm[idx] = topc[idx] - dv"
   ]
  },
  {
   "cell_type": "markdown",
   "metadata": {},
   "source": [
    "#### Print the cell thicknesses"
   ]
  },
  {
   "cell_type": "code",
   "execution_count": null,
   "metadata": {},
   "outputs": [],
   "source": [
    "for k in range(nlay):\n",
    "    print((topc[k] - botm[k]).mean())"
   ]
  },
  {
   "cell_type": "markdown",
   "metadata": {},
   "source": [
    "### Create idomain and starting head data"
   ]
  },
  {
   "cell_type": "code",
   "execution_count": null,
   "metadata": {},
   "outputs": [],
   "source": [
    "idomain = np.array([working_grid.idomain[0, :, :].copy() for k in range(nlay)])\n",
    "strt = np.array([top_wg.copy() for k in range(nlay)], dtype=float)"
   ]
  },
  {
   "cell_type": "markdown",
   "metadata": {},
   "source": [
    "## Build the model files using FloPy\n",
    "Note that the CSV solver output is enabled. We will use that in one of the other notebooks."
   ]
  },
  {
   "cell_type": "code",
   "execution_count": null,
   "metadata": {},
   "outputs": [],
   "source": [
    "sim = flopy.mf6.MFSimulation(\n",
    "    sim_ws=model_dir,\n",
    "    exe_name=\"mf6\",\n",
    "    memory_print_option=\"summary\",\n",
    ")\n",
    "\n",
    "tdis = flopy.mf6.ModflowTdis(sim)\n",
    "ims = flopy.mf6.ModflowIms(\n",
    "    sim,\n",
    "    complexity=\"simple\",\n",
    "    print_option=\"SUMMARY\",\n",
    "    csv_outer_output_filerecord=\"outer.csv\",\n",
    "    csv_inner_output_filerecord=\"inner.csv\",\n",
    "    linear_acceleration=\"bicgstab\",\n",
    "    outer_maximum=1000,\n",
    "    inner_maximum=100,\n",
    "    outer_dvclose=1e-4,\n",
    "    inner_dvclose=1e-5,\n",
    "    preconditioner_levels=2,\n",
    "    relaxation_factor=0.0,\n",
    ")\n",
    "gwf = flopy.mf6.ModflowGwf(\n",
    "    sim,\n",
    "    print_input=True,\n",
    "    save_flows=True,\n",
    "    newtonoptions=\"NEWTON UNDER_RELAXATION\",\n",
    ")\n",
    "\n",
    "dis = flopy.mf6.ModflowGwfdis(\n",
    "    gwf,\n",
    "    nlay=nlay,\n",
    "    nrow=nrow,\n",
    "    ncol=ncol,\n",
    "    delr=dx,\n",
    "    delc=dy,\n",
    "    idomain=idomain,\n",
    "    top=top_wg,\n",
    "    botm=botm,\n",
    "    xorigin=0.0,\n",
    "    yorigin=0.0,\n",
    ")\n",
    "\n",
    "ic = flopy.mf6.ModflowGwfic(gwf, strt=strt)\n",
    "npf = flopy.mf6.ModflowGwfnpf(\n",
    "    gwf,\n",
    "    save_specific_discharge=True,\n",
    "    icelltype=1,\n",
    "    k=1.0,\n",
    ")\n",
    "rch = flopy.mf6.ModflowGwfrcha(\n",
    "    gwf,\n",
    "    recharge=0.000001,\n",
    ")\n",
    "drn = flopy.mf6.ModflowGwfdrn(\n",
    "    gwf,\n",
    "    maxbound=len(drn_data),\n",
    "    stress_period_data=drn_data,\n",
    "    pname=\"river\",\n",
    "    filename=\"drn_riv.drn\",\n",
    ")\n",
    "drn_gwd = flopy.mf6.ModflowGwfdrn(\n",
    "    gwf,\n",
    "    auxiliary=[\"depth\"],\n",
    "    auxdepthname=\"depth\",\n",
    "    maxbound=len(gw_discharge_data),\n",
    "    stress_period_data=gw_discharge_data,\n",
    "    pname=\"gwd\",\n",
    "    filename=\"drn_gwd.drn\",\n",
    ")\n",
    "oc = flopy.mf6.ModflowGwfoc(\n",
    "    gwf,\n",
    "    head_filerecord=f\"{gwf.name}.hds\",\n",
    "    budget_filerecord=f\"{gwf.name}.cbc\",\n",
    "    saverecord=[(\"HEAD\", \"ALL\"), (\"BUDGET\", \"ALL\")],\n",
    "    printrecord=[(\"BUDGET\", \"ALL\")],\n",
    ")"
   ]
  },
  {
   "cell_type": "markdown",
   "metadata": {},
   "source": [
    "### Count the number of active cells"
   ]
  },
  {
   "cell_type": "code",
   "execution_count": null,
   "metadata": {},
   "outputs": [],
   "source": [
    "ncells, nactive = get_simulation_cell_count(sim)\n",
    "print(\"nr. of cells:\", ncells, \", active:\", nactive)"
   ]
  },
  {
   "cell_type": "markdown",
   "metadata": {},
   "source": [
    "### Write the model files"
   ]
  },
  {
   "cell_type": "code",
   "execution_count": null,
   "metadata": {},
   "outputs": [],
   "source": [
    "sim.write_simulation()"
   ]
  },
  {
   "cell_type": "code",
   "execution_count": null,
   "metadata": {},
   "outputs": [],
   "source": []
  }
 ],
 "metadata": {
  "kernelspec": {
   "display_name": "Python 3 (ipykernel)",
   "language": "python",
   "name": "python3"
  },
  "language_info": {
   "codemirror_mode": {
    "name": "ipython",
    "version": 3
   },
   "file_extension": ".py",
   "mimetype": "text/x-python",
   "name": "python",
   "nbconvert_exporter": "python",
   "pygments_lexer": "ipython3",
   "version": "3.9.19"
  }
 },
 "nbformat": 4,
 "nbformat_minor": 4
}
